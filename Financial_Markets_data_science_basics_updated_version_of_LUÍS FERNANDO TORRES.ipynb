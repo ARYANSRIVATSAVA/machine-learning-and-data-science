{
  "metadata": {
    "kernelspec": {
      "language": "python",
      "display_name": "Python 3",
      "name": "python3"
    },
    "language_info": {
      "pygments_lexer": "ipython3",
      "nbconvert_exporter": "python",
      "version": "3.6.4",
      "file_extension": ".py",
      "codemirror_mode": {
        "name": "ipython",
        "version": 3
      },
      "name": "python",
      "mimetype": "text/x-python"
    },
    "colab": {
      "name": "🤑 Data Science for Financial Markets 📈💰",
      "provenance": [],
      "include_colab_link": true
    }
  },
  "nbformat_minor": 0,
  "nbformat": 4,
  "cells": [
    {
      "cell_type": "markdown",
      "metadata": {
        "id": "view-in-github",
        "colab_type": "text"
      },
      "source": [
        "<a href=\"https://colab.research.google.com/github/ARYANSRIVATSAVA/machine-learning-and-data-science/blob/main/Financial_Markets_data_science_basics_updated_version_of_LU%C3%8DS%20FERNANDO%20TORRES.ipynb\" target=\"_parent\"><img src=\"https://colab.research.google.com/assets/colab-badge.svg\" alt=\"Open In Colab\"/></a>"
      ]
    },
    {
      "cell_type": "markdown",
      "source": [
        "<img src = \"https://i.imgur.com/i0iFOkM.jpg\">"
      ],
      "metadata": {
        "id": "nXVSmk6E1ZgX"
      }
    },
    {
      "cell_type": "markdown",
      "source": [
        "<h1 style=\"font-family: 'Cambria', Georgia, serif; font-weight: bold; border-bottom: 3px solid #000; padding: 8px; margin-bottom: 20px; text-align: left; letter-spacing: 1px;\">Data Science for Financial Markets</h1>"
      ],
      "metadata": {
        "id": "cCKRyuP51ZgY"
      }
    },
    {
      "cell_type": "markdown",
      "source": [
        "<h3 style=\"font-family: 'Cambria', Georgia, serif; font-weight: bold; margin-bottom: 20px; text-align: left; letter-spacing: 1px;\">Table of Contents</h3>"
      ],
      "metadata": {
        "id": "LOjl1wE91ZgZ"
      }
    },
    {
      "cell_type": "markdown",
      "source": [
        "<ul>\n",
        "  <li><p style=\"font-family: Georgia, 'Times New Roman', serif; font-size: 18px; color: #333; text-align: justify;\"><a href=\"#introduction\">Introduction</a></p></li><br><br>\n",
        "  <li><p style=\"font-family: Georgia, 'Times New Roman', serif; font-size: 18px; color: #333; text-align: justify;\"><a href=\"#libraries\">Essential Libraries</a></p>\n",
        "    <ul>\n",
        "      <li><p style=\"font-family: Georgia, 'Times New Roman', serif; font-size: 18px; color: #333; text-align: justify;\"><a href=\"#yfinance\">yfinance</a></p></li>\n",
        "      <li><p style=\"font-family: Georgia, 'Times New Roman', serif; font-size: 18px; color: #333; text-align: justify;\"><a href=\"#quantstats\">Quantstats</a></p></li>\n",
        "      <li><p style=\"font-family: Georgia, 'Times New Roman', serif; font-size: 18px; color: #333; text-align: justify;\"><a href=\"#pyportfolio\">PyPortfolioOpt</a></p></li>\n",
        "      <li><p style=\"font-family: Georgia, 'Times New Roman', serif; font-size: 18px; color: #333; text-align: justify;\"><a href=\"#talib\">TA</a></p></li>\n",
        "      </ul><br><br>\n",
        "<li>\n",
        "    <p style=\"font-family: Georgia, 'Times New Roman', serif; font-size: 18px; color: #333; text-align: justify;\">\n",
        "      <a href=\"#getting-started\">1 | Getting Started</a>\n",
        "    </p></li>\n",
        "    <ul>\n",
        "      <li><p style=\"font-family: Georgia, 'Times New Roman', serif; font-size: 18px; color: #333; text-align: justify;\"><a href=\"#daily-returns\">Daily Returns</a></p></li>\n",
        "      <li><p style=\"font-family: Georgia, 'Times New Roman', serif; font-size: 18px; color: #333; text-align: justify;\"><a href=\"#cumulative-returns\">Cumulative Returns</a></p></li>\n",
        "      <li><p style=\"font-family: Georgia, 'Times New Roman', serif; font-size: 18px; color: #333; text-align: justify;\"><a href=\"#histograms\">Histograms</a></p></li>\n",
        "      <li><p style=\"font-family: Georgia, 'Times New Roman', serif; font-size: 18px; color: #333; text-align: justify;\"><a href=\"#kurtosis\">Kurtosis</a></p></li>\n",
        "      <li><p style=\"font-family: Georgia, 'Times New Roman', serif; font-size: 18px; color: #333; text-align: justify;\"><a href=\"#skewness\">Skewness</a></p></li>\n",
        "      <li><p style=\"font-family: Georgia, 'Times New Roman', serif; font-size: 18px; color: #333; text-align: justify;\"><a href=\"#standard-deviation\">Standard Deviation</a></p></li>\n",
        "      <li><p style=\"font-family: Georgia, 'Times New Roman', serif; font-size: 18px; color: #333; text-align: justify;\"><a href=\"#pairplots-correlation\">Pairplots and Correlation Matrix</a></p></li>\n",
        "      <li><p style=\"font-family: Georgia, 'Times New Roman', serif; font-size: 18px; color: #333; text-align: justify;\"><a href=\"#beta-alpha\">Beta and Alpha</a></p></li>\n",
        "      <li><p style=\"font-family: Georgia, 'Times New Roman', serif; font-size: 18px; color: #333; text-align: justify;\"><a href=\"#sharpe-ratio\">Sharpe Ratio</a></p></li>\n",
        "      <li><p style=\"font-family: Georgia, 'Times New Roman', serif; font-size: 18px; color: #333; text-align: justify;\"><a href=\"#initial-conclusions\">Initial Conclusions</a></p></li></ul>\n",
        "   <br>\n",
        "   <br>\n",
        "    <li>\n",
        "        <p style=\"font-family: Georgia, 'Times New Roman', serif; font-size: 18px; color: #333; text-align: justify;\">\n",
        "            <a href=\"#building-portfolio\">2 | Building and Optimizing Portfolios</a></p></li>\n",
        "    <ul>\n",
        "      <li><p style=\"font-family: Georgia, 'Times New Roman', serif; font-size: 18px; color: #333; text-align: justify;\"><a href=\"#what-is-portfolio\">What is a Portfolio?</a></p></li>\n",
        "      <li><p style=\"font-family: Georgia, 'Times New Roman', serif; font-size: 18px; color: #333; text-align: justify;\"><a href=\"#optimizing-portfolio\">Optimizing Portfolio</a></p></li>\n",
        "      <li><p style=\"font-family: Georgia, 'Times New Roman', serif; font-size: 18px; color: #333; text-align: justify;\"><a href=\"#markowitz\">Markowitz Mean-Variance Optimization Model</a></p></li>\n",
        "      <li><p style=\"font-family: Georgia, 'Times New Roman', serif; font-size: 18px; color: #333; text-align: justify;\"><a href=\"#black-litterman\">Black-Litterman Allocation Model</a></p></li>\n",
        "          <ul><li><p style=\"font-family: Georgia, 'Times New Roman', serif; font-size: 18px; color: #333; text-align: justify;\"><a href=\"#prior\">Prior</a></p></li>\n",
        "          <li><p style=\"font-family: Georgia, 'Times New Roman', serif; font-size: 18px; color: #333; text-align: justify;\"><a href=\"#views\">Views</a></p></li>\n",
        "          <li><p style=\"font-family: Georgia, 'Times New Roman', serif; font-size: 18px; color: #333; text-align: justify;\"><a href=\"#confidences\">Confidences</a></p></li>\n",
        "    </ul>\n",
        "        </ul>\n",
        "      <br>\n",
        "   <br>\n",
        "  <li>\n",
        "    <p style=\"font-family: Georgia, 'Times New Roman', serif; font-size: 18px; color: #333; text-align: justify;\">\n",
        "      <a href=\"#fundamental-technical-analysis\">3 | Fundamental vs. Technical Analysis</a>\n",
        "    </p>\n",
        "    <ul>\n",
        "        <li><p style=\"font-family: Georgia, 'Times New Roman', serif; font-size: 18px; color: #333; text-align: justify;\"><a href=\"#which-approach\">Fundamental vs. Technical Analysis: Which Approach is Better?</a></p></li>\n",
        "        <li><p style=\"font-family: Georgia, 'Times New Roman', serif; font-size: 18px; color: #333; text-align: justify;\"><a href=\"#technical-indicators\">Technical Indicators</a></p>\n",
        "            <ul><li><p style=\"font-family: Georgia, 'Times New Roman', serif; font-size: 18px; color: #333; text-align: justify;\"><a href=\"#mas\">Moving Averages</a></p></li></ul></li>\n",
        "        <ul><li><p style=\"font-family: Georgia, 'Times New Roman', serif; font-size: 18px; color: #333; text-align: justify;\"><a href=\"#bbs\">Bollinger Bands</a></p></li></ul>\n",
        "      <ul><li><p style=\"font-family: Georgia, 'Times New Roman', serif; font-size: 18px; color: #333; text-align: justify;\"><a href=\"#rsi\">Relative Strength Index (RSI)</a></p></li></ul>\n",
        "    <ul><li><p style=\"font-family: Georgia, 'Times New Roman', serif; font-size: 18px; color: #333; text-align: justify;\"><a href=\"#atr\">Average True Range (ATR)</a></p></li></ul>\n",
        "        <li><p style=\"font-family: Georgia, 'Times New Roman', serif; font-size: 18px; color: #333; text-align: justify;\"><a href=\"#fundamental-indicators\">Fundamental Indicators</a></p>\n",
        "        <ul><li><p style=\"font-family: Georgia, 'Times New Roman', serif; font-size: 18px; color: #333; text-align: justify;\"><a href=\"#eps\">Earnings per Share (EPS)</a></p></li></ul>\n",
        "        <ul><li><p style=\"font-family: Georgia, 'Times New Roman', serif; font-size: 18px; color: #333; text-align: justify;\"><a href=\"#re\">Price-to-Earnings Ratio (R/E)</a></p></li></ul>\n",
        "        <ul><li><p style=\"font-family: Georgia, 'Times New Roman', serif; font-size: 18px; color: #333; text-align: justify;\"><a href=\"#roe\">Return on Equity (ROE)</a></p></li></ul>\n",
        "        <ul><li><p style=\"font-family: Georgia, 'Times New Roman', serif; font-size: 18px; color: #333; text-align: justify;\"><a href=\"#dte\">Debt-to-Equity Ratio</a></p></li></ul>\n",
        "        <ul><li><p style=\"font-family: Georgia, 'Times New Roman', serif; font-size: 18px; color: #333; text-align: justify;\"><a href=\"#dy\">Dividend Yield</a></p></li></ul>\n",
        "        </li>\n",
        "    </ul>\n",
        "  </li>\n",
        "     <br>\n",
        "   <br>\n",
        "  <li>\n",
        "    <p style=\"font-family: Georgia, 'Times New Roman', serif; font-size: 18px; color: #333; text-align: justify;\">\n",
        "      <a href=\"#backtesting\">4 | Backtesting</a>\n",
        "    </p>\n",
        "    <ul>\n",
        "        <li><p style=\"font-family: Georgia, 'Times New Roman', serif; font-size: 18px; color: #333; text-align: justify;\"><a href=\"#rsi-backtest\">RSI Backtesting</a></p>\n",
        "        <ul><li><p style=\"font-family: Georgia, 'Times New Roman', serif; font-size: 18px; color: #333; text-align: justify;\"><a href=\"#hourly-rsi-backtest\">Hourly Data</a></p></li></ul>\n",
        "        <ul><li><p style=\"font-family: Georgia, 'Times New Roman', serif; font-size: 18px; color: #333; text-align: justify;\"><a href=\"#daily-rsi-backtest\">Daily Data</a></p></li></ul>\n",
        "        <ul><li><p style=\"font-family: Georgia, 'Times New Roman', serif; font-size: 18px; color: #333; text-align: justify;\"><a href=\"#weekly-rsi-backtest\">Weekly Data</a></p></li></ul>\n",
        "        </li>\n",
        "</ul>\n",
        "          <ul>\n",
        "        <li><p style=\"font-family: Georgia, 'Times New Roman', serif; font-size: 18px; color: #333; text-align: justify;\"><a href=\"#mas-backtest\">Moving Average Crossover Backtesting</a></p>\n",
        "        <ul><li><p style=\"font-family: Georgia, 'Times New Roman', serif; font-size: 18px; color: #333; text-align: justify;\"><a href=\"#hourly-mas-backtest\">Hourly Data</a></p></li></ul>\n",
        "        <ul><li><p style=\"font-family: Georgia, 'Times New Roman', serif; font-size: 18px; color: #333; text-align: justify;\"><a href=\"#daily-mas-backtest\">Daily Data</a></p></li></ul>\n",
        "        <ul><li><p style=\"font-family: Georgia, 'Times New Roman', serif; font-size: 18px; color: #333; text-align: justify;\"><a href=\"#weekly-mas-backtest\">Weekly Data</a></p></li></ul>\n",
        "        </li>\n",
        "</ul>\n",
        "      <br>\n",
        "   <br>\n",
        "  <li><p style=\"font-family: Georgia, 'Times New Roman', serif; font-size: 18px; color: #333; text-align: justify;\">\n",
        "      <a href=\"#conclusion\">Conclusion</a></p></ul></ul>"
      ],
      "metadata": {
        "id": "39zmyaGP1ZgZ"
      }
    },
    {
      "cell_type": "markdown",
      "source": [
        "<h1 id = 'introduction' style=\"font-family: 'Cambria', Georgia, serif; font-weight: bold; border-bottom: 3px solid #000; padding: 8px; margin-bottom: 20px; text-align: left; letter-spacing: 1px;\">Introduction</h1>\n",
        "<p style=\"font-family: Georgia, 'Times New Roman', serif; font-size: 18px; color: #333; text-align: justify;\">Data Science is a rapidly growing field that combines the power of statistical and computational techniques to extract valuable insights and knowledge from data. It brings together multiple disciplines such as mathematics, statistics, computer science, and domain-specific knowledge to create a multi-faceted approach to understanding complex data patterns.</p>\n",
        "<br>\n",
        "<p style=\"font-family: Georgia, 'Times New Roman', serif; font-size: 18px; color: #333; text-align: justify;\">The goal of Data Science is to provide a complete picture of data and transform it into actionable information that can inform business decisions, scientific breakthroughs, and even public policy. With the increasing amount of data being generated every day, Data Science is becoming an increasingly vital part of our data-driven world.</p>\n",
        "<br>\n",
        "\n",
        "<p style=\"font-family: Georgia, 'Times New Roman', serif; font-size: 18px; color: #333; text-align: justify;\"> When it comes to financial markets, Data Science can be applied in various ways, such as:</p>\n",
        "<br>\n",
        "<br>\n",
        "\n",
        "<p style=\"font-family: Georgia, 'Times New Roman', serif; font-size: 18px; color: #333; text-align: justify;\">1. <b>Predictive Models:</b> Data Science professionals can use historical data to create predictive models that can identify trends and make predictions about future market conditions.</p>\n",
        "<br>\n",
        "<br>\n",
        "\n",
        "<p style=\"font-family: Georgia, 'Times New Roman', serif; font-size: 18px; color: #333; text-align: justify;\">2. <b>Algorithmic Trading:</b> The use of algorithms that execute buy and sell orders autonomously, based on mathematical models through the analysis of price, volume, and volatility, among many others.</p>\n",
        "<br>\n",
        "<br>\n",
        "\n",
        "<p style=\"font-family: Georgia, 'Times New Roman', serif; font-size: 18px; color: #333; text-align: justify;\">3. <b>Portfolio Optimization:</b> Algorithms and other mathematical models can be used to optimize portfolios, aiming for maximization of returns and risk minimization.</p>\n",
        "<br>\n",
        "<br>\n",
        "\n",
        "<p style=\"font-family: Georgia, 'Times New Roman', serif; font-size: 18px; color: #333; text-align: justify;\">4. <b>Fraud Detection:</b> Data scientists can use machine learning algorithms to identify fraudulent activities in financial transactions.</p>\n",
        "<br>\n",
        "<br>\n",
        "\n",
        "<p style=\"font-family: Georgia, 'Times New Roman', serif; font-size: 18px; color: #333; text-align: justify;\">5. <b>Risk Management:</b> Data science can be used to quantify and manage various types of financial risks, including market risk, credit risk, and operational risk.</p>\n",
        "<br>\n",
        "<br>\n",
        "\n",
        "<p style=\"font-family: Georgia, 'Times New Roman', serif; font-size: 18px; color: #333; text-align: justify;\">6. <b>Customer Analysis:</b> Financial institutions can use data science to analyze customer data and gain insights into customer behavior and preferences, which can be used to improve customer engagement and retention.</p>\n",
        "<br>\n",
        "<br>"
      ],
      "metadata": {
        "id": "6zwTdAhm1Zga"
      }
    },
    {
      "cell_type": "markdown",
      "source": [
        "<p style=\"font-family: Georgia, 'Times New Roman', serif; font-size: 18px; color: #333; text-align: justify;\">In this notebook, I aim to demonstrate how Data Science, aswell as Python, can be powerful tools in extracting crucial insights from financial markets. I will demonstrate how these tools can be leveraged to build and optimize portfolios, develop effective trading strategies, and perform detailed stock analysis. This will showcase the versatility and usefulness of Data Science and Python in the finance industry and provide a valuable resource for those interested in utilizing these techniques to make informed investment decisions.</p>"
      ],
      "metadata": {
        "id": "fIgCDH-g1Zga"
      }
    },
    {
      "cell_type": "markdown",
      "source": [
        "<h2 id = 'libraries' style=\"font-family: 'Cambria', Georgia, serif; font-weight: bold; border-bottom: 3px solid #000; padding: 8px; margin-bottom: 20px; text-align: left; letter-spacing: 1px;\">Essential Libraries</h2>\n",
        "<br>\n",
        "<p style=\"font-family: Georgia, 'Times New Roman', serif; font-size: 18px; color: #333; text-align: justify;\">While developing this notebook, we will use four essential libraries specifically designed for handling financial data.\n",
        "<br>\n",
        "I will provide a brief introduction to each library and guide you through the steps required to install them in any Python environment.</p>\n",
        "<br>"
      ],
      "metadata": {
        "id": "tQctguaC1Zga"
      }
    },
    {
      "cell_type": "markdown",
      "source": [
        "<h2 id = 'yfinance' style=\"font-family: 'Cambria', Georgia, serif; font-weight: bold; margin-bottom: 20px; text-align: left; letter-spacing: 1px;\">yfinance</h2>"
      ],
      "metadata": {
        "id": "FDW2SrYq1Zga"
      }
    },
    {
      "cell_type": "markdown",
      "source": [
        "<p style=\"font-family: Georgia, 'Times New Roman', serif; font-size: 18px; color: #333; text-align: justify;\">yfinance is probably the most popular Python library to extract data from financial markets! It allows you to obtain and analyze historical market data from Yahoo!Finance. It offers an easy-to-use API that allows users to fetch data for any publicly traded company, index, ETF, crypto and forex.</p>\n",
        "<br>\n",
        "<p style=\"font-family: Georgia, 'Times New Roman', serif; font-size: 18px; color: #333; text-align: justify;\">yfinance also provides tools for adjusting the data for dividends and splits, as well as for visualizing the data in different ways. Its simple interface and reliable data, makes it an excellent tool for analysis of financial data and explains why it is one of the most used library for traders and investors alike.</p><br>\n",
        "<br>\n",
        "<p style=\"font-family: Georgia, 'Times New Roman', serif; font-size: 18px; color: #333; text-align: justify;\">You can copy the code cell below in any Python environment to install it.</p>\n",
        "<br>"
      ],
      "metadata": {
        "id": "wBbXMolA1Zga"
      }
    },
    {
      "cell_type": "code",
      "source": [
        "# Installing yfinance\n",
        "!pip install yfinance"
      ],
      "metadata": {
        "_kg_hide-output": true,
        "execution": {
          "iopub.status.busy": "2023-03-21T19:41:37.968036Z",
          "iopub.execute_input": "2023-03-21T19:41:37.968509Z",
          "iopub.status.idle": "2023-03-21T19:41:52.310205Z",
          "shell.execute_reply.started": "2023-03-21T19:41:37.968408Z",
          "shell.execute_reply": "2023-03-21T19:41:52.309009Z"
        },
        "trusted": true,
        "id": "Msmn9ZFY1Zga"
      },
      "execution_count": null,
      "outputs": []
    },
    {
      "cell_type": "markdown",
      "source": [
        "<h2 id = 'quantstats' style=\"font-family: 'Cambria', Georgia, serif; font-weight: bold; margin-bottom: 20px; text-align: left; letter-spacing: 1px;\">Quantstats</h2>"
      ],
      "metadata": {
        "id": "heNO5lKM1Zgb"
      }
    },
    {
      "cell_type": "markdown",
      "source": [
        "<p style=\"font-family: Georgia, 'Times New Roman', serif; font-size: 18px; color: #333; text-align: justify;\">Quantstats is a Python library used for quantitative financial analysis. This library provides various tools to obtain financial data from different sources, conduct technical and fundamental analyses, and create and test different investment strategies. It is also possible to use visualization tools to analyze individual stocks and portfolios. It is a simple and easy tool for any type of quantitative finance-oriented analysis, and that's why it will be essential for this study.</p>\n",
        "<br>\n",
        "<p style=\"font-family: Georgia, 'Times New Roman', serif; font-size: 18px; color: #333; text-align: justify;\">This is how you can install Quantstats in your Python environment:</p>\n",
        "<br>"
      ],
      "metadata": {
        "id": "dvfHGqkR1Zgb"
      }
    },
    {
      "cell_type": "code",
      "source": [
        "# Installing Quantstats\n",
        "!pip install quantstats"
      ],
      "metadata": {
        "_kg_hide-output": true,
        "execution": {
          "iopub.status.busy": "2023-03-21T19:41:52.313408Z",
          "iopub.execute_input": "2023-03-21T19:41:52.313953Z",
          "iopub.status.idle": "2023-03-21T19:42:03.820648Z",
          "shell.execute_reply.started": "2023-03-21T19:41:52.313887Z",
          "shell.execute_reply": "2023-03-21T19:42:03.818875Z"
        },
        "trusted": true,
        "id": "rkZ0CGI41Zgb"
      },
      "execution_count": null,
      "outputs": []
    },
    {
      "cell_type": "markdown",
      "source": [
        "<h2 id = 'pyportfolio' style=\"font-family: 'Cambria', Georgia, serif; font-weight: bold; margin-bottom: 20px; text-align: left; letter-spacing: 1px;\">PyPortfolioOpt</h2>"
      ],
      "metadata": {
        "id": "SlyetzXs1Zgb"
      }
    },
    {
      "cell_type": "markdown",
      "source": [
        "<p style=\"font-family: Georgia, 'Times New Roman', serif; font-size: 18px; color: #333; text-align: justify;\">PyPortfolioOpt is an extremely useful library for portfolio optimization and asset allocation. This library provides various tools to create optimized portfolios based on user-defined constraints, objectives, and risk preferences. It includes a range of optimization algorithms, such as the mean-variance optimization model, the Black-Litterman allocation model, and many others.</p>\n",
        "<br>\n",
        "<p style=\"font-family: Georgia, 'Times New Roman', serif; font-size: 18px; color: #333; text-align: justify;\">With its user-friendly interface and flexible optimization capabilities, PyPortfolioOpt is a powerful library for portfolio construction and optimization.</p>\n",
        "<br>\n",
        "<p style=\"font-family: Georgia, 'Times New Roman', serif; font-size: 18px; color: #333; text-align: justify;\">In the code cell below, you find how to install PyPortfolioOpt in your Python environment.</p>\n",
        "<br>"
      ],
      "metadata": {
        "id": "65zVHLSE1Zgb"
      }
    },
    {
      "cell_type": "code",
      "source": [
        "# installing PyPortfolioOpt\n",
        "!pip install pyportfolioopt"
      ],
      "metadata": {
        "_kg_hide-output": true,
        "execution": {
          "iopub.status.busy": "2023-03-21T19:42:03.822848Z",
          "iopub.execute_input": "2023-03-21T19:42:03.823784Z",
          "iopub.status.idle": "2023-03-21T19:42:30.465581Z",
          "shell.execute_reply.started": "2023-03-21T19:42:03.823721Z",
          "shell.execute_reply": "2023-03-21T19:42:30.464267Z"
        },
        "trusted": true,
        "id": "KJdXRnSb1Zgb"
      },
      "execution_count": null,
      "outputs": []
    },
    {
      "cell_type": "markdown",
      "source": [
        "<h2 id = 'talib' style=\"font-family: 'Cambria', Georgia, serif; font-weight: bold; margin-bottom: 20px; text-align: left; letter-spacing: 1px;\">TA</h2>"
      ],
      "metadata": {
        "id": "BTwlEY2T1Zgb"
      }
    },
    {
      "cell_type": "markdown",
      "source": [
        "<p style=\"font-family: Georgia, 'Times New Roman', serif; font-size: 18px; color: #333; text-align: justify;\">The TA (Technical Analysis) library is a powerful tool for conducting technical analysis using Python. It provides a wide range of technical indicators, such as moving averages, Bollinger bands, MACD, and the Relative Strength Index to analyze market trends, momentum, and volatility.</p>\n",
        "<br>\n",
        "<p style=\"font-family: Georgia, 'Times New Roman', serif; font-size: 18px; color: #333; text-align: justify;\">The TA library is extremely easy to use and allows users to customize their analysis based on their preferred indicators and parameters. With its extensive range of technical analysis tools, it is a valuable resource for both traders and analysts looking to gain valuable insights on market behavior.</p>\n",
        "<br>\n",
        "<p style=\"font-family: Georgia, 'Times New Roman', serif; font-size: 18px; color: #333; text-align: justify;\">Here's how you can install the TA library in your own Python environment:</p>\n",
        "<br>"
      ],
      "metadata": {
        "id": "-FcQhn4X1Zgb"
      }
    },
    {
      "cell_type": "code",
      "source": [
        "# Installing the TA (Technical Analysis) library\n",
        "!pip install ta"
      ],
      "metadata": {
        "_kg_hide-output": true,
        "execution": {
          "iopub.status.busy": "2023-03-21T19:42:30.467384Z",
          "iopub.execute_input": "2023-03-21T19:42:30.46791Z",
          "iopub.status.idle": "2023-03-21T19:42:44.485716Z",
          "shell.execute_reply.started": "2023-03-21T19:42:30.467866Z",
          "shell.execute_reply": "2023-03-21T19:42:44.484146Z"
        },
        "trusted": true,
        "id": "jrEaFwkX1Zgb"
      },
      "execution_count": null,
      "outputs": []
    },
    {
      "cell_type": "markdown",
      "source": [
        "<p style=\"font-family: Georgia, 'Times New Roman', serif; font-size: 18px; color: #333; text-align: justify;\">Now that you've had a brief introduction to the most essential financial libraries in this notebook, we can move on to importing all the specific libraries we'll be using.</p>\n",
        "<br>"
      ],
      "metadata": {
        "id": "xzpc6wzN1Zgc"
      }
    },
    {
      "cell_type": "code",
      "source": [
        "# Importing Libraries\n",
        "\n",
        "# Data handling and statistical analysis\n",
        "import pandas as pd\n",
        "from pandas_datareader import data\n",
        "import numpy as np\n",
        "from scipy import stats\n",
        "\n",
        "# Data visualization\n",
        "import matplotlib.pyplot as plt\n",
        "import seaborn as sns\n",
        "import plotly.express as px\n",
        "import plotly.graph_objects as go\n",
        "from plotly.subplots import make_subplots\n",
        "\n",
        "# Optimization and allocation\n",
        "from pypfopt.efficient_frontier import EfficientFrontier\n",
        "from pypfopt import risk_models\n",
        "from pypfopt import expected_returns\n",
        "from pypfopt import black_litterman, BlackLittermanModel\n",
        "\n",
        "# Financial data\n",
        "import quantstats as qs\n",
        "import ta\n",
        "import yfinance as yf\n",
        "\n",
        "# Linear Regression Model\n",
        "from sklearn.linear_model import LinearRegression\n",
        "\n",
        "# Enabling Plotly offline\n",
        "from plotly.offline import init_notebook_mode\n",
        "init_notebook_mode(connected=True)\n",
        "\n",
        "# Datetime and hiding warnings\n",
        "import datetime as dt\n",
        "import warnings\n",
        "warnings.filterwarnings(\"ignore\")"
      ],
      "metadata": {
        "execution": {
          "iopub.status.busy": "2023-03-21T19:42:44.48973Z",
          "iopub.execute_input": "2023-03-21T19:42:44.490192Z",
          "iopub.status.idle": "2023-03-21T19:42:46.984372Z",
          "shell.execute_reply.started": "2023-03-21T19:42:44.490147Z",
          "shell.execute_reply": "2023-03-21T19:42:46.983207Z"
        },
        "trusted": true,
        "id": "PpLKxj991Zgc"
      },
      "execution_count": null,
      "outputs": []
    },
    {
      "cell_type": "markdown",
      "source": [
        "<h1 id=\"getting-started\" style=\"font-family: 'Cambria', Georgia, serif; font-weight: bold; border-bottom: 3px solid #000; padding: 8px; margin-bottom: 20px; text-align: left; letter-spacing: 1px;\">1 | Getting Started</h1>\n",
        "<br>\n",
        "<h2 id='daily-returns' style=\"font-family: 'Cambria', Georgia, serif; font-weight: bold; margin-bottom: 20px; text-align: left; letter-spacing: 1px;\">Daily Returns</h2>"
      ],
      "metadata": {
        "id": "2avUNHNQ1Zgc"
      }
    },
    {
      "cell_type": "markdown",
      "source": [
        "<p style=\"font-family: Georgia, 'Times New Roman', serif; font-size: 18px; color: #333; text-align: justify;\">The first thing we're going to look at is the daily returns. A stock's daily return is the percentual change in price over a single day. You calculate it by subtracting the difference between the stock's closing price on one day and its closing price the day before, dividing the result by the closing of the day before, and multiplying it by 100.</p>\n",
        "<br>\n",
        "<p style=\"font-family: Georgia, 'Times New Roman', serif; font-size: 18px; color: #333; text-align: justify;\">For instance, if a stock closes at 100 dollars on Monday, and it closes at 102 dollars on Tuesday, its daily return would be calculated as:</p>\n",
        "<br><br>\n",
        "<p style=\"font-family: Georgia, 'Times New Roman', serif; font-size: 18px; color: #333; text-align: justify;\"><center>$((102 - 100) \\div 100) \\times 100 = 2%$%</center></p>\n",
        "<br><br>\n",
        "<p style=\"font-family: Georgia, 'Times New Roman', serif; font-size: 18px; color: #333; text-align: justify;\">This shows that the stock increased in value by 2% over the course of one day. On the other hand, if the stock had closed at 98 dollars on Tuesday, the daily return would be calculated as:</p>\n",
        "<br><br>\n",
        "<p style=\"font-family: Georgia, 'Times New Roman', serif; font-size: 18px; color: #333; text-align: justify;\"><center>$((98 - 100) \\div 100) \\times 100 = -2%$%</center></p>\n",
        "<br><br>\n",
        "<p style=\"font-family: Georgia, 'Times New Roman', serif; font-size: 18px; color: #333; text-align: justify;\">Which means that the stock has decreased in value by 2% over the course of one day.</p>\n",
        "<br>\n",
        "<p style=\"font-family: Georgia, 'Times New Roman', serif; font-size: 18px; color: #333; text-align: justify;\">Daily returns are relevant for investors because they provide a quick way to check the performance of a stock over a short period.</p>\n",
        "<br>\n",
        "<p style=\"font-family: Georgia, 'Times New Roman', serif; font-size: 18px; color: #333; text-align: justify;\">With Quantstats, it's possible to plot daily returns charts, which are graphical representations of the daily percentage changes in stocks, allowing investors to visualize the ups and downs of the stock's daily performance over time and extract information on volatility and consistency of returns.</p>"
      ],
      "metadata": {
        "id": "7M_Uu-2x1Zgc"
      }
    },
    {
      "cell_type": "markdown",
      "source": [
        "<p style=\"font-family: Georgia, 'Times New Roman', serif; font-size: 18px; color: #333; text-align: justify;\">In order to start our analysis, we're going to use Quantstats <i>utils.download_returns</i> method to download the daily returns for four different US stocks over the same period of time, for a fair comparison and analysis between them.</p>"
      ],
      "metadata": {
        "id": "Nyvw-XvW1Zgc"
      }
    },
    {
      "cell_type": "code",
      "source": [
        "# Getting daily returns for 4 different US stocks in the same time window\n",
        "aapl = qs.utils.download_returns('AAPL')\n",
        "aapl = aapl.loc['2010-07-01':'2023-02-10']\n",
        "\n",
        "tsla = qs.utils.download_returns('TSLA')\n",
        "tsla = tsla.loc['2010-07-01':'2023-02-10']\n",
        "\n",
        "dis = qs.utils.download_returns('DIS')\n",
        "dis = dis.loc['2010-07-01':'2023-02-10']\n",
        "\n",
        "amd = qs.utils.download_returns('AMD')\n",
        "amd = amd.loc['2010-07-01':'2023-02-10']"
      ],
      "metadata": {
        "execution": {
          "iopub.status.busy": "2023-03-21T19:42:46.985913Z",
          "iopub.execute_input": "2023-03-21T19:42:46.986549Z",
          "iopub.status.idle": "2023-03-21T19:42:49.496773Z",
          "shell.execute_reply.started": "2023-03-21T19:42:46.986513Z",
          "shell.execute_reply": "2023-03-21T19:42:49.495579Z"
        },
        "trusted": true,
        "id": "F4IrvEED1Zgc"
      },
      "execution_count": null,
      "outputs": []
    },
    {
      "cell_type": "markdown",
      "source": [
        "<p style=\"font-family: Georgia, 'Times New Roman', serif; font-size: 18px; color: #333; text-align: justify;\">We now have the daily returns from July 1st, 2010, to February 10th, 2023, for four different US stocks from distinct industries, Apple, Tesla, The Walt Disney Company, and AMD.\n",
        "<br>\n",
        "<br>\n",
        "We can now plot the daily returns chart for each of them using Quantstats.</p>"
      ],
      "metadata": {
        "id": "Q0LRkNq11Zgc"
      }
    },
    {
      "cell_type": "code",
      "source": [
        "# Converting timezone\n",
        "aapl.index = aapl.index.tz_convert(None)\n",
        "tsla.index = tsla.index.tz_convert(None)\n",
        "dis.index = dis.index.tz_convert(None)\n",
        "amd.index = amd.index.tz_convert(None)"
      ],
      "metadata": {
        "execution": {
          "iopub.status.busy": "2023-03-21T19:42:49.498235Z",
          "iopub.execute_input": "2023-03-21T19:42:49.498644Z",
          "iopub.status.idle": "2023-03-21T19:42:49.504833Z",
          "shell.execute_reply.started": "2023-03-21T19:42:49.498579Z",
          "shell.execute_reply": "2023-03-21T19:42:49.503451Z"
        },
        "trusted": true,
        "id": "sPToZH8k1Zgc"
      },
      "execution_count": null,
      "outputs": []
    },
    {
      "cell_type": "code",
      "source": [
        "# Plotting Daily Returns for each stock\n",
        "print('\\n')\n",
        "print('\\nApple Daily Returns Plot:\\n')\n",
        "qs.plots.daily_returns(aapl)\n",
        "print('\\n')\n",
        "print('\\n')\n",
        "print('\\nTesla Inc. Daily Returns Plot:\\n')\n",
        "qs.plots.daily_returns(tsla)\n",
        "print('\\n')\n",
        "print('\\n')\n",
        "print('\\nThe Walt Disney Company Daily Returns Plot:\\n')\n",
        "qs.plots.daily_returns(dis)\n",
        "print('\\n')\n",
        "print('\\n')\n",
        "print('\\nAdvances Micro Devices, Inc. Daily Returns Plot:\\n')\n",
        "qs.plots.daily_returns(amd)"
      ],
      "metadata": {
        "execution": {
          "iopub.status.busy": "2023-03-21T19:42:49.506216Z",
          "iopub.execute_input": "2023-03-21T19:42:49.507347Z",
          "iopub.status.idle": "2023-03-21T19:42:51.361334Z",
          "shell.execute_reply.started": "2023-03-21T19:42:49.507286Z",
          "shell.execute_reply": "2023-03-21T19:42:51.359958Z"
        },
        "trusted": true,
        "id": "KpVAWqwo1Zgc"
      },
      "execution_count": null,
      "outputs": []
    },
    {
      "cell_type": "markdown",
      "source": [
        "<p style=\"font-family: Georgia, 'Times New Roman', serif; font-size: 18px; color: #333; text-align: justify;\">The plots above allow us to see an unusual variation in AMD stock prices, an increase of around 40% in its shares by 2016, which may have occurred for various factors, such as surprising earnings reports, increased demand for the company's products, or favorable market conditions. This behavior may indicate high volatility, thus marking it a riskier investment.</p>\n",
        "<br>\n",
        "<p style=\"font-family: Georgia, 'Times New Roman', serif; font-size: 18px; color: #333; text-align: justify;\">On the other hand, Disney's and Apple's stocks seem more stable and predictable investment options at first glance.</p>"
      ],
      "metadata": {
        "id": "i3ebxE_z1Zgc"
      }
    },
    {
      "cell_type": "markdown",
      "source": [
        "<h2 id = 'cumulative-returns' style=\"font-family: 'Cambria', Georgia, serif; font-weight: bold; margin-bottom: 20px; text-align: left; letter-spacing: 1px;\">Cumulative Returns</h2>"
      ],
      "metadata": {
        "id": "pJzMlucy1Zgc"
      }
    },
    {
      "cell_type": "markdown",
      "source": [
        "<p style=\"font-family: Georgia, 'Times New Roman', serif; font-size: 18px; color: #333; text-align: justify;\">To calculate a stock's cumulative return, the first thing to do is to determine the stock's initial price and its final price at the end of the specified period. Then subtract the initial price from the final price, add any dividends or other income received, and divide the result by the initial price. This gives us the cumulative return as a decimal, which can be multiplied by 100 to express it as a percentage.</p>\n",
        "<br>\n",
        "<p style=\"font-family: Georgia, 'Times New Roman', serif; font-size: 18px; color: #333; text-align: justify;\">It's important to note that cumulative return takes into account the effects of compounding, meaning that any gains from a previous period are reinvested and contribute to additional gains in future periods, which can result in a larger cumulative return than the simple average of the individual returns over the specified period.</p>\n",
        "<br>\n",
        "<p style=\"font-family: Georgia, 'Times New Roman', serif; font-size: 18px; color: #333; text-align: justify;\">Below, we can see line charts displaying the cumulative return for each one of the stocks we've downloaded since July, 2010.</p>"
      ],
      "metadata": {
        "id": "NIyEBXSV1Zgc"
      }
    },
    {
      "cell_type": "code",
      "source": [
        "# Plotting Cumulative Returns for each stock\n",
        "print('\\n')\n",
        "print('\\nApple Cumulative Returns Plot\\n')\n",
        "qs.plots.returns(aapl)\n",
        "print('\\n')\n",
        "print('\\n')\n",
        "print('\\nTesla Inc. Cumulative Returns Plot\\n')\n",
        "qs.plots.returns(tsla)\n",
        "print('\\n')\n",
        "print('\\n')\n",
        "print('\\nThe Walt Disney Company Cumulative Returns Plot\\n')\n",
        "qs.plots.returns(dis)\n",
        "print('\\n')\n",
        "print('\\n')\n",
        "print('\\nAdvances Micro Devices, Inc. Cumulative Returns Plot\\n')\n",
        "qs.plots.returns(amd)"
      ],
      "metadata": {
        "execution": {
          "iopub.status.busy": "2023-03-21T19:42:51.362936Z",
          "iopub.execute_input": "2023-03-21T19:42:51.363886Z",
          "iopub.status.idle": "2023-03-21T19:42:53.129186Z",
          "shell.execute_reply.started": "2023-03-21T19:42:51.363845Z",
          "shell.execute_reply": "2023-03-21T19:42:53.127767Z"
        },
        "trusted": true,
        "id": "cuYVxLDz1Zgd"
      },
      "execution_count": null,
      "outputs": []
    },
    {
      "cell_type": "markdown",
      "source": [
        "<p style=\"font-family: Georgia, 'Times New Roman', serif; font-size: 18px; color: #333; text-align: justify;\">The charts above shows a considerate difference between Tesla's and Disney's returns. At the peak of its returns, Tesla surpassed the mark of over 25,000%, an extraordinary investment for those who bought the company's shares by the beginning of the decade. On the other hand, Disney's shares had some modest returns, peaking at around 650%.</p>\n",
        "<br>\n",
        "<p style=\"font-family: Georgia, 'Times New Roman', serif; font-size: 18px; color: #333; text-align: justify;\">Of course, when analyzing stocks data, we don't make an investment merely looking only at the cumulative returns. It's crucial to look at other indicators and evaluate the risks of the investment. Besides, 650% returns are still significant, and in the stock market, slow but steady growth can be just as valuable as explosive returns.</p>\n",
        "<br>\n",
        "<p style=\"font-family: Georgia, 'Times New Roman', serif; font-size: 18px; color: #333; text-align: justify;\">A variety of strategies must be taken into account in order to build a robust portfolio.</p>"
      ],
      "metadata": {
        "id": "pWkbBwTE1Zgd"
      }
    },
    {
      "cell_type": "markdown",
      "source": [
        "<h2 id= 'histograms' style=\"font-family: 'Cambria', Georgia, serif; font-weight: bold; margin-bottom: 20px; text-align: left; letter-spacing: 1px;\">Histograms</h2>"
      ],
      "metadata": {
        "id": "T91ASRtL1Zgd"
      }
    },
    {
      "cell_type": "markdown",
      "source": [
        "<p style=\"font-family: Georgia, 'Times New Roman', serif; font-size: 18px; color: #333; text-align: justify;\">Histograms are a graphical representation of the distribution of values, displaying how frequent they are in a dataset.</p>\n",
        "<br>\n",
        "<p style=\"font-family: Georgia, 'Times New Roman', serif; font-size: 18px; color: #333; text-align: justify;\">Histograms of daily returns are valuable to help investors to identify patterns, such as the range of daily returns of an asset over a certain period, indicating its level of stability and volatility.</p>"
      ],
      "metadata": {
        "id": "Zw8IFHsq1Zgd"
      }
    },
    {
      "cell_type": "code",
      "source": [
        "# Plotting histograms for daily returns\n",
        "print('\\n')\n",
        "print('\\nApple Daily Returns Histogram')\n",
        "qs.plots.histogram(aapl, resample = 'D')\n",
        "print('\\n')\n",
        "print('\\nTesla Inc. Daily Returns Histogram')\n",
        "qs.plots.histogram(tsla, resample = 'D')\n",
        "print('\\n')\n",
        "print('\\nThe Walt Disney Company Daily Returns Histogram')\n",
        "qs.plots.histogram(dis, resample = 'D')\n",
        "print('\\n')\n",
        "print('\\nAdvances Micro Devices, Inc. Daily Returns Histogram')\n",
        "qs.plots.histogram(amd, resample = 'D')"
      ],
      "metadata": {
        "execution": {
          "iopub.status.busy": "2023-03-21T19:42:53.130948Z",
          "iopub.execute_input": "2023-03-21T19:42:53.131298Z",
          "iopub.status.idle": "2023-03-21T19:42:59.407176Z",
          "shell.execute_reply.started": "2023-03-21T19:42:53.131266Z",
          "shell.execute_reply": "2023-03-21T19:42:59.405827Z"
        },
        "trusted": true,
        "id": "i4TrVQ0c1Zgd"
      },
      "execution_count": null,
      "outputs": []
    },
    {
      "cell_type": "markdown",
      "source": [
        "<p style=\"font-family: Georgia, 'Times New Roman', serif; font-size: 18px; color: #333; text-align: justify;\">Through the analysis of the histograms, we can observe that most daily returns are close to zero in the center of the distribution. However, it's easy to see some extreme values that are distant from the mean, which is the case of AMD, with daily returns of around 50%, indicating the presence of outliers in the positive range of the distribution, in contrast with the negative field where it seems to limit at about -20%.</p>\n",
        "<br>\n",
        "<p style=\"font-family: Georgia, 'Times New Roman', serif; font-size: 18px; color: #333; text-align: justify;\">Disney's stocks have more balanced returns with values ranging from -15% to 15%, while most returns are closer to the mean.</p>\n",
        "<br>\n",
        "<p style=\"font-family: Georgia, 'Times New Roman', serif; font-size: 18px; color: #333; text-align: justify;\">Through histograms, we can extract some valuable statistics such as kurtosis and skewness.</p>"
      ],
      "metadata": {
        "id": "cy8EZ2Cm1Zgd"
      }
    },
    {
      "cell_type": "markdown",
      "source": [
        "<h2 id = 'kurtosis' style=\"font-family: 'Cambria', Georgia, serif; font-weight: bold; margin-bottom: 20px; text-align: left; letter-spacing: 1px;\">Kurtosis</h2>"
      ],
      "metadata": {
        "id": "QnRfA5_81Zge"
      }
    },
    {
      "cell_type": "markdown",
      "source": [
        "<p style=\"font-family: Georgia, 'Times New Roman', serif; font-size: 18px; color: #333; text-align: justify;\">A high kurtosis value for daily returns may indicate frequent fluctuations in price that deviate significantly from the average returns of that investment, which can lead to increased volatility and risk associated with the stock.</p>\n",
        "<br>\n",
        "<p style=\"font-family: Georgia, 'Times New Roman', serif; font-size: 18px; color: #333; text-align: justify;\">A kurtosis value above 3.0 defines a leptokurtic distribution, characterized by outliers and more values that are distant from the average, which reflects in the histogram as stretching of the horizontal axis. Stocks with a leptokurtic distribution are generally associated with a higher level of risk but also offer the potential for higher returns due to the substantial price movements that have occurred in the past.</p>\n",
        "<br>\n",
        "<p style=\"font-family: Georgia, 'Times New Roman', serif; font-size: 18px; color: #333; text-align: justify;\">In the image below, it's possible to see the difference between a negative kurtosis on the left and a positive kurtosis on the right. The distribution on the left displays a lower probability of extreme values and a lower concentration of values around the mean, while the distribution on the right shows a higher concentration of values near the mean, but also the existence (and thus a higher probability of occurrence) of extreme values.</p>\n",
        "<br>\n",
        "<img src = \"https://www.investopedia.com/thmb/vHHuGIFZ_MUuF_Bbdz4athKgrV8=/750x0/filters:no_upscale():max_bytes(150000):strip_icc():format(webp)/UnderstandingQuantitativeAnalysisofHedgeFunds2-873270b30492408ea2071852d3cf81c7.png\">\n",
        "<br>\n",
        "<p style=\"font-family: Georgia, 'Times New Roman', serif; font-size: 18px; color: #333; text-align: justify;\">Kurtosis measures the concentration of observations in the tails versus the center of a distribution. In finance, a high level of excess kurtosis, or \"tail risk,\" represents the chance of a loss occurring as a result of a rare event. This type of risk is important for investors to consider when making investment decisions, as it may impact the potential returns and stability of a particular stock.</p>"
      ],
      "metadata": {
        "id": "DIZzGknY1Zge"
      }
    },
    {
      "cell_type": "code",
      "source": [
        "# Using quantstats to measure kurtosis\n",
        "print('\\n')\n",
        "print(\"Apple's kurtosis: \", qs.stats.kurtosis(aapl).round(2))\n",
        "print('\\n')\n",
        "print(\"Tesla's kurtosis: \", qs.stats.kurtosis(tsla).round(2))\n",
        "print('\\n')\n",
        "print(\"Walt Disney's kurtosis: \", qs.stats.kurtosis(dis).round(3))\n",
        "print('\\n')\n",
        "print(\"Advances Micro Devices' kurtosis: \", qs.stats.kurtosis(amd).round(3))"
      ],
      "metadata": {
        "execution": {
          "iopub.status.busy": "2023-03-21T19:42:59.409294Z",
          "iopub.execute_input": "2023-03-21T19:42:59.410294Z",
          "iopub.status.idle": "2023-03-21T19:42:59.530666Z",
          "shell.execute_reply.started": "2023-03-21T19:42:59.41024Z",
          "shell.execute_reply": "2023-03-21T19:42:59.529439Z"
        },
        "trusted": true,
        "id": "kqWTDNRI1Zgj"
      },
      "execution_count": null,
      "outputs": []
    },
    {
      "cell_type": "markdown",
      "source": [
        "<p style=\"font-family: Georgia, 'Times New Roman', serif; font-size: 18px; color: #333; text-align: justify;\">The kurtosis values above show that all four stocks, Apple, Tesla, Walt Disney, and Advanced Micro Devices, have high levels of kurtosis, indicating a high concentration of observations in the tails of their daily returns distributions, which suggests that all four stocks are subject to high levels of volatility and risk, with considerate price fluctuations that deviate significantly from their average returns.</p>\n",
        "<br>\n",
        "<p style=\"font-family: Georgia, 'Times New Roman', serif; font-size: 18px; color: #333; text-align: justify;\">However, AMD has the highest kurtosis, with a value of 17.125, which indicates that AMD is subject to an extremely high level of volatility and tail risk, with a large concentration of extreme price movements. On the other hand, Disney has a kurtosis of 11.033, which is still higher than a typical value for a normal distribution, but not as extreme as AMD's.</p>"
      ],
      "metadata": {
        "id": "ovEYP-lV1Zgj"
      }
    },
    {
      "cell_type": "markdown",
      "source": [
        "<h2 id = 'skewness' style=\"font-family: 'Cambria', Georgia, serif; font-weight: bold; margin-bottom: 20px; text-align: left; letter-spacing: 1px;\">Skewness</h2>"
      ],
      "metadata": {
        "id": "2y-Ll_ss1Zgj"
      }
    },
    {
      "cell_type": "markdown",
      "source": [
        "<p style=\"font-family: Georgia, 'Times New Roman', serif; font-size: 18px; color: #333; text-align: justify;\">Skewness is a metric that quantifies the asymmetry of returns. It reflects the shape of the distribution and determines if it is symmetrical, skewed to the left, or skewed to the right.</p>\n",
        "<br>\n",
        "<p style=\"font-family: Georgia, 'Times New Roman', serif; font-size: 18px; color: #333; text-align: justify;\">Below, it is possible to see two different asymmetrical distributions. On the left, it shows an example of a positively skewed distribution, with a long right tail, indicating a substantial probability of extremely positive daily returns compared to a normal distribution. On the other hand, a negatively skewed distribution would most likely resemble the distribution on the right, with a long tail representing more frequency of outliers on the negative side of returns.</p>\n",
        "<br>\n",
        "<img src = \"https://www.investopedia.com/thmb/ERfE8SmIEoY0nWvFi0Hct88NuSg=/750x0/filters:no_upscale():max_bytes(150000):strip_icc():format(webp)/UnderstandingQuantitativeAnalysisofHedgeFunds1-f1dbd459ce30482e8df4cdc522851d6b.png\">\n",
        "<br>\n",
        "\n",
        "<p style=\"font-family: Georgia, 'Times New Roman', serif; font-size: 18px; color: #333; text-align: justify;\">A skewness value of zero indicates a symmetrical distribution, in which observations are evenly distributed on both sides of the mean, and the right and left tails are of approximately equal size.</p>\n",
        "<br>\n",
        "<p style=\"font-family: Georgia, 'Times New Roman', serif; font-size: 18px; color: #333; text-align: justify;\">The skewness is calculated with the following formula:</p>\n",
        "<br><br>\n",
        "<p style=\"font-family: Georgia, 'Times New Roman', serif; font-size: 18px; color: #333; text-align: justify;\"><center>$\\text{skewness} = \\frac{\\mu_{3}(x) - 3 \\times \\mu(x) \\times \\sigma^{2}(x) - \\mu^{3}(x)}{\\sigma^{3}(x)}$</center></p>\n",
        "<br><br>\n",
        "<p style=\"font-family: Georgia, 'Times New Roman', serif; font-size: 18px; color: #333; text-align: justify;\">Where <b><i>x</i></b> represents the set of returns data, <b><i>&mu;</i></b> represents the mean of the returns, and <b><i>&sigma;</i></b> represents the standard deviation of the returns. This formula results in a single numerical value that summarizes the skewness of returns.</p>\n",
        "<br>"
      ],
      "metadata": {
        "id": "0QG_uNCQ1Zgj"
      }
    },
    {
      "cell_type": "code",
      "source": [
        "# Measuring skewness with quantstats\n",
        "print('\\n')\n",
        "print(\"Apple's skewness: \", qs.stats.skew(aapl).round(2))\n",
        "print('\\n')\n",
        "print(\"Tesla's skewness: \", qs.stats.skew(tsla).round(2))\n",
        "print('\\n')\n",
        "print(\"Walt Disney's skewness: \", qs.stats.skew(dis).round(3))\n",
        "print('\\n')\n",
        "print(\"Advances Micro Devices' skewness: \", qs.stats.skew(amd).round(3))"
      ],
      "metadata": {
        "execution": {
          "iopub.status.busy": "2023-03-21T19:42:59.532322Z",
          "iopub.execute_input": "2023-03-21T19:42:59.53284Z",
          "iopub.status.idle": "2023-03-21T19:42:59.644344Z",
          "shell.execute_reply.started": "2023-03-21T19:42:59.532792Z",
          "shell.execute_reply": "2023-03-21T19:42:59.642906Z"
        },
        "trusted": true,
        "id": "HE0jZ6Jg1Zgj"
      },
      "execution_count": null,
      "outputs": []
    },
    {
      "cell_type": "markdown",
      "source": [
        "<p style=\"font-family: Georgia, 'Times New Roman', serif; font-size: 18px; color: #333; text-align: justify;\">Generally, a value between -0.5 and 0.5 indicates a slight level of skewness, while values below -1 and above 1 are indications of strong asymmetry.</p>\n",
        "<br>\n",
        "<p style=\"font-family: Georgia, 'Times New Roman', serif; font-size: 18px; color: #333; text-align: justify;\">Apple, Tesla, and Disney are just slightly skewed, and Disney's slight skewness can be seen by looking at the range of the x-axis of its histogram, where it is pretty much balanced between -15% and 15%.</p>\n",
        "<br>\n",
        "<p style=\"font-family: Georgia, 'Times New Roman', serif; font-size: 18px; color: #333; text-align: justify;\">AMD stocks are strongly skewed, which can also be easily identified by looking at the range between -20% and 50% in its histogram. AMD has a lot of outliers on the positive tail, which could've been a good thing for those who bought its shares but it also suggests higher volatility and risk to this investment.</p>"
      ],
      "metadata": {
        "id": "pMaZsl-I1Zgk"
      }
    },
    {
      "cell_type": "markdown",
      "source": [
        "<h2 id ='standard-deviation' style=\"font-family: 'Cambria', Georgia, serif; font-weight: bold; margin-bottom: 20px; text-align: left; letter-spacing: 1px;\">Standard Deviation</h2>"
      ],
      "metadata": {
        "id": "xa05wUCT1Zgk"
      }
    },
    {
      "cell_type": "markdown",
      "source": [
        "<p style=\"font-family: Georgia, 'Times New Roman', serif; font-size: 18px; color: #333; text-align: justify;\">Standard deviation is a widely used statistical metric that quantifies the variability of the dataset. When applied to a stock's daily returns, it can indicate the risk level associated with investing in that particular stock. A stock exhibiting high daily return volatility, characterized by a high standard deviation, is considered riskier when compared to one with low daily return volatility, represented by a low standard deviation.</p>\n",
        "<br>\n",
        "<p style=\"font-family: Georgia, 'Times New Roman', serif; font-size: 18px; color: #333; text-align: justify;\">The formula for standard deviation is given by:<br><br>\n",
        "<center>$\\sigma = \\sqrt{\\frac{1}{N-1} \\sum_{i=1}^{N} (x_i - \\bar{x})^2}$</center><br><br></p>\n",
        "<p style=\"font-family: Georgia, 'Times New Roman', serif; font-size: 18px; color: #333; text-align: justify;\">Where <b><i>x</i></b> represents the set of returns data, $\\bar{x}$ is the mean of the returns data, and <b><i>N</i></b> is the number of observations. Standard deviation enables investors to assess the risk level and to compare the volatility of different stocks. For instance, if two assets have similar average returns, but one has a higher standard deviation, it is usually considered a riskier investment. Hence, standard deviation serves as a useful tool in helping investors to make informed decisions regarding their investment choices and portfolio management.<br></p>\n"
      ],
      "metadata": {
        "id": "0KtYPhfS1Zgk"
      }
    },
    {
      "cell_type": "code",
      "source": [
        "# Calculating Standard Deviations\n",
        "print('\\n')\n",
        "print(\"Apple's Standard Deviation from 2010 to 2023: \", aapl.std().round(3))\n",
        "print('\\n')\n",
        "print(\"\\nTesla's Standard Deviation from 2010 to 2023: \", tsla.std().round(3))\n",
        "print('\\n')\n",
        "print(\"\\nDisney's Standard Deviation from 2010 to 2023: \", dis.std().round(3))\n",
        "print('\\n')\n",
        "print(\"\\nAMD's Standard Deviation from 2010 to 2023: \", amd.std().round(3))"
      ],
      "metadata": {
        "execution": {
          "iopub.status.busy": "2023-03-21T19:42:59.645962Z",
          "iopub.execute_input": "2023-03-21T19:42:59.646441Z",
          "iopub.status.idle": "2023-03-21T19:42:59.657716Z",
          "shell.execute_reply.started": "2023-03-21T19:42:59.64639Z",
          "shell.execute_reply": "2023-03-21T19:42:59.656529Z"
        },
        "trusted": true,
        "id": "URJwty_G1Zgk"
      },
      "execution_count": null,
      "outputs": []
    },
    {
      "cell_type": "markdown",
      "source": [
        "<p style=\"font-family: Georgia, 'Times New Roman', serif; font-size: 18px; color: #333; text-align: justify;\">Based on the values above, we can say that Apple and Disney are less volatile than Tesla and AMD, suggesting that Apple and Disney are safer investment options, exhibiting more stable price fluctuations in the market.</p>"
      ],
      "metadata": {
        "id": "NqdsHLrP1Zgk"
      }
    },
    {
      "cell_type": "markdown",
      "source": [
        "<h2 id = 'pairplots-correlation' style=\"font-family: 'Cambria', Georgia, serif; font-weight: bold; margin-bottom: 20px; text-align: left; letter-spacing: 1px;\">Pairplots and Correlation Matrix</h2>"
      ],
      "metadata": {
        "id": "embptHXn1Zgk"
      }
    },
    {
      "cell_type": "markdown",
      "source": [
        "<p style=\"font-family: Georgia, 'Times New Roman', serif; font-size: 18px; color: #333; text-align: justify;\">Correlation analysis in the stock market allows us for interesting investment strategies. A widely known strategy in the market is called Long-Short, which is the act of buying shares of a company, while selling shares of another company, believing that both assets will have opposite directions in the market. That is, when one goes up, the other goes down. To develop Long-Short strategies, investors rely on correlation analysis between stocks.</p>\n",
        "<br>\n",
        "<p style=\"font-family: Georgia, 'Times New Roman', serif; font-size: 18px; color: #333; text-align: justify;\">Correlation analysis is not only useful for Long-Short strategies, but it's also crucial to avoid systemic risk, which is described as the risk of the breakdown of an entire system rather than simply the failure of individual parts. To make it simple, if your portfolio has stocks that are highly correlated, or are all in the same industry, if something happens to that specific industry, all of your stocks may lose market value and it can cause greater financial losses.</p>\n",
        "<br>\n",
        "<p style=\"font-family: Georgia, 'Times New Roman', serif; font-size: 18px; color: #333; text-align: justify;\">Pairplots and correlation matrices are useful tools to visualize correlation among assets. In the correlation matrix, values range between -1 and 1, where -1 represents a perfect negative correlation and 1 represents a perfect positive correlation. Keep in mind that, when assets are positively correlated, they tend to go up and down simultaneously in the market, while the opposite is true for those that are negatively correlated.</p>"
      ],
      "metadata": {
        "id": "bbcQMSUL1Zgk"
      }
    },
    {
      "cell_type": "code",
      "source": [
        "# Merging daily returns into one dataframe\n",
        "merged_df = pd.concat([aapl, tsla, dis, amd], join = 'outer', axis = 1)\n",
        "merged_df.columns = ['aapl', 'tsla', 'dis', 'amd']\n",
        "merged_df # Displaying dataframe"
      ],
      "metadata": {
        "execution": {
          "iopub.status.busy": "2023-03-21T19:42:59.663124Z",
          "iopub.execute_input": "2023-03-21T19:42:59.663552Z",
          "iopub.status.idle": "2023-03-21T19:42:59.6869Z",
          "shell.execute_reply.started": "2023-03-21T19:42:59.663507Z",
          "shell.execute_reply": "2023-03-21T19:42:59.685841Z"
        },
        "trusted": true,
        "id": "GUkE2y7G1Zgk"
      },
      "execution_count": null,
      "outputs": []
    },
    {
      "cell_type": "markdown",
      "source": [
        "<p style=\"font-family: Georgia, 'Times New Roman', serif; font-size: 18px; color: #333; text-align: justify;\">The dataframe above has dates serving as the index and each stock is represented as a column, displaying their respective returns for each specific day. This dataframe will be used to calculate the correlation between these stocks and to create a pairplot visualization.</p>"
      ],
      "metadata": {
        "id": "UH1DFsMN1Zgk"
      }
    },
    {
      "cell_type": "code",
      "source": [
        "# Pairplots\n",
        "sns.pairplot(merged_df, kind = 'reg')\n",
        "plt.show()"
      ],
      "metadata": {
        "execution": {
          "iopub.status.busy": "2023-03-21T19:42:59.688231Z",
          "iopub.execute_input": "2023-03-21T19:42:59.688638Z",
          "iopub.status.idle": "2023-03-21T19:43:07.013756Z",
          "shell.execute_reply.started": "2023-03-21T19:42:59.688606Z",
          "shell.execute_reply": "2023-03-21T19:43:07.012774Z"
        },
        "trusted": true,
        "id": "PAZwvwm41Zgk"
      },
      "execution_count": null,
      "outputs": []
    },
    {
      "cell_type": "code",
      "source": [
        "# Correlation Matrix\n",
        "corr = merged_df.corr()\n",
        "mask = np.zeros_like(corr, dtype=np.bool)\n",
        "mask[np.triu_indices_from(mask)] = True\n",
        "sns.heatmap(corr, annot=True, mask = mask)\n",
        "plt.show()"
      ],
      "metadata": {
        "execution": {
          "iopub.status.busy": "2023-03-21T19:43:07.0154Z",
          "iopub.execute_input": "2023-03-21T19:43:07.015987Z",
          "iopub.status.idle": "2023-03-21T19:43:07.301334Z",
          "shell.execute_reply.started": "2023-03-21T19:43:07.015947Z",
          "shell.execute_reply": "2023-03-21T19:43:07.30017Z"
        },
        "trusted": true,
        "id": "bmpeP3bY1Zgk"
      },
      "execution_count": null,
      "outputs": []
    },
    {
      "cell_type": "markdown",
      "source": [
        "<p style=\"font-family: Georgia, 'Times New Roman', serif; font-size: 18px; color: #333; text-align: justify;\">The stronger correlation among the assets above is between Disney and Apple. However, a correlation of 0.42 is not a strong one.</p>\n",
        "<br>\n",
        "<p style=\"font-family: Georgia, 'Times New Roman', serif; font-size: 18px; color: #333; text-align: justify;\">It's important to note that there is not any negative correlation among the assets above, which indicates that none of them acts to limit losses. In the financial market, a hedge is an investment position intended to offset potential losses by investing in assets that may have a negative correlation with the others in a portfolio. Many investors buy gold to serve as protection for riskier investments, such as stocks, and when the market as a whole goes into a bear market, the gold tends to increase in value, limiting potential losses for the overall portfolio.</p>"
      ],
      "metadata": {
        "id": "n_I0slCz1Zgk"
      }
    },
    {
      "cell_type": "markdown",
      "source": [
        "<h2 id='beta-alpha' style=\"font-family: 'Cambria', Georgia, serif; font-weight: bold; margin-bottom: 20px; text-align: left; letter-spacing: 1px;\">Beta and Alpha</h2>"
      ],
      "metadata": {
        "id": "wJaYpQOL1Zgk"
      }
    },
    {
      "cell_type": "markdown",
      "source": [
        "<p style=\"font-family: Georgia, 'Times New Roman', serif; font-size: 18px; color: #333; text-align: justify;\">Beta and Alpha are two key metrics used in finance to evaluate the performance of a stock relative to the overall market. Beta is a measure of a stock's volatility compared to the market. A Beta of 1 means that the stock is as volatile as the market, a Beta greater than 1 indicates higher volatility than the market, and a Beta less than 1 suggests lower volatility.</p>\n",
        "<br>\n",
        "<p style=\"font-family: Georgia, 'Times New Roman', serif; font-size: 18px; color: #333; text-align: justify;\">Alpha, on the other hand, is a measurement of a stock's excess return relative to its expected performance based on its Beta. A positive Alpha indicates that a stock has outperformed its expected performance based on its Beta, while a negative Alpha suggests underperformance. By analyzing the Beta and Alpha values of stocks, investors can get a better understanding of the risk and potential returns of the stock compared to the market, and make informed investment decisions accordingly.</p>\n",
        "<br>\n",
        "<p style=\"font-family: Georgia, 'Times New Roman', serif; font-size: 18px; color: #333; text-align: justify;\">To determine Beta and Alpha, we require data from the SP500, which acts as the benchmark, to fit a linear regression model between the stocks and the index. This will enable us to extract the Beta and Alpha values of the stocks.</p>"
      ],
      "metadata": {
        "id": "DVV4JUpG1Zgl"
      }
    },
    {
      "cell_type": "markdown",
      "source": [
        "<p style=\"font-family: Georgia, 'Times New Roman', serif; font-size: 18px; color: #333; text-align: justify;\">Let's then load data on the SP500:</p>"
      ],
      "metadata": {
        "id": "PtCDDMuF1Zgl"
      }
    },
    {
      "cell_type": "code",
      "source": [
        "# Loading data from the SP500, the american benchmark\n",
        "sp500 = qs.utils.download_returns('^GSPC')\n",
        "sp500 = sp500.loc['2010-07-01':'2023-02-10']\n",
        "sp500.index = sp500.index.tz_convert(None)\n",
        "sp500"
      ],
      "metadata": {
        "execution": {
          "iopub.status.busy": "2023-03-21T19:43:07.303058Z",
          "iopub.execute_input": "2023-03-21T19:43:07.303897Z",
          "iopub.status.idle": "2023-03-21T19:43:07.970717Z",
          "shell.execute_reply.started": "2023-03-21T19:43:07.30385Z",
          "shell.execute_reply": "2023-03-21T19:43:07.969313Z"
        },
        "trusted": true,
        "id": "692chVMt1Zgl"
      },
      "execution_count": null,
      "outputs": []
    },
    {
      "cell_type": "code",
      "source": [
        "# Removing indexes\n",
        "sp500_no_index = sp500.reset_index(drop = True)\n",
        "aapl_no_index = aapl.reset_index(drop = True)\n",
        "tsla_no_index = tsla.reset_index(drop = True)\n",
        "dis_no_index = dis.reset_index(drop = True)\n",
        "amd_no_index = amd.reset_index(drop = True)"
      ],
      "metadata": {
        "execution": {
          "iopub.status.busy": "2023-03-21T19:43:07.972339Z",
          "iopub.execute_input": "2023-03-21T19:43:07.972772Z",
          "iopub.status.idle": "2023-03-21T19:43:07.980218Z",
          "shell.execute_reply.started": "2023-03-21T19:43:07.972731Z",
          "shell.execute_reply": "2023-03-21T19:43:07.978874Z"
        },
        "trusted": true,
        "id": "IX85mExe1Zgl"
      },
      "execution_count": null,
      "outputs": []
    },
    {
      "cell_type": "code",
      "source": [
        "sp500_no_index # Daily returns for the SP500"
      ],
      "metadata": {
        "execution": {
          "iopub.status.busy": "2023-03-21T19:43:07.982239Z",
          "iopub.execute_input": "2023-03-21T19:43:07.982729Z",
          "iopub.status.idle": "2023-03-21T19:43:07.993905Z",
          "shell.execute_reply.started": "2023-03-21T19:43:07.982685Z",
          "shell.execute_reply": "2023-03-21T19:43:07.99261Z"
        },
        "trusted": true,
        "id": "xpRlFwdu1Zgl"
      },
      "execution_count": null,
      "outputs": []
    },
    {
      "cell_type": "code",
      "source": [
        "aapl_no_index # Daily returns for Apple stocks without index"
      ],
      "metadata": {
        "execution": {
          "iopub.status.busy": "2023-03-21T19:43:07.995558Z",
          "iopub.execute_input": "2023-03-21T19:43:07.995992Z",
          "iopub.status.idle": "2023-03-21T19:43:08.004704Z",
          "shell.execute_reply.started": "2023-03-21T19:43:07.995958Z",
          "shell.execute_reply": "2023-03-21T19:43:08.00354Z"
        },
        "trusted": true,
        "id": "uIIOOJdi1Zgl"
      },
      "execution_count": null,
      "outputs": []
    },
    {
      "cell_type": "markdown",
      "source": [
        "<p style=\"font-family: Georgia, 'Times New Roman', serif; font-size: 18px; color: #333; text-align: justify;\">We can use the Scikit-Learn's Linear Regression model to extract Beta and Alpha from the analyzed stocks.</p>"
      ],
      "metadata": {
        "id": "jDI9zrmm1Zgl"
      }
    },
    {
      "cell_type": "code",
      "source": [
        "# Fitting linear relation among Apple's returns and Benchmark\n",
        "X = sp500_no_index.values.reshape(-1,1)\n",
        "y = aapl_no_index.values.reshape(-1,1)\n",
        "\n",
        "linreg = LinearRegression().fit(X, y)\n",
        "\n",
        "beta = linreg.coef_[0]\n",
        "alpha = linreg.intercept_\n",
        "print('\\n')\n",
        "print('AAPL beta: ', beta.round(3))\n",
        "print('\\nAAPL alpha: ', alpha.round(3))"
      ],
      "metadata": {
        "execution": {
          "iopub.status.busy": "2023-03-21T19:43:08.006411Z",
          "iopub.execute_input": "2023-03-21T19:43:08.006945Z",
          "iopub.status.idle": "2023-03-21T19:43:08.026258Z",
          "shell.execute_reply.started": "2023-03-21T19:43:08.0069Z",
          "shell.execute_reply": "2023-03-21T19:43:08.024976Z"
        },
        "trusted": true,
        "id": "LImCf6gb1Zgl"
      },
      "execution_count": null,
      "outputs": []
    },
    {
      "cell_type": "code",
      "source": [
        "# Fitting linear relation among Tesla's returns and Benchmark\n",
        "X = sp500_no_index.values.reshape(-1,1)\n",
        "y = tsla_no_index.values.reshape(-1,1)\n",
        "\n",
        "linreg = LinearRegression().fit(X, y)\n",
        "\n",
        "beta = linreg.coef_[0]\n",
        "alpha = linreg.intercept_\n",
        "print('\\n')\n",
        "print('TSLA beta: ', beta.round(3))\n",
        "print('\\nTSLA alpha: ', alpha.round(3))"
      ],
      "metadata": {
        "execution": {
          "iopub.status.busy": "2023-03-21T19:43:08.027858Z",
          "iopub.execute_input": "2023-03-21T19:43:08.028662Z",
          "iopub.status.idle": "2023-03-21T19:43:08.039499Z",
          "shell.execute_reply.started": "2023-03-21T19:43:08.028607Z",
          "shell.execute_reply": "2023-03-21T19:43:08.038255Z"
        },
        "trusted": true,
        "id": "CfZH2_191Zgl"
      },
      "execution_count": null,
      "outputs": []
    },
    {
      "cell_type": "code",
      "source": [
        "# Fitting linear relation among Walt Disney's returns and Benchmark\n",
        "X = sp500_no_index.values.reshape(-1,1)\n",
        "y = dis_no_index.values.reshape(-1,1)\n",
        "\n",
        "linreg = LinearRegression().fit(X, y)\n",
        "\n",
        "beta = linreg.coef_[0]\n",
        "alpha = linreg.intercept_\n",
        "print('\\n')\n",
        "print('Walt Disney Company beta: ', beta.round(3))\n",
        "print('\\nWalt Disney Company alpha: ', alpha.round(4))"
      ],
      "metadata": {
        "execution": {
          "iopub.status.busy": "2023-03-21T19:43:08.04096Z",
          "iopub.execute_input": "2023-03-21T19:43:08.041335Z",
          "iopub.status.idle": "2023-03-21T19:43:08.051898Z",
          "shell.execute_reply.started": "2023-03-21T19:43:08.041304Z",
          "shell.execute_reply": "2023-03-21T19:43:08.050954Z"
        },
        "trusted": true,
        "id": "es8UYgPZ1Zgl"
      },
      "execution_count": null,
      "outputs": []
    },
    {
      "cell_type": "code",
      "source": [
        "# Fitting linear relation among AMD's returns and Benchmark\n",
        "X = sp500_no_index.values.reshape(-1,1)\n",
        "y = amd_no_index.values.reshape(-1,1)\n",
        "\n",
        "linreg = LinearRegression().fit(X, y)\n",
        "\n",
        "beta = linreg.coef_[0]\n",
        "alpha = linreg.intercept_\n",
        "print('\\n')\n",
        "print('AMD beta: ', beta.round(3))\n",
        "print('\\nAMD alpha: ', alpha.round(4))"
      ],
      "metadata": {
        "execution": {
          "iopub.status.busy": "2023-03-21T19:43:08.053703Z",
          "iopub.execute_input": "2023-03-21T19:43:08.054423Z",
          "iopub.status.idle": "2023-03-21T19:43:08.062971Z",
          "shell.execute_reply.started": "2023-03-21T19:43:08.054386Z",
          "shell.execute_reply": "2023-03-21T19:43:08.062096Z"
        },
        "trusted": true,
        "id": "Ve1am2R61Zgl"
      },
      "execution_count": null,
      "outputs": []
    },
    {
      "cell_type": "markdown",
      "source": [
        "<p style=\"font-family: Georgia, 'Times New Roman', serif; font-size: 18px; color: #333; text-align: justify;\">Beta values for all the stocks are greater than 1, meaning that they are more volatile than the benchmark and may offer higher returns, but also come with greater risks. On the other hand, the alpha values for all the stocks are small, close to zero, suggesting that there is little difference between the expected returns and the risk-adjusted returns.</p>"
      ],
      "metadata": {
        "id": "nh6bI0AH1Zgl"
      }
    },
    {
      "cell_type": "markdown",
      "source": [
        "<h2 id= 'sharpe-ratio' style=\"font-family: 'Cambria', Georgia, serif; font-weight: bold; margin-bottom: 20px; text-align: left; letter-spacing: 1px;\">Sharpe Ratio</h2>"
      ],
      "metadata": {
        "id": "tyEYTFTO1Zgl"
      }
    },
    {
      "cell_type": "markdown",
      "source": [
        "<p style=\"font-family: Georgia, 'Times New Roman', serif; font-size: 18px; color: #333; text-align: justify;\">The Sharpe ratio is a measure of the risk-adjusted return of an investment. It is calculated by dividing the average excess return of the investment over the standard deviation of the returns, as shown by the following equation:</p>\n",
        "<br><br>\n",
        "<div style=\"display: flex; justify-content: center;\">\n",
        "  <center><img src=\"https://latex.codecogs.com/png.image?\\dpi{150}&space;\\bg_white&space;\\text{Sharpe&space;ratio}&space;=&space;\\frac{R_p&space;-&space;R_f}{\\sigma_p}\" title=\"\\text{Sharpe ratio} = \\frac{R_p - R_f}{\\sigma_p}\" /></center>\n",
        "</div>\n",
        "<br><br>\n",
        "<p style=\"font-family: Georgia, 'Times New Roman', serif; font-size: 18px; color: #333; text-align: justify;\">where <b><i>R<sub>p</sub></i></b> is the average return of the investment, <i><b>R<sub>f</sub></b></i> is the risk-free rate of return, and <i><b>σ<sub>p</sub></b></i> is the standard deviation of the returns. The average excess return is the difference between the average return of the investment and the risk-free rate of return, typically represented by a government bond. The standard deviation is a measurement of the volatility of returns.</p>\n",
        "<br>\n",
        "<p style=\"font-family: Georgia, 'Times New Roman', serif; font-size: 18px; color: #333; text-align: justify;\">A higher Sharpe ratio indicates that an investment provides higher returns for a given level of risk compared to other investments with a lower Sharpe ratio. In general, a Sharpe ratio greater than 1 is considered good, while a Sharpe ratio less than 1 is considered poor. A Sharpe ratio of 1 means that the investment's average return is equal to the risk-free rate of return.</p>\n",
        "<br>\n",
        "<p style=\"font-family: Georgia, 'Times New Roman', serif; font-size: 18px; color: #333; text-align: justify;\">In general, a Sharpe ratio under 1.0 is considered bad, equal to 1.0 is considered acceptable or good, 2.0 or higher is rated as very good, and 3.0 or higher is considered excellent.</p>"
      ],
      "metadata": {
        "id": "CFWSgdm_1Zgm"
      }
    },
    {
      "cell_type": "code",
      "source": [
        "# Calculating Sharpe ratio\n",
        "print('\\n')\n",
        "print(\"Sharpe Ratio for AAPL: \", qs.stats.sharpe(aapl).round(2))\n",
        "print('\\n')\n",
        "print(\"Sharpe Ratio for TSLA: \", qs.stats.sharpe(tsla).round(2))\n",
        "print('\\n')\n",
        "print(\"Sharpe Ratio for DIS: \", qs.stats.sharpe(dis).round(2))\n",
        "print('\\n')\n",
        "print(\"Sharpe Ratio for AMD: \", qs.stats.sharpe(amd).round(2))\n"
      ],
      "metadata": {
        "execution": {
          "iopub.status.busy": "2023-03-21T19:43:08.064691Z",
          "iopub.execute_input": "2023-03-21T19:43:08.065317Z",
          "iopub.status.idle": "2023-03-21T19:43:08.185305Z",
          "shell.execute_reply.started": "2023-03-21T19:43:08.065284Z",
          "shell.execute_reply": "2023-03-21T19:43:08.184051Z"
        },
        "trusted": true,
        "id": "e98OIJnt1Zgm"
      },
      "execution_count": null,
      "outputs": []
    },
    {
      "cell_type": "markdown",
      "source": [
        "<p style=\"font-family: Georgia, 'Times New Roman', serif; font-size: 18px; color: #333; text-align: justify;\">Apple and Tesla have the highest Sharpe ratios among the stocks analyzed, 0.97 and 0.95, respectively, indicating that these investments offer a better risk-return relationship. However, none of the stocks have a Sharp ratio above 1, which may suggest that these investments' average returns are beneath the risk-free rate of return.</p>\n",
        "<br>\n",
        "<p style=\"font-family: Georgia, 'Times New Roman', serif; font-size: 18px; color: #333; text-align: justify;\">It's important to note that the Sharpe ratio is an annual metric and, since the beginning of 2022, the market, in general, has been bearish, with prices going down over the past year.</p>"
      ],
      "metadata": {
        "id": "46TkqbSv1Zgm"
      }
    },
    {
      "cell_type": "markdown",
      "source": [
        "<h2 id = 'initial-conclusions' style=\"font-family: 'Cambria', Georgia, serif; font-weight: bold; margin-bottom: 20px; text-align: left; letter-spacing: 1px;\">Initial Conclusions</h2>\n",
        "<br>\n",
        "<p style=\"font-family: Georgia, 'Times New Roman', serif; font-size: 18px; color: #333; text-align: justify;\">Some initial conclusions can be drawn via the analysis of the metrics above:</p>\n",
        "<br>\n",
        "<p style=\"font-family: Georgia, 'Times New Roman', serif; font-size: 18px; color: #333; text-align: justify;\">. Apple and Tesla have the best Sharpe ratios, which indicates a better risk-return relationship;</p>\n",
        "<br>\n",
        "<p style=\"font-family: Georgia, 'Times New Roman', serif; font-size: 18px; color: #333; text-align: justify;\">. Tesla has the highest returns of them all, but it's also more volatile than Apple and Disney;</p>\n",
        "<br>\n",
        "<p style=\"font-family: Georgia, 'Times New Roman', serif; font-size: 18px; color: #333; text-align: justify;\">. Apple has higher returns and low volatility compared to the other assets. It has the best Sharpe ratio, low beta, low standard deviation, and low asymmetry of returns;</p>\n",
        "<br>\n",
        "<p style=\"font-family: Georgia, 'Times New Roman', serif; font-size: 18px; color: #333; text-align: justify;\">. AMD is the riskier and more volatile investment option of the four. Its returns distribution is highly asymmetric, it has a high standard deviation value and high beta;</p>\n",
        "<br>\n",
        "<p style=\"font-family: Georgia, 'Times New Roman', serif; font-size: 18px; color: #333; text-align: justify;\">. Disney stocks may be a good option for investors that are sensitive to risk, considering they had a steady and stable return over the period.</p>\n",
        "<br>\n",
        "<p style=\"font-family: Georgia, 'Times New Roman', serif; font-size: 18px; color: #333; text-align: justify;\">It's possible to say that, from all the assets analyzed, Apple offers the best risk-return relationship, with high rentability and lower risk than the other options. </p>\n",
        "<br>"
      ],
      "metadata": {
        "id": "_mhjlHxA1Zgm"
      }
    },
    {
      "cell_type": "markdown",
      "source": [
        "<h1 id = \"building-portfolio\" style=\"font-family: 'Cambria', Georgia, serif; font-weight: bold; border-bottom: 3px solid #000; padding: 8px; margin-bottom: 20px; text-align: left; letter-spacing: 1px;\">2 | Building and Optimizing Portfolios </h1>"
      ],
      "metadata": {
        "id": "KHh443uh1Zgm"
      }
    },
    {
      "cell_type": "markdown",
      "source": [
        "<h2 id = 'what-is-portfolio' style=\"font-family: 'Cambria', Georgia, serif; font-weight: bold; margin-bottom: 20px; text-align: left; letter-spacing: 1px;\">What is a Portfolio?</h2>"
      ],
      "metadata": {
        "id": "pRWZGGMV1Zgm"
      }
    },
    {
      "cell_type": "markdown",
      "source": [
        "<p style=\"font-family: Georgia, 'Times New Roman', serif; font-size: 18px; color: #333; text-align: justify;\">A portfolio in financial markets is a collection of financial assets, such as stocks, bonds, commodities, and other investments, held by an individual or institution. Portfolios provide investors with a way to diversify their investments, manage risk, and increase returns.</p>\n",
        "<br>\n",
        "<p style=\"font-family: Georgia, 'Times New Roman', serif; font-size: 18px; color: #333; text-align: justify;\">To build a portfolio, investors must select a combination of assets that are expected to perform well under different economic and market conditions. The allocation of funds to each asset is determined by the investor's risk tolerance and investment goals. This process involves analyzing the investor's financial situation, objectives, time horizon, and risk tolerance, as well as researching and analyzing individual securities and market trends. Portfolios are dynamic and should be reviewed and adjusted periodically to reflect changes in market conditions and in the investor's financial situation, or goals.</p>\n",
        "<br>\n",
        "<p style=\"font-family: Georgia, 'Times New Roman', serif; font-size: 18px; color: #333; text-align: justify;\">The weights in a portfolio refer to the percentage of the total value allocated to each individual asset. Allocating weights is a critical aspect of portfolio building because it determines the level of risk and return characteristics of the portfolio. The weight assigned to an asset reflects the investor's confidence in the asset's ability to generate returns and their willingness to accept its associated risk. Weights can be determined by analyzing an asset's historical performance, future growth prospects, sector exposure, and diversification benefits. Portfolio managers may use various techniques, such as modern portfolio theory and factor-based investing, to determine optimal weightings. Getting the weightings right is crucial to achieving the desired outcomes and is a key factor in the success of any investment strategy.</p>"
      ],
      "metadata": {
        "id": "EpQTXrIO1Zgm"
      }
    },
    {
      "cell_type": "markdown",
      "source": [
        "<p style=\"font-family: Georgia, 'Times New Roman', serif; font-size: 18px; color: #333; text-align: justify;\">To start exploring portfolio construction and optimization, we ought to build a portfolio consisting of the four stocks that have been analyzed so far, with an initial weighting of 25% each.</p>"
      ],
      "metadata": {
        "id": "v8Axf7YS1Zgm"
      }
    },
    {
      "cell_type": "code",
      "source": [
        "weights = [0.25, 0.25, 0.25, 0.25] # Defining weights for each stock\n",
        "portfolio = aapl*weights[0] + tsla*weights[1] + dis*weights[2] + amd*weights[3] # Creating portfolio multiplying each stock for its respective weight\n",
        "portfolio # Displaying portfolio's daily returns"
      ],
      "metadata": {
        "execution": {
          "iopub.status.busy": "2023-03-21T19:43:08.187122Z",
          "iopub.execute_input": "2023-03-21T19:43:08.187882Z",
          "iopub.status.idle": "2023-03-21T19:43:08.20109Z",
          "shell.execute_reply.started": "2023-03-21T19:43:08.187831Z",
          "shell.execute_reply": "2023-03-21T19:43:08.199856Z"
        },
        "trusted": true,
        "id": "P3I8CEbw1Zgm"
      },
      "execution_count": null,
      "outputs": []
    },
    {
      "cell_type": "markdown",
      "source": [
        "<p style=\"font-family: Georgia, 'Times New Roman', serif; font-size: 18px; color: #333; text-align: justify;\">With Quantstats you can easily create a report to compare the portfolio's performance and its level of risk with a benchmark, which in this case is the SP500. The platform provides various metrics and useful visualizations to analyze the portfolio's performance and risk.</p>"
      ],
      "metadata": {
        "id": "LG8x3WgS1Zgm"
      }
    },
    {
      "cell_type": "code",
      "source": [
        "# Generating report on portfolio performance from July 1st, 2010 to February 10th, 2023\n",
        "qs.reports.full(portfolio, benchmark = sp500)"
      ],
      "metadata": {
        "execution": {
          "iopub.status.busy": "2023-03-21T19:43:08.203096Z",
          "iopub.execute_input": "2023-03-21T19:43:08.203627Z",
          "iopub.status.idle": "2023-03-21T19:43:20.11604Z",
          "shell.execute_reply.started": "2023-03-21T19:43:08.203555Z",
          "shell.execute_reply": "2023-03-21T19:43:20.114797Z"
        },
        "trusted": true,
        "id": "0TtSXkH11Zgn"
      },
      "execution_count": null,
      "outputs": []
    },
    {
      "cell_type": "markdown",
      "source": [
        "<p style=\"font-family: Georgia, 'Times New Roman', serif; font-size: 18px; color: #333; text-align: justify;\">We have a range of metrics and plots available to look at. Firstly, the Cumulative Return of the portfolio is higher than the benchmark, at 3,429.9% compared to 296.86% for the SP500. The Sharpe Ratio and Sortino Ratio of the portfolio are also higher, indicating that it generates better returns for the level of risk taken. In addition, the portfolio has higher expected daily, monthly and annual returns than the SP500, and its best day, month, and year outperforms the benchmark's best day, month, and year.</p>\n",
        "<br>\n",
        "<p style=\"font-family: Georgia, 'Times New Roman', serif; font-size: 18px; color: #333; text-align: justify;\">However, the portfolio's maximum drawdown is greater than the benchmark, at -52.21% compared to -33.92%. This indicates that the portfolio has experienced larger losses at times than the benchmark. The annualized volatility of the portfolio is also higher, at around 30.59% compared to the benchmark's 17.96%.</p>\n",
        "<br>\n",
        "<p style=\"font-family: Georgia, 'Times New Roman', serif; font-size: 18px; color: #333; text-align: justify;\">While the portfolio has higher returns on its best day, month, and year, it also has bigger losses on its worst day, month, and year compared to the benchmark. The beta of 1.28 shows that the portfolio is about 28% more volatile than the overall market, and its 73.94% correlation indicates a strong positive relationship among the four stocks, suggesting that they tend to move in the same direction, which could increase the systemic risk of the portfolio.</p>\n",
        "<br>\n",
        "<p style=\"font-family: Georgia, 'Times New Roman', serif; font-size: 18px; color: #333; text-align: justify;\">Overall, the portfolio has generated impressive returns, but it also comes with a higher degree of risk and volatility. This prompts the question of whether or not it's possible to optimize the portfolio to reduce risk and volatility while also increasing returns.</p>"
      ],
      "metadata": {
        "id": "uS4ANKus1Zgn"
      }
    },
    {
      "cell_type": "markdown",
      "source": [
        "<h2 id='optimizing-portfolio' style=\"font-family: 'Cambria', Georgia, serif; font-weight: bold; margin-bottom: 20px; text-align: left; letter-spacing: 1px;\">Optimizing Portfolio</h2>"
      ],
      "metadata": {
        "id": "i4-A66PV1Zgn"
      }
    },
    {
      "cell_type": "markdown",
      "source": [
        "<p style=\"font-family: Georgia, 'Times New Roman', serif; font-size: 18px; color: #333; text-align: justify;\">Portfolio optimization is the process of selecting the optimal combination of assets and weights to maximize returns and minimize risk. This process involves selecting the most appropriate weights for each asset,by taking into account the historical performance of the assets, their correlations with each other, and other relevant factors such as market conditions and economic outlook. The main goal is to create a well-diversified portfolio that balances risk and returns, and that aligns with the investor's risk tolerance.</p>\n",
        "<br>\n",
        "<p style=\"font-family: Georgia, 'Times New Roman', serif; font-size: 18px; color: #333; text-align: justify;\">In Python, PyPortfolioOpt is a very useful library for portfolio optimization, providing an efficient and easy-to-use toolset for constructing optimal portfolios, with a wide range of optimization algorithms and methods available. These include modern portfolio theory, minimum variance portfolio, maximum diversification portfolio, Black-Litterman optimization, and many more.</p>"
      ],
      "metadata": {
        "id": "btWBXwyS1Zgn"
      }
    },
    {
      "cell_type": "markdown",
      "source": [
        "<p style=\"font-family: Georgia, 'Times New Roman', serif; font-size: 18px; color: #333; text-align: justify;\">To start the optimization process, we must have a pandas dataframe containing the adjusted closing prices of the stocks, with dates as index, and each columns representing each stock. This dataframe will serve as input to optimize the weighting of the stocks in the portfolio</p>"
      ],
      "metadata": {
        "id": "CTT2jnIV1Zgn"
      }
    },
    {
      "cell_type": "code",
      "source": [
        "# Getting dataframes info for Stocks using yfinance\n",
        "aapl_df = yf.download('AAPL', start = '2010-07-01', end = '2023-02-11')\n",
        "tsla_df = yf.download('TSLA', start = '2010-07-01', end = '2023-02-11')\n",
        "dis_df = yf.download('DIS', start = '2010-07-01', end = '2023-02-11')\n",
        "amd_df = yf.download('AMD', start = '2010-07-01', end = '2023-02-11')"
      ],
      "metadata": {
        "execution": {
          "iopub.status.busy": "2023-03-21T19:43:20.117917Z",
          "iopub.execute_input": "2023-03-21T19:43:20.118356Z",
          "iopub.status.idle": "2023-03-21T19:43:21.376898Z",
          "shell.execute_reply.started": "2023-03-21T19:43:20.118313Z",
          "shell.execute_reply": "2023-03-21T19:43:21.375658Z"
        },
        "trusted": true,
        "id": "YsSuzNzs1Zgn"
      },
      "execution_count": null,
      "outputs": []
    },
    {
      "cell_type": "code",
      "source": [
        "# Extracting Adjusted Close for each stock\n",
        "aapl_df = aapl_df['Adj Close']\n",
        "tsla_df = tsla_df['Adj Close']\n",
        "dis_df = dis_df['Adj Close']\n",
        "amd_df = amd_df['Adj Close']"
      ],
      "metadata": {
        "execution": {
          "iopub.status.busy": "2023-03-21T19:43:21.3785Z",
          "iopub.execute_input": "2023-03-21T19:43:21.379295Z",
          "iopub.status.idle": "2023-03-21T19:43:21.386575Z",
          "shell.execute_reply.started": "2023-03-21T19:43:21.379248Z",
          "shell.execute_reply": "2023-03-21T19:43:21.385374Z"
        },
        "trusted": true,
        "id": "GgHh1v_11Zgn"
      },
      "execution_count": null,
      "outputs": []
    },
    {
      "cell_type": "code",
      "source": [
        "# Merging and creating an Adj Close dataframe for stocks\n",
        "df = pd.concat([aapl_df, tsla_df, dis_df, amd_df], join = 'outer', axis = 1)\n",
        "df.columns = ['aapl', 'tsla', 'dis', 'amd']\n",
        "df # Visualizing dataframe for input"
      ],
      "metadata": {
        "execution": {
          "iopub.status.busy": "2023-03-21T19:43:21.388276Z",
          "iopub.execute_input": "2023-03-21T19:43:21.388704Z",
          "iopub.status.idle": "2023-03-21T19:43:21.410314Z",
          "shell.execute_reply.started": "2023-03-21T19:43:21.388668Z",
          "shell.execute_reply": "2023-03-21T19:43:21.408983Z"
        },
        "trusted": true,
        "id": "eF1F40e61Zgn"
      },
      "execution_count": null,
      "outputs": []
    },
    {
      "cell_type": "markdown",
      "source": [
        "<p style=\"font-family: Georgia, 'Times New Roman', serif; font-size: 18px; color: #333; text-align: justify;\">The dataframe above will be used as input for the algorithms to optimize the portfolio</p>"
      ],
      "metadata": {
        "id": "eJa3La3s1Zgn"
      }
    },
    {
      "cell_type": "code",
      "source": [
        "# Importing libraries for portfolio optimization\n",
        "from pypfopt.efficient_frontier import EfficientFrontier\n",
        "from pypfopt import risk_models\n",
        "from pypfopt import expected_returns"
      ],
      "metadata": {
        "execution": {
          "iopub.status.busy": "2023-03-21T19:43:21.412017Z",
          "iopub.execute_input": "2023-03-21T19:43:21.413273Z",
          "iopub.status.idle": "2023-03-21T19:43:21.418743Z",
          "shell.execute_reply.started": "2023-03-21T19:43:21.413234Z",
          "shell.execute_reply": "2023-03-21T19:43:21.417482Z"
        },
        "trusted": true,
        "id": "kIegt0Af1Zgn"
      },
      "execution_count": null,
      "outputs": []
    },
    {
      "cell_type": "markdown",
      "source": [
        "<h2 id = 'markowitz' style=\"font-family: 'Cambria', Georgia, serif; font-weight: bold; margin-bottom: 20px; text-align: left; letter-spacing: 1px;\">Markowitz Mean-Variance Optimization Model</h2>"
      ],
      "metadata": {
        "id": "awfRpzlW1Zgn"
      }
    },
    {
      "cell_type": "markdown",
      "source": [
        "<p style=\"font-family: Georgia, 'Times New Roman', serif; font-size: 18px; color: #333; text-align: justify;\">The Markowitz Mean-Variance Optimization Model is a widely-used framework for constructing portfolios with the best risk-return relationship. It is based on the idea that investors should maximize the expected return of a portfolio while minimizing its risk.</p>\n",
        "<br>\n",
        "<p style=\"font-family: Georgia, 'Times New Roman', serif; font-size: 18px; color: #333; text-align: justify;\">PyPortfolioOpt simplifies the implementation of the Markowitz Mean-Variance Optimization Model, allowing investors to easily determine how to allocate weights across a portfolio for maximal Sharpe ratio, besides many other different objectives according to each investor's risk tolerance and goals.</p>\n",
        "<br>\n",
        "<p style=\"font-family: Georgia, 'Times New Roman', serif; font-size: 18px; color: #333; text-align: justify;\">There are two key requirements for mean-variance optimization: </p>\n",
        "<br>\n",
        "<p style=\"font-family: Georgia, 'Times New Roman', serif; font-size: 18px; color: #333; text-align: justify;\">First, we need to have expected returns for each of the assets in the portfolio. PyPortfolioOpt provides the <i>expected_returns</i> module, which calculates expected returns for the assets by computing the arithmetic mean of their daily percentage changes. The module assumes that daily prices are available as input and produces expected annual returns as output. More information on this topic is available <a href = \"https://pyportfolioopt.readthedocs.io/en/latest/ExpectedReturns.html\">here</a>.</p>\n",
        "<br>\n",
        "<p style=\"font-family: Georgia, 'Times New Roman', serif; font-size: 18px; color: #333; text-align: justify;\">Secondly, we need to choose a risk model that quantifies the level of risk in each asset. The most commonly used risk model is the covariance matrix, which describes the volatilities of assets and the degree to which they are co-dependent. Choosing an appropriate risk model is critical, because it can help to reduce risk by making many uncorrelated bets. PyPortfolioOpt offers a range of risk models to choose from, including the annualized sample covariance matrix of daily returns, semicovariance matrix, and exponentially-weighted covariance matrix. Further information on risk models can be found <a href = \"https://pyportfolioopt.readthedocs.io/en/latest/RiskModels.html#risk-models\">here</a></p>."
      ],
      "metadata": {
        "id": "npVK46-U1Zgn"
      }
    },
    {
      "cell_type": "code",
      "source": [
        "# Calculating the annualized expected returns and the annualized sample covariance matrix\n",
        "mu = expected_returns.mean_historical_return(df) #expected returns\n",
        "S = risk_models.sample_cov(df) #Covariance matrix"
      ],
      "metadata": {
        "execution": {
          "iopub.status.busy": "2023-03-21T19:43:21.420112Z",
          "iopub.execute_input": "2023-03-21T19:43:21.420492Z",
          "iopub.status.idle": "2023-03-21T19:43:21.437877Z",
          "shell.execute_reply.started": "2023-03-21T19:43:21.420458Z",
          "shell.execute_reply": "2023-03-21T19:43:21.43664Z"
        },
        "trusted": true,
        "id": "P1bYx9n11Zgn"
      },
      "execution_count": null,
      "outputs": []
    },
    {
      "cell_type": "code",
      "source": [
        "# Visualizing the annualized expected returns\n",
        "mu"
      ],
      "metadata": {
        "execution": {
          "iopub.status.busy": "2023-03-21T19:43:21.440892Z",
          "iopub.execute_input": "2023-03-21T19:43:21.441356Z",
          "iopub.status.idle": "2023-03-21T19:43:21.451015Z",
          "shell.execute_reply.started": "2023-03-21T19:43:21.44131Z",
          "shell.execute_reply": "2023-03-21T19:43:21.449598Z"
        },
        "trusted": true,
        "id": "wJwYdrgk1Zgn"
      },
      "execution_count": null,
      "outputs": []
    },
    {
      "cell_type": "code",
      "source": [
        "# Visualizing the covariance matrix\n",
        "S"
      ],
      "metadata": {
        "execution": {
          "iopub.status.busy": "2023-03-21T19:43:21.452766Z",
          "iopub.execute_input": "2023-03-21T19:43:21.453402Z",
          "iopub.status.idle": "2023-03-21T19:43:21.465558Z",
          "shell.execute_reply.started": "2023-03-21T19:43:21.453364Z",
          "shell.execute_reply": "2023-03-21T19:43:21.464677Z"
        },
        "trusted": true,
        "id": "pgMXeCGk1Zgo"
      },
      "execution_count": null,
      "outputs": []
    },
    {
      "cell_type": "markdown",
      "source": [
        "<p style=\"font-family: Georgia, 'Times New Roman', serif; font-size: 18px; color: #333; text-align: justify;\">Now that we have estimated the expected returns and the covariance matrix, we can use these inputs for portfolio optimization.</p>\n",
        "<br>\n",
        "<p style=\"font-family: Georgia, 'Times New Roman', serif; font-size: 18px; color: #333; text-align: justify;\">The PyPortfolioOpt library provides the EfficientFrontier class, which takes the covariance matrix and expected returns as inputs. The weights variable stores the optimized weights for each asset based on the specified objective, which in this case is the maximization of the Sharpe ratio, achieved by using the <i>max_sharpe</i> method.</p>\n",
        "<br>\n",
        "<p style=\"font-family: Georgia, 'Times New Roman', serif; font-size: 18px; color: #333; text-align: justify;\">PyPortfolioOpt offers various other optimization objectives, such as weights optimized for minimum volatility, maximum returns for a given target risk, maximum quadratic utility, and many others. To read more on optimization objectives, <a href = \"https://pyportfolioopt.readthedocs.io/en/latest/MeanVariance.html\">click here</a>."
      ],
      "metadata": {
        "id": "FXakZJef1Zgo"
      }
    },
    {
      "cell_type": "code",
      "source": [
        "# Optimizing for maximal Sharpe ratio\n",
        "ef = EfficientFrontier(mu, S) # Providing expected returns and covariance matrix as input\n",
        "weights = ef.max_sharpe() # Optimizing weights for Sharpe ratio maximization\n",
        "\n",
        "clean_weights = ef.clean_weights() # clean_weights rounds the weights and clips near-zeros\n",
        "\n",
        "# Printing optimized weights and expected performance for portfolio\n",
        "clean_weights"
      ],
      "metadata": {
        "execution": {
          "iopub.status.busy": "2023-03-21T19:43:21.466631Z",
          "iopub.execute_input": "2023-03-21T19:43:21.466972Z",
          "iopub.status.idle": "2023-03-21T19:43:21.496803Z",
          "shell.execute_reply.started": "2023-03-21T19:43:21.466937Z",
          "shell.execute_reply": "2023-03-21T19:43:21.495464Z"
        },
        "trusted": true,
        "id": "6WhkeA_C1Zgo"
      },
      "execution_count": null,
      "outputs": []
    },
    {
      "cell_type": "markdown",
      "source": [
        "<p style=\"font-family: Georgia, 'Times New Roman', serif; font-size: 18px; color: #333; text-align: justify;\">After running the optimizer, it resulted in an optimized weighting for a portfolio where 70.83% of its allocation is invested in Apple stocks, and the remaining 29.17% invested in Tesla stocks. No allocation was made to Disney or AMD.</p>\n",
        "<br>\n",
        "<p style=\"font-family: Georgia, 'Times New Roman', serif; font-size: 18px; color: #333; text-align: justify;\">With the optimized weights in hand, we can construct a new portfolio and use Quantstats to compare its performance to that of the previously constructed portfolio.</p>"
      ],
      "metadata": {
        "id": "In6zW9OB1Zgp"
      }
    },
    {
      "cell_type": "code",
      "source": [
        "# Creating new portfolio with optimized weights\n",
        "new_weights = [0.70828, 0.29172]\n",
        "optimized_portfolio = aapl*new_weights[0] + tsla*new_weights[1]\n",
        "optimized_portfolio # Visualizing daily returns"
      ],
      "metadata": {
        "execution": {
          "iopub.status.busy": "2023-03-21T19:43:21.498354Z",
          "iopub.execute_input": "2023-03-21T19:43:21.498799Z",
          "iopub.status.idle": "2023-03-21T19:43:21.510532Z",
          "shell.execute_reply.started": "2023-03-21T19:43:21.49876Z",
          "shell.execute_reply": "2023-03-21T19:43:21.509169Z"
        },
        "trusted": true,
        "id": "JGq7GXZC1Zgq"
      },
      "execution_count": null,
      "outputs": []
    },
    {
      "cell_type": "code",
      "source": [
        "# Displaying new reports comparing the optimized portfolio to the first portfolio constructed\n",
        "qs.reports.full(optimized_portfolio, benchmark = portfolio)"
      ],
      "metadata": {
        "execution": {
          "iopub.status.busy": "2023-03-21T19:43:21.512047Z",
          "iopub.execute_input": "2023-03-21T19:43:21.51251Z",
          "iopub.status.idle": "2023-03-21T19:43:32.932672Z",
          "shell.execute_reply.started": "2023-03-21T19:43:21.51247Z",
          "shell.execute_reply": "2023-03-21T19:43:32.931661Z"
        },
        "trusted": true,
        "id": "ZEDJgSak1Zgq"
      },
      "execution_count": null,
      "outputs": []
    },
    {
      "cell_type": "markdown",
      "source": [
        "<p style=\"font-family: Georgia, 'Times New Roman', serif; font-size: 18px; color: #333; text-align: justify;\">Based on the report above, the optimized portfolio appears to have performed better than the original portfolio. Here are some key conclusions that can be drawn by looking at the metrics and plots in the report:</p>\n",
        "<br>\n",
        "<p style=\"font-family: Georgia, 'Times New Roman', serif; font-size: 18px; color: #333; text-align: justify;\"><b>. Cumulative Return:</b> The optimized portfolio has generated a significantly higher cumulative return of 4,830.76% compared to 3,429.90% for the original portfolio. This means that the an investment in the optimized portfolio would have provided higher earnings for investors compared to the original portfolio.</p>\n",
        "<br>\n",
        "<p style=\"font-family: Georgia, 'Times New Roman', serif; font-size: 18px; color: #333; text-align: justify;\"><b>. CAGR:</b> The compounded annual growth rate (CAGR) of the optimized portfolio is higher at 36.18% compared to 32.62% for the original portfolio. This suggests that the optimized portfolio has generated a higher rate of return per year over the entire investment period.</p>\n",
        "<br>\n",
        "<p style=\"font-family: Georgia, 'Times New Roman', serif; font-size: 18px; color: #333; text-align: justify;\"><b>. Sharpe Ratio:</b> The optimized portfolio has a slightly higher Sharpe ratio of 1.17 compared to 1.08 for the original portfolio, indicating that it has generated a better risk-adjusted return.</p>\n",
        "<br>\n",
        "<p style=\"font-family: Georgia, 'Times New Roman', serif; font-size: 18px; color: #333; text-align: justify;\"><b>. Drawdown:</b> The maximum drawdown for the optimized portfolio is lower at -45.96% compared to -52.21% for the original portfolio. This means that the optimized portfolio experienced lower losses during the worst period of performance.</p>\n",
        "<br>\n",
        "<p style=\"font-family: Georgia, 'Times New Roman', serif; font-size: 18px; color: #333; text-align: justify;\"><b>. Recovery Factor:</b> The recovery factor for the optimized portfolio is much higher at 105.12 compared to 65.7 for the original portfolio, which suggests that the optimized portfolio was able to recover from drawdowns more quickly and generate higher returns after experiencing losses.</p>\n",
        "<br>\n",
        "<p style=\"font-family: Georgia, 'Times New Roman', serif; font-size: 18px; color: #333; text-align: justify;\"><b>. Win Rates:</b> The optimized portfolio has slightly higher win rates for win days, win months, win quarters, and win years, indicating that it had a higher probability of generating positive returns over these periods.</p>\n",
        "<br>\n",
        "<p style=\"font-family: Georgia, 'Times New Roman', serif; font-size: 18px; color: #333; text-align: justify;\"><b>. Beta:</b> The optimized portfolio's beta of 0.86 indicates that the optimized portfolio is less volatile than the overall market, and much less volatile than the previously built portfolio.</p>\n",
        "<br>\n",
        "<p style=\"font-family: Georgia, 'Times New Roman', serif; font-size: 18px; color: #333; text-align: justify;\"><b>. Annual Volatility:</b> The optimized portfolio has a slightly lower annual volatility than the original portfolio, with 30.52% compared to 30.59%, respectively.</p>"
      ],
      "metadata": {
        "id": "oWa3drCZ1Zgq"
      }
    },
    {
      "cell_type": "markdown",
      "source": [
        "<h2 id = 'black-litterman' style=\"font-family: 'Cambria', Georgia, serif; font-weight: bold; margin-bottom: 20px; text-align: left; letter-spacing: 1px;\">Black-Litterman Allocation Model</h2>"
      ],
      "metadata": {
        "id": "f7xjZTME1Zgq"
      }
    },
    {
      "cell_type": "markdown",
      "source": [
        "<p style=\"font-family: Georgia, 'Times New Roman', serif; font-size: 18px; color: #333; text-align: justify;\">In 1992, Fischer Black and Robert Litterman introduced the Black-Litterman Allocation Model, which takes a Bayesian approach to asset allocation. It combines a prior estimate of returns with the investor's particular views on his/her expected returns to generate an optimal allocation. Multiple sources of information can be used to establish the prior estimate of returns, and the model allows investors to provide a confidence level for their views, which is then used to optimize allocation.</p>\n",
        "<br>\n",
        "<p style=\"font-family: Georgia, 'Times New Roman', serif; font-size: 18px; color: #333; text-align: justify;\">The Black-Litterman formula calculates a weighted average between the prior estimate of returns and the views, with the weighting determined by the level of confidence for each view.</p>"
      ],
      "metadata": {
        "id": "6o42mbA21Zgq"
      }
    },
    {
      "cell_type": "markdown",
      "source": [
        "<p id = 'prior' style=\"font-family: Georgia, 'Times New Roman', serif; font-size: 18px; color: #333; text-align: justify;\"><b>Prior</b></p>\n",
        "<br>\n",
        "<p style=\"font-family: Georgia, 'Times New Roman', serif; font-size: 18px; color: #333; text-align: justify;\">A commonly used approach for determining a prior estimate of returns involves relying on the market's expectations, which are reflected in the asset's market capitalization.</p>\n",
        "<br>\n",
        "<p style=\"font-family: Georgia, 'Times New Roman', serif; font-size: 18px; color: #333; text-align: justify;\">To do this, we first need to estimate the level of risk aversion among market participants, represented by a parameter known as <i><b>delta</b></i>, which we calculate using the closing prices of the SP500. The higher the value for <b>delta</b>, the greater the market's risk aversion.</p>\n",
        "<br>\n",
        "<p style=\"font-family: Georgia, 'Times New Roman', serif; font-size: 18px; color: #333; text-align: justify;\">With this information, we can calculate the prior expected returns for each stock based on its market capitalization,the <i><b>delta</b></i>, and the covariance matrix <i><b>S</b></i>, which we've obtained before optimizing our portfolio with the Markowitz Mean-Variance Model. These prior expected returns gives us a starting point for the expected returns before we incoporate any of our views as investors.</p>"
      ],
      "metadata": {
        "id": "BzcHVE6k1Zgq"
      }
    },
    {
      "cell_type": "markdown",
      "source": [
        "<p id = 'views' style=\"font-family: Georgia, 'Times New Roman', serif; font-size: 18px; color: #333; text-align: justify;\"><b>Views</b></p>\n",
        "<br>\n",
        "<p style=\"font-family: Georgia, 'Times New Roman', serif; font-size: 18px; color: #333; text-align: justify;\">In the Black-Litterman model, investors can express their views as either absolute or relative. Absolute views involve statements like \"APPL will return 10%\", while relative views are represented by statements such as \"AMZN will outperform AMD by 10%\".</p>\n",
        "<br>\n",
        "<p style=\"font-family: Georgia, 'Times New Roman', serif; font-size: 18px; color: #333; text-align: justify;\">These views must be specified in the vector <i><b>Q</b></i> and mapped into each asset via the picking matrix <i><b>P</b></i>.</p>\n",
        "<br>\n",
        "<p style=\"font-family: Georgia, 'Times New Roman', serif; font-size: 18px; color: #333; text-align: justify;\">For instance, let's consider a portfolio with 10 assets:</p>\n",
        "<br>\n",
        "<p style=\"font-family: Georgia, 'Times New Roman', serif; font-size: 18px; color: #333; text-align: justify;\">1. TSLA </p>\n",
        "<br>\n",
        "<p style=\"font-family: Georgia, 'Times New Roman', serif; font-size: 18px; color: #333; text-align: justify;\">2. AAPL </p>\n",
        "<br>\n",
        "<p style=\"font-family: Georgia, 'Times New Roman', serif; font-size: 18px; color: #333; text-align: justify;\">3. NVDA </p>\n",
        "<br>\n",
        "<p style=\"font-family: Georgia, 'Times New Roman', serif; font-size: 18px; color: #333; text-align: justify;\">4. MSFT </p>\n",
        "<br>\n",
        "<p style=\"font-family: Georgia, 'Times New Roman', serif; font-size: 18px; color: #333; text-align: justify;\">5. META </p>\n",
        "<br>\n",
        "<p style=\"font-family: Georgia, 'Times New Roman', serif; font-size: 18px; color: #333; text-align: justify;\">6. AMZN </p>\n",
        "<br>\n",
        "<p style=\"font-family: Georgia, 'Times New Roman', serif; font-size: 18px; color: #333; text-align: justify;\">7. AMD </p>\n",
        "<br>\n",
        "<p style=\"font-family: Georgia, 'Times New Roman', serif; font-size: 18px; color: #333; text-align: justify;\">8. HD </p>\n",
        "<br>\n",
        "<p style=\"font-family: Georgia, 'Times New Roman', serif; font-size: 18px; color: #333; text-align: justify;\">9. GOOGL </p>\n",
        "<br>\n",
        "<p style=\"font-family: Georgia, 'Times New Roman', serif; font-size: 18px; color: #333; text-align: justify;\">10. BRKa </p>\n",
        "<br>\n",
        "<p style=\"font-family: Georgia, 'Times New Roman', serif; font-size: 18px; color: #333; text-align: justify;\">And then consider two absolute views and two relative views, such as:</p>\n",
        "<br>\n",
        "<p style=\"font-family: Georgia, 'Times New Roman', serif; font-size: 18px; color: #333; text-align: justify;\">1. TSLA will raise by 20%</p>\n",
        "<br>\n",
        "<p style=\"font-family: Georgia, 'Times New Roman', serif; font-size: 18px; color: #333; text-align: justify;\">2. APPL will drop by 15%</p>\n",
        "<br>\n",
        "<p style=\"font-family: Georgia, 'Times New Roman', serif; font-size: 18px; color: #333; text-align: justify;\">3. HD will outperform META by 10%</p>\n",
        "<br>\n",
        "<p style=\"font-family: Georgia, 'Times New Roman', serif; font-size: 18px; color: #333; text-align: justify;\">4. GOOGL and BRKa will outperform MSTF and AMZN by 5%</p>\n",
        "<br>\n",
        "<p style=\"font-family: Georgia, 'Times New Roman', serif; font-size: 18px; color: #333; text-align: justify;\">The views vector would be formed by taking the numbers above and specifying them as below:</p>\n",
        "<br>\n",
        "<br>\n",
        "<code><i>Q = np.array([0.20, -0.15, 0.10, 0.05]).reshape(-1,1)</i></code>\n",
        "<br>\n",
        "<br>\n",
        "<br>\n",
        "<br>\n",
        "<p style=\"font-family: Georgia, 'Times New Roman', serif; font-size: 18px; color: #333; text-align: justify;\">The picking matrix would then be used to link the views of the 8 mentioned assets above to the universe of 10 assets, allowing us to propagate our expectations into the model:</p>\n",
        "<br>\n",
        "<br>\n",
        "<br>\n",
        "<code><i>P = np.array([\n",
        "             [1,0,0,0,0,0,0,0,0,0],\n",
        "             [0,1,0,0,0,0,0,0,0,0],\n",
        "             [0,0,0,0,-1,0,0,1,0,0],\n",
        "             [0,0,0,-0.5,0,-0.5,0,0,0.5,0.5],\n",
        "             ])</i></code>\n",
        "<br>             \n",
        "<br>\n",
        "<br>\n",
        "<br>\n",
        "<p style=\"font-family: Georgia, 'Times New Roman', serif; font-size: 18px; color: #333; text-align: justify;\">Absolute views have a single 1 in the column corresponding to the asset's order in the asset universe, while relative views have a positive number in the outperforming asset column, and a negative number in the underperforming asset column. Each row for relative views in <b><i>P</i></b> must sum up to 0, and the order of views in <b><i>Q</i></b> must correspond to the order of rows in <b><i>P</i></b>.</p>"
      ],
      "metadata": {
        "id": "BeO8C14W1Zgq"
      }
    },
    {
      "cell_type": "markdown",
      "source": [
        "<p id = 'confidences' style=\"font-family: Georgia, 'Times New Roman', serif; font-size: 18px; color: #333; text-align: justify;\"><b>Confidences</b></p>\n",
        "<br>\n",
        "<p style=\"font-family: Georgia, 'Times New Roman', serif; font-size: 18px; color: #333; text-align: justify;\">The confidence matrix is used to help to define the allocations in each stock. It can be implemented using the Idzorek's method, allowing investors to specify their confidence level in each of their views as a percentage. The values in the confidence matrix range from 0 to 1, where 0 indicates a low level of confidence in the view, and 1 indicates a high level of confidence.</p>\n",
        "\n",
        "<p style=\"font-family: Georgia, 'Times New Roman', serif; font-size: 18px; color: #333; text-align: justify;\">By using the confidence matrix, investors can better understand the potential impact of their views on their allocations. For example, if an investor has a high level of confidence in their view on a particular asset, they may choose to allocate a larger portion of their portfolio to that asset. On the other hand, if an investor has a low level of confidence in their view, they may choose to allocate a smaller portion of their portfolio or avoid the asset altogether.</p>"
      ],
      "metadata": {
        "id": "h9ECLZE01Zgq"
      }
    },
    {
      "cell_type": "markdown",
      "source": [
        "<p style=\"font-family: Georgia, 'Times New Roman', serif; font-size: 18px; color: #333; text-align: justify;\">For more information on the Black-Litterman Allocation Model, I highly suggest you read this <a href = \"https://pyportfolioopt.readthedocs.io/en/latest/BlackLitterman.html\">session</a> on the PyPortfolioOpt documentation.</p>"
      ],
      "metadata": {
        "id": "GAhdOj1r1Zgq"
      }
    },
    {
      "cell_type": "code",
      "source": [
        "# Mapping assets\n",
        "assets = ['AAPL', 'TSLA', 'DIS', 'AMD']"
      ],
      "metadata": {
        "execution": {
          "iopub.status.busy": "2023-03-21T19:43:32.93403Z",
          "iopub.execute_input": "2023-03-21T19:43:32.93441Z",
          "iopub.status.idle": "2023-03-21T19:43:32.939518Z",
          "shell.execute_reply.started": "2023-03-21T19:43:32.934378Z",
          "shell.execute_reply": "2023-03-21T19:43:32.938391Z"
        },
        "trusted": true,
        "id": "yZ0hfWDy1Zgq"
      },
      "execution_count": null,
      "outputs": []
    },
    {
      "cell_type": "code",
      "source": [
        "# Obtaining market cap for stocks\n",
        "market_caps = data.get_quote_yahoo(assets)['marketCap']\n",
        "market_caps # Visualizing market caps for stocks"
      ],
      "metadata": {
        "execution": {
          "iopub.status.busy": "2023-03-21T19:43:32.941012Z",
          "iopub.execute_input": "2023-03-21T19:43:32.942188Z",
          "iopub.status.idle": "2023-03-21T19:43:33.66234Z",
          "shell.execute_reply.started": "2023-03-21T19:43:32.942141Z",
          "shell.execute_reply": "2023-03-21T19:43:33.661164Z"
        },
        "trusted": true,
        "id": "iMJvl1Xi1Zgr"
      },
      "execution_count": null,
      "outputs": []
    },
    {
      "cell_type": "code",
      "source": [
        "# Obtaining closing prices for the SP500\n",
        "market_prices = yf.download(\"^GSPC\",start = '2010-07-01', end = '2023-02-11')['Adj Close']\n",
        "market_prices # Visualizing closing prices for the SP500"
      ],
      "metadata": {
        "execution": {
          "iopub.status.busy": "2023-03-21T19:43:33.664168Z",
          "iopub.execute_input": "2023-03-21T19:43:33.664579Z",
          "iopub.status.idle": "2023-03-21T19:43:33.87421Z",
          "shell.execute_reply.started": "2023-03-21T19:43:33.664546Z",
          "shell.execute_reply": "2023-03-21T19:43:33.873319Z"
        },
        "trusted": true,
        "id": "bAYUFJ-E1Zgr"
      },
      "execution_count": null,
      "outputs": []
    },
    {
      "cell_type": "code",
      "source": [
        "# Obtaining market-implied risk aversion, the delta\n",
        "delta = black_litterman.market_implied_risk_aversion(market_prices)\n",
        "delta # Visualizing delta"
      ],
      "metadata": {
        "execution": {
          "iopub.status.busy": "2023-03-21T19:43:33.884029Z",
          "iopub.execute_input": "2023-03-21T19:43:33.885135Z",
          "iopub.status.idle": "2023-03-21T19:43:33.893474Z",
          "shell.execute_reply.started": "2023-03-21T19:43:33.885089Z",
          "shell.execute_reply": "2023-03-21T19:43:33.892369Z"
        },
        "trusted": true,
        "id": "bZLKYgoB1Zgr"
      },
      "execution_count": null,
      "outputs": []
    },
    {
      "cell_type": "code",
      "source": [
        "# Visualizing Covariance Matrix\n",
        "S"
      ],
      "metadata": {
        "execution": {
          "iopub.status.busy": "2023-03-21T19:43:33.895035Z",
          "iopub.execute_input": "2023-03-21T19:43:33.895699Z",
          "iopub.status.idle": "2023-03-21T19:43:33.909719Z",
          "shell.execute_reply.started": "2023-03-21T19:43:33.895659Z",
          "shell.execute_reply": "2023-03-21T19:43:33.908442Z"
        },
        "trusted": true,
        "id": "6EP-Ygp81Zgr"
      },
      "execution_count": null,
      "outputs": []
    },
    {
      "cell_type": "code",
      "source": [
        "# Changing columns and index to uppercase so it matches market_caps\n",
        "S.index = S.index.str.upper()\n",
        "S.columns = S.columns.str.upper()\n",
        "S"
      ],
      "metadata": {
        "execution": {
          "iopub.status.busy": "2023-03-21T19:43:33.911059Z",
          "iopub.execute_input": "2023-03-21T19:43:33.91154Z",
          "iopub.status.idle": "2023-03-21T19:43:33.928219Z",
          "shell.execute_reply.started": "2023-03-21T19:43:33.911505Z",
          "shell.execute_reply": "2023-03-21T19:43:33.926884Z"
        },
        "trusted": true,
        "id": "gZYVB9671Zgr"
      },
      "execution_count": null,
      "outputs": []
    },
    {
      "cell_type": "code",
      "source": [
        "# Obtaining Prior estimates\n",
        "prior = black_litterman.market_implied_prior_returns(market_caps, delta, S)\n",
        "prior # Visualizing prior estimates"
      ],
      "metadata": {
        "execution": {
          "iopub.status.busy": "2023-03-21T19:43:33.929972Z",
          "iopub.execute_input": "2023-03-21T19:43:33.933482Z",
          "iopub.status.idle": "2023-03-21T19:43:33.943312Z",
          "shell.execute_reply.started": "2023-03-21T19:43:33.933439Z",
          "shell.execute_reply": "2023-03-21T19:43:33.942092Z"
        },
        "trusted": true,
        "id": "rWDEenJN1Zgr"
      },
      "execution_count": null,
      "outputs": []
    },
    {
      "cell_type": "markdown",
      "source": [
        "<p style=\"font-family: Georgia, 'Times New Roman', serif; font-size: 18px; color: #333; text-align: justify;\">Now that we have our prior estimates for each stock, we can now provide the model our views on these stocks and our confidence levels in our views.</p>"
      ],
      "metadata": {
        "id": "GoXIAuWV1Zgr"
      }
    },
    {
      "cell_type": "code",
      "source": [
        "# APPL will raise by 5%\n",
        "# TSLA will raise by 10%\n",
        "# AMD will outperform Disney by 15%\n",
        "\n",
        "Q = np.array([0.05, 0.10, 0.15])"
      ],
      "metadata": {
        "execution": {
          "iopub.status.busy": "2023-03-21T19:43:33.945066Z",
          "iopub.execute_input": "2023-03-21T19:43:33.946088Z",
          "iopub.status.idle": "2023-03-21T19:43:33.951885Z",
          "shell.execute_reply.started": "2023-03-21T19:43:33.946041Z",
          "shell.execute_reply": "2023-03-21T19:43:33.950765Z"
        },
        "trusted": true,
        "id": "HAQbSWLs1Zgr"
      },
      "execution_count": null,
      "outputs": []
    },
    {
      "cell_type": "code",
      "source": [
        "# Linking views to assets\n",
        "P = np.array([\n",
        "    [1,0,0,0], # APPL = 0.05\n",
        "    [0,1,0,0], # TSLA = 0.10\n",
        "    [0,0,-1,1] # AMD > DIS by 0.15\n",
        "])"
      ],
      "metadata": {
        "execution": {
          "iopub.status.busy": "2023-03-21T19:43:33.953377Z",
          "iopub.execute_input": "2023-03-21T19:43:33.953966Z",
          "iopub.status.idle": "2023-03-21T19:43:33.961714Z",
          "shell.execute_reply.started": "2023-03-21T19:43:33.953921Z",
          "shell.execute_reply": "2023-03-21T19:43:33.960655Z"
        },
        "trusted": true,
        "id": "H0OYENcs1Zgr"
      },
      "execution_count": null,
      "outputs": []
    },
    {
      "cell_type": "code",
      "source": [
        "# Providing confidence levels\n",
        "# Closer to 0.0 = Low confidence\n",
        "# Closer to 1.0 = High confidence\n",
        "confidences = [0.5,\n",
        "               0.4,\n",
        "               0.8]"
      ],
      "metadata": {
        "execution": {
          "iopub.status.busy": "2023-03-21T19:43:33.963339Z",
          "iopub.execute_input": "2023-03-21T19:43:33.963781Z",
          "iopub.status.idle": "2023-03-21T19:43:33.970673Z",
          "shell.execute_reply.started": "2023-03-21T19:43:33.963747Z",
          "shell.execute_reply": "2023-03-21T19:43:33.969826Z"
        },
        "trusted": true,
        "id": "RQ5nuJEa1Zgr"
      },
      "execution_count": null,
      "outputs": []
    },
    {
      "cell_type": "code",
      "source": [
        "# Creating model\n",
        "bl = BlackLittermanModel(S, # Covariance Matrix\n",
        "                         pi = prior, # Prior expected returns\n",
        "                         Q = Q, # Vector of views\n",
        "                         P = P, # Matrix mapping the views\n",
        "                         omega = 'idzorek', # Method to estimate uncertainty level of the views based on historical data\n",
        "                         view_confidences = confidences) # Confidences"
      ],
      "metadata": {
        "execution": {
          "iopub.status.busy": "2023-03-21T19:43:33.972247Z",
          "iopub.execute_input": "2023-03-21T19:43:33.972995Z",
          "iopub.status.idle": "2023-03-21T19:43:33.980301Z",
          "shell.execute_reply.started": "2023-03-21T19:43:33.97295Z",
          "shell.execute_reply": "2023-03-21T19:43:33.979483Z"
        },
        "trusted": true,
        "id": "wrEMvVhb1Zgr"
      },
      "execution_count": null,
      "outputs": []
    },
    {
      "cell_type": "code",
      "source": [
        "rets = bl.bl_returns() # Calculating Expected returns\n",
        "ef = EfficientFrontier(rets, S) # Optimizing asset allocation"
      ],
      "metadata": {
        "execution": {
          "iopub.status.busy": "2023-03-21T19:43:33.981845Z",
          "iopub.execute_input": "2023-03-21T19:43:33.982671Z",
          "iopub.status.idle": "2023-03-21T19:43:33.99173Z",
          "shell.execute_reply.started": "2023-03-21T19:43:33.982616Z",
          "shell.execute_reply": "2023-03-21T19:43:33.990501Z"
        },
        "trusted": true,
        "id": "PDEvehVq1Zgr"
      },
      "execution_count": null,
      "outputs": []
    },
    {
      "cell_type": "code",
      "source": [
        "ef.max_sharpe() # Optimizing weights for maximal Sharpe ratio\n",
        "weights = ef.clean_weights() # Cleaning weights\n",
        "weights # Printing weights"
      ],
      "metadata": {
        "execution": {
          "iopub.status.busy": "2023-03-21T19:43:33.993218Z",
          "iopub.execute_input": "2023-03-21T19:43:33.994552Z",
          "iopub.status.idle": "2023-03-21T19:43:34.017962Z",
          "shell.execute_reply.started": "2023-03-21T19:43:33.994504Z",
          "shell.execute_reply": "2023-03-21T19:43:34.016547Z"
        },
        "trusted": true,
        "id": "Bs2ArtSg1Zgr"
      },
      "execution_count": null,
      "outputs": []
    },
    {
      "cell_type": "code",
      "source": [
        "# Building Black-Litterman portfolio\n",
        "black_litterman_weights = [0.62588,\n",
        "                          0.19951,\n",
        "                          0.016,\n",
        "                          0.15861]\n",
        "black_litterman_portfolio = aapl*black_litterman_weights[0] + tsla*black_litterman_weights[1] + dis*black_litterman_weights[2] + amd*black_litterman_weights[3]\n"
      ],
      "metadata": {
        "execution": {
          "iopub.status.busy": "2023-03-21T19:43:34.019826Z",
          "iopub.execute_input": "2023-03-21T19:43:34.020359Z",
          "iopub.status.idle": "2023-03-21T19:43:34.029873Z",
          "shell.execute_reply.started": "2023-03-21T19:43:34.020301Z",
          "shell.execute_reply": "2023-03-21T19:43:34.0288Z"
        },
        "trusted": true,
        "id": "g4GWUqf21Zgr"
      },
      "execution_count": null,
      "outputs": []
    },
    {
      "cell_type": "markdown",
      "source": [
        "<p style=\"font-family: Georgia, 'Times New Roman', serif; font-size: 18px; color: #333; text-align: justify;\">After obtaining prior expected returns and providing our views, as well as our confidence levels, we have an optimized portfolio with the following weights for each asset:</p>\n",
        "<br>\n",
        "<p style=\"font-family: Georgia, 'Times New Roman', serif; font-size: 18px; color: #333; text-align: justify;\"><b>Apple:</b> 62.59%</p>\n",
        "<br>\n",
        "<p style=\"font-family: Georgia, 'Times New Roman', serif; font-size: 18px; color: #333; text-align: justify;\"><b>Tesla:</b> 19.95%</p>\n",
        "<br>\n",
        "<p style=\"font-family: Georgia, 'Times New Roman', serif; font-size: 18px; color: #333; text-align: justify;\"><b>Disney:</b> 1.6%</p>\n",
        "<br>\n",
        "<p style=\"font-family: Georgia, 'Times New Roman', serif; font-size: 18px; color: #333; text-align: justify;\"><b>AMD:</b> 15.86%</p>"
      ],
      "metadata": {
        "id": "JozVU9Y21Zgr"
      }
    },
    {
      "cell_type": "code",
      "source": [
        "# Black-Litterman Portfolio daily returns\n",
        "black_litterman_portfolio"
      ],
      "metadata": {
        "execution": {
          "iopub.status.busy": "2023-03-21T19:43:34.031464Z",
          "iopub.execute_input": "2023-03-21T19:43:34.032083Z",
          "iopub.status.idle": "2023-03-21T19:43:34.045416Z",
          "shell.execute_reply.started": "2023-03-21T19:43:34.032037Z",
          "shell.execute_reply": "2023-03-21T19:43:34.044512Z"
        },
        "trusted": true,
        "id": "5M5G8CVG1Zgr"
      },
      "execution_count": null,
      "outputs": []
    },
    {
      "cell_type": "markdown",
      "source": [
        "<p style=\"font-family: Georgia, 'Times New Roman', serif; font-size: 18px; color: #333; text-align: justify;\">We might now go on and compare the Black-Litterman optimized portfolio to the original portfolio</p>"
      ],
      "metadata": {
        "id": "EaWocVZk1Zgs"
      }
    },
    {
      "cell_type": "code",
      "source": [
        "# Comparing Black-Litterman portfolio to the original portfolio\n",
        "qs.reports.full(black_litterman_portfolio, benchmark = portfolio)"
      ],
      "metadata": {
        "execution": {
          "iopub.status.busy": "2023-03-21T19:43:34.046716Z",
          "iopub.execute_input": "2023-03-21T19:43:34.047335Z",
          "iopub.status.idle": "2023-03-21T19:43:45.141692Z",
          "shell.execute_reply.started": "2023-03-21T19:43:34.047301Z",
          "shell.execute_reply": "2023-03-21T19:43:45.140171Z"
        },
        "trusted": true,
        "id": "lg_WPPxg1Zgs"
      },
      "execution_count": null,
      "outputs": []
    },
    {
      "cell_type": "markdown",
      "source": [
        "<p style=\"font-family: Georgia, 'Times New Roman', serif; font-size: 18px; color: #333; text-align: justify;\">\n",
        "By using the Black-Litterman Allocation Model, we were able to improve our investment portfolio's performance metrics compared to the original portfolio, where each asset was allocated a uniform weight of 25%. The Black-Litterman optimized portfolio outperformed the original portfolio in several key metrics. First, it generated higher cumulative return and CAGR, indicating a stronger overall performance. Additionally, the Sharpe and Sortino ratios were higher, demonstrating greater risk-adjusted returns. </p>\n",
        "<br>\n",
        "<p style=\"font-family: Georgia, 'Times New Roman', serif; font-size: 18px; color: #333; text-align: justify;\">\n",
        "Moreover, the Black-Litterman portfolio had a lower maximum drawdown and annual volatility compared to the original portfolio, implying less downside risk and more stability to the optimized portfolio. In terms of expected returns, the Black-Litterman portfolio had higher daily, monthly, and yearly returns, and the Daily Value-at-Risk was lower, indicating a lower risk of significant losses in a day.</p>\n",
        "<br>\n",
        "<p style=\"font-family: Georgia, 'Times New Roman', serif; font-size: 18px; color: #333; text-align: justify;\">\n",
        "The Black-Litterman portfolio had a lower averaged drawdown and higher recovery factor, meaning that it can bounce back faster from losses, and the beta of the optimized portfolio was much lower than that of the original portfolio, indicating lower overall market risk. Overall, the Black-Litterman optimized portfolio achieved higher returns at lower risks.</p>"
      ],
      "metadata": {
        "id": "ZNJJ_g4d1Zgs"
      }
    },
    {
      "cell_type": "markdown",
      "source": [
        "<p style=\"font-family: Georgia, 'Times New Roman', serif; font-size: 18px; color: #333; text-align: justify;\">Both the Markowitz Mean-Variance Model and the Black-Litterman Allocation Model effectively enhanced the performance and reduced the risk of our original portfolio by optimizing the allocation weights of Apple, Tesla, Disney, and AMD stocks.</p>\n",
        "<br>\n",
        "<p style=\"font-family: Georgia, 'Times New Roman', serif; font-size: 18px; color: #333; text-align: justify;\">The Markowitz optimization resulted in a portfolio that primarily invested in Apple and a smaller portion in Tesla, with no allocation in Disney and AMD. On the other hand, the Black-Litterman optimization allocated funds into all four stocks, but still favored Apple with the majority of the allocation.</p>\n",
        "<br>\n",
        "<p style=\"font-family: Georgia, 'Times New Roman', serif; font-size: 18px; color: #333; text-align: justify;\">The preference for Apple in both optimizations is not coincidental. Our initial analysis did reveal that Apple had the highest Sharpe ratio, lowest beta, and demonstrated superior performance with lower risk compared to the other stocks.</p>\n",
        "<br>\n",
        "<p style=\"font-family: Georgia, 'Times New Roman', serif; font-size: 18px; color: #333; text-align: justify;\">It's also interesting to compare the two optimized portfolios. The Markowitz optimized portfolio outperformed the Black-Litterman portfolio in terms of cumulative returns, CAGR, Sharpe ratio, Profit Factor, Recovery Factor, and overall performance. On the other hand, the Black-Litterman portfolio demonstrated some advantages, such as lower maximum and average drawdowns, lower annual volatility, and better performance on its worst day and worst month, although the Markowitz optimization still had lower losses than the Black-Litterman optimization did on its worst year.</p>"
      ],
      "metadata": {
        "id": "MFlBCLN81Zgs"
      }
    },
    {
      "cell_type": "markdown",
      "source": [
        "<p style=\"font-family: Georgia, 'Times New Roman', serif; font-size: 18px; color: #333; text-align: justify;\">In conclusion, portfolio optimization is a very important step to improve the risk-return relationship of a portfolio by adjusting its asset allocation. By using various mathematical models and optimization techniques, it's possible to efficiently improve performance and reduce the exposure to risk.</p>\n",
        "<br>\n",
        "<p style=\"font-family: Georgia, 'Times New Roman', serif; font-size: 18px; color: #333; text-align: justify;\">While there are different approaches to portfolio optimization, including the Markowitz Mean-Variance model and the Black-Litterman allocation model, there is no one-size-fits-all solution. The choice of the model to use depends on the investor's risk tolerance, investment goals, and overall market conditions.</p>\n",
        "<br>\n",
        "<p style=\"font-family: Georgia, 'Times New Roman', serif; font-size: 18px; color: #333; text-align: justify;\">To gain a deeper understanding of portfolio optimization, you can explore various research papers, journals, and books on the subject. Some sources of research to consider include books such as <a href = \"https://www.amazon.com.br/Modern-Portfolio-Theory-Investment-Analysis/dp/1119427290\">Modern Portfolio Theory and Investment Analysis</a> by Edwin J. Elton and Martin Jay Gruber, <a href = \"https://www.amazon.com.br/Portfolio-Selection-Efficient-Diversification-Investments/dp/0300013728\">Portfolio Selection</a> by Harry Markowitz, and <a href = \"https://www.amazon.com.br/Active-Portfolio-Management-Quantitative-Controlling/dp/0070248826\">Active Portfolio Management: A Quantitative Approach for Producing Superior Returns and Controlling Risk</a> by Richard C. Grinold and Ronald N. Kahn, which can provide valuable insights into the theory and practice of portfolio optimization.</p>"
      ],
      "metadata": {
        "id": "oDKw717k1Zgs"
      }
    },
    {
      "cell_type": "markdown",
      "source": [
        "# <h1 id = \"fundamental-technical-analysis\" style=\"font-family: 'Cambria', Georgia, serif; font-weight: bold; border-bottom: 3px solid #000; padding: 8px; margin-bottom: 20px; text-align: left; letter-spacing: 1px;\">3 | Fundamental vs. Technical Analysis</h1>"
      ],
      "metadata": {
        "id": "LlulpU5w1Zgs"
      }
    },
    {
      "cell_type": "markdown",
      "source": [
        "<h2 id = 'which-approach' style=\"font-family: 'Cambria', Georgia, serif; font-weight: bold; margin-bottom: 20px; text-align: left; letter-spacing: 1px;\">Fundamental vs. Technical Analysis: Which Approach is Better?</h2>"
      ],
      "metadata": {
        "id": "CRKQtdZI1Zgs"
      }
    },
    {
      "cell_type": "markdown",
      "source": [
        "<p style=\"font-family: Georgia, 'Times New Roman', serif; font-size: 18px; color: #333; text-align: justify;\">Technical analysis is a very popular method used for many traders and investors to evaluate stocks and other assets based on historical price and volume data. It is an approach used to identify trends, or lack of trends, and help traders and investors to make decisions based on what they believe the future price movements will be. The underlying assumption of technical analysis is that past patterns and price movements tend to repeat themselves, so those can be used to predict future movements. Therefore, technical analysts examine charts and look for opportunities in patterns and indicators.</p>\n",
        "<br>\n",
        "<p style=\"font-family: Georgia, 'Times New Roman', serif; font-size: 18px; color: #333; text-align: justify;\">In technical analysis, price charts can display a variety of data, including open, high, low, and close prices, as well as various timeframes such as daily, weekly, and monthly charts. Volume is another important factor in technical analysis because it can provide insight into the strength of a trend or an indicator.</p>\n",
        "<br>\n",
        "<p style=\"font-family: Georgia, 'Times New Roman', serif; font-size: 18px; color: #333; text-align: justify;\">Technical analysts use a variety of indicators, which are basically statistical calculations based on price and volume that can provide additional information about trends and potential opportunities. Some of the most commonly used indicators in technical analysis include moving averages, relative strength index (RSI), Bollinger Bands, and many others.</p>\n",
        "<br>\n",
        "<p style=\"font-family: Georgia, 'Times New Roman', serif; font-size: 18px; color: #333; text-align: justify;\">Despite its popularity among traders, the use of technical analysis may be controversial. Some critics argue that technical analysis relies too heavily on subjective interpretations of chart patterns and that it lacks a clear theoretical foundation. They also argue that technical analysis is prone to false signals and that traders who rely on technical analysis may miss out on important fundamental factors that can influence the price of stocks.</p>\n",
        "<br>\n",
        "<p style=\"font-family: Georgia, 'Times New Roman', serif; font-size: 18px; color: #333; text-align: justify;\">Fundamental analysis, on the other hand, focuses on analyzing a company's financial and economic fundamentals, such as revenue, earnings, and market share. Unlike technical analysis, fundamental analysis is based on the belief that a company's intrinsic value can be determined by analyzing these factors. Fundamental analysts look at financial statements, industry trends, and other relevant data to make investment decisions.</p>\n",
        "<br>\n",
        "<p style=\"font-family: Georgia, 'Times New Roman', serif; font-size: 18px; color: #333; text-align: justify;\">It can be said that technical analysis tend to be more appropriate for short-term trading, whereas fundamental analysis may be better suited for long-term investing. Fundamental analysis provides investors with a more comprehensive understanding of a company's financial health and long-term growth prospects.</p>\n",
        "<br>\n",
        "<p style=\"font-family: Georgia, 'Times New Roman', serif; font-size: 18px; color: #333; text-align: justify;\">It can also be said that, while humans tend to operate better with fundamental analysis, as it requires a deep understanding of the underlying factors that drive a company's value, computers may operate better with technical analysis, as it relies heavily on quantitative data that can be analyzed quickly and efficiently. An evidence to that is the fact that the use of automated trading bots that trade based on technical analysis has become increasingly popular in recent years. These bots use algorithms to identify patterns and trends in price data and make trades based on technical signals.</p>"
      ],
      "metadata": {
        "id": "BdkSekYB1Zgs"
      }
    },
    {
      "cell_type": "markdown",
      "source": [
        "<p style=\"font-family: Georgia, 'Times New Roman', serif; font-size: 18px; color: #333; text-align: justify;\">In Python, there are quite a few libraries that are suited for both technical and fundamental analysis, and we're going to explore how to use these indicators, not only in conventional ways but also to feed machine learning models.</p>"
      ],
      "metadata": {
        "id": "YqdQoHez1Zgs"
      }
    },
    {
      "cell_type": "markdown",
      "source": [
        "<h2 id = 'technical-indicators' style=\"font-family: 'Cambria', Georgia, serif; font-weight: bold; margin-bottom: 20px; text-align: left; letter-spacing: 1px;\">Technical Indicators</h2>"
      ],
      "metadata": {
        "id": "LHKwYXxs1Zgs"
      }
    },
    {
      "cell_type": "markdown",
      "source": [
        "<p style=\"font-family: Georgia, 'Times New Roman', serif; font-size: 18px; color: #333; text-align: justify;\">There is a wide range of technical indicators used by traders and investors alike, each with its own unique set of benefits and drawbacks. Some of the most commonly used indicators include moving averages, which can be either simple or exponential, as well as Bollinger Bands, RSI, ATR, historic volatility, and many others.</p>\n",
        "<br>\n",
        "<p style=\"font-family: Georgia, 'Times New Roman', serif; font-size: 18px; color: #333; text-align: justify;\">To help you better understand these indicators, I will briefly introduce some of the most commonly used ones and display them on a candlestick chart.</p>"
      ],
      "metadata": {
        "id": "zS5bFbWF1Zgs"
      }
    },
    {
      "cell_type": "markdown",
      "source": [
        "<p id = 'mas' style=\"font-family: Georgia, 'Times New Roman', serif; font-size: 18px; color: #333; text-align: justify;\"><b>Moving Averages</b></p>\n",
        "<br>\n",
        "\n",
        "<p id = 'prior' style=\"font-family: Georgia, 'Times New Roman', serif; font-size: 18px; color: #333; text-align: justify;\">Moving averages are commonly used to smooth out price fluctuations and identify trends in the price action of stocks, commodities, forex, crypto, and many others.</p>\n",
        "<br>\n",
        "<p id = 'prior' style=\"font-family: Georgia, 'Times New Roman', serif; font-size: 18px; color: #333; text-align: justify;\">A moving average is calculated by taking the average price of an asset over a certain period of time. This period can be as nine days or as long as 200 days, depending on the trader's preference and the asset being analyzed. The resulting line that represents the moving average is then plotted on a chart, and traders use this line to gauge the direction and strength of the trend.</p>\n",
        "<br>\n",
        "<p id = 'prior' style=\"font-family: Georgia, 'Times New Roman', serif; font-size: 18px; color: #333; text-align: justify;\">There are two types of moving averages: simple moving averages (SMA) and exponential moving averages (EMA). SMA calculates the average price of the asset over the specified period of time and gives equal weight to each data point.So, for instance, a 20-day SMA would take the sum of the closing prices over the past 20 days and divide by 20 to get the average price.</p>\n",
        "<br>\n",
        "<p id = 'prior' style=\"font-family: Georgia, 'Times New Roman', serif; font-size: 18px; color: #333; text-align: justify;\">EMA, on the other hand, gives more weight to recent price action. The formula for calculating EMA involves using a multiplier that gives more weight to the most recent price data. The formula for calculating a 9-day EMA, for example, would be:\n",
        "</p>\n",
        "<br><br>\n",
        "<p id=\"prior\" style=\"font-family: Georgia, 'Times New Roman', serif; font-size: 18px; color: #333; text-align: center;\">\n",
        "    $EMA = (\\text{Close - EMA(previous day))} \\times {Multiplier} + \\text{EMA(previous day)}$\n",
        "</p>\n",
        "<br><br>\n",
        "<p id = 'prior' style=\"font-family: Georgia, 'Times New Roman', serif; font-size: 18px; color: #333; text-align: justify;\">The multiplier used depends on the length of the period used. For a 9-day EMA, the multiplier would be 2/(9+1) = 0.2 (rounded to one decimal place).</p>\n",
        "<br>\n",
        "<p id = 'prior' style=\"font-family: Georgia, 'Times New Roman', serif; font-size: 18px; color: #333; text-align: justify;\">Traders often use moving averages to identify dynamic support and resistance levels, as well as to spot potential trend changes. When the price of an asset is above its moving average, it is considered to be in an uptrend, while a price below the moving average is considered to be in a downtrend. Traders also look for crossovers between different moving averages, which can signal a change in trend direction, such as the Golden Cross (when the 50-day moving average crosses above the 200-day moving average) and Death Cross (when the 50-day moving average crosse below the 200-day moving average).</p>\n",
        "<br>\n",
        "<p id = 'prior' style=\"font-family: Georgia, 'Times New Roman', serif; font-size: 18px; color: #333; text-align: justify;\">Moving averages can also be used to set stop loss and take profit levels for trades. For example, a trader may place a stop loss order below the moving average to limit their losses if the trend reverses.</p>\n",
        "<br>\n",
        "<br>"
      ],
      "metadata": {
        "id": "OQzJc7oj1Zgs"
      }
    },
    {
      "cell_type": "markdown",
      "source": [
        "<p id = 'bbs' style=\"font-family: Georgia, 'Times New Roman', serif; font-size: 18px; color: #333; text-align: justify;\"><b>Bollinger Bands</b></p>\n",
        "<br>\n",
        "<p id = 'prior' style=\"font-family: Georgia, 'Times New Roman', serif; font-size: 18px; color: #333; text-align: justify;\">Bollinger Bands are an exteremely popular tool used by traders and analysts to measure volatility and to identify potential buy and sell opportunities.</p>\n",
        "<br>\n",
        "<p id = 'prior' style=\"font-family: Georgia, 'Times New Roman', serif; font-size: 18px; color: #333; text-align: justify;\">The Bollinger Bands consist of three lines on a chart: a simple moving average (SMA) in the middle,typically a 20-day moving average, and two bands that are set at a distance of two standard deviations away from the SMA. When the market is volatile, the bands widen, and when the market is less volatile, the bands contract. The distance between the bands can therefore be used as an indicator of volatility.</p>\n",
        "<br>\n",
        "<p id = 'prior' style=\"font-family: Georgia, 'Times New Roman', serif; font-size: 18px; color: #333; text-align: justify;\">Usually, traders use these bands to identify possible buying and selling entries. When the price touches or crosses below the lower band, it may be considered oversold and a potential buy signal. Conversely, when the price touches or crosses above the upper band, it may be considered overbought and a potential sell signal.</p>\n",
        "<br>\n",
        "<p id = 'prior' style=\"font-family: Georgia, 'Times New Roman', serif; font-size: 18px; color: #333; text-align: justify;\">To obtain the Bollinger Bands values, there are three important steps:</p>\n",
        "<br>\n",
        "<p id = 'prior' style=\"font-family: Georgia, 'Times New Roman', serif; font-size: 18px; color: #333; text-align: justify;\">1. Calculate the 20-day SMA of the stock's price.</p>\n",
        "<br>\n",
        "<p id = 'prior' style=\"font-family: Georgia, 'Times New Roman', serif; font-size: 18px; color: #333; text-align: justify;\">2. Calculate the standard deviation of the stocks's price over the past 20 periods.</p>\n",
        "<br>\n",
        "<p id = 'prior' style=\"font-family: Georgia, 'Times New Roman', serif; font-size: 18px; color: #333; text-align: justify;\">3.Calculate the upper and lower bands by adding or subtracting two standard deviations from the 20-day SMA.</p>\n",
        "<br>\n",
        "<p id = 'prior' style=\"font-family: Georgia, 'Times New Roman', serif; font-size: 18px; color: #333; text-align: justify;\">The formula to calculate the upper band is:</p>\n",
        "<br><br>\n",
        "<p id=\"prior\" style=\"font-family: Georgia, 'Times New Roman', serif; font-size: 18px; color: #333; text-align: center;\">$Upper\\ Band = 20\\text{day}\\ SMA + (2 \\times \\sigma)$\n",
        "</p>\n",
        "<br><br>\n",
        "<p id = 'prior' style=\"font-family: Georgia, 'Times New Roman', serif; font-size: 18px; color: #333; text-align: justify;\">Whereas the formula for the lower band is:</p>\n",
        "<br><br>\n",
        "<p id=\"prior\" style=\"font-family: Georgia, 'Times New Roman', serif; font-size: 18px; color: #333; text-align: center;\">\n",
        "    $Lower\\ Band = 20\\text{day}\\ SMA - (2 \\times \\sigma)$\n",
        "</p>\n",
        "<br>\n",
        "<br>"
      ],
      "metadata": {
        "id": "PgkjBBaK1Zgs"
      }
    },
    {
      "cell_type": "markdown",
      "source": [
        "<p id = 'rsi' style=\"font-family: Georgia, 'Times New Roman', serif; font-size: 18px; color: #333; text-align: justify;\"><b>Relative Strenght Index (RSI)</b></p>\n",
        "<br>\n",
        "<p id = 'prior' style=\"font-family: Georgia, 'Times New Roman', serif; font-size: 18px; color: #333; text-align: justify;\">The RSI is another popular technical analysis tool used by traders and analysts in financial markets. It measures the strength of price action and can be used to identify possible buy and sell opportunities.</p>\n",
        "<br>\n",
        "<p id = 'prior' style=\"font-family: Georgia, 'Times New Roman', serif; font-size: 18px; color: #333; text-align: justify;\">The RSI is calculated by comparing the average gains and losses of a stock over a specific period of time. The formula for calculating the RSI involves two steps:</p>\n",
        "<br>\n",
        "<p id = 'prior' style=\"font-family: Georgia, 'Times New Roman', serif; font-size: 18px; color: #333; text-align: justify;\">First, you calculate the Relative Strength (RS) of the stock, which is the ratio of the average gains to the average losses over time, which is typically the last 14 days.</p>\n",
        "<br><br>\n",
        "<p id = 'prior' style=\"font-family: Georgia, 'Times New Roman', serif; font-size: 18px; color: #333; text-align: justify;\"><center>$\\text{RS} = \\frac{Average\\; Gain}{Average\\; Loss}$</center></p>\n",
        "<br><br>\n",
        "<p id = 'prior' style=\"font-family: Georgia, 'Times New Roman', serif; font-size: 18px; color: #333; text-align: justify;\">In order to obtain the average gain or loss, the difference between the closing price of the current day and the previous day is taken. If that difference is positive, then it is considered a gain, but if that difference is negative, it is considered a loss.</p>\n",
        "<br>\n",
        "<p id = 'prior' style=\"font-family: Georgia, 'Times New Roman', serif; font-size: 18px; color: #333; text-align: justify;\">The next step is to obtain the RSI using the RS value. The RSI ranges from 0 to 100 and is plotted on a chart.</p>\n",
        "<br><br>\n",
        "<p id = 'prior' style=\"font-family: Georgia, 'Times New Roman', serif; font-size: 18px; color: #333; text-align: justify;\"><center>$\\text{RSI} = 100 - \\frac{100}{1 + \\text{RS}}$</center></p>\n",
        "<br><br>\n",
        "<p id = 'prior' style=\"font-family: Georgia, 'Times New Roman', serif; font-size: 18px; color: #333; text-align: justify;\">When the RSI is above 70, it is considered an overbought region and could signal a potential opportunity for selling. When it is below the value of 30, it is considered to be on an oversold region and could signal a potential opportunity for buying low.</p>\n",
        "<br>\n",
        "<p id = 'prior' style=\"font-family: Georgia, 'Times New Roman', serif; font-size: 18px; color: #333; text-align: justify;\">The RSI is also popularly used to identify divergences between the RSI and price, which can indicate the loss of <i>momentum</i>, i.e. strenght, in the current trend and suggest a possible reversal.</p>\n",
        "<br>\n",
        "<br>"
      ],
      "metadata": {
        "id": "UtyHxxQs1Zgt"
      }
    },
    {
      "cell_type": "markdown",
      "source": [
        "<p id = 'atr' style=\"font-family: Georgia, 'Times New Roman', serif; font-size: 18px; color: #333; text-align: justify;\"><b>Average True Range (ATR)</b></p>\n",
        "<br>\n",
        "<p id = 'prior' style=\"font-family: Georgia, 'Times New Roman', serif; font-size: 18px; color: #333; text-align: justify;\">The Average True Range (ATR) is yet another commong indicator used to measure the volatility of price action and help traders to identify potential buy and sell opportunities.</p>\n",
        "<br>\n",
        "<p id = 'prior' style=\"font-family: Georgia, 'Times New Roman', serif; font-size: 18px; color: #333; text-align: justify;\">It is calculated by comparing the true range of a stock over a specific period of time. The true range is the maximum value of the three calculations below:</p>\n",
        "<br>\n",
        "<p id = 'prior' style=\"font-family: Georgia, 'Times New Roman', serif; font-size: 18px; color: #333; text-align: justify;\">1.The difference between the current high and the previous close.</p>\n",
        "<br>\n",
        "<p id = 'prior' style=\"font-family: Georgia, 'Times New Roman', serif; font-size: 18px; color: #333; text-align: justify;\">2. The difference between the current low and the previous close.</p>\n",
        "<br>\n",
        "<p id = 'prior' style=\"font-family: Georgia, 'Times New Roman', serif; font-size: 18px; color: #333; text-align: justify;\">The difference between the current high and the current low.</p>\n",
        "<br>\n",
        "<p id = 'prior' style=\"font-family: Georgia, 'Times New Roman', serif; font-size: 18px; color: #333; text-align: justify;\">Before obtaining the ATR, we need to first obtain the <b>true range</b> through the following formula:</p>\n",
        "<br><br>\n",
        "<center>$\\text {TR} = \\text{max(high - low, abs(high - close_prev), abs(low - close_prev))}$</center>\n",
        "<br><br>\n",
        "<p id = 'prior' style=\"font-family: Georgia, 'Times New Roman', serif; font-size: 18px; color: #333; text-align: justify;\">Where:</p>\n",
        "<br>\n",
        "<p id = 'prior' style=\"font-family: Georgia, 'Times New Roman', serif; font-size: 18px; color: #333; text-align: justify;\"><i>High</i> is the current day's highest price</p>\n",
        "<br>\n",
        "<p id = 'prior' style=\"font-family: Georgia, 'Times New Roman', serif; font-size: 18px; color: #333; text-align: justify;\"><i>Low</i> is the current day's lowest price</p>\n",
        "<br>\n",
        "<p id = 'prior' style=\"font-family: Georgia, 'Times New Roman', serif; font-size: 18px; color: #333; text-align: justify;\"><i>close_prev</i> is the previous day's closing price</p>\n",
        "<br>\n",
        "<p id = 'prior' style=\"font-family: Georgia, 'Times New Roman', serif; font-size: 18px; color: #333; text-align: justify;\">The ATR ranges from 0 to infinity, and the higher its value, the higher may be the volatility in price action, while the opposite is true for a lower ATR value.</p>\n",
        "<br>\n",
        "<p id = 'prior' style=\"font-family: Georgia, 'Times New Roman', serif; font-size: 18px; color: #333; text-align: justify;\">Traders and analysts may use the ATR to set stop-loss and take-profit levels, as well as to identify potential trend reversals. For example, if the ATR value is increasing, it could indicate that a trend reversal is likely to occur.</p>\n",
        "<br>"
      ],
      "metadata": {
        "id": "M-w_9Fnq1Zgt"
      }
    },
    {
      "cell_type": "code",
      "source": [
        "# Downloading Apple Stocks\n",
        "aapl = yf.download('AAPL', start = '2010-07-01', end = '2023-02-11')"
      ],
      "metadata": {
        "execution": {
          "iopub.status.busy": "2023-03-21T19:43:45.143631Z",
          "iopub.execute_input": "2023-03-21T19:43:45.14448Z",
          "iopub.status.idle": "2023-03-21T19:43:45.371818Z",
          "shell.execute_reply.started": "2023-03-21T19:43:45.144428Z",
          "shell.execute_reply": "2023-03-21T19:43:45.370544Z"
        },
        "trusted": true,
        "id": "KzzieIuq1Zgt"
      },
      "execution_count": null,
      "outputs": []
    },
    {
      "cell_type": "code",
      "source": [
        "aapl # Displaying data"
      ],
      "metadata": {
        "execution": {
          "iopub.status.busy": "2023-03-21T19:43:45.373219Z",
          "iopub.execute_input": "2023-03-21T19:43:45.373642Z",
          "iopub.status.idle": "2023-03-21T19:43:45.394001Z",
          "shell.execute_reply.started": "2023-03-21T19:43:45.373582Z",
          "shell.execute_reply": "2023-03-21T19:43:45.392676Z"
        },
        "trusted": true,
        "id": "0UIi4DNM1Zgt"
      },
      "execution_count": null,
      "outputs": []
    },
    {
      "cell_type": "code",
      "source": [
        "aapl.dtypes # Printing data types"
      ],
      "metadata": {
        "execution": {
          "iopub.status.busy": "2023-03-21T19:43:45.395427Z",
          "iopub.execute_input": "2023-03-21T19:43:45.396749Z",
          "iopub.status.idle": "2023-03-21T19:43:45.405985Z",
          "shell.execute_reply.started": "2023-03-21T19:43:45.396703Z",
          "shell.execute_reply": "2023-03-21T19:43:45.404584Z"
        },
        "trusted": true,
        "id": "6WtW9TDd1Zgt"
      },
      "execution_count": null,
      "outputs": []
    },
    {
      "cell_type": "markdown",
      "source": [
        "<br>\n",
        "<br>\n",
        "<p id = 'prior' style=\"font-family: Georgia, 'Times New Roman', serif; font-size: 18px; color: #333; text-align: justify;\">After obtaining historical data of Apple stocks with yfinance, we may use Plotly to plot a Candlestick chart containing information on price and volume.</p>\n",
        "<br>\n",
        "<br>"
      ],
      "metadata": {
        "id": "vYlEiL6_1Zgt"
      }
    },
    {
      "cell_type": "code",
      "source": [
        "# Plotting candlestick chart without indicators\n",
        "fig = make_subplots(rows=2, cols=1, shared_xaxes=True, vertical_spacing=0.05, row_heights = [0.7, 0.3])\n",
        "fig.add_trace(go.Candlestick(x=aapl.index,\n",
        "                             open=aapl['Open'],\n",
        "                             high=aapl['High'],\n",
        "                             low=aapl['Low'],\n",
        "                             close=aapl['Adj Close'],\n",
        "                             name='AAPL'),\n",
        "              row=1, col=1)\n",
        "\n",
        "\n",
        "# Plotting volume chart on the second row\n",
        "fig.add_trace(go.Bar(x=aapl.index,\n",
        "                     y=aapl['Volume'],\n",
        "                     name='Volume',\n",
        "                     marker=dict(color='orange', opacity=1.0)),\n",
        "              row=2, col=1)\n",
        "\n",
        "# Plotting annotation\n",
        "fig.add_annotation(text='Apple (AAPL)',\n",
        "                    font=dict(color='white', size=40),\n",
        "                    xref='paper', yref='paper',\n",
        "                    x=0.5, y=0.65,\n",
        "                    showarrow=False,\n",
        "                    opacity=0.2)\n",
        "\n",
        "# Configuring layout\n",
        "fig.update_layout(title='AAPL Candlestick Chart From July 1st, 2010 to February 10th, 2023',\n",
        "                  yaxis=dict(title='Price (USD)'),\n",
        "                  height=1000,\n",
        "                 template = 'plotly_dark')\n",
        "\n",
        "# Configuring axes and subplots\n",
        "fig.update_xaxes(rangeslider_visible=False, row=1, col=1)\n",
        "fig.update_xaxes(rangeslider_visible=False, row=2, col=1)\n",
        "fig.update_yaxes(title_text='Price (USD)', row=1, col=1)\n",
        "fig.update_yaxes(title_text='Volume', row=2, col=1)\n",
        "\n",
        "fig.show()"
      ],
      "metadata": {
        "execution": {
          "iopub.status.busy": "2023-03-21T19:43:45.407826Z",
          "iopub.execute_input": "2023-03-21T19:43:45.408604Z",
          "iopub.status.idle": "2023-03-21T19:43:46.659203Z",
          "shell.execute_reply.started": "2023-03-21T19:43:45.408545Z",
          "shell.execute_reply": "2023-03-21T19:43:46.657931Z"
        },
        "trusted": true,
        "id": "jRKv9qYz1Zgt"
      },
      "execution_count": null,
      "outputs": []
    },
    {
      "cell_type": "markdown",
      "source": [
        "<br>\n",
        "<br>\n",
        "<p style=\"font-family: Georgia, 'Times New Roman', serif; font-size: 18px; color: #333; text-align: justify;\">Above, it's possible to see a daily candlestick chart containing price and volume of Apple stocks traded from July 1st, 2010 to February 10th, 2023. The candlestick chart makes it easy to see information on the opening, closing, high, and low prices of each trading day, as well as the overall trend in the last 13 years.</p>\n",
        "<br>\n",
        "<p style=\"font-family: Georgia, 'Times New Roman', serif; font-size: 18px; color: #333; text-align: justify;\">The use of the 'Adj Close' column instead of the 'Close' column to plot the chart above is due to the adjustment of historical prices for dividends and stock splits. The 'Adj Close' value represents the closing price adjusted for these factors, which allows for a more accurate representation of the stock's true price over time.</p>\n",
        "<br>\n",
        "<p style=\"font-family: Georgia, 'Times New Roman', serif; font-size: 18px; color: #333; text-align: justify;\">The volume bars below the candlestick chart display the financial volume of shares traded for each day.</p>\n",
        "<br>"
      ],
      "metadata": {
        "id": "-Vg2zV5k1Zgt"
      }
    },
    {
      "cell_type": "markdown",
      "source": [
        "<p id = 'prior' style=\"font-family: Georgia, 'Times New Roman', serif; font-size: 18px; color: #333; text-align: justify;\">After taking a brief look at a candlestick chart without indicators, we can go on and add a few indicators to our Apple stocks dataframe and display them on the candlestick chart.</p>"
      ],
      "metadata": {
        "id": "wPj2-gFe1Zgt"
      }
    },
    {
      "cell_type": "code",
      "source": [
        "# Adding Moving Averages\n",
        "aapl['EMA9'] = aapl['Adj Close'].ewm(span = 9, adjust = False).mean() # Exponential 9-Period Moving Average\n",
        "aapl['SMA20'] = aapl['Adj Close'].rolling(window=20).mean() # Simple 20-Period Moving Average\n",
        "aapl['SMA50'] = aapl['Adj Close'].rolling(window=50).mean() # Simple 50-Period Moving Average\n",
        "aapl['SMA100'] = aapl['Adj Close'].rolling(window=100).mean() # Simple 100-Period Moving Average\n",
        "aapl['SMA200'] = aapl['Adj Close'].rolling(window=200).mean() # Simple 200-Period Moving Average\n",
        "\n",
        "# Adding RSI for 14-periods\n",
        "delta = aapl['Adj Close'].diff() # Calculating delta\n",
        "gain = delta.where(delta > 0,0) # Obtaining gain values\n",
        "loss = -delta.where(delta < 0,0) # Obtaining loss values\n",
        "avg_gain = gain.rolling(window=14).mean() # Measuring the 14-period average gain value\n",
        "avg_loss = loss.rolling(window=14).mean() # Measuring the 14-period average loss value\n",
        "rs = avg_gain/avg_loss # Calculating the RS\n",
        "aapl['RSI'] = 100 - (100 / (1 + rs)) # Creating an RSI column to the Data Frame\n",
        "\n",
        "# Adding Bollinger Bands 20-periods\n",
        "aapl['BB_UPPER'] = aapl['SMA20'] + 2*aapl['Adj Close'].rolling(window=20).std() # Upper Band\n",
        "aapl['BB_LOWER'] = aapl['SMA20'] - 2*aapl['Adj Close'].rolling(window=20).std() # Lower Band\n",
        "\n",
        "# Adding ATR 14-periods\n",
        "aapl['TR'] = pd.DataFrame(np.maximum(np.maximum(aapl['High'] - aapl['Low'], abs(aapl['High'] - aapl['Adj Close'].shift())), abs(aapl['Low'] - aapl['Adj Close'].shift())), index = aapl.index)\n",
        "aapl['ATR'] = aapl['TR'].rolling(window = 14).mean() # Creating an ART column to the Data Frame"
      ],
      "metadata": {
        "execution": {
          "iopub.status.busy": "2023-03-21T19:43:46.660666Z",
          "iopub.execute_input": "2023-03-21T19:43:46.66113Z",
          "iopub.status.idle": "2023-03-21T19:43:46.695198Z",
          "shell.execute_reply.started": "2023-03-21T19:43:46.661089Z",
          "shell.execute_reply": "2023-03-21T19:43:46.693961Z"
        },
        "trusted": true,
        "id": "gB1GDcTK1Zgt"
      },
      "execution_count": null,
      "outputs": []
    },
    {
      "cell_type": "code",
      "source": [
        "aapl.tail(50) # Plotting last 50 trading days with indicators"
      ],
      "metadata": {
        "execution": {
          "iopub.status.busy": "2023-03-21T19:43:46.696629Z",
          "iopub.execute_input": "2023-03-21T19:43:46.697008Z",
          "iopub.status.idle": "2023-03-21T19:43:46.745072Z",
          "shell.execute_reply.started": "2023-03-21T19:43:46.696966Z",
          "shell.execute_reply": "2023-03-21T19:43:46.743791Z"
        },
        "trusted": true,
        "id": "7DNmSrWt1Zgt"
      },
      "execution_count": null,
      "outputs": []
    },
    {
      "cell_type": "code",
      "source": [
        "# Plotting Candlestick charts with indicators\n",
        "fig = make_subplots(rows=4, cols=1, shared_xaxes=True, vertical_spacing=0.05,row_heights=[0.6, 0.10, 0.10, 0.20])\n",
        "\n",
        "# Candlestick\n",
        "fig.add_trace(go.Candlestick(x=aapl.index,\n",
        "                             open=aapl['Open'],\n",
        "                             high=aapl['High'],\n",
        "                             low=aapl['Low'],\n",
        "                             close=aapl['Adj Close'],\n",
        "                             name='AAPL'),\n",
        "              row=1, col=1)\n",
        "\n",
        "# Moving Averages\n",
        "fig.add_trace(go.Scatter(x=aapl.index,\n",
        "                         y=aapl['EMA9'],\n",
        "                         mode='lines',\n",
        "                         line=dict(color='#90EE90'),\n",
        "                         name='EMA9'),\n",
        "              row=1, col=1)\n",
        "\n",
        "fig.add_trace(go.Scatter(x=aapl.index,\n",
        "                         y=aapl['SMA20'],\n",
        "                         mode='lines',\n",
        "                         line=dict(color='yellow'),\n",
        "                         name='SMA20'),\n",
        "              row=1, col=1)\n",
        "\n",
        "fig.add_trace(go.Scatter(x=aapl.index,\n",
        "                         y=aapl['SMA50'],\n",
        "                         mode='lines',\n",
        "                         line=dict(color='orange'),\n",
        "                         name='SMA50'),\n",
        "              row=1, col=1)\n",
        "\n",
        "fig.add_trace(go.Scatter(x=aapl.index,\n",
        "                         y=aapl['SMA100'],\n",
        "                         mode='lines',\n",
        "                         line=dict(color='purple'),\n",
        "                         name='SMA100'),\n",
        "              row=1, col=1)\n",
        "\n",
        "fig.add_trace(go.Scatter(x=aapl.index,\n",
        "                         y=aapl['SMA200'],\n",
        "                         mode='lines',\n",
        "                         line=dict(color='red'),\n",
        "                         name='SMA200'),\n",
        "              row=1, col=1)\n",
        "\n",
        "# Bollinger Bands\n",
        "fig.add_trace(go.Scatter(x=aapl.index,\n",
        "                         y=aapl['BB_UPPER'],\n",
        "                         mode='lines',\n",
        "                         line=dict(color='#00BFFF'),\n",
        "                         name='Upper Band'),\n",
        "              row=1, col=1)\n",
        "\n",
        "fig.add_trace(go.Scatter(x=aapl.index,\n",
        "                         y=aapl['BB_LOWER'],\n",
        "                         mode='lines',\n",
        "                         line=dict(color='#00BFFF'),\n",
        "                         name='Lower Band'),\n",
        "              row=1, col=1)\n",
        "\n",
        "fig.add_annotation(text='Apple (AAPL)',\n",
        "                    font=dict(color='white', size=40),\n",
        "                    xref='paper', yref='paper',\n",
        "                    x=0.5, y=0.65,\n",
        "                    showarrow=False,\n",
        "                    opacity=0.2)\n",
        "\n",
        "\n",
        "# Relative Strengh Index (RSI)\n",
        "fig.add_trace(go.Scatter(x=aapl.index,\n",
        "                         y=aapl['RSI'],\n",
        "                         mode='lines',\n",
        "                         line=dict(color='#CBC3E3'),\n",
        "                         name='RSI'),\n",
        "              row=2, col=1)\n",
        "\n",
        "# Adding marking lines at 70 and 30 levels\n",
        "fig.add_shape(type=\"line\",\n",
        "              x0=aapl.index[0], y0=70, x1=aapl.index[-1], y1=70,\n",
        "              line=dict(color=\"red\", width=2, dash=\"dot\"),\n",
        "              row=2, col=1)\n",
        "fig.add_shape(type=\"line\",\n",
        "              x0=aapl.index[0], y0=30, x1=aapl.index[-1], y1=30,\n",
        "              line=dict(color=\"#90EE90\", width=2, dash=\"dot\"),\n",
        "              row=2, col=1)\n",
        "\n",
        "# Average True Range (ATR)\n",
        "fig.add_trace(go.Scatter(x=aapl.index,\n",
        "                         y=aapl['ATR'],\n",
        "                         mode='lines',\n",
        "                         line=dict(color='#00BFFF'),\n",
        "                         name='ATR'),\n",
        "              row=3, col=1)\n",
        "\n",
        "\n",
        "# Volume\n",
        "fig.add_trace(go.Bar(x=aapl.index,\n",
        "                     y=aapl['Volume'],\n",
        "                     name='Volume',\n",
        "                     marker=dict(color='orange', opacity=1.0)),\n",
        "              row=4, col=1)\n",
        "\n",
        "\n",
        "# Layout\n",
        "fig.update_layout(title='AAPL Candlestick Chart From July 1st, 2010 to February 10th, 2023',\n",
        "                  yaxis=dict(title='Price (USD)'),\n",
        "                  height=1000,\n",
        "                 template = 'plotly_dark')\n",
        "\n",
        "# Axes and subplots\n",
        "fig.update_xaxes(rangeslider_visible=False, row=1, col=1)\n",
        "fig.update_xaxes(rangeslider_visible=False, row=4, col=1)\n",
        "fig.update_yaxes(title_text='Price (USD)', row=1, col=1)\n",
        "fig.update_yaxes(title_text='RSI', row=2, col=1)\n",
        "fig.update_yaxes(title_text='ATR', row=3, col=1)\n",
        "fig.update_yaxes(title_text='Volume', row=4, col=1)\n",
        "\n",
        "fig.show()"
      ],
      "metadata": {
        "execution": {
          "iopub.status.busy": "2023-03-21T19:43:46.746411Z",
          "iopub.execute_input": "2023-03-21T19:43:46.74677Z",
          "iopub.status.idle": "2023-03-21T19:43:47.926097Z",
          "shell.execute_reply.started": "2023-03-21T19:43:46.746737Z",
          "shell.execute_reply": "2023-03-21T19:43:47.92349Z"
        },
        "trusted": true,
        "id": "7DUDMuHq1Zgt"
      },
      "execution_count": null,
      "outputs": []
    },
    {
      "cell_type": "markdown",
      "source": [
        "<p style=\"font-family: Georgia, 'Times New Roman', serif; font-size: 18px; color: #333; text-align: justify;\">Finally, the Candlestick chart above is a full representation of the price and volume over time, along with additional indicators such as moving averages, Bollinger Bands, Relative Strength Index, and ATR.</p>\n",
        "<br>\n",
        "<p style=\"font-family: Georgia, 'Times New Roman', serif; font-size: 18px; color: #333; text-align: justify;\">The amount of indicators on screen may appear overwhelming at first glance, but this is done on purpose! Don't forget that with <b>Plotly's</b> interactive features, you have the flexibility to customize the way you visualize the chart to suit your preferences by selecting the time period and indicators you wish to view.</p>\n",
        "<br>\n",
        "<p style=\"font-family: Georgia, 'Times New Roman', serif; font-size: 18px; color: #333; text-align: justify;\">In the first chart below, we have displayed only the 9-period exponential moving average and the 20-period simple moving average on the price row. This simplifies the visual representation of the data and allows you to focus only on these two indicators.</p>\n",
        "<br>\n",
        "<br>\n",
        "<img src = \"https://i.imgur.com/PKQRUDp.png\">\n",
        "<br>\n",
        "<br>\n",
        "<p style=\"font-family: Georgia, 'Times New Roman', serif; font-size: 18px; color: #333; text-align: justify;\">In the next chart, we have chosen to display only the Bollinger Bands with the 20-period simple moving average on the price row.</p>\n",
        "<br>\n",
        "<br>\n",
        "<img src = \"https://i.imgur.com/u6RuKJf.png\">\n",
        "<br>\n",
        "<br>\n",
        "<p style=\"font-family: Georgia, 'Times New Roman', serif; font-size: 18px; color: #333; text-align: justify;\">Feel free to experiment with the Candlestick chart as you like!</p>"
      ],
      "metadata": {
        "id": "E1UwsMit1Zgu"
      }
    },
    {
      "cell_type": "markdown",
      "source": [
        "<p style=\"font-family: Georgia, 'Times New Roman', serif; font-size: 18px; color: #333; text-align: justify;\">You've seen that, with Python, it is extremely easy not only to calculate, but also to visualize a wide variety of technical indicators to analyze stocks, as well as other assets.</p>\n",
        "<br>\n",
        "<p style=\"font-family: Georgia, 'Times New Roman', serif; font-size: 18px; color: #333; text-align: justify;\">Beyond that, these indicators can be used as features for machine learning models, and Python's variety makes it easy to backtest strategies based on technical analysis and see how well we could perform buying and selling stocks based on these strategies, which is something we will approach later on in this notebook.</p>\n",
        "<br>"
      ],
      "metadata": {
        "id": "TerIMp-R1Zgu"
      }
    },
    {
      "cell_type": "markdown",
      "source": [
        "<h2 id = 'fundamental-indicators' style=\"font-family: 'Cambria', Georgia, serif; font-weight: bold; margin-bottom: 20px; text-align: left; letter-spacing: 1px;\">Fundamental Indicators</h2>"
      ],
      "metadata": {
        "id": "ktIEBhpw1Zgu"
      }
    },
    {
      "cell_type": "markdown",
      "source": [
        "<p style=\"font-family: Georgia, 'Times New Roman', serif; font-size: 18px; color: #333; text-align: justify;\">Just as we have a broad range of technical indicators, the same applies to fundamental indicators used by investors when they're looking for relevant information when deciding whether to invest in a company or not.</p>\n",
        "<br>\n",
        "<p style=\"font-family: Georgia, 'Times New Roman', serif; font-size: 18px; color: #333; text-align: justify;\">The most commonly used fundamental indicators include earnings per share (EPS), price-to-earnings ratio (P/E ratio), return on equity (ROE), debt-to-equity ratio, and dividend yield. These indicators provide insights into the company's profitability, valuation, efficiency, financial leverage, and dividend payments. Overall, fundamental analysis involves examining a company's financial and economic data to evaluate its financial health and potential for growth. </p>\n",
        "<br>\n",
        "<p style=\"font-family: Georgia, 'Times New Roman', serif; font-size: 18px; color: #333; text-align: justify;\">I'll also briefly present to you some fundamental indicators, so we can make comparison on the stocks we've been working on for now. </p>"
      ],
      "metadata": {
        "id": "OAbbVSXn1Zgu"
      }
    },
    {
      "cell_type": "markdown",
      "source": [
        "<p id = \"eps\" style=\"font-family: Georgia, 'Times New Roman', serif; font-size: 18px; color: #333; text-align: justify;\"><b>Earnings per Share (EPS)</b></p>\n",
        "<br>\n",
        "<p style=\"font-family: Georgia, 'Times New Roman', serif; font-size: 18px; color: #333; text-align: justify;\">Earnings per share (EPS) is an indicator that measures a company's net profit per the number of stocks available in the stock market. It is calculated by dividing the net profit by the total number of shares. The EPS provides a way for investors to evaluate a company's profitability on a per-share basis. A higher EPS indicates a company that is more profitable, which may lead to increased demand for its shares and a higher stock price in the future.</p>\n",
        "<br>\n",
        "<br>"
      ],
      "metadata": {
        "id": "djbV36Vn1Zgu"
      }
    },
    {
      "cell_type": "markdown",
      "source": [
        "<p id = 're' style=\"font-family: Georgia, 'Times New Roman', serif; font-size: 18px; color: #333; text-align: justify;\"><b>Price-to-Earnings Ratio (P/E)</b></p>\n",
        "<br>\n",
        "<p style=\"font-family: Georgia, 'Times New Roman', serif; font-size: 18px; color: #333; text-align: justify;\">The P/E ratio indicator serves to compare a company's stock price to its earnings per share (EPS). It is calculated by dividing the current stock price by the EPS. The P/E ratio provides investors with insight into how much they are paying for each dollar of earnings. A higher P/E ratio indicates that investors are willing to pay more for each dollar of earnings, which may suggest that they expect the company to grow in the future.</p>\n",
        "<br>\n",
        "<br>"
      ],
      "metadata": {
        "id": "wv83nEdA1Zgu"
      }
    },
    {
      "cell_type": "markdown",
      "source": [
        "<p id = 'roe' style=\"font-family: Georgia, 'Times New Roman', serif; font-size: 18px; color: #333; text-align: justify;\"><b>Return on Equity (ROE)</b></p>\n",
        "<br>\n",
        "<p style=\"font-family: Georgia, 'Times New Roman', serif; font-size: 18px; color: #333; text-align: justify;\">The ROE indicator measures a company's profitability by calculating the amount of net income generated as a percentage of the company's shareholder equity. It is calculated by dividing the net income by the shareholder equity. The ROE provides a way for investors to evaluate how effectively a company is using its equity to generate profits. A higher ROE indicates a more efficient use of shareholder equity, which can lead to increased demand for shares and higher stock price, as well as increase in company's profits in the future.</p>\n",
        "<br>\n",
        "<br>"
      ],
      "metadata": {
        "id": "1woYWO5f1Zgu"
      }
    },
    {
      "cell_type": "markdown",
      "source": [
        "<p id = 'dte' style=\"font-family: Georgia, 'Times New Roman', serif; font-size: 18px; color: #333; text-align: justify;\"><b>Debt-to-Equity Ratio</b></p>\n",
        "<br>\n",
        "<p style=\"font-family: Georgia, 'Times New Roman', serif; font-size: 18px; color: #333; text-align: justify;\">The debt-to-equity ratio is an indicator that measures a company's leverage by comparing its total liabilities to its shareholder equity. It is calculated by dividing the total liabilities by the shareholder equity. The debt-to-equity ratio provides investors with insight into how much debt a company is using to finance its operations. A higher debt-to-equity ratio suggests that a company is relying more on debt financing, which increase its financial risk.</p>\n",
        "<br>\n",
        "<br>"
      ],
      "metadata": {
        "id": "88xoUaL51Zgu"
      }
    },
    {
      "cell_type": "markdown",
      "source": [
        "<p id = 'dy' style=\"font-family: Georgia, 'Times New Roman', serif; font-size: 18px; color: #333; text-align: justify;\"><b>Dividend Yield</b></p>\n",
        "<br>\n",
        "<p style=\"font-family: Georgia, 'Times New Roman', serif; font-size: 18px; color: #333; text-align: justify;\">The dividend yield is an indicator that measures the annual dividend income generated by a company's stock relative to its current market price. It is calculated by dividing the annual dividend per share by the current market price per share. The dividend yield provides a way for investors to evaluate the income potential of a company's stock. A higher dividend yield indicates that the company is paying out a larger portion of its profits as dividends, which can be attractive to investors looking for passive income.</p>\n",
        "<br>\n",
        "<br>"
      ],
      "metadata": {
        "id": "9Efb-16H1Zgu"
      }
    },
    {
      "cell_type": "markdown",
      "source": [
        "<div class=\"alert alert-block alert-warning\">  \n",
        "<b>Important Note:</b> As of March 2023 it seems that yfinance, as well as other libraries, are having the <b>Exception: yfinance failed to decrypt Yahoo data response</b> issue. I've tried other methods to obtain these indicators, but none of them worked, or the data obtained didn't seem to be reliable at all. I'll manually add the indicators and print them below, however, I'll leave a code cell demonstrating how you would usually execute this extraction using yfinance, so you can reproduce it when this issue gets solved.\n",
        "</div>"
      ],
      "metadata": {
        "id": "VP_sLXYj1Zgu"
      }
    },
    {
      "cell_type": "code",
      "source": [
        "# Getting AAPL data\n",
        "# aapl = yf.Ticker(\"AAPL\")\n",
        "# aapl_eps = aapl.info['trailingEps']\n",
        "# aapl_pe_ratio = aapl.info['trailingPE']\n",
        "# aapl_roe = aapl.info['returnOnEquity']*100\n",
        "# aapl_dy = aapl.info['dividendYield']*100\n",
        "\n",
        "# Getting AMD data\n",
        "# amd = yf.Ticker(\"AMD\")\n",
        "# amd_eps = amd.info['trailingEps']\n",
        "# amd_pe_ratio = amd.info['trailingPE']\n",
        "# amd_roe = amd.info['returnOnEquity']*100\n",
        "# amd_dy = amd.info['dividendYield']*100"
      ],
      "metadata": {
        "execution": {
          "iopub.status.busy": "2023-03-21T19:43:47.927933Z",
          "iopub.execute_input": "2023-03-21T19:43:47.929084Z",
          "iopub.status.idle": "2023-03-21T19:43:47.934167Z",
          "shell.execute_reply.started": "2023-03-21T19:43:47.928992Z",
          "shell.execute_reply": "2023-03-21T19:43:47.932974Z"
        },
        "trusted": true,
        "id": "TQAN8IFk1Zgu"
      },
      "execution_count": null,
      "outputs": []
    },
    {
      "cell_type": "code",
      "source": [
        "# AAPL indicators (obtained from https://finance.yahoo.com/quote/AAPL/key-statistics?p=AAPL)\n",
        "\n",
        "aapl_eps = 5.89\n",
        "aapl_pe_ratio = 26.12\n",
        "aapl_roe = 147.94\n",
        "aapl_dy = 0.60\n",
        "\n",
        "# AMD indicators (obtained from https://finance.yahoo.com/quote/AMD/key-statistics?p=AMD)\n",
        "amd_eps = 0.82\n",
        "amd_pe_ratio = 96.62\n",
        "amd_roe = 4.24\n",
        "amd_dy = 0.00\n",
        "\n",
        "# Printing data\n",
        "print('\\n')\n",
        "print('Apple (AAPL) Fundamental Indicators: ')\n",
        "print('\\n')\n",
        "print('Earnings per Share (EPS): ',aapl_eps)\n",
        "print('Price-to-Earnings Ratio (P/E): ', aapl_pe_ratio)\n",
        "print('Return on Equity (ROE): ', aapl_roe,\"%\")\n",
        "print('Dividend Yield: ', aapl_dy,\"%\")\n",
        "print('\\n')\n",
        "print('AMD Fundamental Indicators: ')\n",
        "print('\\n')\n",
        "print('Earnings per Share (EPS): ',amd_eps)\n",
        "print('Price-to-Earnings Ratio (P/E): ', amd_pe_ratio)\n",
        "print('Return on Equity (ROE): ',amd_roe,\"%\")\n",
        "print('Dividend Yield: ', amd_dy,\"%\")\n",
        "print('\\n')"
      ],
      "metadata": {
        "execution": {
          "iopub.status.busy": "2023-03-21T19:43:47.93557Z",
          "iopub.execute_input": "2023-03-21T19:43:47.936787Z",
          "iopub.status.idle": "2023-03-21T19:43:47.955679Z",
          "shell.execute_reply.started": "2023-03-21T19:43:47.936747Z",
          "shell.execute_reply": "2023-03-21T19:43:47.954041Z"
        },
        "trusted": true,
        "id": "VQLB70Qp1Zgu"
      },
      "execution_count": null,
      "outputs": []
    },
    {
      "cell_type": "markdown",
      "source": [
        "<p id = 'prior' style=\"font-family: Georgia, 'Times New Roman', serif; font-size: 18px; color: #333; text-align: justify;\">To briefly draw some conclusion on the indicators above, it can be stated that, compared to AMD, AAPL has a higher EPS, indicating that they are generating a higher net profit per share. AAPL also has a lower P/E ratio, meaning that the stock is less expensive per unit of earnings. It also has an incredibly high ROE, which suggests that they are doing a good job of managing shareholders' equity to generate profits. On the other hand, AMD has a relatively low ROE, indicating that the company is not as profitable when compared to AAPL. AAPL also has a modest dividend yield of 0.6%, indicating that they pay dividends to shareholders, while AMD does not pay any dividends at all. </p>\n",
        "<br>\n",
        "<p id = 'prior' style=\"font-family: Georgia, 'Times New Roman', serif; font-size: 18px; color: #333; text-align: justify;\">Overall, it can be inferred that the indicators above suggest that AAPL is a more profitable company with a more mature business model than AMD.</p>"
      ],
      "metadata": {
        "id": "urjB1q3v1Zgu"
      }
    },
    {
      "cell_type": "markdown",
      "source": [
        "# <h1 id = \"backtesting\" style=\"font-family: 'Cambria', Georgia, serif; font-weight: bold; border-bottom: 3px solid #000; padding: 8px; margin-bottom: 20px; text-align: left; letter-spacing: 1px;\">4 | Backtesting</h1>"
      ],
      "metadata": {
        "id": "_b__gtt41Zgu"
      }
    },
    {
      "cell_type": "markdown",
      "source": [
        "<p style=\"font-family: Georgia, 'Times New Roman', serif; font-size: 18px; color: #333; text-align: justify;\">Backtesting is the process of evaluating the performance of a trading strategy based on historical market data. In other words, it involves testing a trading strategy using historical data to see how it would have performed if it had been applied in the past. This allows traders and investors to assess the profitability and effectiveness of their trading strategies before applying them to live trading.</p>\n",
        "<br>\n",
        "<p style=\"font-family: Georgia, 'Times New Roman', serif; font-size: 18px; color: #333; text-align: justify;\">With Python, it is extremely easy to perform backtesting on historic data to se how a portfolio performs on a single strategy, or multiple different strategies applied to many financial securities.</p>\n",
        "<br>\n",
        "<p style=\"font-family: Georgia, 'Times New Roman', serif; font-size: 18px; color: #333; text-align: justify;\">Below, we're going to backtest the RSI strategy and the moving average crossover strategy, which are two different types of trading strategies, on the EUR/USD currency pair, one of the most traded pair in Forex, in three different timeframes.</p>\n",
        "<br>"
      ],
      "metadata": {
        "id": "rg0_XHFF1Zgv"
      }
    },
    {
      "cell_type": "markdown",
      "source": [
        "<h2 id = 'rsi-backtest' style=\"font-family: 'Cambria', Georgia, serif; font-weight: bold; margin-bottom: 20px; text-align: left; letter-spacing: 1px;\">RSI Backtesting</h2>\n",
        "<br>\n",
        "<p style=\"font-family: Georgia, 'Times New Roman', serif; font-size: 18px; color: #333; text-align: justify;\">The Relative Strength Index (RSI), as mentioned before, can be used to identify overbought and oversold regions, which allows traders to either sell or buy when it is above 70 or below 30.</p>\n",
        "<br>\n",
        "<p style=\"font-family: Georgia, 'Times New Roman', serif; font-size: 18px; color: #333; text-align: justify;\">This kind of strategy can be seen as countertrend strategy, as traders are looking for good entry points to open a position that goes against the current trend.</p>\n",
        "<br>\n",
        "<p style=\"font-family: Georgia, 'Times New Roman', serif; font-size: 18px; color: #333; text-align: justify;\">For this backtesting, we will buy whenever the RSI goes below 30 and sell whenever it goes above 70.</p>\n",
        "<br>\n",
        "<p style=\"font-family: Georgia, 'Times New Roman', serif; font-size: 18px; color: #333; text-align: justify;\">Consider that this backtesting is very simple, just to give you a direction to look for when you perform your own backtests. Usually, it is also important to consider the taxes, slippage, and other costs you'll have while trading. Here, we're roughly talking about gross profits and losses, so keep this in mind.</p>\n",
        "<br>\n",
        "<p style=\"font-family: Georgia, 'Times New Roman', serif; font-size: 18px; color: #333; text-align: justify;\">For this backtesting, let's consider an initial capital of 100.00 dollars. Then, we're going to print the initial capital, the number of trades, and the final capital after the backtest.</p>"
      ],
      "metadata": {
        "id": "Hc7Qf3q51Zgv"
      }
    },
    {
      "cell_type": "markdown",
      "source": [
        "<p id ='hourly-rsi-backtest' style=\"font-family: Georgia, 'Times New Roman', serif; font-size: 18px; color: #333; text-align: justify;\"><b>Hourly Data</b></p>"
      ],
      "metadata": {
        "id": "TUZCoWpC1Zgv"
      }
    },
    {
      "cell_type": "code",
      "source": [
        "# Loading hourly data for the EUR/USD pair\n",
        "end_date = dt.datetime.now() # Defining the datetime for March 21st\n",
        "start_date = end_date - dt.timedelta(days=729) # Loading hourly data for the last 729 days\n",
        "\n",
        "hourly_eur_usd = yf.download('EURUSD=X', start=start_date, end=end_date, interval='1h')\n",
        "hourly_eur_usd"
      ],
      "metadata": {
        "execution": {
          "iopub.status.busy": "2023-03-21T19:43:47.958075Z",
          "iopub.execute_input": "2023-03-21T19:43:47.958614Z",
          "iopub.status.idle": "2023-03-21T19:43:48.458551Z",
          "shell.execute_reply.started": "2023-03-21T19:43:47.958542Z",
          "shell.execute_reply": "2023-03-21T19:43:48.457367Z"
        },
        "trusted": true,
        "id": "tdirDUzC1Zgv"
      },
      "execution_count": null,
      "outputs": []
    },
    {
      "cell_type": "code",
      "source": [
        "# Calculating the RSI with the TA library\n",
        "hourly_eur_usd['rsi'] = ta.momentum.RSIIndicator(hourly_eur_usd['Adj Close'], window = 14).rsi()\n",
        "hourly_eur_usd"
      ],
      "metadata": {
        "execution": {
          "iopub.status.busy": "2023-03-21T19:43:48.460421Z",
          "iopub.execute_input": "2023-03-21T19:43:48.4609Z",
          "iopub.status.idle": "2023-03-21T19:43:48.487552Z",
          "shell.execute_reply.started": "2023-03-21T19:43:48.460853Z",
          "shell.execute_reply": "2023-03-21T19:43:48.486683Z"
        },
        "trusted": true,
        "id": "lmetlYDm1Zgv"
      },
      "execution_count": null,
      "outputs": []
    },
    {
      "cell_type": "code",
      "source": [
        "# Plotting candlestick chart for hourly EUR/USD\n",
        "fig = make_subplots(rows=2, cols=1, shared_xaxes=True, vertical_spacing=0.05,row_heights=[0.7, 0.3])\n",
        "fig.add_trace(go.Candlestick(x=hourly_eur_usd.index,\n",
        "                             open=hourly_eur_usd['Open'],\n",
        "                             high=hourly_eur_usd['High'],\n",
        "                             low=hourly_eur_usd['Low'],\n",
        "                             close=hourly_eur_usd['Adj Close'],\n",
        "                             name='EUR/USD'), row=1, col=1)\n",
        "\n",
        "# Adding annotation\n",
        "fig.add_annotation(text='EUR/USD 1HR',\n",
        "                    font=dict(color='white', size=40),\n",
        "                    xref='paper', yref='paper',\n",
        "                    x=0.5, y=0.65,\n",
        "                    showarrow=False,\n",
        "                    opacity=0.2)\n",
        "\n",
        "\n",
        "# Relative Strengh Index (RSI) Indicator\n",
        "fig.add_trace(go.Scatter(x=hourly_eur_usd.index,\n",
        "                         y=hourly_eur_usd['rsi'],\n",
        "                         mode='lines',\n",
        "                         line=dict(color='#CBC3E3'),\n",
        "                         name='RSI'),\n",
        "              row=2, col=1)\n",
        "\n",
        "\n",
        "# Adding marking lines at 70 and 30 levels\n",
        "fig.add_shape(type=\"line\",\n",
        "              x0=hourly_eur_usd.index[0], y0=70, x1=hourly_eur_usd.index[-1], y1=70,\n",
        "              line=dict(color=\"red\", width=2, dash=\"dot\"),\n",
        "              row=2, col=1)\n",
        "fig.add_shape(type=\"line\",\n",
        "              x0=hourly_eur_usd.index[0], y0=30, x1=hourly_eur_usd.index[-1], y1=30,\n",
        "              line=dict(color=\"#90EE90\", width=2, dash=\"dot\"),\n",
        "              row=2, col=1)\n",
        "\n",
        "# Layout\n",
        "fig.update_layout(title='EUR/USD Hourly Candlestick Chart from 2021 to 2023',\n",
        "                  yaxis=dict(title='Price'),\n",
        "                  height=1000,\n",
        "                 template = 'plotly_dark')\n",
        "\n",
        "# Configuring subplots\n",
        "fig.update_xaxes(rangeslider_visible=False)\n",
        "fig.update_yaxes(title_text='Price', row = 1)\n",
        "fig.update_yaxes(title_text='RSI', row = 2)\n",
        "\n",
        "fig.show()"
      ],
      "metadata": {
        "execution": {
          "iopub.status.busy": "2023-03-21T19:43:48.488557Z",
          "iopub.execute_input": "2023-03-21T19:43:48.488917Z",
          "iopub.status.idle": "2023-03-21T19:43:49.706273Z",
          "shell.execute_reply.started": "2023-03-21T19:43:48.488886Z",
          "shell.execute_reply": "2023-03-21T19:43:49.704923Z"
        },
        "trusted": true,
        "id": "TH1FGg8t1Zgv"
      },
      "execution_count": null,
      "outputs": []
    },
    {
      "cell_type": "code",
      "source": [
        "# Defining the parameters for the RSI strategy\n",
        "rsi_period = 14\n",
        "overbought = 70\n",
        "oversold = 30\n",
        "\n",
        "# Creating a new column to hold the signals\n",
        "hourly_eur_usd['signal'] = 0 # When we're not positioned, 'signal' = 0\n",
        "\n",
        "# Generating the entries\n",
        "for i in range(rsi_period, len(hourly_eur_usd)):\n",
        "    if hourly_eur_usd['rsi'][i] > overbought and hourly_eur_usd['rsi'][i - 1] <= overbought:\n",
        "        hourly_eur_usd['signal'][i] = -1 # We sell when 'signal' = -1\n",
        "    elif hourly_eur_usd['rsi'][i] < oversold and hourly_eur_usd['rsi'][i - 1] >= oversold:\n",
        "        hourly_eur_usd['signal'][i] = 1 # We buy when 'signal' = 1\n",
        "\n",
        "# Calculating the pair's daily returns\n",
        "hourly_eur_usd['returns'] = hourly_eur_usd['Adj Close'].pct_change()\n",
        "hourly_eur_usd['cumulative_returns'] = (1 + hourly_eur_usd['returns']).cumprod() - 1 # Total returns of the period\n",
        "\n",
        "# Applying the signals to the returns\n",
        "hourly_eur_usd['strategy_returns'] = hourly_eur_usd['signal'].shift(1) * hourly_eur_usd['returns']\n",
        "\n",
        "# Calculating the cumulative returns of the strategy\n",
        "hourly_eur_usd['cumulative_strategy_returns'] = (1 + hourly_eur_usd['strategy_returns']).cumprod() - 1\n",
        "\n",
        "# Setting the initial capital to $100\n",
        "initial_capital = 100\n",
        "\n",
        "# Calculating total portfolio value\n",
        "hourly_eur_usd['portfolio_value'] = (1 + hourly_eur_usd['strategy_returns']).cumprod() * initial_capital\n",
        "\n",
        "# Printing the number of trades, initial capital, and final capital\n",
        "num_trades = hourly_eur_usd['signal'].abs().sum()\n",
        "final_capital = hourly_eur_usd['portfolio_value'].iloc[-1]\n",
        "total_return = (final_capital - initial_capital) / initial_capital * 100\n",
        "\n",
        "print('\\n')\n",
        "print(f\"Number of trades: {num_trades}\")\n",
        "print(f\"Initial capital: ${initial_capital}\")\n",
        "print(f\"Final capital: ${final_capital:.2f}\")\n",
        "print(f\"Total return: {total_return:.2f}%\")\n",
        "print('\\n')\n",
        "\n",
        "# Plotting the portfolio total value\n",
        "fig = go.Figure()\n",
        "\n",
        "fig.add_trace(go.Scatter(x=hourly_eur_usd.index,\n",
        "                         y=hourly_eur_usd['portfolio_value'].round(2),\n",
        "                         mode='lines',\n",
        "                         line=dict(color='#00BFFF'),\n",
        "                         name='Portfolio Value'))\n",
        "\n",
        "fig.update_layout(title='Portfolio - RSI Strategy on Hourly Data',\n",
        "                  xaxis_title='Date',\n",
        "                  yaxis_title='Value ($)',\n",
        "                  template='plotly_dark',\n",
        "                 height = 600)\n",
        "\n",
        "fig.show()"
      ],
      "metadata": {
        "execution": {
          "iopub.status.busy": "2023-03-21T19:43:49.708277Z",
          "iopub.execute_input": "2023-03-21T19:43:49.708691Z",
          "iopub.status.idle": "2023-03-21T19:43:50.560333Z",
          "shell.execute_reply.started": "2023-03-21T19:43:49.708652Z",
          "shell.execute_reply": "2023-03-21T19:43:50.559417Z"
        },
        "trusted": true,
        "id": "dskHRM9h1Zgv"
      },
      "execution_count": null,
      "outputs": []
    },
    {
      "cell_type": "markdown",
      "source": [
        "<p id = 'daily-rsi-backtest' style=\"font-family: Georgia, 'Times New Roman', serif; font-size: 18px; color: #333; text-align: justify;\"><b>Daily Data</b></p>"
      ],
      "metadata": {
        "id": "BWm1yXIf1Zgv"
      }
    },
    {
      "cell_type": "code",
      "source": [
        "# Loading daily EUR/USD pair data for the last eight years\n",
        "daily_eur_usd = yf.download('EURUSD=X', start='2015-03-13', end='2023-03-13', interval='1d')"
      ],
      "metadata": {
        "execution": {
          "iopub.status.busy": "2023-03-21T19:43:50.561689Z",
          "iopub.execute_input": "2023-03-21T19:43:50.562276Z",
          "iopub.status.idle": "2023-03-21T19:43:50.747677Z",
          "shell.execute_reply.started": "2023-03-21T19:43:50.562241Z",
          "shell.execute_reply": "2023-03-21T19:43:50.746304Z"
        },
        "trusted": true,
        "id": "Suhm-75R1Zgv"
      },
      "execution_count": null,
      "outputs": []
    },
    {
      "cell_type": "code",
      "source": [
        "daily_eur_usd # Daily dataframe"
      ],
      "metadata": {
        "execution": {
          "iopub.status.busy": "2023-03-21T19:43:50.749264Z",
          "iopub.execute_input": "2023-03-21T19:43:50.749782Z",
          "iopub.status.idle": "2023-03-21T19:43:50.770949Z",
          "shell.execute_reply.started": "2023-03-21T19:43:50.749731Z",
          "shell.execute_reply": "2023-03-21T19:43:50.769656Z"
        },
        "trusted": true,
        "id": "iYuAa_RZ1Zgv"
      },
      "execution_count": null,
      "outputs": []
    },
    {
      "cell_type": "code",
      "source": [
        "# Calculating the RSI with the TA library\n",
        "daily_eur_usd[\"rsi\"] = ta.momentum.RSIIndicator(daily_eur_usd[\"Adj Close\"], window=14).rsi()\n",
        "daily_eur_usd # Displaying dataframe"
      ],
      "metadata": {
        "execution": {
          "iopub.status.busy": "2023-03-21T19:43:50.772858Z",
          "iopub.execute_input": "2023-03-21T19:43:50.773261Z",
          "iopub.status.idle": "2023-03-21T19:43:50.800824Z",
          "shell.execute_reply.started": "2023-03-21T19:43:50.773226Z",
          "shell.execute_reply": "2023-03-21T19:43:50.799513Z"
        },
        "trusted": true,
        "id": "eCqd-dac1Zgv"
      },
      "execution_count": null,
      "outputs": []
    },
    {
      "cell_type": "code",
      "source": [
        "# Plotting candlestick chart for daily EUR/USD\n",
        "fig = make_subplots(rows=2, cols=1, shared_xaxes=True, vertical_spacing=0.05,row_heights=[0.7, 0.3])\n",
        "fig.add_trace(go.Candlestick(x=daily_eur_usd.index,\n",
        "                             open=daily_eur_usd['Open'],\n",
        "                             high=daily_eur_usd['High'],\n",
        "                             low=daily_eur_usd['Low'],\n",
        "                             close=daily_eur_usd['Adj Close'],\n",
        "                             name='EUR/USD'), row=1, col=1)\n",
        "\n",
        "# Annotation\n",
        "fig.add_annotation(text='EUR/USD 1D',\n",
        "                    font=dict(color='white', size=40),\n",
        "                    xref='paper', yref='paper',\n",
        "                    x=0.5, y=0.65,\n",
        "                    showarrow=False,\n",
        "                    opacity=0.2)\n",
        "\n",
        "\n",
        "# Relative Strengh Index (RSI)\n",
        "fig.add_trace(go.Scatter(x=daily_eur_usd.index,\n",
        "                         y=daily_eur_usd['rsi'],\n",
        "                         mode='lines',\n",
        "                         line=dict(color='#CBC3E3'),\n",
        "                         name='RSI'),\n",
        "              row=2, col=1)\n",
        "\n",
        "\n",
        "# Adding marking lines at 70 and 30 levels\n",
        "fig.add_shape(type=\"line\",\n",
        "              x0=daily_eur_usd.index[0], y0=70, x1=daily_eur_usd.index[-1], y1=70,\n",
        "              line=dict(color=\"red\", width=2, dash=\"dot\"),\n",
        "              row=2, col=1)\n",
        "fig.add_shape(type=\"line\",\n",
        "              x0=daily_eur_usd.index[0], y0=30, x1=daily_eur_usd.index[-1], y1=30,\n",
        "              line=dict(color=\"#90EE90\", width=2, dash=\"dot\"),\n",
        "              row=2, col=1)\n",
        "\n",
        "fig.update_layout(title='EUR/USD Daily Candlestick Chart from 2015 to 2023',\n",
        "                  yaxis=dict(title='Price'),\n",
        "                  height=1000,\n",
        "                 template = 'plotly_dark')\n",
        "\n",
        "# Configuring subplots\n",
        "fig.update_xaxes(rangeslider_visible=False)\n",
        "fig.update_yaxes(title_text='Price', row = 1)\n",
        "fig.update_yaxes(title_text='RSI', row = 2)\n",
        "\n",
        "fig.show()"
      ],
      "metadata": {
        "execution": {
          "iopub.status.busy": "2023-03-21T19:43:50.80232Z",
          "iopub.execute_input": "2023-03-21T19:43:50.802686Z",
          "iopub.status.idle": "2023-03-21T19:43:51.017252Z",
          "shell.execute_reply.started": "2023-03-21T19:43:50.802652Z",
          "shell.execute_reply": "2023-03-21T19:43:51.016146Z"
        },
        "trusted": true,
        "id": "waBMPgrK1Zgv"
      },
      "execution_count": null,
      "outputs": []
    },
    {
      "cell_type": "code",
      "source": [
        "# Defining the parameters for the RSI strategy\n",
        "rsi_period = 14\n",
        "overbought = 70\n",
        "oversold = 30\n",
        "\n",
        "# Creating a new column to hold the signals\n",
        "daily_eur_usd['signal'] = 0\n",
        "\n",
        "# Generating entry signals\n",
        "for i in range(rsi_period, len(daily_eur_usd)):\n",
        "    if daily_eur_usd['rsi'][i] > overbought and daily_eur_usd['rsi'][i - 1] <= overbought:\n",
        "        daily_eur_usd['signal'][i] = -1 # sell signal\n",
        "    elif daily_eur_usd['rsi'][i] < oversold and daily_eur_usd['rsi'][i - 1] >= oversold:\n",
        "        daily_eur_usd['signal'][i] = 1 # buy signal\n",
        "\n",
        "# Calculating total returns for the EUR/USD\n",
        "daily_eur_usd['returns'] = daily_eur_usd['Adj Close'].pct_change()\n",
        "daily_eur_usd['cumulative_returns'] = (1 + daily_eur_usd['returns']).cumprod() - 1\n",
        "\n",
        "# Applying the signals to the returns\n",
        "daily_eur_usd['strategy_returns'] = daily_eur_usd['signal'].shift(1) * daily_eur_usd['returns']\n",
        "\n",
        "# Calculating the cumulative returns for the strategy\n",
        "daily_eur_usd['cumulative_strategy_returns'] = (1 + daily_eur_usd['strategy_returns']).cumprod() - 1\n",
        "\n",
        "# Setting the initial capital\n",
        "initial_capital = 100\n",
        "\n",
        "# Calculating portfolio value\n",
        "daily_eur_usd['portfolio_value'] = (1 + daily_eur_usd['strategy_returns']).cumprod() * initial_capital\n",
        "\n",
        "# Printing the number of trades, initial capital, and final capital\n",
        "num_trades = daily_eur_usd['signal'].abs().sum()\n",
        "final_capital = daily_eur_usd['portfolio_value'].iloc[-1]\n",
        "total_return = (final_capital - initial_capital) / initial_capital * 100\n",
        "\n",
        "print('\\n')\n",
        "print(f\"Number of trades: {num_trades}\")\n",
        "print(f\"Initial capital: ${initial_capital}\")\n",
        "print(f\"Final capital: ${final_capital:.2f}\")\n",
        "print(f\"Total return: {total_return:.2f}%\")\n",
        "print('\\n')\n",
        "\n",
        "# Plotting portfolio evolution\n",
        "fig = go.Figure()\n",
        "\n",
        "fig.add_trace(go.Scatter(x=daily_eur_usd.index,\n",
        "                         y=daily_eur_usd['portfolio_value'].round(2),\n",
        "                         mode='lines',\n",
        "                         line=dict(color='#00BFFF'),\n",
        "                         name='Portfolio Value'))\n",
        "\n",
        "fig.update_layout(title='Portfolio - RSI Strategy on Daily Data',\n",
        "                  xaxis_title='Date',\n",
        "                  yaxis_title='Value ($)',\n",
        "                  template='plotly_dark',\n",
        "                 height = 600)\n",
        "\n",
        "fig.show()"
      ],
      "metadata": {
        "execution": {
          "iopub.status.busy": "2023-03-21T19:43:51.019225Z",
          "iopub.execute_input": "2023-03-21T19:43:51.019692Z",
          "iopub.status.idle": "2023-03-21T19:43:51.189658Z",
          "shell.execute_reply.started": "2023-03-21T19:43:51.019642Z",
          "shell.execute_reply": "2023-03-21T19:43:51.188335Z"
        },
        "trusted": true,
        "id": "LTkw56FZ1Zgw"
      },
      "execution_count": null,
      "outputs": []
    },
    {
      "cell_type": "markdown",
      "source": [
        "<p id = 'weekly-rsi-backtest' style=\"font-family: Georgia, 'Times New Roman', serif; font-size: 18px; color: #333; text-align: justify;\"><b>Weekly Data</b></p>"
      ],
      "metadata": {
        "id": "0MnhxcdV1Zgw"
      }
    },
    {
      "cell_type": "code",
      "source": [
        "# Weekly time frame\n",
        "weekly_eur_usd = yf.download('EURUSD=X', start='2015-03-13', end='2023-03-13', interval='1wk')"
      ],
      "metadata": {
        "execution": {
          "iopub.status.busy": "2023-03-21T19:43:51.191933Z",
          "iopub.execute_input": "2023-03-21T19:43:51.192946Z",
          "iopub.status.idle": "2023-03-21T19:43:51.335518Z",
          "shell.execute_reply.started": "2023-03-21T19:43:51.19289Z",
          "shell.execute_reply": "2023-03-21T19:43:51.334583Z"
        },
        "trusted": true,
        "id": "JjeVJnqc1Zgw"
      },
      "execution_count": null,
      "outputs": []
    },
    {
      "cell_type": "code",
      "source": [
        "# Calculating the RSI with the TA library\n",
        "weekly_eur_usd[\"rsi\"] = ta.momentum.RSIIndicator(weekly_eur_usd[\"Adj Close\"], window=14).rsi()\n",
        "weekly_eur_usd"
      ],
      "metadata": {
        "execution": {
          "iopub.status.busy": "2023-03-21T19:43:51.336732Z",
          "iopub.execute_input": "2023-03-21T19:43:51.337696Z",
          "iopub.status.idle": "2023-03-21T19:43:51.360725Z",
          "shell.execute_reply.started": "2023-03-21T19:43:51.337655Z",
          "shell.execute_reply": "2023-03-21T19:43:51.359641Z"
        },
        "trusted": true,
        "id": "X2JpeiJv1Zgw"
      },
      "execution_count": null,
      "outputs": []
    },
    {
      "cell_type": "code",
      "source": [
        "# Plotting candlestick chart for weekly EUR/USD\n",
        "fig = make_subplots(rows=2, cols=1, shared_xaxes=True, vertical_spacing=0.05,row_heights=[0.7, 0.3])\n",
        "fig.add_trace(go.Candlestick(x=weekly_eur_usd.index,\n",
        "                             open=weekly_eur_usd['Open'],\n",
        "                             high=weekly_eur_usd['High'],\n",
        "                             low=weekly_eur_usd['Low'],\n",
        "                             close=weekly_eur_usd['Adj Close'],\n",
        "                             name='EUR/USD'), row=1, col=1)\n",
        "\n",
        "# Annotations\n",
        "fig.add_annotation(text='EUR/USD 1W',\n",
        "                    font=dict(color='white', size=40),\n",
        "                    xref='paper', yref='paper',\n",
        "                    x=0.5, y=0.65,\n",
        "                    showarrow=False,\n",
        "                    opacity=0.2)\n",
        "\n",
        "\n",
        "# Relative Strengh Index (RSI)\n",
        "fig.add_trace(go.Scatter(x=weekly_eur_usd.index,\n",
        "                         y=weekly_eur_usd['rsi'],\n",
        "                         mode='lines',\n",
        "                         line=dict(color='#CBC3E3'),\n",
        "                         name='RSI'),\n",
        "              row=2, col=1)\n",
        "\n",
        "\n",
        "# Adding marking lines at 70 and 30 levels\n",
        "fig.add_shape(type=\"line\",\n",
        "              x0=weekly_eur_usd.index[0], y0=70, x1=weekly_eur_usd.index[-1], y1=70,\n",
        "              line=dict(color=\"red\", width=2, dash=\"dot\"),\n",
        "              row=2, col=1)\n",
        "fig.add_shape(type=\"line\",\n",
        "              x0=weekly_eur_usd.index[0], y0=30, x1=weekly_eur_usd.index[-1], y1=30,\n",
        "              line=dict(color=\"#90EE90\", width=2, dash=\"dot\"),\n",
        "              row=2, col=1)\n",
        "\n",
        "fig.update_layout(title='EUR/USD Weekly Candlestick Chart from 2015 to 2023',\n",
        "                  yaxis=dict(title='Price'),\n",
        "                  height=1000,\n",
        "                 template = 'plotly_dark')\n",
        "\n",
        "# Configuring subplots\n",
        "fig.update_xaxes(rangeslider_visible=False)\n",
        "fig.update_yaxes(title_text='Price', row = 1)\n",
        "fig.update_yaxes(title_text='RSI', row = 2)\n",
        "\n",
        "fig.show()"
      ],
      "metadata": {
        "execution": {
          "iopub.status.busy": "2023-03-21T19:43:51.362028Z",
          "iopub.execute_input": "2023-03-21T19:43:51.362921Z",
          "iopub.status.idle": "2023-03-21T19:43:51.471814Z",
          "shell.execute_reply.started": "2023-03-21T19:43:51.362886Z",
          "shell.execute_reply": "2023-03-21T19:43:51.47066Z"
        },
        "trusted": true,
        "id": "Hhe5XVrW1Zgw"
      },
      "execution_count": null,
      "outputs": []
    },
    {
      "cell_type": "code",
      "source": [
        "# Defining the parameters for the RSI strategy\n",
        "rsi_period = 14\n",
        "overbought = 70\n",
        "oversold = 30\n",
        "\n",
        "# Creating a new column to hold the signals\n",
        "weekly_eur_usd['signal'] = 0\n",
        "\n",
        "# Generating entry signals\n",
        "for i in range(rsi_period, len(weekly_eur_usd)):\n",
        "    if weekly_eur_usd['rsi'][i] > overbought and weekly_eur_usd['rsi'][i - 1] <= overbought:\n",
        "        weekly_eur_usd['signal'][i] = -1 # sell signal\n",
        "    elif weekly_eur_usd['rsi'][i] < oversold and weekly_eur_usd['rsi'][i - 1] >= oversold:\n",
        "        weekly_eur_usd['signal'][i] = 1 # buy signal\n",
        "\n",
        "# Calculating total returns\n",
        "weekly_eur_usd['returns'] = weekly_eur_usd['Adj Close'].pct_change()\n",
        "weekly_eur_usd['cumulative_returns'] = (1 + weekly_eur_usd['returns']).cumprod() - 1\n",
        "\n",
        "# Applying the signals to the returns\n",
        "weekly_eur_usd['strategy_returns'] = weekly_eur_usd['signal'].shift(1) * weekly_eur_usd['returns']\n",
        "\n",
        "# Calculating the cumulative returns\n",
        "weekly_eur_usd['cumulative_strategy_returns'] = (1 + weekly_eur_usd['strategy_returns']).cumprod() - 1\n",
        "\n",
        "# Setting the initial capital\n",
        "initial_capital = 100\n",
        "\n",
        "# Calculating total portfolio value\n",
        "weekly_eur_usd['portfolio_value'] = (1 + weekly_eur_usd['strategy_returns']).cumprod() * initial_capital\n",
        "\n",
        "# Printing the number of trades, initial capital, and final capital\n",
        "num_trades = weekly_eur_usd['signal'].abs().sum()\n",
        "final_capital = weekly_eur_usd['portfolio_value'].iloc[-1]\n",
        "total_return = (final_capital - initial_capital) / initial_capital * 100\n",
        "\n",
        "print('\\n')\n",
        "print(f\"Number of trades: {num_trades}\")\n",
        "print(f\"Initial capital: ${initial_capital}\")\n",
        "print(f\"Final capital: ${final_capital:.2f}\")\n",
        "print(f\"Total return: {total_return:.2f}%\")\n",
        "print('\\n')\n",
        "\n",
        "# Plotting strategy returns\n",
        "fig = go.Figure()\n",
        "\n",
        "fig.add_trace(go.Scatter(x=weekly_eur_usd.index,\n",
        "                         y=weekly_eur_usd['portfolio_value'].round(2),\n",
        "                         mode='lines',\n",
        "                         line=dict(color='#00BFFF'),\n",
        "                         name='Portfolio Value'))\n",
        "\n",
        "fig.update_layout(title='Portfolio - RSI Strategy on Weekly Data',\n",
        "                  xaxis_title='Date',\n",
        "                  yaxis_title='Value ($)',\n",
        "                  template='plotly_dark',\n",
        "                 height = 600)\n",
        "\n",
        "fig.show()"
      ],
      "metadata": {
        "execution": {
          "iopub.status.busy": "2023-03-21T19:43:51.473567Z",
          "iopub.execute_input": "2023-03-21T19:43:51.474308Z",
          "iopub.status.idle": "2023-03-21T19:43:51.554379Z",
          "shell.execute_reply.started": "2023-03-21T19:43:51.474261Z",
          "shell.execute_reply": "2023-03-21T19:43:51.553166Z"
        },
        "trusted": true,
        "id": "bOqMZbJp1Zgw"
      },
      "execution_count": null,
      "outputs": []
    },
    {
      "cell_type": "markdown",
      "source": [
        "<p style=\"font-family: Georgia, 'Times New Roman', serif; font-size: 18px; color: #333; text-align: justify;\">Several conclusions can be drawn from the results above.\n",
        "First, the hourly timeframe is characterized by high volatility, leading to frequent swings in the RSI between 30 and 70, and resulting in a significantly higher number of trades compared to the daily and weekly timeframes.</p>\n",
        "<br>\n",
        "<p style=\"font-family: Georgia, 'Times New Roman', serif; font-size: 18px; color: #333; text-align: justify;\">Overall, the backtesting results indicate that the strategy was not very successful, with the portfolio losing 2.01% of its initial value on the daily timeframe and generating only small returns of 0.32% and 0.31% on the weekly and hourly timeframes, respectively. It's important to note, however, that this backtesting did not account for slippage and other additional costs, which could have a significant impact on the overall profitability of the strategy. Therefore, it's important to carefully consider these factors when applying this kind of strategy in real-world  scenarios.</p>\n",
        "<br>"
      ],
      "metadata": {
        "id": "d9E8SeSo1Zgw"
      }
    },
    {
      "cell_type": "markdown",
      "source": [
        "<h2 id = 'mas-backtest' style=\"font-family: 'Cambria', Georgia, serif; font-weight: bold; margin-bottom: 20px; text-align: left; letter-spacing: 1px;\">Moving Average Crossover Backtesting</h2>\n",
        "<br>\n",
        "<p style=\"font-family: Georgia, 'Times New Roman', serif; font-size: 18px; color: #333; text-align: justify;\">The moving average crossover strategy, in contrast to the RSI strategy, is a trend-following strategy. This strategy is based on two different moving averages, one representing a shorter period and another representing a longer period.</p>\n",
        "<br>\n",
        "<p style=\"font-family: Georgia, 'Times New Roman', serif; font-size: 18px; color: #333; text-align: justify;\">When the shorter moving average crosses above the longer moving average, it's a signal to buy, and when it crosses below the longer moving average, it's a signal to sell.</p>\n",
        "<br>\n",
        "<p style=\"font-family: Georgia, 'Times New Roman', serif; font-size: 18px; color: #333; text-align: justify;\">For this backtesting, I used an exponential moving average of 9 periods for the shorter moving average and a simple moving average of 20 periods for the longer moving average. The choice of an exponential moving average for the shorter period is because it gives more weight to recent prices, making it more responsive to market changes compared to the simple moving average.</p>\n",
        "<br>\n",
        "<p style=\"font-family: Georgia, 'Times New Roman', serif; font-size: 18px; color: #333; text-align: justify;\">Once again, we'll consider an initial capital of 100.00 dollars for this backtesting.</p>\n",
        "<br>"
      ],
      "metadata": {
        "id": "m_SoOvjO1Zgw"
      }
    },
    {
      "cell_type": "markdown",
      "source": [
        "<p id = 'hourly-mas-backtest' style=\"font-family: Georgia, 'Times New Roman', serif; font-size: 18px; color: #333; text-align: justify;\"><b>Hourly Data</b></p>"
      ],
      "metadata": {
        "id": "ZEekHNvU1Zgw"
      }
    },
    {
      "cell_type": "code",
      "source": [
        "# Creating the 9-period exponential moving average with the TA library\n",
        "hourly_eur_usd['ema9'] = ta.trend.ema_indicator(hourly_eur_usd['Adj Close'], window=9)\n",
        "\n",
        "# Creating the 20-period exponential moving average with the TA library\n",
        "hourly_eur_usd['sma20'] = ta.trend.sma_indicator(hourly_eur_usd['Adj Close'], window=20)\n",
        "hourly_eur_usd[['Open', 'High', 'Low', 'Adj Close', 'ema9', 'sma20']] # Displaying dataframe with the moving averages"
      ],
      "metadata": {
        "execution": {
          "iopub.status.busy": "2023-03-21T19:43:51.555966Z",
          "iopub.execute_input": "2023-03-21T19:43:51.556343Z",
          "iopub.status.idle": "2023-03-21T19:43:51.584476Z",
          "shell.execute_reply.started": "2023-03-21T19:43:51.556309Z",
          "shell.execute_reply": "2023-03-21T19:43:51.58332Z"
        },
        "trusted": true,
        "id": "ysxnCkpD1Zgw"
      },
      "execution_count": null,
      "outputs": []
    },
    {
      "cell_type": "code",
      "source": [
        "# Plotting Candlestick chart with the moving averages\n",
        "fig = make_subplots(rows=1, cols=1, shared_xaxes=True, vertical_spacing=0.05)\n",
        "fig.add_trace(go.Candlestick(x=hourly_eur_usd.index,\n",
        "                             open=hourly_eur_usd['Open'],\n",
        "                             high=hourly_eur_usd['High'],\n",
        "                             low=hourly_eur_usd['Low'],\n",
        "                             close=hourly_eur_usd['Adj Close'],\n",
        "                             name='EUR/USD'))\n",
        "\n",
        "# 9 EMA\n",
        "fig.add_trace(go.Scatter(x=hourly_eur_usd.index,\n",
        "                         y=hourly_eur_usd['ema9'],\n",
        "                         mode='lines',\n",
        "                         line=dict(color='yellow'),\n",
        "                         name='EMA 9'))\n",
        "\n",
        "# 20 SMA\n",
        "fig.add_trace(go.Scatter(x=hourly_eur_usd.index,\n",
        "                         y=hourly_eur_usd['sma20'],\n",
        "                         mode='lines',\n",
        "                         line=dict(color='green'),\n",
        "                         name='SMA 20'))\n",
        "\n",
        "# Annotation\n",
        "fig.add_annotation(text='EUR/USD 1HR',\n",
        "                    font=dict(color='white', size=40),\n",
        "                    xref='paper', yref='paper',\n",
        "                    x=0.5, y=0.65,\n",
        "                    showarrow=False,\n",
        "                    opacity=0.2)\n",
        "\n",
        "# Layout\n",
        "fig.update_layout(title='EUR/USD Hourly Candlestick Chart from 2021 to 2023',\n",
        "                  yaxis=dict(title='Price'),\n",
        "                  height=1000,\n",
        "                 template = 'plotly_dark')\n",
        "\n",
        "fig.update_xaxes(rangeslider_visible=False)\n",
        "fig.show()"
      ],
      "metadata": {
        "execution": {
          "iopub.status.busy": "2023-03-21T19:43:51.586025Z",
          "iopub.execute_input": "2023-03-21T19:43:51.586384Z",
          "iopub.status.idle": "2023-03-21T19:43:53.314225Z",
          "shell.execute_reply.started": "2023-03-21T19:43:51.586351Z",
          "shell.execute_reply": "2023-03-21T19:43:53.312505Z"
        },
        "trusted": true,
        "id": "Gv35sexL1Zgw"
      },
      "execution_count": null,
      "outputs": []
    },
    {
      "cell_type": "code",
      "source": [
        "# Defining the parameters for the moving average crossover strategy\n",
        "short_ma = 'ema9'\n",
        "long_ma = 'sma20'\n",
        "\n",
        "# Creating a new column to hold the signals\n",
        "hourly_eur_usd['signal'] = 0\n",
        "\n",
        "# Generating the entry signals\n",
        "for i in range(1, len(hourly_eur_usd)):\n",
        "    if hourly_eur_usd[short_ma][i] > hourly_eur_usd[long_ma][i] and hourly_eur_usd[short_ma][i - 1] <= hourly_eur_usd[long_ma][i - 1]:\n",
        "        hourly_eur_usd['signal'][i] = 1 # buy signal\n",
        "    elif hourly_eur_usd[short_ma][i] < hourly_eur_usd[long_ma][i] and hourly_eur_usd[short_ma][i - 1] >= hourly_eur_usd[long_ma][i - 1]:\n",
        "        hourly_eur_usd['signal'][i] = -1 # sell signal\n",
        "\n",
        "# Calculating total returns\n",
        "hourly_eur_usd['returns'] = hourly_eur_usd['Adj Close'].pct_change()\n",
        "hourly_eur_usd['cumulative_returns'] = (1 + hourly_eur_usd['returns']).cumprod() - 1\n",
        "\n",
        "# Applying the signals to the returns\n",
        "hourly_eur_usd['strategy_returns'] = hourly_eur_usd['signal'].shift(1) * hourly_eur_usd['returns']\n",
        "\n",
        "# Calculating the cumulative returns\n",
        "hourly_eur_usd['cumulative_strategy_returns'] = (1 + hourly_eur_usd['strategy_returns']).cumprod() - 1\n",
        "\n",
        "# Setting the initial capital\n",
        "initial_capital = 100\n",
        "\n",
        "# Calculating total portfolio value\n",
        "hourly_eur_usd['portfolio_value'] = (1 + hourly_eur_usd['strategy_returns']).cumprod() * initial_capital\n",
        "\n",
        "# Printing the number of trades, initial capital, and final capital\n",
        "num_trades = hourly_eur_usd['signal'].abs().sum()\n",
        "final_capital = hourly_eur_usd['portfolio_value'].iloc[-1]\n",
        "total_return = (final_capital - initial_capital) / initial_capital * 100\n",
        "\n",
        "print('\\n')\n",
        "print(f\"Number of trades: {num_trades}\")\n",
        "print(f\"Initial capital: ${initial_capital}\")\n",
        "print(f\"Final capital: ${final_capital:.2f}\")\n",
        "print(f\"Total return: {total_return:.2f}%\")\n",
        "print('\\n')\n",
        "\n",
        "# Plotting strategy value\n",
        "fig = go.Figure()\n",
        "\n",
        "fig.add_trace(go.Scatter(x=hourly_eur_usd.index,\n",
        "                         y=hourly_eur_usd['portfolio_value'].round(2),\n",
        "                         mode='lines',\n",
        "                         line=dict(color='#00BFFF'),\n",
        "                         name='Portfolio Value'))\n",
        "\n",
        "fig.update_layout(title='Portfolio - Moving Average Crossover Strategy on Hourly Data',\n",
        "                  xaxis_title='Date',\n",
        "                  yaxis_title='Value ($)',\n",
        "                  template='plotly_dark',\n",
        "                 height = 600)\n",
        "\n",
        "fig.show()"
      ],
      "metadata": {
        "execution": {
          "iopub.status.busy": "2023-03-21T19:43:53.316501Z",
          "iopub.execute_input": "2023-03-21T19:43:53.317073Z",
          "iopub.status.idle": "2023-03-21T19:43:54.563296Z",
          "shell.execute_reply.started": "2023-03-21T19:43:53.317018Z",
          "shell.execute_reply": "2023-03-21T19:43:54.562207Z"
        },
        "trusted": true,
        "id": "paBu9m3f1Zgw"
      },
      "execution_count": null,
      "outputs": []
    },
    {
      "cell_type": "markdown",
      "source": [
        "<p id = 'daily-mas-backtest' style=\"font-family: Georgia, 'Times New Roman', serif; font-size: 18px; color: #333; text-align: justify;\"><b>Daily Data</b></p>"
      ],
      "metadata": {
        "id": "9GZHGco-1Zgx"
      }
    },
    {
      "cell_type": "code",
      "source": [
        "daily_eur_usd['ema9'] = ta.trend.ema_indicator(daily_eur_usd['Adj Close'], window=9)\n",
        "\n",
        "daily_eur_usd['sma20'] = ta.trend.sma_indicator(daily_eur_usd['Adj Close'], window=20)\n",
        "daily_eur_usd[['Open', 'High', 'Low', 'Adj Close', 'ema9', 'sma20']]"
      ],
      "metadata": {
        "execution": {
          "iopub.status.busy": "2023-03-21T19:43:54.564799Z",
          "iopub.execute_input": "2023-03-21T19:43:54.565197Z",
          "iopub.status.idle": "2023-03-21T19:43:54.597308Z",
          "shell.execute_reply.started": "2023-03-21T19:43:54.565162Z",
          "shell.execute_reply": "2023-03-21T19:43:54.596063Z"
        },
        "trusted": true,
        "id": "JWf2ew-k1Zgx"
      },
      "execution_count": null,
      "outputs": []
    },
    {
      "cell_type": "code",
      "source": [
        "fig = make_subplots(rows=1, cols=1, shared_xaxes=True, vertical_spacing=0.05)\n",
        "fig.add_trace(go.Candlestick(x=daily_eur_usd.index,\n",
        "                             open=daily_eur_usd['Open'],\n",
        "                             high=daily_eur_usd['High'],\n",
        "                             low=daily_eur_usd['Low'],\n",
        "                             close=daily_eur_usd['Adj Close'],\n",
        "                             name='EUR/USD'))\n",
        "\n",
        "\n",
        "fig.add_trace(go.Scatter(x=daily_eur_usd.index,\n",
        "                         y=daily_eur_usd['ema9'],\n",
        "                         mode='lines',\n",
        "                         line=dict(color='yellow'),\n",
        "                         name='EMA 9'))\n",
        "\n",
        "fig.add_trace(go.Scatter(x=daily_eur_usd.index,\n",
        "                         y=daily_eur_usd['sma20'],\n",
        "                         mode='lines',\n",
        "                         line=dict(color='green'),\n",
        "                         name='SMA 20'))\n",
        "\n",
        "fig.add_annotation(text='EUR/USD 1D',\n",
        "                    font=dict(color='white', size=40),\n",
        "                    xref='paper', yref='paper',\n",
        "                    x=0.5, y=0.65,\n",
        "                    showarrow=False,\n",
        "                    opacity=0.2)\n",
        "\n",
        "\n",
        "fig.update_layout(title='EUR/USD Daily Candlestick Chart from 2015 to 2023',\n",
        "                  yaxis=dict(title='Price'),\n",
        "                  height=1000,\n",
        "                 template = 'plotly_dark')\n",
        "\n",
        "fig.update_xaxes(rangeslider_visible=False)\n",
        "fig.show()"
      ],
      "metadata": {
        "execution": {
          "iopub.status.busy": "2023-03-21T19:43:54.599004Z",
          "iopub.execute_input": "2023-03-21T19:43:54.599725Z",
          "iopub.status.idle": "2023-03-21T19:43:54.853078Z",
          "shell.execute_reply.started": "2023-03-21T19:43:54.599674Z",
          "shell.execute_reply": "2023-03-21T19:43:54.852019Z"
        },
        "trusted": true,
        "id": "D8lhMQ2L1Zgx"
      },
      "execution_count": null,
      "outputs": []
    },
    {
      "cell_type": "code",
      "source": [
        "# Defining the parameters for the moving average crossover strategy\n",
        "short_ma = 'ema9'\n",
        "long_ma = 'sma20'\n",
        "\n",
        "# Creating a new column to hold the signals\n",
        "daily_eur_usd['signal'] = 0\n",
        "\n",
        "# Generating the entry signals\n",
        "for i in range(1, len(daily_eur_usd)):\n",
        "    if daily_eur_usd[short_ma][i] > daily_eur_usd[long_ma][i] and daily_eur_usd[short_ma][i - 1] <= daily_eur_usd[long_ma][i - 1]:\n",
        "        daily_eur_usd['signal'][i] = 1 # buy signal\n",
        "    elif daily_eur_usd[short_ma][i] < daily_eur_usd[long_ma][i] and daily_eur_usd[short_ma][i - 1] >= daily_eur_usd[long_ma][i - 1]:\n",
        "        daily_eur_usd['signal'][i] = -1 # sell signal\n",
        "\n",
        "# Calculating the total returns\n",
        "daily_eur_usd['returns'] = daily_eur_usd['Adj Close'].pct_change()\n",
        "daily_eur_usd['cumulative_returns'] = (1 + daily_eur_usd['returns']).cumprod() - 1\n",
        "\n",
        "# Applying the signals to the returns\n",
        "daily_eur_usd['strategy_returns'] = daily_eur_usd['signal'].shift(1) * daily_eur_usd['returns']\n",
        "\n",
        "# Calculate the cumulative returns\n",
        "daily_eur_usd['cumulative_strategy_returns'] = (1 + daily_eur_usd['strategy_returns']).cumprod() - 1\n",
        "\n",
        "# Setting the initial capital\n",
        "initial_capital = 100\n",
        "\n",
        "# Calculating the total portfolio value\n",
        "daily_eur_usd['portfolio_value'] = (1 + daily_eur_usd['strategy_returns']).cumprod() * initial_capital\n",
        "\n",
        "# Printing the number of trades, initial capital, and final capital\n",
        "num_trades = daily_eur_usd['signal'].abs().sum()\n",
        "final_capital = daily_eur_usd['portfolio_value'].iloc[-1]\n",
        "total_return = (final_capital - initial_capital) / initial_capital * 100\n",
        "\n",
        "print('\\n')\n",
        "print(f\"Number of trades: {num_trades}\")\n",
        "print(f\"Initial capital: ${initial_capital}\")\n",
        "print(f\"Final capital: ${final_capital:.2f}\")\n",
        "print(f\"Total return: {total_return:.2f}%\")\n",
        "print('\\n')\n",
        "\n",
        "# Plotting strategy portfolio\n",
        "fig = go.Figure()\n",
        "\n",
        "fig.add_trace(go.Scatter(x=daily_eur_usd.index,\n",
        "                         y=daily_eur_usd['portfolio_value'].round(2),\n",
        "                         mode='lines',\n",
        "                         line=dict(color='#00BFFF'),\n",
        "                         name='Portfolio Value'))\n",
        "\n",
        "fig.update_layout(title='Portfolio - Moving Average Crossover Strategy on Daily Data',\n",
        "                  xaxis_title='Date',\n",
        "                  yaxis_title='Value ($)',\n",
        "                  template='plotly_dark',\n",
        "                 height = 600)\n",
        "\n",
        "fig.show()"
      ],
      "metadata": {
        "execution": {
          "iopub.status.busy": "2023-03-21T19:43:54.854648Z",
          "iopub.execute_input": "2023-03-21T19:43:54.85529Z",
          "iopub.status.idle": "2023-03-21T19:43:55.086928Z",
          "shell.execute_reply.started": "2023-03-21T19:43:54.855255Z",
          "shell.execute_reply": "2023-03-21T19:43:55.085749Z"
        },
        "trusted": true,
        "id": "3YycbYEE1Zgx"
      },
      "execution_count": null,
      "outputs": []
    },
    {
      "cell_type": "markdown",
      "source": [
        "<p id = 'weekly-mas-backtest' style=\"font-family: Georgia, 'Times New Roman', serif; font-size: 18px; color: #333; text-align: justify;\"><b>Weekly Data</b></p>"
      ],
      "metadata": {
        "id": "WxA4zD8H1Zgx"
      }
    },
    {
      "cell_type": "code",
      "source": [
        "weekly_eur_usd['ema9'] = ta.trend.ema_indicator(weekly_eur_usd['Adj Close'], window=9)\n",
        "\n",
        "weekly_eur_usd['sma20'] = ta.trend.sma_indicator(weekly_eur_usd['Adj Close'], window=20)\n",
        "weekly_eur_usd[['Open', 'High', 'Low', 'Adj Close', 'ema9', 'sma20']]"
      ],
      "metadata": {
        "execution": {
          "iopub.status.busy": "2023-03-21T19:43:55.088433Z",
          "iopub.execute_input": "2023-03-21T19:43:55.088935Z",
          "iopub.status.idle": "2023-03-21T19:43:55.116521Z",
          "shell.execute_reply.started": "2023-03-21T19:43:55.088898Z",
          "shell.execute_reply": "2023-03-21T19:43:55.115555Z"
        },
        "trusted": true,
        "id": "v2WxOU_71Zgx"
      },
      "execution_count": null,
      "outputs": []
    },
    {
      "cell_type": "code",
      "source": [
        "fig = make_subplots(rows=1, cols=1, shared_xaxes=True, vertical_spacing=0.05)\n",
        "fig.add_trace(go.Candlestick(x=weekly_eur_usd.index,\n",
        "                             open=weekly_eur_usd['Open'],\n",
        "                             high=weekly_eur_usd['High'],\n",
        "                             low=weekly_eur_usd['Low'],\n",
        "                             close=weekly_eur_usd['Adj Close'],\n",
        "                             name='EUR/USD'))\n",
        "\n",
        "\n",
        "fig.add_trace(go.Scatter(x=weekly_eur_usd.index,\n",
        "                         y=weekly_eur_usd['ema9'],\n",
        "                         mode='lines',\n",
        "                         line=dict(color='yellow'),\n",
        "                         name='EMA 9'))\n",
        "\n",
        "fig.add_trace(go.Scatter(x=weekly_eur_usd.index,\n",
        "                         y=weekly_eur_usd['sma20'],\n",
        "                         mode='lines',\n",
        "                         line=dict(color='green'),\n",
        "                         name='SMA 20'))\n",
        "\n",
        "fig.add_annotation(text='EUR/USD 1WK',\n",
        "                    font=dict(color='white', size=40),\n",
        "                    xref='paper', yref='paper',\n",
        "                    x=0.5, y=0.65,\n",
        "                    showarrow=False,\n",
        "                    opacity=0.2)\n",
        "\n",
        "\n",
        "fig.update_layout(title='EUR/USD Weekly Candlestick Chart from 2015 to 2023',\n",
        "                  yaxis=dict(title='Price'),\n",
        "                  height=1000,\n",
        "                 template = 'plotly_dark')\n",
        "\n",
        "fig.update_xaxes(rangeslider_visible=False)\n",
        "fig.show()"
      ],
      "metadata": {
        "execution": {
          "iopub.status.busy": "2023-03-21T19:43:55.117786Z",
          "iopub.execute_input": "2023-03-21T19:43:55.118654Z",
          "iopub.status.idle": "2023-03-21T19:43:55.217577Z",
          "shell.execute_reply.started": "2023-03-21T19:43:55.118617Z",
          "shell.execute_reply": "2023-03-21T19:43:55.216378Z"
        },
        "trusted": true,
        "id": "uoCWBY7L1Zgx"
      },
      "execution_count": null,
      "outputs": []
    },
    {
      "cell_type": "code",
      "source": [
        "# Defining the parameters for the moving average crossover strategy\n",
        "short_ma = 'ema9'\n",
        "long_ma = 'sma20'\n",
        "\n",
        "# Creating a new column to hold the signals\n",
        "weekly_eur_usd['signal'] = 0\n",
        "\n",
        "# Generating the entry signals\n",
        "for i in range(1, len(weekly_eur_usd)):\n",
        "    if weekly_eur_usd[short_ma][i] > weekly_eur_usd[long_ma][i] and weekly_eur_usd[short_ma][i - 1] <= weekly_eur_usd[long_ma][i - 1]:\n",
        "        weekly_eur_usd['signal'][i] = 1 # buy signal\n",
        "    elif weekly_eur_usd[short_ma][i] < weekly_eur_usd[long_ma][i] and weekly_eur_usd[short_ma][i - 1] >= weekly_eur_usd[long_ma][i - 1]:\n",
        "        weekly_eur_usd['signal'][i] = -1 # sell signal\n",
        "\n",
        "# Calculating the total returns\n",
        "weekly_eur_usd['returns'] = weekly_eur_usd['Adj Close'].pct_change()\n",
        "weekly_eur_usd['cumulative_returns'] = (1 + weekly_eur_usd['returns']).cumprod() - 1\n",
        "\n",
        "# Applying the signals to the returns\n",
        "weekly_eur_usd['strategy_returns'] = weekly_eur_usd['signal'].shift(1) * weekly_eur_usd['returns']\n",
        "\n",
        "# Calculating the cumulative returns\n",
        "weekly_eur_usd['cumulative_strategy_returns'] = (1 + weekly_eur_usd['strategy_returns']).cumprod() - 1\n",
        "\n",
        "# Setting the initial capital\n",
        "initial_capital = 100\n",
        "\n",
        "# Calculating the portfolio value\n",
        "weekly_eur_usd['portfolio_value'] = (1 + weekly_eur_usd['strategy_returns']).cumprod() * initial_capital\n",
        "\n",
        "# Printing the number of trades, initial capital, and final capital\n",
        "num_trades = weekly_eur_usd['signal'].abs().sum()\n",
        "final_capital = weekly_eur_usd['portfolio_value'].iloc[-1]\n",
        "total_return = (final_capital - initial_capital) / initial_capital * 100\n",
        "\n",
        "print('\\n')\n",
        "print(f\"Number of trades: {num_trades}\")\n",
        "print(f\"Initial capital: ${initial_capital}\")\n",
        "print(f\"Final capital: ${final_capital:.2f}\")\n",
        "print(f\"Total return: {total_return:.2f}%\")\n",
        "print('\\n')\n",
        "\n",
        "# Plotting the strategy total returns\n",
        "fig = go.Figure()\n",
        "\n",
        "fig.add_trace(go.Scatter(x=weekly_eur_usd.index,\n",
        "                         y=weekly_eur_usd['portfolio_value'].round(2),\n",
        "                         mode='lines',\n",
        "                         line=dict(color='#00BFFF'),\n",
        "                         name='Portfolio Value'))\n",
        "\n",
        "fig.update_layout(title='Portfolio - Moving Average Crossover Strategy on Weekly Data',\n",
        "                  xaxis_title='Date',\n",
        "                  yaxis_title='Value ($)',\n",
        "                  template='plotly_dark',\n",
        "                 height = 600)\n",
        "\n",
        "fig.show()"
      ],
      "metadata": {
        "execution": {
          "iopub.status.busy": "2023-03-21T19:43:55.219546Z",
          "iopub.execute_input": "2023-03-21T19:43:55.2201Z",
          "iopub.status.idle": "2023-03-21T19:43:55.312912Z",
          "shell.execute_reply.started": "2023-03-21T19:43:55.220051Z",
          "shell.execute_reply": "2023-03-21T19:43:55.3118Z"
        },
        "trusted": true,
        "id": "dJQpMhfa1Zgx"
      },
      "execution_count": null,
      "outputs": []
    },
    {
      "cell_type": "markdown",
      "source": [
        "<p style=\"font-family: Georgia, 'Times New Roman', serif; font-size: 18px; color: #333; text-align: justify;\">Although the plots of the total portfolio values for the RSI strategies appeared to be stationary, the portfolio evolution for the moving average crossover strategy exhibits some sort of trend, especially in the hourly data. As can be seen, the portfolio experienced gradual losses from April 2021 to October 2021, which then turned to exponential losses. However, since May 2022, the strategy has been generating gains again and has been performing quite well in recent months, at least on the 1 hour timeframe.</p>\n",
        "<br>\n",
        "<p style=\"font-family: Georgia, 'Times New Roman', serif; font-size: 18px; color: #333; text-align: justify;\">Despite this, the strategy generated only a 1.37% return after 777 trades on the hourly chart, without accounting for taxes, slippage, and other costs. On the daily timeframe, the strategy resulted in 131 trades with a total loss of 6.05%, closing at 93.95 dollars. Similarly, on the weekly timeframe, the strategy presents a total loss of 6.80%. And, of course, it is important to mention that additional costs and factors like slippage could further impact the final returns.</p>\n",
        "<br>\n",
        "<p style=\"font-family: Georgia, 'Times New Roman', serif; font-size: 18px; color: #333; text-align: justify;\">Overall, the backtests presented here are intended to encourage you to perform your own tests. I highly suggest that you include additional factors such as slippage, broker costs, and taxes in your analysis, and try combining multiple strategies simultaneously.</p>\n",
        "<br>\n",
        "<p style=\"font-family: Georgia, 'Times New Roman', serif; font-size: 18px; color: #333; text-align: justify;\">In this notebook, we have only tested the RSI and the moving average crossover strategies individually.\n",
        "You can, however, combine these strategies, or use the RSI in conjunction with other indicators such as Bollinger Bands, to develop more complex strategies.</p>\n",
        "<br>\n",
        "<p style=\"font-family: Georgia, 'Times New Roman', serif; font-size: 18px; color: #333; text-align: justify;\">Ultimately, the key to successful backtesting is to continuously refine and optimize your strategies based on your own experiences and conditions.</p>\n",
        "<br>"
      ],
      "metadata": {
        "id": "x23kAqxM1Zgx"
      }
    }
  ]
}