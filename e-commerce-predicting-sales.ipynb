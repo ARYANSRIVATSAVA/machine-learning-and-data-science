{
 "cells": [
  {
   "cell_type": "markdown",
   "metadata": {
    "id": "iInTqLqao6Pj"
   },
   "source": [
    "We live in the world of e-commerce. We see tons of different stores here and there through the web. Internet made it possible to trade with anyone and everywhere. We can buy goods without leaving our house, we can compare prices in different stores within seconds, we can find what we really want and do not accept just the first more or less suitable offer. And I believe it would be really interesting to look at this world through the data it produces. That's why I decided to play around with e-commerce numbers and try to understand it better.\n",
    "\n",
    "The data used in this analysis is taken from Kaggle dataset [\"E-Commerce Data | Actual transactions of UK retailer\"](https://www.kaggle.com/carrie1/ecommerce-data). \n",
    "\n",
    "This is a transnational data set which contains all the transactions occurring between 01/12/2010 and 09/12/2011 for a UK-based and registered non-store online retail.The company mainly sells unique all-occasion gifts. Many customers of the company are wholesalers."
   ]
  },
  {
   "cell_type": "markdown",
   "metadata": {},
   "source": [
    "As always, we start our analysis by setting up our environment and by importing necessary libraries.\n",
    "\n",
    "We import standard numpy and pandas to be able to perform analysis with Python, also we need data visualization libraries matplotlib and seaborn to output interesting visual findings, aaaaand some settings to make our kernel prettier."
   ]
  },
  {
   "cell_type": "markdown",
   "metadata": {
    "id": "tII5uwykox0s"
   },
   "source": [
    "# 1. Import libraries and data"
   ]
  },
  {
   "cell_type": "code",
   "execution_count": 1,
   "metadata": {
    "execution": {
     "iopub.execute_input": "2023-08-26T00:09:14.050775Z",
     "iopub.status.busy": "2023-08-26T00:09:14.050245Z",
     "iopub.status.idle": "2023-08-26T00:09:14.959941Z",
     "shell.execute_reply": "2023-08-26T00:09:14.958673Z",
     "shell.execute_reply.started": "2023-08-26T00:09:14.050724Z"
    },
    "id": "YhbJLUN2an2n"
   },
   "outputs": [],
   "source": [
    "import pandas as pd\n",
    "import numpy as np\n",
    "import matplotlib.pyplot as plt\n",
    "import seaborn as sns\n",
    "\n",
    "import warnings\n",
    "warnings.filterwarnings('ignore')\n",
    "\n",
    "#plt.style.use('fivethirtyeight')\n",
    "#%matplotlib inline"
   ]
  },
  {
   "cell_type": "markdown",
   "metadata": {},
   "source": [
    "We import our data using *.read_csv()* method and we also add a parameter \"encoding='latin'\" as default encoding engine wasn't able to process this particular dataset. So next time you have difficulties importing data and everything seems to be correct and OK, check out encoding. That might save you some time of googling to try to understand what's wrong."
   ]
  },
  {
   "cell_type": "code",
   "execution_count": 2,
   "metadata": {
    "execution": {
     "iopub.execute_input": "2023-08-26T00:09:14.962088Z",
     "iopub.status.busy": "2023-08-26T00:09:14.961768Z",
     "iopub.status.idle": "2023-08-26T00:09:16.111075Z",
     "shell.execute_reply": "2023-08-26T00:09:16.110152Z",
     "shell.execute_reply.started": "2023-08-26T00:09:14.962027Z"
    },
    "id": "MeUgjP_ga6z_",
    "outputId": "cb557913-8c23-4c87-b116-4cb36d9359f2"
   },
   "outputs": [
    {
     "data": {
      "text/html": [
       "<div>\n",
       "<style scoped>\n",
       "    .dataframe tbody tr th:only-of-type {\n",
       "        vertical-align: middle;\n",
       "    }\n",
       "\n",
       "    .dataframe tbody tr th {\n",
       "        vertical-align: top;\n",
       "    }\n",
       "\n",
       "    .dataframe thead th {\n",
       "        text-align: right;\n",
       "    }\n",
       "</style>\n",
       "<table border=\"1\" class=\"dataframe\">\n",
       "  <thead>\n",
       "    <tr style=\"text-align: right;\">\n",
       "      <th></th>\n",
       "      <th>InvoiceNo</th>\n",
       "      <th>StockCode</th>\n",
       "      <th>Description</th>\n",
       "      <th>Quantity</th>\n",
       "      <th>InvoiceDate</th>\n",
       "      <th>UnitPrice</th>\n",
       "      <th>CustomerID</th>\n",
       "      <th>Country</th>\n",
       "    </tr>\n",
       "  </thead>\n",
       "  <tbody>\n",
       "    <tr>\n",
       "      <td>0</td>\n",
       "      <td>536365</td>\n",
       "      <td>85123A</td>\n",
       "      <td>WHITE HANGING HEART T-LIGHT HOLDER</td>\n",
       "      <td>6</td>\n",
       "      <td>12/1/2010 8:26</td>\n",
       "      <td>2.55</td>\n",
       "      <td>17850.0</td>\n",
       "      <td>United Kingdom</td>\n",
       "    </tr>\n",
       "    <tr>\n",
       "      <td>1</td>\n",
       "      <td>536365</td>\n",
       "      <td>71053</td>\n",
       "      <td>WHITE METAL LANTERN</td>\n",
       "      <td>6</td>\n",
       "      <td>12/1/2010 8:26</td>\n",
       "      <td>3.39</td>\n",
       "      <td>17850.0</td>\n",
       "      <td>United Kingdom</td>\n",
       "    </tr>\n",
       "    <tr>\n",
       "      <td>2</td>\n",
       "      <td>536365</td>\n",
       "      <td>84406B</td>\n",
       "      <td>CREAM CUPID HEARTS COAT HANGER</td>\n",
       "      <td>8</td>\n",
       "      <td>12/1/2010 8:26</td>\n",
       "      <td>2.75</td>\n",
       "      <td>17850.0</td>\n",
       "      <td>United Kingdom</td>\n",
       "    </tr>\n",
       "    <tr>\n",
       "      <td>3</td>\n",
       "      <td>536365</td>\n",
       "      <td>84029G</td>\n",
       "      <td>KNITTED UNION FLAG HOT WATER BOTTLE</td>\n",
       "      <td>6</td>\n",
       "      <td>12/1/2010 8:26</td>\n",
       "      <td>3.39</td>\n",
       "      <td>17850.0</td>\n",
       "      <td>United Kingdom</td>\n",
       "    </tr>\n",
       "    <tr>\n",
       "      <td>4</td>\n",
       "      <td>536365</td>\n",
       "      <td>84029E</td>\n",
       "      <td>RED WOOLLY HOTTIE WHITE HEART.</td>\n",
       "      <td>6</td>\n",
       "      <td>12/1/2010 8:26</td>\n",
       "      <td>3.39</td>\n",
       "      <td>17850.0</td>\n",
       "      <td>United Kingdom</td>\n",
       "    </tr>\n",
       "  </tbody>\n",
       "</table>\n",
       "</div>"
      ],
      "text/plain": [
       "  InvoiceNo StockCode                          Description  Quantity  \\\n",
       "0    536365    85123A   WHITE HANGING HEART T-LIGHT HOLDER         6   \n",
       "1    536365     71053                  WHITE METAL LANTERN         6   \n",
       "2    536365    84406B       CREAM CUPID HEARTS COAT HANGER         8   \n",
       "3    536365    84029G  KNITTED UNION FLAG HOT WATER BOTTLE         6   \n",
       "4    536365    84029E       RED WOOLLY HOTTIE WHITE HEART.         6   \n",
       "\n",
       "      InvoiceDate  UnitPrice  CustomerID         Country  \n",
       "0  12/1/2010 8:26       2.55     17850.0  United Kingdom  \n",
       "1  12/1/2010 8:26       3.39     17850.0  United Kingdom  \n",
       "2  12/1/2010 8:26       2.75     17850.0  United Kingdom  \n",
       "3  12/1/2010 8:26       3.39     17850.0  United Kingdom  \n",
       "4  12/1/2010 8:26       3.39     17850.0  United Kingdom  "
      ]
     },
     "execution_count": 2,
     "metadata": {},
     "output_type": "execute_result"
    }
   ],
   "source": [
    "# for Kaggle\n",
    "df = pd.read_csv('/kaggle/input/ecommerce-data/data.csv', encoding='latin')\n",
    "# df = pd.read_csv('data.csv', encoding='latin')\n",
    "df.head()"
   ]
  },
  {
   "cell_type": "markdown",
   "metadata": {},
   "source": [
    "Just by looking at first 5 rows of our table we can understand the structure and datatypes present in our dataset. We can notice that we will have to deal with timeseries data, integers and floats, categorical and text data."
   ]
  },
  {
   "cell_type": "markdown",
   "metadata": {
    "id": "lqlGgcdiqAos"
   },
   "source": [
    "# 2. Exploratory data analysis"
   ]
  },
  {
   "cell_type": "markdown",
   "metadata": {},
   "source": [
    "Every data science project starts with EDA as we have to understand what do we have to deal with. I divide EDA into 2 types: visual and numerical. Let's start with numerical as the simple pndas method *.describe()* gives us a lot of useful information."
   ]
  },
  {
   "cell_type": "markdown",
   "metadata": {
    "id": "G0XGUAZFrk6v"
   },
   "source": [
    "## 2.1. Quick statistical overview"
   ]
  },
  {
   "cell_type": "code",
   "execution_count": 3,
   "metadata": {
    "execution": {
     "iopub.execute_input": "2023-08-26T00:09:17.719801Z",
     "iopub.status.busy": "2023-08-26T00:09:17.719295Z",
     "iopub.status.idle": "2023-08-26T00:09:17.798442Z",
     "shell.execute_reply": "2023-08-26T00:09:17.797243Z",
     "shell.execute_reply.started": "2023-08-26T00:09:17.719747Z"
    },
    "id": "pE4rxL-ZfwAe",
    "outputId": "ef3791d5-e67f-4645-d52f-3ba4200d7fda"
   },
   "outputs": [
    {
     "data": {
      "text/html": [
       "<div>\n",
       "<style scoped>\n",
       "    .dataframe tbody tr th:only-of-type {\n",
       "        vertical-align: middle;\n",
       "    }\n",
       "\n",
       "    .dataframe tbody tr th {\n",
       "        vertical-align: top;\n",
       "    }\n",
       "\n",
       "    .dataframe thead th {\n",
       "        text-align: right;\n",
       "    }\n",
       "</style>\n",
       "<table border=\"1\" class=\"dataframe\">\n",
       "  <thead>\n",
       "    <tr style=\"text-align: right;\">\n",
       "      <th></th>\n",
       "      <th>Quantity</th>\n",
       "      <th>UnitPrice</th>\n",
       "      <th>CustomerID</th>\n",
       "    </tr>\n",
       "  </thead>\n",
       "  <tbody>\n",
       "    <tr>\n",
       "      <td>count</td>\n",
       "      <td>541909.000000</td>\n",
       "      <td>541909.000000</td>\n",
       "      <td>406829.000000</td>\n",
       "    </tr>\n",
       "    <tr>\n",
       "      <td>mean</td>\n",
       "      <td>9.552250</td>\n",
       "      <td>4.611114</td>\n",
       "      <td>15287.690570</td>\n",
       "    </tr>\n",
       "    <tr>\n",
       "      <td>std</td>\n",
       "      <td>218.081158</td>\n",
       "      <td>96.759853</td>\n",
       "      <td>1713.600303</td>\n",
       "    </tr>\n",
       "    <tr>\n",
       "      <td>min</td>\n",
       "      <td>-80995.000000</td>\n",
       "      <td>-11062.060000</td>\n",
       "      <td>12346.000000</td>\n",
       "    </tr>\n",
       "    <tr>\n",
       "      <td>25%</td>\n",
       "      <td>1.000000</td>\n",
       "      <td>1.250000</td>\n",
       "      <td>13953.000000</td>\n",
       "    </tr>\n",
       "    <tr>\n",
       "      <td>50%</td>\n",
       "      <td>3.000000</td>\n",
       "      <td>2.080000</td>\n",
       "      <td>15152.000000</td>\n",
       "    </tr>\n",
       "    <tr>\n",
       "      <td>75%</td>\n",
       "      <td>10.000000</td>\n",
       "      <td>4.130000</td>\n",
       "      <td>16791.000000</td>\n",
       "    </tr>\n",
       "    <tr>\n",
       "      <td>max</td>\n",
       "      <td>80995.000000</td>\n",
       "      <td>38970.000000</td>\n",
       "      <td>18287.000000</td>\n",
       "    </tr>\n",
       "  </tbody>\n",
       "</table>\n",
       "</div>"
      ],
      "text/plain": [
       "            Quantity      UnitPrice     CustomerID\n",
       "count  541909.000000  541909.000000  406829.000000\n",
       "mean        9.552250       4.611114   15287.690570\n",
       "std       218.081158      96.759853    1713.600303\n",
       "min    -80995.000000  -11062.060000   12346.000000\n",
       "25%         1.000000       1.250000   13953.000000\n",
       "50%         3.000000       2.080000   15152.000000\n",
       "75%        10.000000       4.130000   16791.000000\n",
       "max     80995.000000   38970.000000   18287.000000"
      ]
     },
     "execution_count": 3,
     "metadata": {},
     "output_type": "execute_result"
    }
   ],
   "source": [
    "df.describe()"
   ]
  },
  {
   "cell_type": "markdown",
   "metadata": {
    "id": "LOSySaN7qUdX"
   },
   "source": [
    "Just a quick look at data with *.describe()* method gives us a lot of space to think. We see negative quantities and prices, we can see that not all records have CustomerID data, we can also see that the majority of transactions are for quantites from 3 to 10 items, majority of items have price up to 5 pounds and that we have a bunch of huge outliers we will have to deal with later."
   ]
  },
  {
   "cell_type": "markdown",
   "metadata": {
    "id": "r_MIrqRYrqrG"
   },
   "source": [
    "## 2.2. Dealing with types"
   ]
  },
  {
   "cell_type": "markdown",
   "metadata": {},
   "source": [
    "*.read_csv()* method performs basic type check, but it doesn't do that perfectly. That's why it is much better to deal with data types in our dataframe before any modifications to prevent additional difficulties. Every pandas dataframe has an attribute *.dtypes* which will help us understand what we currently have and what data has to be casted to correct types."
   ]
  },
  {
   "cell_type": "code",
   "execution_count": 4,
   "metadata": {
    "execution": {
     "iopub.execute_input": "2023-08-26T00:09:18.049853Z",
     "iopub.status.busy": "2023-08-26T00:09:18.049512Z",
     "iopub.status.idle": "2023-08-26T00:09:18.059072Z",
     "shell.execute_reply": "2023-08-26T00:09:18.057559Z",
     "shell.execute_reply.started": "2023-08-26T00:09:18.049798Z"
    },
    "id": "XY4J_0KBqJGe",
    "outputId": "a38be5ea-091e-4dc1-fb56-1b6b739e088e"
   },
   "outputs": [
    {
     "data": {
      "text/plain": [
       "InvoiceNo       object\n",
       "StockCode       object\n",
       "Description     object\n",
       "Quantity         int64\n",
       "InvoiceDate     object\n",
       "UnitPrice      float64\n",
       "CustomerID     float64\n",
       "Country         object\n",
       "dtype: object"
      ]
     },
     "execution_count": 4,
     "metadata": {},
     "output_type": "execute_result"
    }
   ],
   "source": [
    "df.dtypes"
   ]
  },
  {
   "cell_type": "markdown",
   "metadata": {
    "id": "iRgA1W66rTtM"
   },
   "source": [
    "If we have datetime data it's better to cast it to datetime type. We don't touch InvoiceNo for now as it seems like data in this column has not only numbers. (we saw just first 5 rows, while pandas during import scanned all the data and found that the type here is not numerical)."
   ]
  },
  {
   "cell_type": "code",
   "execution_count": 5,
   "metadata": {
    "execution": {
     "iopub.status.busy": "2023-08-26T04:29:37.524661Z",
     "iopub.status.idle": "2023-08-26T04:29:37.525495Z"
    },
    "id": "qQ6gDvmV8a69"
   },
   "outputs": [
    {
     "data": {
      "text/html": [
       "<div>\n",
       "<style scoped>\n",
       "    .dataframe tbody tr th:only-of-type {\n",
       "        vertical-align: middle;\n",
       "    }\n",
       "\n",
       "    .dataframe tbody tr th {\n",
       "        vertical-align: top;\n",
       "    }\n",
       "\n",
       "    .dataframe thead th {\n",
       "        text-align: right;\n",
       "    }\n",
       "</style>\n",
       "<table border=\"1\" class=\"dataframe\">\n",
       "  <thead>\n",
       "    <tr style=\"text-align: right;\">\n",
       "      <th></th>\n",
       "      <th>InvoiceNo</th>\n",
       "      <th>StockCode</th>\n",
       "      <th>Description</th>\n",
       "      <th>Quantity</th>\n",
       "      <th>UnitPrice</th>\n",
       "      <th>CustomerID</th>\n",
       "      <th>Country</th>\n",
       "    </tr>\n",
       "    <tr>\n",
       "      <th>InvoiceDate</th>\n",
       "      <th></th>\n",
       "      <th></th>\n",
       "      <th></th>\n",
       "      <th></th>\n",
       "      <th></th>\n",
       "      <th></th>\n",
       "      <th></th>\n",
       "    </tr>\n",
       "  </thead>\n",
       "  <tbody>\n",
       "    <tr>\n",
       "      <td>2010-12-01 08:26:00</td>\n",
       "      <td>536365</td>\n",
       "      <td>85123A</td>\n",
       "      <td>WHITE HANGING HEART T-LIGHT HOLDER</td>\n",
       "      <td>6</td>\n",
       "      <td>2.55</td>\n",
       "      <td>17850.0</td>\n",
       "      <td>United Kingdom</td>\n",
       "    </tr>\n",
       "    <tr>\n",
       "      <td>2010-12-01 08:26:00</td>\n",
       "      <td>536365</td>\n",
       "      <td>71053</td>\n",
       "      <td>WHITE METAL LANTERN</td>\n",
       "      <td>6</td>\n",
       "      <td>3.39</td>\n",
       "      <td>17850.0</td>\n",
       "      <td>United Kingdom</td>\n",
       "    </tr>\n",
       "    <tr>\n",
       "      <td>2010-12-01 08:26:00</td>\n",
       "      <td>536365</td>\n",
       "      <td>84406B</td>\n",
       "      <td>CREAM CUPID HEARTS COAT HANGER</td>\n",
       "      <td>8</td>\n",
       "      <td>2.75</td>\n",
       "      <td>17850.0</td>\n",
       "      <td>United Kingdom</td>\n",
       "    </tr>\n",
       "    <tr>\n",
       "      <td>2010-12-01 08:26:00</td>\n",
       "      <td>536365</td>\n",
       "      <td>84029G</td>\n",
       "      <td>KNITTED UNION FLAG HOT WATER BOTTLE</td>\n",
       "      <td>6</td>\n",
       "      <td>3.39</td>\n",
       "      <td>17850.0</td>\n",
       "      <td>United Kingdom</td>\n",
       "    </tr>\n",
       "    <tr>\n",
       "      <td>2010-12-01 08:26:00</td>\n",
       "      <td>536365</td>\n",
       "      <td>84029E</td>\n",
       "      <td>RED WOOLLY HOTTIE WHITE HEART.</td>\n",
       "      <td>6</td>\n",
       "      <td>3.39</td>\n",
       "      <td>17850.0</td>\n",
       "      <td>United Kingdom</td>\n",
       "    </tr>\n",
       "    <tr>\n",
       "      <td>...</td>\n",
       "      <td>...</td>\n",
       "      <td>...</td>\n",
       "      <td>...</td>\n",
       "      <td>...</td>\n",
       "      <td>...</td>\n",
       "      <td>...</td>\n",
       "      <td>...</td>\n",
       "    </tr>\n",
       "    <tr>\n",
       "      <td>2011-12-09 12:50:00</td>\n",
       "      <td>581587</td>\n",
       "      <td>22613</td>\n",
       "      <td>PACK OF 20 SPACEBOY NAPKINS</td>\n",
       "      <td>12</td>\n",
       "      <td>0.85</td>\n",
       "      <td>12680.0</td>\n",
       "      <td>France</td>\n",
       "    </tr>\n",
       "    <tr>\n",
       "      <td>2011-12-09 12:50:00</td>\n",
       "      <td>581587</td>\n",
       "      <td>22899</td>\n",
       "      <td>CHILDREN'S APRON DOLLY GIRL</td>\n",
       "      <td>6</td>\n",
       "      <td>2.10</td>\n",
       "      <td>12680.0</td>\n",
       "      <td>France</td>\n",
       "    </tr>\n",
       "    <tr>\n",
       "      <td>2011-12-09 12:50:00</td>\n",
       "      <td>581587</td>\n",
       "      <td>23254</td>\n",
       "      <td>CHILDRENS CUTLERY DOLLY GIRL</td>\n",
       "      <td>4</td>\n",
       "      <td>4.15</td>\n",
       "      <td>12680.0</td>\n",
       "      <td>France</td>\n",
       "    </tr>\n",
       "    <tr>\n",
       "      <td>2011-12-09 12:50:00</td>\n",
       "      <td>581587</td>\n",
       "      <td>23255</td>\n",
       "      <td>CHILDRENS CUTLERY CIRCUS PARADE</td>\n",
       "      <td>4</td>\n",
       "      <td>4.15</td>\n",
       "      <td>12680.0</td>\n",
       "      <td>France</td>\n",
       "    </tr>\n",
       "    <tr>\n",
       "      <td>2011-12-09 12:50:00</td>\n",
       "      <td>581587</td>\n",
       "      <td>22138</td>\n",
       "      <td>BAKING SET 9 PIECE RETROSPOT</td>\n",
       "      <td>3</td>\n",
       "      <td>4.95</td>\n",
       "      <td>12680.0</td>\n",
       "      <td>France</td>\n",
       "    </tr>\n",
       "  </tbody>\n",
       "</table>\n",
       "<p>541909 rows × 7 columns</p>\n",
       "</div>"
      ],
      "text/plain": [
       "                    InvoiceNo StockCode                          Description  \\\n",
       "InvoiceDate                                                                    \n",
       "2010-12-01 08:26:00    536365    85123A   WHITE HANGING HEART T-LIGHT HOLDER   \n",
       "2010-12-01 08:26:00    536365     71053                  WHITE METAL LANTERN   \n",
       "2010-12-01 08:26:00    536365    84406B       CREAM CUPID HEARTS COAT HANGER   \n",
       "2010-12-01 08:26:00    536365    84029G  KNITTED UNION FLAG HOT WATER BOTTLE   \n",
       "2010-12-01 08:26:00    536365    84029E       RED WOOLLY HOTTIE WHITE HEART.   \n",
       "...                       ...       ...                                  ...   \n",
       "2011-12-09 12:50:00    581587     22613          PACK OF 20 SPACEBOY NAPKINS   \n",
       "2011-12-09 12:50:00    581587     22899         CHILDREN'S APRON DOLLY GIRL    \n",
       "2011-12-09 12:50:00    581587     23254        CHILDRENS CUTLERY DOLLY GIRL    \n",
       "2011-12-09 12:50:00    581587     23255      CHILDRENS CUTLERY CIRCUS PARADE   \n",
       "2011-12-09 12:50:00    581587     22138        BAKING SET 9 PIECE RETROSPOT    \n",
       "\n",
       "                     Quantity  UnitPrice  CustomerID         Country  \n",
       "InvoiceDate                                                           \n",
       "2010-12-01 08:26:00         6       2.55     17850.0  United Kingdom  \n",
       "2010-12-01 08:26:00         6       3.39     17850.0  United Kingdom  \n",
       "2010-12-01 08:26:00         8       2.75     17850.0  United Kingdom  \n",
       "2010-12-01 08:26:00         6       3.39     17850.0  United Kingdom  \n",
       "2010-12-01 08:26:00         6       3.39     17850.0  United Kingdom  \n",
       "...                       ...        ...         ...             ...  \n",
       "2011-12-09 12:50:00        12       0.85     12680.0          France  \n",
       "2011-12-09 12:50:00         6       2.10     12680.0          France  \n",
       "2011-12-09 12:50:00         4       4.15     12680.0          France  \n",
       "2011-12-09 12:50:00         4       4.15     12680.0          France  \n",
       "2011-12-09 12:50:00         3       4.95     12680.0          France  \n",
       "\n",
       "[541909 rows x 7 columns]"
      ]
     },
     "execution_count": 5,
     "metadata": {},
     "output_type": "execute_result"
    }
   ],
   "source": [
    "df['InvoiceDate'] = pd.to_datetime(df['InvoiceDate'])\n",
    "df = df.set_index('InvoiceDate')\n",
    "df"
   ]
  },
  {
   "cell_type": "code",
   "execution_count": null,
   "metadata": {},
   "outputs": [],
   "source": []
  },
  {
   "cell_type": "markdown",
   "metadata": {
    "id": "UWSslxBNrgqG"
   },
   "source": [
    "## 2.3. Dealing with null values"
   ]
  },
  {
   "cell_type": "markdown",
   "metadata": {},
   "source": [
    "Next and very important step is dealing with missing values. Normally if you encounter null values in the dataset you have to understand nature of those null values and possible impact they could have on the model. There are few strategies that we can use to fix our issue with null values: \n",
    "* delete rows with null values\n",
    "* delete the feature with null values\n",
    "* impute data with mean or median values or use another imputing strategy (method *.fillna()*)\n",
    "\n",
    "Let's check out what we have here."
   ]
  },
  {
   "cell_type": "code",
   "execution_count": 6,
   "metadata": {
    "execution": {
     "iopub.execute_input": "2023-08-26T00:09:20.792270Z",
     "iopub.status.busy": "2023-08-26T00:09:20.791953Z",
     "iopub.status.idle": "2023-08-26T00:09:20.876141Z",
     "shell.execute_reply": "2023-08-26T00:09:20.875351Z",
     "shell.execute_reply.started": "2023-08-26T00:09:20.792211Z"
    },
    "id": "5TDxDE_NgR-_",
    "outputId": "175b502c-7ac3-4cea-b30f-fb4e9f7afb1a"
   },
   "outputs": [
    {
     "data": {
      "text/plain": [
       "InvoiceNo           0\n",
       "StockCode           0\n",
       "Description      1454\n",
       "Quantity            0\n",
       "UnitPrice           0\n",
       "CustomerID     135080\n",
       "Country             0\n",
       "dtype: int64"
      ]
     },
     "execution_count": 6,
     "metadata": {},
     "output_type": "execute_result"
    }
   ],
   "source": [
    "df.isnull().sum()"
   ]
  },
  {
   "cell_type": "markdown",
   "metadata": {
    "id": "lmL-TjEIr8Tz"
   },
   "source": [
    "CustomerID has too much null values and this feature cannot predict a lot so we can just drop it. Also it could be reasonable to create another feature \"Amount of orders per customer\", but.... next time ;)"
   ]
  },
  {
   "cell_type": "code",
   "execution_count": 7,
   "metadata": {
    "execution": {
     "iopub.execute_input": "2023-08-26T00:09:20.877406Z",
     "iopub.status.busy": "2023-08-26T00:09:20.877144Z",
     "iopub.status.idle": "2023-08-26T00:09:20.899135Z",
     "shell.execute_reply": "2023-08-26T00:09:20.898160Z",
     "shell.execute_reply.started": "2023-08-26T00:09:20.877358Z"
    }
   },
   "outputs": [
    {
     "data": {
      "text/html": [
       "<div>\n",
       "<style scoped>\n",
       "    .dataframe tbody tr th:only-of-type {\n",
       "        vertical-align: middle;\n",
       "    }\n",
       "\n",
       "    .dataframe tbody tr th {\n",
       "        vertical-align: top;\n",
       "    }\n",
       "\n",
       "    .dataframe thead th {\n",
       "        text-align: right;\n",
       "    }\n",
       "</style>\n",
       "<table border=\"1\" class=\"dataframe\">\n",
       "  <thead>\n",
       "    <tr style=\"text-align: right;\">\n",
       "      <th></th>\n",
       "      <th>InvoiceNo</th>\n",
       "      <th>StockCode</th>\n",
       "      <th>Description</th>\n",
       "      <th>Quantity</th>\n",
       "      <th>UnitPrice</th>\n",
       "      <th>CustomerID</th>\n",
       "      <th>Country</th>\n",
       "    </tr>\n",
       "    <tr>\n",
       "      <th>InvoiceDate</th>\n",
       "      <th></th>\n",
       "      <th></th>\n",
       "      <th></th>\n",
       "      <th></th>\n",
       "      <th></th>\n",
       "      <th></th>\n",
       "      <th></th>\n",
       "    </tr>\n",
       "  </thead>\n",
       "  <tbody>\n",
       "    <tr>\n",
       "      <td>2010-12-01 08:26:00</td>\n",
       "      <td>536365</td>\n",
       "      <td>85123A</td>\n",
       "      <td>WHITE HANGING HEART T-LIGHT HOLDER</td>\n",
       "      <td>6</td>\n",
       "      <td>2.55</td>\n",
       "      <td>17850.0</td>\n",
       "      <td>United Kingdom</td>\n",
       "    </tr>\n",
       "    <tr>\n",
       "      <td>2010-12-01 08:26:00</td>\n",
       "      <td>536365</td>\n",
       "      <td>71053</td>\n",
       "      <td>WHITE METAL LANTERN</td>\n",
       "      <td>6</td>\n",
       "      <td>3.39</td>\n",
       "      <td>17850.0</td>\n",
       "      <td>United Kingdom</td>\n",
       "    </tr>\n",
       "    <tr>\n",
       "      <td>2010-12-01 08:26:00</td>\n",
       "      <td>536365</td>\n",
       "      <td>84406B</td>\n",
       "      <td>CREAM CUPID HEARTS COAT HANGER</td>\n",
       "      <td>8</td>\n",
       "      <td>2.75</td>\n",
       "      <td>17850.0</td>\n",
       "      <td>United Kingdom</td>\n",
       "    </tr>\n",
       "    <tr>\n",
       "      <td>2010-12-01 08:26:00</td>\n",
       "      <td>536365</td>\n",
       "      <td>84029G</td>\n",
       "      <td>KNITTED UNION FLAG HOT WATER BOTTLE</td>\n",
       "      <td>6</td>\n",
       "      <td>3.39</td>\n",
       "      <td>17850.0</td>\n",
       "      <td>United Kingdom</td>\n",
       "    </tr>\n",
       "    <tr>\n",
       "      <td>2010-12-01 08:26:00</td>\n",
       "      <td>536365</td>\n",
       "      <td>84029E</td>\n",
       "      <td>RED WOOLLY HOTTIE WHITE HEART.</td>\n",
       "      <td>6</td>\n",
       "      <td>3.39</td>\n",
       "      <td>17850.0</td>\n",
       "      <td>United Kingdom</td>\n",
       "    </tr>\n",
       "    <tr>\n",
       "      <td>...</td>\n",
       "      <td>...</td>\n",
       "      <td>...</td>\n",
       "      <td>...</td>\n",
       "      <td>...</td>\n",
       "      <td>...</td>\n",
       "      <td>...</td>\n",
       "      <td>...</td>\n",
       "    </tr>\n",
       "    <tr>\n",
       "      <td>2011-12-09 12:50:00</td>\n",
       "      <td>581587</td>\n",
       "      <td>22613</td>\n",
       "      <td>PACK OF 20 SPACEBOY NAPKINS</td>\n",
       "      <td>12</td>\n",
       "      <td>0.85</td>\n",
       "      <td>12680.0</td>\n",
       "      <td>France</td>\n",
       "    </tr>\n",
       "    <tr>\n",
       "      <td>2011-12-09 12:50:00</td>\n",
       "      <td>581587</td>\n",
       "      <td>22899</td>\n",
       "      <td>CHILDREN'S APRON DOLLY GIRL</td>\n",
       "      <td>6</td>\n",
       "      <td>2.10</td>\n",
       "      <td>12680.0</td>\n",
       "      <td>France</td>\n",
       "    </tr>\n",
       "    <tr>\n",
       "      <td>2011-12-09 12:50:00</td>\n",
       "      <td>581587</td>\n",
       "      <td>23254</td>\n",
       "      <td>CHILDRENS CUTLERY DOLLY GIRL</td>\n",
       "      <td>4</td>\n",
       "      <td>4.15</td>\n",
       "      <td>12680.0</td>\n",
       "      <td>France</td>\n",
       "    </tr>\n",
       "    <tr>\n",
       "      <td>2011-12-09 12:50:00</td>\n",
       "      <td>581587</td>\n",
       "      <td>23255</td>\n",
       "      <td>CHILDRENS CUTLERY CIRCUS PARADE</td>\n",
       "      <td>4</td>\n",
       "      <td>4.15</td>\n",
       "      <td>12680.0</td>\n",
       "      <td>France</td>\n",
       "    </tr>\n",
       "    <tr>\n",
       "      <td>2011-12-09 12:50:00</td>\n",
       "      <td>581587</td>\n",
       "      <td>22138</td>\n",
       "      <td>BAKING SET 9 PIECE RETROSPOT</td>\n",
       "      <td>3</td>\n",
       "      <td>4.95</td>\n",
       "      <td>12680.0</td>\n",
       "      <td>France</td>\n",
       "    </tr>\n",
       "  </tbody>\n",
       "</table>\n",
       "<p>541909 rows × 7 columns</p>\n",
       "</div>"
      ],
      "text/plain": [
       "                    InvoiceNo StockCode                          Description  \\\n",
       "InvoiceDate                                                                    \n",
       "2010-12-01 08:26:00    536365    85123A   WHITE HANGING HEART T-LIGHT HOLDER   \n",
       "2010-12-01 08:26:00    536365     71053                  WHITE METAL LANTERN   \n",
       "2010-12-01 08:26:00    536365    84406B       CREAM CUPID HEARTS COAT HANGER   \n",
       "2010-12-01 08:26:00    536365    84029G  KNITTED UNION FLAG HOT WATER BOTTLE   \n",
       "2010-12-01 08:26:00    536365    84029E       RED WOOLLY HOTTIE WHITE HEART.   \n",
       "...                       ...       ...                                  ...   \n",
       "2011-12-09 12:50:00    581587     22613          PACK OF 20 SPACEBOY NAPKINS   \n",
       "2011-12-09 12:50:00    581587     22899         CHILDREN'S APRON DOLLY GIRL    \n",
       "2011-12-09 12:50:00    581587     23254        CHILDRENS CUTLERY DOLLY GIRL    \n",
       "2011-12-09 12:50:00    581587     23255      CHILDRENS CUTLERY CIRCUS PARADE   \n",
       "2011-12-09 12:50:00    581587     22138        BAKING SET 9 PIECE RETROSPOT    \n",
       "\n",
       "                     Quantity  UnitPrice  CustomerID         Country  \n",
       "InvoiceDate                                                           \n",
       "2010-12-01 08:26:00         6       2.55     17850.0  United Kingdom  \n",
       "2010-12-01 08:26:00         6       3.39     17850.0  United Kingdom  \n",
       "2010-12-01 08:26:00         8       2.75     17850.0  United Kingdom  \n",
       "2010-12-01 08:26:00         6       3.39     17850.0  United Kingdom  \n",
       "2010-12-01 08:26:00         6       3.39     17850.0  United Kingdom  \n",
       "...                       ...        ...         ...             ...  \n",
       "2011-12-09 12:50:00        12       0.85     12680.0          France  \n",
       "2011-12-09 12:50:00         6       2.10     12680.0          France  \n",
       "2011-12-09 12:50:00         4       4.15     12680.0          France  \n",
       "2011-12-09 12:50:00         4       4.15     12680.0          France  \n",
       "2011-12-09 12:50:00         3       4.95     12680.0          France  \n",
       "\n",
       "[541909 rows x 7 columns]"
      ]
     },
     "execution_count": 7,
     "metadata": {},
     "output_type": "execute_result"
    }
   ],
   "source": [
    "df"
   ]
  },
  {
   "cell_type": "code",
   "execution_count": 8,
   "metadata": {
    "execution": {
     "iopub.execute_input": "2023-08-26T00:09:20.900704Z",
     "iopub.status.busy": "2023-08-26T00:09:20.900425Z",
     "iopub.status.idle": "2023-08-26T00:09:20.953825Z",
     "shell.execute_reply": "2023-08-26T00:09:20.952539Z",
     "shell.execute_reply.started": "2023-08-26T00:09:20.900648Z"
    }
   },
   "outputs": [
    {
     "data": {
      "text/html": [
       "<div>\n",
       "<style scoped>\n",
       "    .dataframe tbody tr th:only-of-type {\n",
       "        vertical-align: middle;\n",
       "    }\n",
       "\n",
       "    .dataframe tbody tr th {\n",
       "        vertical-align: top;\n",
       "    }\n",
       "\n",
       "    .dataframe thead th {\n",
       "        text-align: right;\n",
       "    }\n",
       "</style>\n",
       "<table border=\"1\" class=\"dataframe\">\n",
       "  <thead>\n",
       "    <tr style=\"text-align: right;\">\n",
       "      <th></th>\n",
       "      <th>InvoiceNo</th>\n",
       "      <th>StockCode</th>\n",
       "      <th>Description</th>\n",
       "      <th>Quantity</th>\n",
       "      <th>UnitPrice</th>\n",
       "      <th>Country</th>\n",
       "    </tr>\n",
       "    <tr>\n",
       "      <th>InvoiceDate</th>\n",
       "      <th></th>\n",
       "      <th></th>\n",
       "      <th></th>\n",
       "      <th></th>\n",
       "      <th></th>\n",
       "      <th></th>\n",
       "    </tr>\n",
       "  </thead>\n",
       "  <tbody>\n",
       "    <tr>\n",
       "      <td>2010-12-01 08:26:00</td>\n",
       "      <td>536365</td>\n",
       "      <td>85123A</td>\n",
       "      <td>WHITE HANGING HEART T-LIGHT HOLDER</td>\n",
       "      <td>6</td>\n",
       "      <td>2.55</td>\n",
       "      <td>United Kingdom</td>\n",
       "    </tr>\n",
       "    <tr>\n",
       "      <td>2010-12-01 08:26:00</td>\n",
       "      <td>536365</td>\n",
       "      <td>71053</td>\n",
       "      <td>WHITE METAL LANTERN</td>\n",
       "      <td>6</td>\n",
       "      <td>3.39</td>\n",
       "      <td>United Kingdom</td>\n",
       "    </tr>\n",
       "    <tr>\n",
       "      <td>2010-12-01 08:26:00</td>\n",
       "      <td>536365</td>\n",
       "      <td>84406B</td>\n",
       "      <td>CREAM CUPID HEARTS COAT HANGER</td>\n",
       "      <td>8</td>\n",
       "      <td>2.75</td>\n",
       "      <td>United Kingdom</td>\n",
       "    </tr>\n",
       "    <tr>\n",
       "      <td>2010-12-01 08:26:00</td>\n",
       "      <td>536365</td>\n",
       "      <td>84029G</td>\n",
       "      <td>KNITTED UNION FLAG HOT WATER BOTTLE</td>\n",
       "      <td>6</td>\n",
       "      <td>3.39</td>\n",
       "      <td>United Kingdom</td>\n",
       "    </tr>\n",
       "    <tr>\n",
       "      <td>2010-12-01 08:26:00</td>\n",
       "      <td>536365</td>\n",
       "      <td>84029E</td>\n",
       "      <td>RED WOOLLY HOTTIE WHITE HEART.</td>\n",
       "      <td>6</td>\n",
       "      <td>3.39</td>\n",
       "      <td>United Kingdom</td>\n",
       "    </tr>\n",
       "    <tr>\n",
       "      <td>...</td>\n",
       "      <td>...</td>\n",
       "      <td>...</td>\n",
       "      <td>...</td>\n",
       "      <td>...</td>\n",
       "      <td>...</td>\n",
       "      <td>...</td>\n",
       "    </tr>\n",
       "    <tr>\n",
       "      <td>2011-12-09 12:50:00</td>\n",
       "      <td>581587</td>\n",
       "      <td>22613</td>\n",
       "      <td>PACK OF 20 SPACEBOY NAPKINS</td>\n",
       "      <td>12</td>\n",
       "      <td>0.85</td>\n",
       "      <td>France</td>\n",
       "    </tr>\n",
       "    <tr>\n",
       "      <td>2011-12-09 12:50:00</td>\n",
       "      <td>581587</td>\n",
       "      <td>22899</td>\n",
       "      <td>CHILDREN'S APRON DOLLY GIRL</td>\n",
       "      <td>6</td>\n",
       "      <td>2.10</td>\n",
       "      <td>France</td>\n",
       "    </tr>\n",
       "    <tr>\n",
       "      <td>2011-12-09 12:50:00</td>\n",
       "      <td>581587</td>\n",
       "      <td>23254</td>\n",
       "      <td>CHILDRENS CUTLERY DOLLY GIRL</td>\n",
       "      <td>4</td>\n",
       "      <td>4.15</td>\n",
       "      <td>France</td>\n",
       "    </tr>\n",
       "    <tr>\n",
       "      <td>2011-12-09 12:50:00</td>\n",
       "      <td>581587</td>\n",
       "      <td>23255</td>\n",
       "      <td>CHILDRENS CUTLERY CIRCUS PARADE</td>\n",
       "      <td>4</td>\n",
       "      <td>4.15</td>\n",
       "      <td>France</td>\n",
       "    </tr>\n",
       "    <tr>\n",
       "      <td>2011-12-09 12:50:00</td>\n",
       "      <td>581587</td>\n",
       "      <td>22138</td>\n",
       "      <td>BAKING SET 9 PIECE RETROSPOT</td>\n",
       "      <td>3</td>\n",
       "      <td>4.95</td>\n",
       "      <td>France</td>\n",
       "    </tr>\n",
       "  </tbody>\n",
       "</table>\n",
       "<p>541909 rows × 6 columns</p>\n",
       "</div>"
      ],
      "text/plain": [
       "                    InvoiceNo StockCode                          Description  \\\n",
       "InvoiceDate                                                                    \n",
       "2010-12-01 08:26:00    536365    85123A   WHITE HANGING HEART T-LIGHT HOLDER   \n",
       "2010-12-01 08:26:00    536365     71053                  WHITE METAL LANTERN   \n",
       "2010-12-01 08:26:00    536365    84406B       CREAM CUPID HEARTS COAT HANGER   \n",
       "2010-12-01 08:26:00    536365    84029G  KNITTED UNION FLAG HOT WATER BOTTLE   \n",
       "2010-12-01 08:26:00    536365    84029E       RED WOOLLY HOTTIE WHITE HEART.   \n",
       "...                       ...       ...                                  ...   \n",
       "2011-12-09 12:50:00    581587     22613          PACK OF 20 SPACEBOY NAPKINS   \n",
       "2011-12-09 12:50:00    581587     22899         CHILDREN'S APRON DOLLY GIRL    \n",
       "2011-12-09 12:50:00    581587     23254        CHILDRENS CUTLERY DOLLY GIRL    \n",
       "2011-12-09 12:50:00    581587     23255      CHILDRENS CUTLERY CIRCUS PARADE   \n",
       "2011-12-09 12:50:00    581587     22138        BAKING SET 9 PIECE RETROSPOT    \n",
       "\n",
       "                     Quantity  UnitPrice         Country  \n",
       "InvoiceDate                                               \n",
       "2010-12-01 08:26:00         6       2.55  United Kingdom  \n",
       "2010-12-01 08:26:00         6       3.39  United Kingdom  \n",
       "2010-12-01 08:26:00         8       2.75  United Kingdom  \n",
       "2010-12-01 08:26:00         6       3.39  United Kingdom  \n",
       "2010-12-01 08:26:00         6       3.39  United Kingdom  \n",
       "...                       ...        ...             ...  \n",
       "2011-12-09 12:50:00        12       0.85          France  \n",
       "2011-12-09 12:50:00         6       2.10          France  \n",
       "2011-12-09 12:50:00         4       4.15          France  \n",
       "2011-12-09 12:50:00         4       4.15          France  \n",
       "2011-12-09 12:50:00         3       4.95          France  \n",
       "\n",
       "[541909 rows x 6 columns]"
      ]
     },
     "execution_count": 8,
     "metadata": {},
     "output_type": "execute_result"
    }
   ],
   "source": [
    "df = df.drop('CustomerID',axis=1)\n",
    "df"
   ]
  },
  {
   "cell_type": "code",
   "execution_count": 9,
   "metadata": {
    "execution": {
     "iopub.execute_input": "2023-08-26T00:09:20.957048Z",
     "iopub.status.busy": "2023-08-26T00:09:20.956775Z",
     "iopub.status.idle": "2023-08-26T00:09:20.962024Z",
     "shell.execute_reply": "2023-08-26T00:09:20.961031Z",
     "shell.execute_reply.started": "2023-08-26T00:09:20.956985Z"
    },
    "id": "qZHLLtsRqPTA"
   },
   "outputs": [],
   "source": [
    "#df = df.drop(columns=['CustomerID'])"
   ]
  },
  {
   "cell_type": "markdown",
   "metadata": {
    "id": "_oFg_pKssgLp"
   },
   "source": [
    "Let's check out what kind of nulls we have in Description"
   ]
  },
  {
   "cell_type": "code",
   "execution_count": 10,
   "metadata": {
    "execution": {
     "iopub.execute_input": "2023-08-26T00:09:20.963780Z",
     "iopub.status.busy": "2023-08-26T00:09:20.963523Z",
     "iopub.status.idle": "2023-08-26T00:09:21.004254Z",
     "shell.execute_reply": "2023-08-26T00:09:21.002289Z",
     "shell.execute_reply.started": "2023-08-26T00:09:20.963727Z"
    },
    "id": "rQkkpcUnsqef",
    "outputId": "6d5126e2-7b58-459a-a71c-cd1de52f6e10"
   },
   "outputs": [
    {
     "data": {
      "text/html": [
       "<div>\n",
       "<style scoped>\n",
       "    .dataframe tbody tr th:only-of-type {\n",
       "        vertical-align: middle;\n",
       "    }\n",
       "\n",
       "    .dataframe tbody tr th {\n",
       "        vertical-align: top;\n",
       "    }\n",
       "\n",
       "    .dataframe thead th {\n",
       "        text-align: right;\n",
       "    }\n",
       "</style>\n",
       "<table border=\"1\" class=\"dataframe\">\n",
       "  <thead>\n",
       "    <tr style=\"text-align: right;\">\n",
       "      <th></th>\n",
       "      <th>InvoiceNo</th>\n",
       "      <th>StockCode</th>\n",
       "      <th>Description</th>\n",
       "      <th>Quantity</th>\n",
       "      <th>UnitPrice</th>\n",
       "      <th>Country</th>\n",
       "    </tr>\n",
       "    <tr>\n",
       "      <th>InvoiceDate</th>\n",
       "      <th></th>\n",
       "      <th></th>\n",
       "      <th></th>\n",
       "      <th></th>\n",
       "      <th></th>\n",
       "      <th></th>\n",
       "    </tr>\n",
       "  </thead>\n",
       "  <tbody>\n",
       "    <tr>\n",
       "      <td>2010-12-01 11:52:00</td>\n",
       "      <td>536414</td>\n",
       "      <td>22139</td>\n",
       "      <td>NaN</td>\n",
       "      <td>56</td>\n",
       "      <td>0.0</td>\n",
       "      <td>United Kingdom</td>\n",
       "    </tr>\n",
       "    <tr>\n",
       "      <td>2010-12-01 14:32:00</td>\n",
       "      <td>536545</td>\n",
       "      <td>21134</td>\n",
       "      <td>NaN</td>\n",
       "      <td>1</td>\n",
       "      <td>0.0</td>\n",
       "      <td>United Kingdom</td>\n",
       "    </tr>\n",
       "    <tr>\n",
       "      <td>2010-12-01 14:33:00</td>\n",
       "      <td>536546</td>\n",
       "      <td>22145</td>\n",
       "      <td>NaN</td>\n",
       "      <td>1</td>\n",
       "      <td>0.0</td>\n",
       "      <td>United Kingdom</td>\n",
       "    </tr>\n",
       "    <tr>\n",
       "      <td>2010-12-01 14:33:00</td>\n",
       "      <td>536547</td>\n",
       "      <td>37509</td>\n",
       "      <td>NaN</td>\n",
       "      <td>1</td>\n",
       "      <td>0.0</td>\n",
       "      <td>United Kingdom</td>\n",
       "    </tr>\n",
       "    <tr>\n",
       "      <td>2010-12-01 14:34:00</td>\n",
       "      <td>536549</td>\n",
       "      <td>85226A</td>\n",
       "      <td>NaN</td>\n",
       "      <td>1</td>\n",
       "      <td>0.0</td>\n",
       "      <td>United Kingdom</td>\n",
       "    </tr>\n",
       "  </tbody>\n",
       "</table>\n",
       "</div>"
      ],
      "text/plain": [
       "                    InvoiceNo StockCode Description  Quantity  UnitPrice  \\\n",
       "InvoiceDate                                                                \n",
       "2010-12-01 11:52:00    536414     22139         NaN        56        0.0   \n",
       "2010-12-01 14:32:00    536545     21134         NaN         1        0.0   \n",
       "2010-12-01 14:33:00    536546     22145         NaN         1        0.0   \n",
       "2010-12-01 14:33:00    536547     37509         NaN         1        0.0   \n",
       "2010-12-01 14:34:00    536549    85226A         NaN         1        0.0   \n",
       "\n",
       "                            Country  \n",
       "InvoiceDate                          \n",
       "2010-12-01 11:52:00  United Kingdom  \n",
       "2010-12-01 14:32:00  United Kingdom  \n",
       "2010-12-01 14:33:00  United Kingdom  \n",
       "2010-12-01 14:33:00  United Kingdom  \n",
       "2010-12-01 14:34:00  United Kingdom  "
      ]
     },
     "execution_count": 10,
     "metadata": {},
     "output_type": "execute_result"
    }
   ],
   "source": [
    "df[df['Description'].isnull()].head()"
   ]
  },
  {
   "cell_type": "markdown",
   "metadata": {
    "id": "RrpxM_SasxCU"
   },
   "source": [
    "The data in these rows is pretty strange as UnitPrice is 0, so these orders do not generate any sales. I think, we can impute it with \"UNKNOWN ITEM\" at the moment and deal with those later during the analysis."
   ]
  },
  {
   "cell_type": "code",
   "execution_count": 11,
   "metadata": {
    "execution": {
     "iopub.execute_input": "2023-08-26T00:09:21.006674Z",
     "iopub.status.busy": "2023-08-26T00:09:21.006297Z",
     "iopub.status.idle": "2023-08-26T00:09:21.143544Z",
     "shell.execute_reply": "2023-08-26T00:09:21.142404Z",
     "shell.execute_reply.started": "2023-08-26T00:09:21.006630Z"
    },
    "id": "eIIq-a31t3mm",
    "outputId": "b788c188-bb34-47a5-c374-ba05b88fab66"
   },
   "outputs": [
    {
     "data": {
      "text/plain": [
       "InvoiceNo      0\n",
       "StockCode      0\n",
       "Description    0\n",
       "Quantity       0\n",
       "UnitPrice      0\n",
       "Country        0\n",
       "dtype: int64"
      ]
     },
     "execution_count": 11,
     "metadata": {},
     "output_type": "execute_result"
    }
   ],
   "source": [
    "df['Description'] = df['Description'].fillna('UNKNOWN ITEM')\n",
    "df.isnull().sum()"
   ]
  },
  {
   "cell_type": "markdown",
   "metadata": {
    "id": "B_RRuBfHyzKm"
   },
   "source": [
    "## 2.4. Checking out columns separately"
   ]
  },
  {
   "cell_type": "markdown",
   "metadata": {},
   "source": [
    "Also it makes sense to go feature by feature and check what pitfalls we have in our data and also to understand our numbers better. "
   ]
  },
  {
   "cell_type": "markdown",
   "metadata": {
    "id": "rGmT3rxntRwp"
   },
   "source": [
    "Let's continue checking Description column. Here we can see items that were bought most often. "
   ]
  },
  {
   "cell_type": "code",
   "execution_count": 12,
   "metadata": {
    "execution": {
     "iopub.execute_input": "2023-08-26T00:09:21.145232Z",
     "iopub.status.busy": "2023-08-26T00:09:21.144922Z",
     "iopub.status.idle": "2023-08-26T00:09:21.219102Z",
     "shell.execute_reply": "2023-08-26T00:09:21.217942Z",
     "shell.execute_reply.started": "2023-08-26T00:09:21.145192Z"
    },
    "id": "2zRnyeufgBDa",
    "outputId": "48a7535a-7265-4dd3-d53b-11e1f26ff41b"
   },
   "outputs": [
    {
     "data": {
      "text/plain": [
       "WHITE HANGING HEART T-LIGHT HOLDER    2369\n",
       "REGENCY CAKESTAND 3 TIER              2200\n",
       "JUMBO BAG RED RETROSPOT               2159\n",
       "PARTY BUNTING                         1727\n",
       "LUNCH BAG RED RETROSPOT               1638\n",
       "Name: Description, dtype: int64"
      ]
     },
     "execution_count": 12,
     "metadata": {},
     "output_type": "execute_result"
    }
   ],
   "source": [
    "df['Description'].value_counts().head()"
   ]
  },
  {
   "cell_type": "markdown",
   "metadata": {},
   "source": [
    "Here we can see our best selling products, items that appear in orders the most often. Also to make it visually more appealing let's create a bar chart for 15 top items."
   ]
  },
  {
   "cell_type": "code",
   "execution_count": 13,
   "metadata": {
    "execution": {
     "iopub.execute_input": "2023-08-26T00:09:21.220993Z",
     "iopub.status.busy": "2023-08-26T00:09:21.220632Z",
     "iopub.status.idle": "2023-08-26T00:09:21.292802Z",
     "shell.execute_reply": "2023-08-26T00:09:21.291515Z",
     "shell.execute_reply.started": "2023-08-26T00:09:21.220930Z"
    }
   },
   "outputs": [
    {
     "data": {
      "text/plain": [
       "array([2369, 2200, 2159, 1727, 1638, 1501, 1473, 1454, 1385, 1350])"
      ]
     },
     "execution_count": 13,
     "metadata": {},
     "output_type": "execute_result"
    }
   ],
   "source": [
    "df['Description'].value_counts().sort_values(ascending = False)[:10].values"
   ]
  },
  {
   "cell_type": "code",
   "execution_count": 14,
   "metadata": {
    "execution": {
     "iopub.execute_input": "2023-08-26T00:09:21.295680Z",
     "iopub.status.busy": "2023-08-26T00:09:21.295285Z",
     "iopub.status.idle": "2023-08-26T00:09:21.677463Z",
     "shell.execute_reply": "2023-08-26T00:09:21.676067Z",
     "shell.execute_reply.started": "2023-08-26T00:09:21.295613Z"
    },
    "id": "JuNgVd6PGt7Y",
    "outputId": "47fc5972-c3bb-4145-9209-19964ddcc9a2"
   },
   "outputs": [
    {
     "data": {
      "image/png": "[encoded data removed]",
      "text/plain": [
       "<Figure size 1296x432 with 1 Axes>"
      ]
     },
     "metadata": {
      "needs_background": "light"
     },
     "output_type": "display_data"
    }
   ],
   "source": [
    "item_counts = df['Description'].value_counts().sort_values(ascending=False).iloc[0:15]\n",
    "plt.figure(figsize=(18,6))\n",
    "sns.barplot(item_counts.index, item_counts.values, palette=sns.cubehelix_palette(15))\n",
    "plt.ylabel(\"Counts\")\n",
    "plt.title(\"Which items were bought more often?\");\n",
    "plt.xticks(rotation=90);"
   ]
  },
  {
   "cell_type": "code",
   "execution_count": 15,
   "metadata": {
    "execution": {
     "iopub.execute_input": "2023-08-26T00:09:21.678751Z",
     "iopub.status.busy": "2023-08-26T00:09:21.678549Z",
     "iopub.status.idle": "2023-08-26T00:09:21.749639Z",
     "shell.execute_reply": "2023-08-26T00:09:21.748469Z",
     "shell.execute_reply.started": "2023-08-26T00:09:21.678720Z"
    }
   },
   "outputs": [
    {
     "data": {
      "text/plain": [
       "FLOWER FAIRY 5 SUMMER DRAW LINERS    1\n",
       "TRAVEL CARD WALLET DOTCOMGIFTSHOP    1\n",
       "???                                  1\n",
       "JARDIN ETCHED GLASS BUTTER DISH      1\n",
       "Found in w/hse                       1\n",
       "Name: Description, dtype: int64"
      ]
     },
     "execution_count": 15,
     "metadata": {},
     "output_type": "execute_result"
    }
   ],
   "source": [
    "df['Description'].value_counts().tail()"
   ]
  },
  {
   "cell_type": "markdown",
   "metadata": {
    "id": "pgxFvFL0xEL4"
   },
   "source": [
    "We also notice from above code that valid items are normally uppercased and non-valid or cancelations are in lower case"
   ]
  },
  {
   "cell_type": "code",
   "execution_count": 16,
   "metadata": {
    "execution": {
     "iopub.execute_input": "2023-08-26T00:09:21.751389Z",
     "iopub.status.busy": "2023-08-26T00:09:21.751133Z",
     "iopub.status.idle": "2023-08-26T00:09:21.991476Z",
     "shell.execute_reply": "2023-08-26T00:09:21.990193Z",
     "shell.execute_reply.started": "2023-08-26T00:09:21.751350Z"
    },
    "id": "0RMbj7vsu3kZ",
    "outputId": "a79e7b03-11da-4cc8-9601-497123b134b7"
   },
   "outputs": [
    {
     "data": {
      "text/plain": [
       "Manual                                572\n",
       "BAG 125g SWIRLY MARBLES               304\n",
       "BAG 250g SWIRLY MARBLES               252\n",
       "3 TRADITIONAl BISCUIT CUTTERS  SET    240\n",
       "POLYESTER FILLER PAD 40x40cm          193\n",
       "Name: Description, dtype: int64"
      ]
     },
     "execution_count": 16,
     "metadata": {},
     "output_type": "execute_result"
    }
   ],
   "source": [
    "df[~df['Description'].str.isupper()]['Description'].value_counts().head()"
   ]
  },
  {
   "cell_type": "markdown",
   "metadata": {},
   "source": [
    "Quick check of the case of letters in Description says that there are some units with lower case letters in their name and also that lower case records are for canceled items. Here we can understand that data management in the store can be improved."
   ]
  },
  {
   "cell_type": "code",
   "execution_count": 17,
   "metadata": {
    "execution": {
     "iopub.execute_input": "2023-08-26T00:09:21.993047Z",
     "iopub.status.busy": "2023-08-26T00:09:21.992743Z",
     "iopub.status.idle": "2023-08-26T00:09:22.471705Z",
     "shell.execute_reply": "2023-08-26T00:09:22.470325Z",
     "shell.execute_reply.started": "2023-08-26T00:09:21.992970Z"
    },
    "id": "YxTPItIwJQTV",
    "outputId": "c2caac93-0726-4cb6-faf2-063ff23c612a"
   },
   "outputs": [
    {
     "data": {
      "image/png": "[encoded data removed]",
      "text/plain": [
       "<Figure size 1296x432 with 1 Axes>"
      ]
     },
     "metadata": {
      "needs_background": "light"
     },
     "output_type": "display_data"
    }
   ],
   "source": [
    "lcase_counts = df[~df['Description'].str.isupper()]['Description'].value_counts().sort_values(ascending=False).iloc[0:15]\n",
    "plt.figure(figsize=(18,6))\n",
    "sns.barplot(lcase_counts.index, lcase_counts.values, palette=sns.color_palette(\"hls\", 15))\n",
    "plt.ylabel(\"Counts\")\n",
    "plt.title(\"Not full upper case items\");\n",
    "plt.xticks(rotation=90);"
   ]
  },
  {
   "cell_type": "markdown",
   "metadata": {
    "id": "FIdbxmgjxnV9"
   },
   "source": [
    "ALso checking out stoke codes, looks like they are deeply correlated with descriptions - which makes perfect sense."
   ]
  },
  {
   "cell_type": "code",
   "execution_count": 18,
   "metadata": {
    "execution": {
     "iopub.execute_input": "2023-08-26T00:09:22.474656Z",
     "iopub.status.busy": "2023-08-26T00:09:22.474313Z",
     "iopub.status.idle": "2023-08-26T00:09:22.533164Z",
     "shell.execute_reply": "2023-08-26T00:09:22.531723Z",
     "shell.execute_reply.started": "2023-08-26T00:09:22.474592Z"
    },
    "id": "Ifuzm9k3wiZC",
    "outputId": "69b593a7-0512-43e8-dc00-fe637f110110"
   },
   "outputs": [
    {
     "data": {
      "text/plain": [
       "85123A    2313\n",
       "22423     2203\n",
       "85099B    2159\n",
       "47566     1727\n",
       "20725     1639\n",
       "Name: StockCode, dtype: int64"
      ]
     },
     "execution_count": 18,
     "metadata": {},
     "output_type": "execute_result"
    }
   ],
   "source": [
    "df['StockCode'].value_counts().head()"
   ]
  },
  {
   "cell_type": "code",
   "execution_count": 19,
   "metadata": {
    "execution": {
     "iopub.execute_input": "2023-08-26T00:09:22.535090Z",
     "iopub.status.busy": "2023-08-26T00:09:22.534778Z",
     "iopub.status.idle": "2023-08-26T00:09:22.559081Z",
     "shell.execute_reply": "2023-08-26T00:09:22.557980Z",
     "shell.execute_reply.started": "2023-08-26T00:09:22.535030Z"
    }
   },
   "outputs": [
    {
     "data": {
      "text/html": [
       "<div>\n",
       "<style scoped>\n",
       "    .dataframe tbody tr th:only-of-type {\n",
       "        vertical-align: middle;\n",
       "    }\n",
       "\n",
       "    .dataframe tbody tr th {\n",
       "        vertical-align: top;\n",
       "    }\n",
       "\n",
       "    .dataframe thead th {\n",
       "        text-align: right;\n",
       "    }\n",
       "</style>\n",
       "<table border=\"1\" class=\"dataframe\">\n",
       "  <thead>\n",
       "    <tr style=\"text-align: right;\">\n",
       "      <th></th>\n",
       "      <th>Quantity</th>\n",
       "      <th>UnitPrice</th>\n",
       "    </tr>\n",
       "  </thead>\n",
       "  <tbody>\n",
       "    <tr>\n",
       "      <td>Quantity</td>\n",
       "      <td>1.000000</td>\n",
       "      <td>-0.001235</td>\n",
       "    </tr>\n",
       "    <tr>\n",
       "      <td>UnitPrice</td>\n",
       "      <td>-0.001235</td>\n",
       "      <td>1.000000</td>\n",
       "    </tr>\n",
       "  </tbody>\n",
       "</table>\n",
       "</div>"
      ],
      "text/plain": [
       "           Quantity  UnitPrice\n",
       "Quantity   1.000000  -0.001235\n",
       "UnitPrice -0.001235   1.000000"
      ]
     },
     "execution_count": 19,
     "metadata": {},
     "output_type": "execute_result"
    }
   ],
   "source": [
    "df.corr()"
   ]
  },
  {
   "cell_type": "code",
   "execution_count": 20,
   "metadata": {
    "execution": {
     "iopub.execute_input": "2023-08-26T00:09:22.560354Z",
     "iopub.status.busy": "2023-08-26T00:09:22.560148Z",
     "iopub.status.idle": "2023-08-26T00:09:22.873828Z",
     "shell.execute_reply": "2023-08-26T00:09:22.872615Z",
     "shell.execute_reply.started": "2023-08-26T00:09:22.560322Z"
    },
    "id": "mYNaQ_KmK6YH",
    "outputId": "45b22661-378f-4bbe-b1e1-9f912e240e84"
   },
   "outputs": [
    {
     "data": {
      "image/png": "[encoded data removed]",
      "text/plain": [
       "<Figure size 1296x432 with 1 Axes>"
      ]
     },
     "metadata": {
      "needs_background": "light"
     },
     "output_type": "display_data"
    }
   ],
   "source": [
    "stock_counts = df['StockCode'].value_counts().sort_values(ascending=False).iloc[0:15]\n",
    "plt.figure(figsize=\n",
    "           (18,6))\n",
    "sns.barplot(stock_counts.index, stock_counts.values, palette=sns.color_palette(\"GnBu_d\"))\n",
    "plt.ylabel(\"Counts\")\n",
    "plt.title(\"Which stock codes were used the most?\");\n",
    "plt.xticks(rotation=90);"
   ]
  },
  {
   "cell_type": "markdown",
   "metadata": {
    "id": "CyIqQt3rx3eo"
   },
   "source": [
    "Checking out also InvoiceNo feature."
   ]
  },
  {
   "cell_type": "code",
   "execution_count": 21,
   "metadata": {
    "execution": {
     "iopub.execute_input": "2023-08-26T00:09:22.875815Z",
     "iopub.status.busy": "2023-08-26T00:09:22.875513Z",
     "iopub.status.idle": "2023-08-26T00:09:22.907159Z",
     "shell.execute_reply": "2023-08-26T00:09:22.906268Z",
     "shell.execute_reply.started": "2023-08-26T00:09:22.875760Z"
    }
   },
   "outputs": [
    {
     "data": {
      "text/plain": [
       "array(['536365', '536366', '536367', ..., '581585', '581586', '581587'],\n",
       "      dtype=object)"
      ]
     },
     "execution_count": 21,
     "metadata": {},
     "output_type": "execute_result"
    }
   ],
   "source": [
    "df['InvoiceNo'].unique()"
   ]
  },
  {
   "cell_type": "code",
   "execution_count": 22,
   "metadata": {
    "execution": {
     "iopub.execute_input": "2023-08-26T00:09:22.908744Z",
     "iopub.status.busy": "2023-08-26T00:09:22.908429Z",
     "iopub.status.idle": "2023-08-26T00:09:22.969816Z",
     "shell.execute_reply": "2023-08-26T00:09:22.968785Z",
     "shell.execute_reply.started": "2023-08-26T00:09:22.908679Z"
    },
    "id": "-07Q-Xp3xjSU",
    "outputId": "9ade42df-5062-40a9-e649-58ccf31e4d77"
   },
   "outputs": [
    {
     "data": {
      "text/plain": [
       "568081     1\n",
       "C561810    1\n",
       "C575641    1\n",
       "538041     1\n",
       "575338     1\n",
       "Name: InvoiceNo, dtype: int64"
      ]
     },
     "execution_count": 22,
     "metadata": {},
     "output_type": "execute_result"
    }
   ],
   "source": [
    "df['InvoiceNo'].value_counts().tail()"
   ]
  },
  {
   "cell_type": "code",
   "execution_count": 23,
   "metadata": {
    "execution": {
     "iopub.execute_input": "2023-08-26T00:09:22.971356Z",
     "iopub.status.busy": "2023-08-26T00:09:22.971095Z",
     "iopub.status.idle": "2023-08-26T00:09:23.328050Z",
     "shell.execute_reply": "2023-08-26T00:09:23.326804Z",
     "shell.execute_reply.started": "2023-08-26T00:09:22.971317Z"
    },
    "id": "5aSNIrR4LnuS",
    "outputId": "bdbc0532-dd9b-4dc2-f1b2-f77a390e420e"
   },
   "outputs": [
    {
     "data": {
      "image/png": "[encoded data removed]",
      "text/plain": [
       "<Figure size 1296x432 with 1 Axes>"
      ]
     },
     "metadata": {
      "needs_background": "light"
     },
     "output_type": "display_data"
    }
   ],
   "source": [
    "inv_counts = df['InvoiceNo'].value_counts().sort_values(ascending=False).iloc[0:15]\n",
    "plt.figure(figsize=(18,6))\n",
    "sns.barplot(inv_counts.index, inv_counts.values, palette=sns.color_palette(\"BuGn_d\"))\n",
    "plt.ylabel(\"Counts\")\n",
    "plt.title(\"Which invoices had the most items?\");\n",
    "plt.xticks(rotation=90);"
   ]
  },
  {
   "cell_type": "code",
   "execution_count": 24,
   "metadata": {
    "execution": {
     "iopub.execute_input": "2023-08-26T00:09:23.331646Z",
     "iopub.status.busy": "2023-08-26T00:09:23.331296Z",
     "iopub.status.idle": "2023-08-26T00:09:23.350766Z",
     "shell.execute_reply": "2023-08-26T00:09:23.350219Z",
     "shell.execute_reply.started": "2023-08-26T00:09:23.331606Z"
    }
   },
   "outputs": [
    {
     "data": {
      "text/html": [
       "<div>\n",
       "<style scoped>\n",
       "    .dataframe tbody tr th:only-of-type {\n",
       "        vertical-align: middle;\n",
       "    }\n",
       "\n",
       "    .dataframe tbody tr th {\n",
       "        vertical-align: top;\n",
       "    }\n",
       "\n",
       "    .dataframe thead th {\n",
       "        text-align: right;\n",
       "    }\n",
       "</style>\n",
       "<table border=\"1\" class=\"dataframe\">\n",
       "  <thead>\n",
       "    <tr style=\"text-align: right;\">\n",
       "      <th></th>\n",
       "      <th>InvoiceNo</th>\n",
       "      <th>StockCode</th>\n",
       "      <th>Description</th>\n",
       "      <th>Quantity</th>\n",
       "      <th>UnitPrice</th>\n",
       "      <th>Country</th>\n",
       "    </tr>\n",
       "    <tr>\n",
       "      <th>InvoiceDate</th>\n",
       "      <th></th>\n",
       "      <th></th>\n",
       "      <th></th>\n",
       "      <th></th>\n",
       "      <th></th>\n",
       "      <th></th>\n",
       "    </tr>\n",
       "  </thead>\n",
       "  <tbody>\n",
       "    <tr>\n",
       "      <td>2011-12-09 12:31:00</td>\n",
       "      <td>581585</td>\n",
       "      <td>22466</td>\n",
       "      <td>FAIRY TALE COTTAGE NIGHT LIGHT</td>\n",
       "      <td>12</td>\n",
       "      <td>1.95</td>\n",
       "      <td>United Kingdom</td>\n",
       "    </tr>\n",
       "    <tr>\n",
       "      <td>2011-12-09 12:49:00</td>\n",
       "      <td>581586</td>\n",
       "      <td>22061</td>\n",
       "      <td>LARGE CAKE STAND  HANGING STRAWBERY</td>\n",
       "      <td>8</td>\n",
       "      <td>2.95</td>\n",
       "      <td>United Kingdom</td>\n",
       "    </tr>\n",
       "    <tr>\n",
       "      <td>2011-12-09 12:49:00</td>\n",
       "      <td>581586</td>\n",
       "      <td>23275</td>\n",
       "      <td>SET OF 3 HANGING OWLS OLLIE BEAK</td>\n",
       "      <td>24</td>\n",
       "      <td>1.25</td>\n",
       "      <td>United Kingdom</td>\n",
       "    </tr>\n",
       "    <tr>\n",
       "      <td>2011-12-09 12:49:00</td>\n",
       "      <td>581586</td>\n",
       "      <td>21217</td>\n",
       "      <td>RED RETROSPOT ROUND CAKE TINS</td>\n",
       "      <td>24</td>\n",
       "      <td>8.95</td>\n",
       "      <td>United Kingdom</td>\n",
       "    </tr>\n",
       "    <tr>\n",
       "      <td>2011-12-09 12:49:00</td>\n",
       "      <td>581586</td>\n",
       "      <td>20685</td>\n",
       "      <td>DOORMAT RED RETROSPOT</td>\n",
       "      <td>10</td>\n",
       "      <td>7.08</td>\n",
       "      <td>United Kingdom</td>\n",
       "    </tr>\n",
       "    <tr>\n",
       "      <td>2011-12-09 12:50:00</td>\n",
       "      <td>581587</td>\n",
       "      <td>22631</td>\n",
       "      <td>CIRCUS PARADE LUNCH BOX</td>\n",
       "      <td>12</td>\n",
       "      <td>1.95</td>\n",
       "      <td>France</td>\n",
       "    </tr>\n",
       "    <tr>\n",
       "      <td>2011-12-09 12:50:00</td>\n",
       "      <td>581587</td>\n",
       "      <td>22556</td>\n",
       "      <td>PLASTERS IN TIN CIRCUS PARADE</td>\n",
       "      <td>12</td>\n",
       "      <td>1.65</td>\n",
       "      <td>France</td>\n",
       "    </tr>\n",
       "    <tr>\n",
       "      <td>2011-12-09 12:50:00</td>\n",
       "      <td>581587</td>\n",
       "      <td>22555</td>\n",
       "      <td>PLASTERS IN TIN STRONGMAN</td>\n",
       "      <td>12</td>\n",
       "      <td>1.65</td>\n",
       "      <td>France</td>\n",
       "    </tr>\n",
       "    <tr>\n",
       "      <td>2011-12-09 12:50:00</td>\n",
       "      <td>581587</td>\n",
       "      <td>22728</td>\n",
       "      <td>ALARM CLOCK BAKELIKE PINK</td>\n",
       "      <td>4</td>\n",
       "      <td>3.75</td>\n",
       "      <td>France</td>\n",
       "    </tr>\n",
       "    <tr>\n",
       "      <td>2011-12-09 12:50:00</td>\n",
       "      <td>581587</td>\n",
       "      <td>22727</td>\n",
       "      <td>ALARM CLOCK BAKELIKE RED</td>\n",
       "      <td>4</td>\n",
       "      <td>3.75</td>\n",
       "      <td>France</td>\n",
       "    </tr>\n",
       "    <tr>\n",
       "      <td>2011-12-09 12:50:00</td>\n",
       "      <td>581587</td>\n",
       "      <td>22726</td>\n",
       "      <td>ALARM CLOCK BAKELIKE GREEN</td>\n",
       "      <td>4</td>\n",
       "      <td>3.75</td>\n",
       "      <td>France</td>\n",
       "    </tr>\n",
       "    <tr>\n",
       "      <td>2011-12-09 12:50:00</td>\n",
       "      <td>581587</td>\n",
       "      <td>22730</td>\n",
       "      <td>ALARM CLOCK BAKELIKE IVORY</td>\n",
       "      <td>4</td>\n",
       "      <td>3.75</td>\n",
       "      <td>France</td>\n",
       "    </tr>\n",
       "    <tr>\n",
       "      <td>2011-12-09 12:50:00</td>\n",
       "      <td>581587</td>\n",
       "      <td>22367</td>\n",
       "      <td>CHILDRENS APRON SPACEBOY DESIGN</td>\n",
       "      <td>8</td>\n",
       "      <td>1.95</td>\n",
       "      <td>France</td>\n",
       "    </tr>\n",
       "    <tr>\n",
       "      <td>2011-12-09 12:50:00</td>\n",
       "      <td>581587</td>\n",
       "      <td>22629</td>\n",
       "      <td>SPACEBOY LUNCH BOX</td>\n",
       "      <td>12</td>\n",
       "      <td>1.95</td>\n",
       "      <td>France</td>\n",
       "    </tr>\n",
       "    <tr>\n",
       "      <td>2011-12-09 12:50:00</td>\n",
       "      <td>581587</td>\n",
       "      <td>23256</td>\n",
       "      <td>CHILDRENS CUTLERY SPACEBOY</td>\n",
       "      <td>4</td>\n",
       "      <td>4.15</td>\n",
       "      <td>France</td>\n",
       "    </tr>\n",
       "    <tr>\n",
       "      <td>2011-12-09 12:50:00</td>\n",
       "      <td>581587</td>\n",
       "      <td>22613</td>\n",
       "      <td>PACK OF 20 SPACEBOY NAPKINS</td>\n",
       "      <td>12</td>\n",
       "      <td>0.85</td>\n",
       "      <td>France</td>\n",
       "    </tr>\n",
       "    <tr>\n",
       "      <td>2011-12-09 12:50:00</td>\n",
       "      <td>581587</td>\n",
       "      <td>22899</td>\n",
       "      <td>CHILDREN'S APRON DOLLY GIRL</td>\n",
       "      <td>6</td>\n",
       "      <td>2.10</td>\n",
       "      <td>France</td>\n",
       "    </tr>\n",
       "    <tr>\n",
       "      <td>2011-12-09 12:50:00</td>\n",
       "      <td>581587</td>\n",
       "      <td>23254</td>\n",
       "      <td>CHILDRENS CUTLERY DOLLY GIRL</td>\n",
       "      <td>4</td>\n",
       "      <td>4.15</td>\n",
       "      <td>France</td>\n",
       "    </tr>\n",
       "    <tr>\n",
       "      <td>2011-12-09 12:50:00</td>\n",
       "      <td>581587</td>\n",
       "      <td>23255</td>\n",
       "      <td>CHILDRENS CUTLERY CIRCUS PARADE</td>\n",
       "      <td>4</td>\n",
       "      <td>4.15</td>\n",
       "      <td>France</td>\n",
       "    </tr>\n",
       "    <tr>\n",
       "      <td>2011-12-09 12:50:00</td>\n",
       "      <td>581587</td>\n",
       "      <td>22138</td>\n",
       "      <td>BAKING SET 9 PIECE RETROSPOT</td>\n",
       "      <td>3</td>\n",
       "      <td>4.95</td>\n",
       "      <td>France</td>\n",
       "    </tr>\n",
       "  </tbody>\n",
       "</table>\n",
       "</div>"
      ],
      "text/plain": [
       "                    InvoiceNo StockCode                          Description  \\\n",
       "InvoiceDate                                                                    \n",
       "2011-12-09 12:31:00    581585     22466       FAIRY TALE COTTAGE NIGHT LIGHT   \n",
       "2011-12-09 12:49:00    581586     22061  LARGE CAKE STAND  HANGING STRAWBERY   \n",
       "2011-12-09 12:49:00    581586     23275     SET OF 3 HANGING OWLS OLLIE BEAK   \n",
       "2011-12-09 12:49:00    581586     21217        RED RETROSPOT ROUND CAKE TINS   \n",
       "2011-12-09 12:49:00    581586     20685                DOORMAT RED RETROSPOT   \n",
       "2011-12-09 12:50:00    581587     22631             CIRCUS PARADE LUNCH BOX    \n",
       "2011-12-09 12:50:00    581587     22556       PLASTERS IN TIN CIRCUS PARADE    \n",
       "2011-12-09 12:50:00    581587     22555            PLASTERS IN TIN STRONGMAN   \n",
       "2011-12-09 12:50:00    581587     22728            ALARM CLOCK BAKELIKE PINK   \n",
       "2011-12-09 12:50:00    581587     22727            ALARM CLOCK BAKELIKE RED    \n",
       "2011-12-09 12:50:00    581587     22726           ALARM CLOCK BAKELIKE GREEN   \n",
       "2011-12-09 12:50:00    581587     22730           ALARM CLOCK BAKELIKE IVORY   \n",
       "2011-12-09 12:50:00    581587     22367      CHILDRENS APRON SPACEBOY DESIGN   \n",
       "2011-12-09 12:50:00    581587     22629                  SPACEBOY LUNCH BOX    \n",
       "2011-12-09 12:50:00    581587     23256          CHILDRENS CUTLERY SPACEBOY    \n",
       "2011-12-09 12:50:00    581587     22613          PACK OF 20 SPACEBOY NAPKINS   \n",
       "2011-12-09 12:50:00    581587     22899         CHILDREN'S APRON DOLLY GIRL    \n",
       "2011-12-09 12:50:00    581587     23254        CHILDRENS CUTLERY DOLLY GIRL    \n",
       "2011-12-09 12:50:00    581587     23255      CHILDRENS CUTLERY CIRCUS PARADE   \n",
       "2011-12-09 12:50:00    581587     22138        BAKING SET 9 PIECE RETROSPOT    \n",
       "\n",
       "                     Quantity  UnitPrice         Country  \n",
       "InvoiceDate                                               \n",
       "2011-12-09 12:31:00        12       1.95  United Kingdom  \n",
       "2011-12-09 12:49:00         8       2.95  United Kingdom  \n",
       "2011-12-09 12:49:00        24       1.25  United Kingdom  \n",
       "2011-12-09 12:49:00        24       8.95  United Kingdom  \n",
       "2011-12-09 12:49:00        10       7.08  United Kingdom  \n",
       "2011-12-09 12:50:00        12       1.95          France  \n",
       "2011-12-09 12:50:00        12       1.65          France  \n",
       "2011-12-09 12:50:00        12       1.65          France  \n",
       "2011-12-09 12:50:00         4       3.75          France  \n",
       "2011-12-09 12:50:00         4       3.75          France  \n",
       "2011-12-09 12:50:00         4       3.75          France  \n",
       "2011-12-09 12:50:00         4       3.75          France  \n",
       "2011-12-09 12:50:00         8       1.95          France  \n",
       "2011-12-09 12:50:00        12       1.95          France  \n",
       "2011-12-09 12:50:00         4       4.15          France  \n",
       "2011-12-09 12:50:00        12       0.85          France  \n",
       "2011-12-09 12:50:00         6       2.10          France  \n",
       "2011-12-09 12:50:00         4       4.15          France  \n",
       "2011-12-09 12:50:00         4       4.15          France  \n",
       "2011-12-09 12:50:00         3       4.95          France  "
      ]
     },
     "execution_count": 24,
     "metadata": {},
     "output_type": "execute_result"
    }
   ],
   "source": [
    "df.tail(20)"
   ]
  },
  {
   "cell_type": "code",
   "execution_count": 25,
   "metadata": {
    "execution": {
     "iopub.execute_input": "2023-08-26T00:09:23.352307Z",
     "iopub.status.busy": "2023-08-26T00:09:23.351968Z",
     "iopub.status.idle": "2023-08-26T00:09:23.579552Z",
     "shell.execute_reply": "2023-08-26T00:09:23.578054Z",
     "shell.execute_reply.started": "2023-08-26T00:09:23.352273Z"
    },
    "id": "swUMOF-fx5qy",
    "outputId": "6e23df48-7cf8-4a4a-e980-aec224a8a6fb"
   },
   "outputs": [
    {
     "data": {
      "text/html": [
       "<div>\n",
       "<style scoped>\n",
       "    .dataframe tbody tr th:only-of-type {\n",
       "        vertical-align: middle;\n",
       "    }\n",
       "\n",
       "    .dataframe tbody tr th {\n",
       "        vertical-align: top;\n",
       "    }\n",
       "\n",
       "    .dataframe thead th {\n",
       "        text-align: right;\n",
       "    }\n",
       "</style>\n",
       "<table border=\"1\" class=\"dataframe\">\n",
       "  <thead>\n",
       "    <tr style=\"text-align: right;\">\n",
       "      <th></th>\n",
       "      <th>Quantity</th>\n",
       "      <th>UnitPrice</th>\n",
       "    </tr>\n",
       "  </thead>\n",
       "  <tbody>\n",
       "    <tr>\n",
       "      <td>count</td>\n",
       "      <td>9288.000000</td>\n",
       "      <td>9288.000000</td>\n",
       "    </tr>\n",
       "    <tr>\n",
       "      <td>mean</td>\n",
       "      <td>-29.885228</td>\n",
       "      <td>48.393661</td>\n",
       "    </tr>\n",
       "    <tr>\n",
       "      <td>std</td>\n",
       "      <td>1145.786965</td>\n",
       "      <td>666.600430</td>\n",
       "    </tr>\n",
       "    <tr>\n",
       "      <td>min</td>\n",
       "      <td>-80995.000000</td>\n",
       "      <td>0.010000</td>\n",
       "    </tr>\n",
       "    <tr>\n",
       "      <td>25%</td>\n",
       "      <td>-6.000000</td>\n",
       "      <td>1.450000</td>\n",
       "    </tr>\n",
       "    <tr>\n",
       "      <td>50%</td>\n",
       "      <td>-2.000000</td>\n",
       "      <td>2.950000</td>\n",
       "    </tr>\n",
       "    <tr>\n",
       "      <td>75%</td>\n",
       "      <td>-1.000000</td>\n",
       "      <td>5.950000</td>\n",
       "    </tr>\n",
       "    <tr>\n",
       "      <td>max</td>\n",
       "      <td>-1.000000</td>\n",
       "      <td>38970.000000</td>\n",
       "    </tr>\n",
       "  </tbody>\n",
       "</table>\n",
       "</div>"
      ],
      "text/plain": [
       "           Quantity     UnitPrice\n",
       "count   9288.000000   9288.000000\n",
       "mean     -29.885228     48.393661\n",
       "std     1145.786965    666.600430\n",
       "min   -80995.000000      0.010000\n",
       "25%       -6.000000      1.450000\n",
       "50%       -2.000000      2.950000\n",
       "75%       -1.000000      5.950000\n",
       "max       -1.000000  38970.000000"
      ]
     },
     "execution_count": 25,
     "metadata": {},
     "output_type": "execute_result"
    }
   ],
   "source": [
    "df[df['InvoiceNo'].str.startswith('C')].describe()"
   ]
  },
  {
   "cell_type": "markdown",
   "metadata": {
    "id": "hq-lWQhUyQQR"
   },
   "source": [
    "Looks like Invoices that start with 'C' are the \"Canceling\"/\"Returning\" invoices. This resolves the mistery with negative quantities. \n",
    "\n",
    "Although, we should've gotten deeper into analysis of those returns, for the sake of simplicity let's just ignore those values for the moment.\n",
    "\n",
    "We can actually start a separate project based on that data and predict the returning/cancelling rates for the store."
   ]
  },
  {
   "cell_type": "code",
   "execution_count": 26,
   "metadata": {
    "execution": {
     "iopub.execute_input": "2023-08-26T00:09:23.581501Z",
     "iopub.status.busy": "2023-08-26T00:09:23.581155Z",
     "iopub.status.idle": "2023-08-26T00:09:23.794457Z",
     "shell.execute_reply": "2023-08-26T00:09:23.792833Z",
     "shell.execute_reply.started": "2023-08-26T00:09:23.581432Z"
    },
    "id": "yJI3a_ew1OKp"
   },
   "outputs": [],
   "source": [
    "df = df[~df['InvoiceNo'].str.startswith('C')]"
   ]
  },
  {
   "cell_type": "code",
   "execution_count": 27,
   "metadata": {
    "execution": {
     "iopub.execute_input": "2023-08-26T00:09:23.796968Z",
     "iopub.status.busy": "2023-08-26T00:09:23.796603Z",
     "iopub.status.idle": "2023-08-26T00:09:23.851974Z",
     "shell.execute_reply": "2023-08-26T00:09:23.850952Z",
     "shell.execute_reply.started": "2023-08-26T00:09:23.796901Z"
    },
    "id": "08Bdxo0m0neI",
    "outputId": "05306d9c-e047-4a7f-d722-74adbf3f8195"
   },
   "outputs": [
    {
     "data": {
      "text/html": [
       "<div>\n",
       "<style scoped>\n",
       "    .dataframe tbody tr th:only-of-type {\n",
       "        vertical-align: middle;\n",
       "    }\n",
       "\n",
       "    .dataframe tbody tr th {\n",
       "        vertical-align: top;\n",
       "    }\n",
       "\n",
       "    .dataframe thead th {\n",
       "        text-align: right;\n",
       "    }\n",
       "</style>\n",
       "<table border=\"1\" class=\"dataframe\">\n",
       "  <thead>\n",
       "    <tr style=\"text-align: right;\">\n",
       "      <th></th>\n",
       "      <th>Quantity</th>\n",
       "      <th>UnitPrice</th>\n",
       "    </tr>\n",
       "  </thead>\n",
       "  <tbody>\n",
       "    <tr>\n",
       "      <td>count</td>\n",
       "      <td>532621.000000</td>\n",
       "      <td>532621.000000</td>\n",
       "    </tr>\n",
       "    <tr>\n",
       "      <td>mean</td>\n",
       "      <td>10.239972</td>\n",
       "      <td>3.847621</td>\n",
       "    </tr>\n",
       "    <tr>\n",
       "      <td>std</td>\n",
       "      <td>159.593551</td>\n",
       "      <td>41.758023</td>\n",
       "    </tr>\n",
       "    <tr>\n",
       "      <td>min</td>\n",
       "      <td>-9600.000000</td>\n",
       "      <td>-11062.060000</td>\n",
       "    </tr>\n",
       "    <tr>\n",
       "      <td>25%</td>\n",
       "      <td>1.000000</td>\n",
       "      <td>1.250000</td>\n",
       "    </tr>\n",
       "    <tr>\n",
       "      <td>50%</td>\n",
       "      <td>3.000000</td>\n",
       "      <td>2.080000</td>\n",
       "    </tr>\n",
       "    <tr>\n",
       "      <td>75%</td>\n",
       "      <td>10.000000</td>\n",
       "      <td>4.130000</td>\n",
       "    </tr>\n",
       "    <tr>\n",
       "      <td>max</td>\n",
       "      <td>80995.000000</td>\n",
       "      <td>13541.330000</td>\n",
       "    </tr>\n",
       "  </tbody>\n",
       "</table>\n",
       "</div>"
      ],
      "text/plain": [
       "            Quantity      UnitPrice\n",
       "count  532621.000000  532621.000000\n",
       "mean       10.239972       3.847621\n",
       "std       159.593551      41.758023\n",
       "min     -9600.000000  -11062.060000\n",
       "25%         1.000000       1.250000\n",
       "50%         3.000000       2.080000\n",
       "75%        10.000000       4.130000\n",
       "max     80995.000000   13541.330000"
      ]
     },
     "execution_count": 27,
     "metadata": {},
     "output_type": "execute_result"
    }
   ],
   "source": [
    "df.describe()"
   ]
  },
  {
   "cell_type": "markdown",
   "metadata": {
    "id": "8czolNlTykMw"
   },
   "source": [
    "During exploratory data analysis we can go back to the same operations and checks, just to understand how our actions affected the dataset. EDA is the series of repetitive tasks to understand better our data. And here, for example we get back to *.describe()* method to get an overall picture of our data after some manipulations. \n",
    "\n",
    "We still see negative quantities and negative prices, let's get into those records.\n",
    "\n"
   ]
  },
  {
   "cell_type": "code",
   "execution_count": 28,
   "metadata": {
    "execution": {
     "iopub.execute_input": "2023-08-26T00:09:23.854993Z",
     "iopub.status.busy": "2023-08-26T00:09:23.854505Z",
     "iopub.status.idle": "2023-08-26T00:09:23.873098Z",
     "shell.execute_reply": "2023-08-26T00:09:23.871843Z",
     "shell.execute_reply.started": "2023-08-26T00:09:23.854904Z"
    },
    "id": "A9i_--Qwq7Hm",
    "outputId": "34f01616-e351-4299-9063-ee9f37b41dd8"
   },
   "outputs": [
    {
     "data": {
      "text/html": [
       "<div>\n",
       "<style scoped>\n",
       "    .dataframe tbody tr th:only-of-type {\n",
       "        vertical-align: middle;\n",
       "    }\n",
       "\n",
       "    .dataframe tbody tr th {\n",
       "        vertical-align: top;\n",
       "    }\n",
       "\n",
       "    .dataframe thead th {\n",
       "        text-align: right;\n",
       "    }\n",
       "</style>\n",
       "<table border=\"1\" class=\"dataframe\">\n",
       "  <thead>\n",
       "    <tr style=\"text-align: right;\">\n",
       "      <th></th>\n",
       "      <th>InvoiceNo</th>\n",
       "      <th>StockCode</th>\n",
       "      <th>Description</th>\n",
       "      <th>Quantity</th>\n",
       "      <th>UnitPrice</th>\n",
       "      <th>Country</th>\n",
       "    </tr>\n",
       "    <tr>\n",
       "      <th>InvoiceDate</th>\n",
       "      <th></th>\n",
       "      <th></th>\n",
       "      <th></th>\n",
       "      <th></th>\n",
       "      <th></th>\n",
       "      <th></th>\n",
       "    </tr>\n",
       "  </thead>\n",
       "  <tbody>\n",
       "    <tr>\n",
       "      <td>2010-12-01 16:50:00</td>\n",
       "      <td>536589</td>\n",
       "      <td>21777</td>\n",
       "      <td>UNKNOWN ITEM</td>\n",
       "      <td>-10</td>\n",
       "      <td>0.0</td>\n",
       "      <td>United Kingdom</td>\n",
       "    </tr>\n",
       "    <tr>\n",
       "      <td>2010-12-02 14:42:00</td>\n",
       "      <td>536764</td>\n",
       "      <td>84952C</td>\n",
       "      <td>UNKNOWN ITEM</td>\n",
       "      <td>-38</td>\n",
       "      <td>0.0</td>\n",
       "      <td>United Kingdom</td>\n",
       "    </tr>\n",
       "    <tr>\n",
       "      <td>2010-12-03 15:30:00</td>\n",
       "      <td>536996</td>\n",
       "      <td>22712</td>\n",
       "      <td>UNKNOWN ITEM</td>\n",
       "      <td>-20</td>\n",
       "      <td>0.0</td>\n",
       "      <td>United Kingdom</td>\n",
       "    </tr>\n",
       "    <tr>\n",
       "      <td>2010-12-03 15:30:00</td>\n",
       "      <td>536997</td>\n",
       "      <td>22028</td>\n",
       "      <td>UNKNOWN ITEM</td>\n",
       "      <td>-20</td>\n",
       "      <td>0.0</td>\n",
       "      <td>United Kingdom</td>\n",
       "    </tr>\n",
       "    <tr>\n",
       "      <td>2010-12-03 15:30:00</td>\n",
       "      <td>536998</td>\n",
       "      <td>85067</td>\n",
       "      <td>UNKNOWN ITEM</td>\n",
       "      <td>-6</td>\n",
       "      <td>0.0</td>\n",
       "      <td>United Kingdom</td>\n",
       "    </tr>\n",
       "  </tbody>\n",
       "</table>\n",
       "</div>"
      ],
      "text/plain": [
       "                    InvoiceNo StockCode   Description  Quantity  UnitPrice  \\\n",
       "InvoiceDate                                                                  \n",
       "2010-12-01 16:50:00    536589     21777  UNKNOWN ITEM       -10        0.0   \n",
       "2010-12-02 14:42:00    536764    84952C  UNKNOWN ITEM       -38        0.0   \n",
       "2010-12-03 15:30:00    536996     22712  UNKNOWN ITEM       -20        0.0   \n",
       "2010-12-03 15:30:00    536997     22028  UNKNOWN ITEM       -20        0.0   \n",
       "2010-12-03 15:30:00    536998     85067  UNKNOWN ITEM        -6        0.0   \n",
       "\n",
       "                            Country  \n",
       "InvoiceDate                          \n",
       "2010-12-01 16:50:00  United Kingdom  \n",
       "2010-12-02 14:42:00  United Kingdom  \n",
       "2010-12-03 15:30:00  United Kingdom  \n",
       "2010-12-03 15:30:00  United Kingdom  \n",
       "2010-12-03 15:30:00  United Kingdom  "
      ]
     },
     "execution_count": 28,
     "metadata": {},
     "output_type": "execute_result"
    }
   ],
   "source": [
    "# df[df['Quantity'] < 0]\n",
    "df[df['Quantity'] < 0].head()"
   ]
  },
  {
   "cell_type": "markdown",
   "metadata": {
    "id": "O7rxmQPd13Ob"
   },
   "source": [
    "Here we can see that other \"Negative quantities\" appear to be damaged/lost/unknown items. Again, we will just ignore them for the sake of simplicity of analysis for this project."
   ]
  },
  {
   "cell_type": "code",
   "execution_count": 29,
   "metadata": {
    "execution": {
     "iopub.execute_input": "2023-08-26T00:09:23.874797Z",
     "iopub.status.busy": "2023-08-26T00:09:23.874510Z",
     "iopub.status.idle": "2023-08-26T00:09:23.967884Z",
     "shell.execute_reply": "2023-08-26T00:09:23.966485Z",
     "shell.execute_reply.started": "2023-08-26T00:09:23.874737Z"
    },
    "id": "klcGgM0ZroQJ",
    "outputId": "16a57920-5ffd-424a-bea0-0f659f54dee9"
   },
   "outputs": [
    {
     "data": {
      "text/html": [
       "<div>\n",
       "<style scoped>\n",
       "    .dataframe tbody tr th:only-of-type {\n",
       "        vertical-align: middle;\n",
       "    }\n",
       "\n",
       "    .dataframe tbody tr th {\n",
       "        vertical-align: top;\n",
       "    }\n",
       "\n",
       "    .dataframe thead th {\n",
       "        text-align: right;\n",
       "    }\n",
       "</style>\n",
       "<table border=\"1\" class=\"dataframe\">\n",
       "  <thead>\n",
       "    <tr style=\"text-align: right;\">\n",
       "      <th></th>\n",
       "      <th>Quantity</th>\n",
       "      <th>UnitPrice</th>\n",
       "    </tr>\n",
       "  </thead>\n",
       "  <tbody>\n",
       "    <tr>\n",
       "      <td>count</td>\n",
       "      <td>531285.000000</td>\n",
       "      <td>531285.000000</td>\n",
       "    </tr>\n",
       "    <tr>\n",
       "      <td>mean</td>\n",
       "      <td>10.655262</td>\n",
       "      <td>3.857296</td>\n",
       "    </tr>\n",
       "    <tr>\n",
       "      <td>std</td>\n",
       "      <td>156.830323</td>\n",
       "      <td>41.810047</td>\n",
       "    </tr>\n",
       "    <tr>\n",
       "      <td>min</td>\n",
       "      <td>1.000000</td>\n",
       "      <td>-11062.060000</td>\n",
       "    </tr>\n",
       "    <tr>\n",
       "      <td>25%</td>\n",
       "      <td>1.000000</td>\n",
       "      <td>1.250000</td>\n",
       "    </tr>\n",
       "    <tr>\n",
       "      <td>50%</td>\n",
       "      <td>3.000000</td>\n",
       "      <td>2.080000</td>\n",
       "    </tr>\n",
       "    <tr>\n",
       "      <td>75%</td>\n",
       "      <td>10.000000</td>\n",
       "      <td>4.130000</td>\n",
       "    </tr>\n",
       "    <tr>\n",
       "      <td>max</td>\n",
       "      <td>80995.000000</td>\n",
       "      <td>13541.330000</td>\n",
       "    </tr>\n",
       "  </tbody>\n",
       "</table>\n",
       "</div>"
      ],
      "text/plain": [
       "            Quantity      UnitPrice\n",
       "count  531285.000000  531285.000000\n",
       "mean       10.655262       3.857296\n",
       "std       156.830323      41.810047\n",
       "min         1.000000  -11062.060000\n",
       "25%         1.000000       1.250000\n",
       "50%         3.000000       2.080000\n",
       "75%        10.000000       4.130000\n",
       "max     80995.000000   13541.330000"
      ]
     },
     "execution_count": 29,
     "metadata": {},
     "output_type": "execute_result"
    }
   ],
   "source": [
    "df = df[df['Quantity'] > 0]\n",
    "df.describe()"
   ]
  },
  {
   "cell_type": "markdown",
   "metadata": {
    "id": "wkKCHTG82aPC"
   },
   "source": [
    "We also see negative UnitPrice, which is not normal as well. Let's check this out."
   ]
  },
  {
   "cell_type": "code",
   "execution_count": 30,
   "metadata": {
    "execution": {
     "iopub.execute_input": "2023-08-26T00:09:23.970061Z",
     "iopub.status.busy": "2023-08-26T00:09:23.969692Z",
     "iopub.status.idle": "2023-08-26T00:09:23.985632Z",
     "shell.execute_reply": "2023-08-26T00:09:23.984477Z",
     "shell.execute_reply.started": "2023-08-26T00:09:23.969983Z"
    }
   },
   "outputs": [
    {
     "data": {
      "text/html": [
       "<div>\n",
       "<style scoped>\n",
       "    .dataframe tbody tr th:only-of-type {\n",
       "        vertical-align: middle;\n",
       "    }\n",
       "\n",
       "    .dataframe tbody tr th {\n",
       "        vertical-align: top;\n",
       "    }\n",
       "\n",
       "    .dataframe thead th {\n",
       "        text-align: right;\n",
       "    }\n",
       "</style>\n",
       "<table border=\"1\" class=\"dataframe\">\n",
       "  <thead>\n",
       "    <tr style=\"text-align: right;\">\n",
       "      <th></th>\n",
       "      <th>InvoiceNo</th>\n",
       "      <th>StockCode</th>\n",
       "      <th>Description</th>\n",
       "      <th>Quantity</th>\n",
       "      <th>UnitPrice</th>\n",
       "      <th>Country</th>\n",
       "    </tr>\n",
       "    <tr>\n",
       "      <th>InvoiceDate</th>\n",
       "      <th></th>\n",
       "      <th></th>\n",
       "      <th></th>\n",
       "      <th></th>\n",
       "      <th></th>\n",
       "      <th></th>\n",
       "    </tr>\n",
       "  </thead>\n",
       "  <tbody>\n",
       "    <tr>\n",
       "      <td>2011-08-12 14:51:00</td>\n",
       "      <td>A563186</td>\n",
       "      <td>B</td>\n",
       "      <td>Adjust bad debt</td>\n",
       "      <td>1</td>\n",
       "      <td>-11062.06</td>\n",
       "      <td>United Kingdom</td>\n",
       "    </tr>\n",
       "    <tr>\n",
       "      <td>2011-08-12 14:52:00</td>\n",
       "      <td>A563187</td>\n",
       "      <td>B</td>\n",
       "      <td>Adjust bad debt</td>\n",
       "      <td>1</td>\n",
       "      <td>-11062.06</td>\n",
       "      <td>United Kingdom</td>\n",
       "    </tr>\n",
       "  </tbody>\n",
       "</table>\n",
       "</div>"
      ],
      "text/plain": [
       "                    InvoiceNo StockCode      Description  Quantity  UnitPrice  \\\n",
       "InvoiceDate                                                                     \n",
       "2011-08-12 14:51:00   A563186         B  Adjust bad debt         1  -11062.06   \n",
       "2011-08-12 14:52:00   A563187         B  Adjust bad debt         1  -11062.06   \n",
       "\n",
       "                            Country  \n",
       "InvoiceDate                          \n",
       "2011-08-12 14:51:00  United Kingdom  \n",
       "2011-08-12 14:52:00  United Kingdom  "
      ]
     },
     "execution_count": 30,
     "metadata": {},
     "output_type": "execute_result"
    }
   ],
   "source": [
    "df[df['UnitPrice'] < 0]"
   ]
  },
  {
   "cell_type": "code",
   "execution_count": 31,
   "metadata": {
    "execution": {
     "iopub.execute_input": "2023-08-26T00:09:23.987927Z",
     "iopub.status.busy": "2023-08-26T00:09:23.987661Z",
     "iopub.status.idle": "2023-08-26T00:09:24.014866Z",
     "shell.execute_reply": "2023-08-26T00:09:24.013059Z",
     "shell.execute_reply.started": "2023-08-26T00:09:23.987878Z"
    },
    "id": "6inbAyKqrLlI",
    "outputId": "d9da9005-0fdd-4c93-87b2-9e8ce268e388"
   },
   "outputs": [
    {
     "data": {
      "text/html": [
       "<div>\n",
       "<style scoped>\n",
       "    .dataframe tbody tr th:only-of-type {\n",
       "        vertical-align: middle;\n",
       "    }\n",
       "\n",
       "    .dataframe tbody tr th {\n",
       "        vertical-align: top;\n",
       "    }\n",
       "\n",
       "    .dataframe thead th {\n",
       "        text-align: right;\n",
       "    }\n",
       "</style>\n",
       "<table border=\"1\" class=\"dataframe\">\n",
       "  <thead>\n",
       "    <tr style=\"text-align: right;\">\n",
       "      <th></th>\n",
       "      <th>Quantity</th>\n",
       "      <th>UnitPrice</th>\n",
       "    </tr>\n",
       "  </thead>\n",
       "  <tbody>\n",
       "    <tr>\n",
       "      <td>count</td>\n",
       "      <td>2.0</td>\n",
       "      <td>2.00</td>\n",
       "    </tr>\n",
       "    <tr>\n",
       "      <td>mean</td>\n",
       "      <td>1.0</td>\n",
       "      <td>-11062.06</td>\n",
       "    </tr>\n",
       "    <tr>\n",
       "      <td>std</td>\n",
       "      <td>0.0</td>\n",
       "      <td>0.00</td>\n",
       "    </tr>\n",
       "    <tr>\n",
       "      <td>min</td>\n",
       "      <td>1.0</td>\n",
       "      <td>-11062.06</td>\n",
       "    </tr>\n",
       "    <tr>\n",
       "      <td>25%</td>\n",
       "      <td>1.0</td>\n",
       "      <td>-11062.06</td>\n",
       "    </tr>\n",
       "    <tr>\n",
       "      <td>50%</td>\n",
       "      <td>1.0</td>\n",
       "      <td>-11062.06</td>\n",
       "    </tr>\n",
       "    <tr>\n",
       "      <td>75%</td>\n",
       "      <td>1.0</td>\n",
       "      <td>-11062.06</td>\n",
       "    </tr>\n",
       "    <tr>\n",
       "      <td>max</td>\n",
       "      <td>1.0</td>\n",
       "      <td>-11062.06</td>\n",
       "    </tr>\n",
       "  </tbody>\n",
       "</table>\n",
       "</div>"
      ],
      "text/plain": [
       "       Quantity  UnitPrice\n",
       "count       2.0       2.00\n",
       "mean        1.0  -11062.06\n",
       "std         0.0       0.00\n",
       "min         1.0  -11062.06\n",
       "25%         1.0  -11062.06\n",
       "50%         1.0  -11062.06\n",
       "75%         1.0  -11062.06\n",
       "max         1.0  -11062.06"
      ]
     },
     "execution_count": 31,
     "metadata": {},
     "output_type": "execute_result"
    }
   ],
   "source": [
    "df[df['UnitPrice'] < 0].describe()"
   ]
  },
  {
   "cell_type": "code",
   "execution_count": 32,
   "metadata": {
    "execution": {
     "iopub.execute_input": "2023-08-26T00:09:24.016663Z",
     "iopub.status.busy": "2023-08-26T00:09:24.016399Z",
     "iopub.status.idle": "2023-08-26T00:09:24.033068Z",
     "shell.execute_reply": "2023-08-26T00:09:24.032448Z",
     "shell.execute_reply.started": "2023-08-26T00:09:24.016610Z"
    },
    "id": "acGrnc1WrVc7",
    "outputId": "b5b15dc6-29e7-4955-c1d7-849cb3e275c2"
   },
   "outputs": [
    {
     "data": {
      "text/html": [
       "<div>\n",
       "<style scoped>\n",
       "    .dataframe tbody tr th:only-of-type {\n",
       "        vertical-align: middle;\n",
       "    }\n",
       "\n",
       "    .dataframe tbody tr th {\n",
       "        vertical-align: top;\n",
       "    }\n",
       "\n",
       "    .dataframe thead th {\n",
       "        text-align: right;\n",
       "    }\n",
       "</style>\n",
       "<table border=\"1\" class=\"dataframe\">\n",
       "  <thead>\n",
       "    <tr style=\"text-align: right;\">\n",
       "      <th></th>\n",
       "      <th>InvoiceNo</th>\n",
       "      <th>StockCode</th>\n",
       "      <th>Description</th>\n",
       "      <th>Quantity</th>\n",
       "      <th>UnitPrice</th>\n",
       "      <th>Country</th>\n",
       "    </tr>\n",
       "    <tr>\n",
       "      <th>InvoiceDate</th>\n",
       "      <th></th>\n",
       "      <th></th>\n",
       "      <th></th>\n",
       "      <th></th>\n",
       "      <th></th>\n",
       "      <th></th>\n",
       "    </tr>\n",
       "  </thead>\n",
       "  <tbody>\n",
       "    <tr>\n",
       "      <td>2011-08-12 14:51:00</td>\n",
       "      <td>A563186</td>\n",
       "      <td>B</td>\n",
       "      <td>Adjust bad debt</td>\n",
       "      <td>1</td>\n",
       "      <td>-11062.06</td>\n",
       "      <td>United Kingdom</td>\n",
       "    </tr>\n",
       "    <tr>\n",
       "      <td>2011-08-12 14:52:00</td>\n",
       "      <td>A563187</td>\n",
       "      <td>B</td>\n",
       "      <td>Adjust bad debt</td>\n",
       "      <td>1</td>\n",
       "      <td>-11062.06</td>\n",
       "      <td>United Kingdom</td>\n",
       "    </tr>\n",
       "  </tbody>\n",
       "</table>\n",
       "</div>"
      ],
      "text/plain": [
       "                    InvoiceNo StockCode      Description  Quantity  UnitPrice  \\\n",
       "InvoiceDate                                                                     \n",
       "2011-08-12 14:51:00   A563186         B  Adjust bad debt         1  -11062.06   \n",
       "2011-08-12 14:52:00   A563187         B  Adjust bad debt         1  -11062.06   \n",
       "\n",
       "                            Country  \n",
       "InvoiceDate                          \n",
       "2011-08-12 14:51:00  United Kingdom  \n",
       "2011-08-12 14:52:00  United Kingdom  "
      ]
     },
     "execution_count": 32,
     "metadata": {},
     "output_type": "execute_result"
    }
   ],
   "source": [
    "df[df['UnitPrice'] == -11062.06]"
   ]
  },
  {
   "cell_type": "markdown",
   "metadata": {
    "id": "0wOWI0WT2k06"
   },
   "source": [
    "As there are just two rows, let's ignore them for the moment (description gives us enough warnings, althoug we still need some context to understand it better)"
   ]
  },
  {
   "cell_type": "code",
   "execution_count": 33,
   "metadata": {
    "execution": {
     "iopub.execute_input": "2023-08-26T00:09:24.035142Z",
     "iopub.status.busy": "2023-08-26T00:09:24.034647Z",
     "iopub.status.idle": "2023-08-26T00:09:24.128810Z",
     "shell.execute_reply": "2023-08-26T00:09:24.128239Z",
     "shell.execute_reply.started": "2023-08-26T00:09:24.035092Z"
    },
    "id": "etvXHm7K29rg",
    "outputId": "46e242c3-8d06-4499-d366-62d416d17655"
   },
   "outputs": [
    {
     "data": {
      "text/html": [
       "<div>\n",
       "<style scoped>\n",
       "    .dataframe tbody tr th:only-of-type {\n",
       "        vertical-align: middle;\n",
       "    }\n",
       "\n",
       "    .dataframe tbody tr th {\n",
       "        vertical-align: top;\n",
       "    }\n",
       "\n",
       "    .dataframe thead th {\n",
       "        text-align: right;\n",
       "    }\n",
       "</style>\n",
       "<table border=\"1\" class=\"dataframe\">\n",
       "  <thead>\n",
       "    <tr style=\"text-align: right;\">\n",
       "      <th></th>\n",
       "      <th>Quantity</th>\n",
       "      <th>UnitPrice</th>\n",
       "    </tr>\n",
       "  </thead>\n",
       "  <tbody>\n",
       "    <tr>\n",
       "      <td>count</td>\n",
       "      <td>530104.000000</td>\n",
       "      <td>530104.000000</td>\n",
       "    </tr>\n",
       "    <tr>\n",
       "      <td>mean</td>\n",
       "      <td>10.542037</td>\n",
       "      <td>3.907625</td>\n",
       "    </tr>\n",
       "    <tr>\n",
       "      <td>std</td>\n",
       "      <td>155.524124</td>\n",
       "      <td>35.915681</td>\n",
       "    </tr>\n",
       "    <tr>\n",
       "      <td>min</td>\n",
       "      <td>1.000000</td>\n",
       "      <td>0.001000</td>\n",
       "    </tr>\n",
       "    <tr>\n",
       "      <td>25%</td>\n",
       "      <td>1.000000</td>\n",
       "      <td>1.250000</td>\n",
       "    </tr>\n",
       "    <tr>\n",
       "      <td>50%</td>\n",
       "      <td>3.000000</td>\n",
       "      <td>2.080000</td>\n",
       "    </tr>\n",
       "    <tr>\n",
       "      <td>75%</td>\n",
       "      <td>10.000000</td>\n",
       "      <td>4.130000</td>\n",
       "    </tr>\n",
       "    <tr>\n",
       "      <td>max</td>\n",
       "      <td>80995.000000</td>\n",
       "      <td>13541.330000</td>\n",
       "    </tr>\n",
       "  </tbody>\n",
       "</table>\n",
       "</div>"
      ],
      "text/plain": [
       "            Quantity      UnitPrice\n",
       "count  530104.000000  530104.000000\n",
       "mean       10.542037       3.907625\n",
       "std       155.524124      35.915681\n",
       "min         1.000000       0.001000\n",
       "25%         1.000000       1.250000\n",
       "50%         3.000000       2.080000\n",
       "75%        10.000000       4.130000\n",
       "max     80995.000000   13541.330000"
      ]
     },
     "execution_count": 33,
     "metadata": {},
     "output_type": "execute_result"
    }
   ],
   "source": [
    "df = df[df['UnitPrice'] > 0]\n",
    "df.describe()"
   ]
  },
  {
   "cell_type": "markdown",
   "metadata": {},
   "source": [
    "As we have finished cleaning our data and removed all suspicious records we can start creating some new features for our model. Let's start with the most obvious one - Sales. We have quantities, we have prices - we can calculate the revenue."
   ]
  },
  {
   "cell_type": "code",
   "execution_count": 34,
   "metadata": {
    "execution": {
     "iopub.execute_input": "2023-08-26T02:37:49.471967Z",
     "iopub.status.busy": "2023-08-26T02:37:49.471580Z",
     "iopub.status.idle": "2023-08-26T02:37:49.507348Z",
     "shell.execute_reply": "2023-08-26T02:37:49.505430Z",
     "shell.execute_reply.started": "2023-08-26T02:37:49.471907Z"
    }
   },
   "outputs": [
    {
     "data": {
      "text/plain": [
       "Timestamp('2010-12-01 08:26:00')"
      ]
     },
     "execution_count": 34,
     "metadata": {},
     "output_type": "execute_result"
    }
   ],
   "source": [
    "df['InvoiceNo'].reset_index().iloc[0][0]"
   ]
  },
  {
   "cell_type": "code",
   "execution_count": 35,
   "metadata": {
    "execution": {
     "iopub.execute_input": "2023-08-26T00:09:24.130282Z",
     "iopub.status.busy": "2023-08-26T00:09:24.129914Z",
     "iopub.status.idle": "2023-08-26T00:09:24.177668Z",
     "shell.execute_reply": "2023-08-26T00:09:24.176411Z",
     "shell.execute_reply.started": "2023-08-26T00:09:24.130234Z"
    },
    "id": "S2AxwWDJ3OFO",
    "outputId": "f557fb65-da23-482a-8560-231c5710abfd"
   },
   "outputs": [
    {
     "data": {
      "text/html": [
       "<div>\n",
       "<style scoped>\n",
       "    .dataframe tbody tr th:only-of-type {\n",
       "        vertical-align: middle;\n",
       "    }\n",
       "\n",
       "    .dataframe tbody tr th {\n",
       "        vertical-align: top;\n",
       "    }\n",
       "\n",
       "    .dataframe thead th {\n",
       "        text-align: right;\n",
       "    }\n",
       "</style>\n",
       "<table border=\"1\" class=\"dataframe\">\n",
       "  <thead>\n",
       "    <tr style=\"text-align: right;\">\n",
       "      <th></th>\n",
       "      <th>InvoiceNo</th>\n",
       "      <th>StockCode</th>\n",
       "      <th>Description</th>\n",
       "      <th>Quantity</th>\n",
       "      <th>UnitPrice</th>\n",
       "      <th>Country</th>\n",
       "      <th>Sales</th>\n",
       "    </tr>\n",
       "    <tr>\n",
       "      <th>InvoiceDate</th>\n",
       "      <th></th>\n",
       "      <th></th>\n",
       "      <th></th>\n",
       "      <th></th>\n",
       "      <th></th>\n",
       "      <th></th>\n",
       "      <th></th>\n",
       "    </tr>\n",
       "  </thead>\n",
       "  <tbody>\n",
       "    <tr>\n",
       "      <td>2010-12-01 08:26:00</td>\n",
       "      <td>536365</td>\n",
       "      <td>85123A</td>\n",
       "      <td>WHITE HANGING HEART T-LIGHT HOLDER</td>\n",
       "      <td>6</td>\n",
       "      <td>2.55</td>\n",
       "      <td>United Kingdom</td>\n",
       "      <td>15.30</td>\n",
       "    </tr>\n",
       "    <tr>\n",
       "      <td>2010-12-01 08:26:00</td>\n",
       "      <td>536365</td>\n",
       "      <td>71053</td>\n",
       "      <td>WHITE METAL LANTERN</td>\n",
       "      <td>6</td>\n",
       "      <td>3.39</td>\n",
       "      <td>United Kingdom</td>\n",
       "      <td>20.34</td>\n",
       "    </tr>\n",
       "    <tr>\n",
       "      <td>2010-12-01 08:26:00</td>\n",
       "      <td>536365</td>\n",
       "      <td>84406B</td>\n",
       "      <td>CREAM CUPID HEARTS COAT HANGER</td>\n",
       "      <td>8</td>\n",
       "      <td>2.75</td>\n",
       "      <td>United Kingdom</td>\n",
       "      <td>22.00</td>\n",
       "    </tr>\n",
       "    <tr>\n",
       "      <td>2010-12-01 08:26:00</td>\n",
       "      <td>536365</td>\n",
       "      <td>84029G</td>\n",
       "      <td>KNITTED UNION FLAG HOT WATER BOTTLE</td>\n",
       "      <td>6</td>\n",
       "      <td>3.39</td>\n",
       "      <td>United Kingdom</td>\n",
       "      <td>20.34</td>\n",
       "    </tr>\n",
       "    <tr>\n",
       "      <td>2010-12-01 08:26:00</td>\n",
       "      <td>536365</td>\n",
       "      <td>84029E</td>\n",
       "      <td>RED WOOLLY HOTTIE WHITE HEART.</td>\n",
       "      <td>6</td>\n",
       "      <td>3.39</td>\n",
       "      <td>United Kingdom</td>\n",
       "      <td>20.34</td>\n",
       "    </tr>\n",
       "  </tbody>\n",
       "</table>\n",
       "</div>"
      ],
      "text/plain": [
       "                    InvoiceNo StockCode                          Description  \\\n",
       "InvoiceDate                                                                    \n",
       "2010-12-01 08:26:00    536365    85123A   WHITE HANGING HEART T-LIGHT HOLDER   \n",
       "2010-12-01 08:26:00    536365     71053                  WHITE METAL LANTERN   \n",
       "2010-12-01 08:26:00    536365    84406B       CREAM CUPID HEARTS COAT HANGER   \n",
       "2010-12-01 08:26:00    536365    84029G  KNITTED UNION FLAG HOT WATER BOTTLE   \n",
       "2010-12-01 08:26:00    536365    84029E       RED WOOLLY HOTTIE WHITE HEART.   \n",
       "\n",
       "                     Quantity  UnitPrice         Country  Sales  \n",
       "InvoiceDate                                                      \n",
       "2010-12-01 08:26:00         6       2.55  United Kingdom  15.30  \n",
       "2010-12-01 08:26:00         6       3.39  United Kingdom  20.34  \n",
       "2010-12-01 08:26:00         8       2.75  United Kingdom  22.00  \n",
       "2010-12-01 08:26:00         6       3.39  United Kingdom  20.34  \n",
       "2010-12-01 08:26:00         6       3.39  United Kingdom  20.34  "
      ]
     },
     "execution_count": 35,
     "metadata": {},
     "output_type": "execute_result"
    }
   ],
   "source": [
    "df['Sales'] = df['Quantity'] * df['UnitPrice']\n",
    "df.head()"
   ]
  },
  {
   "cell_type": "code",
   "execution_count": 36,
   "metadata": {
    "execution": {
     "iopub.execute_input": "2023-08-26T05:23:25.615308Z",
     "iopub.status.busy": "2023-08-26T05:23:25.614797Z",
     "iopub.status.idle": "2023-08-26T05:23:33.055877Z",
     "shell.execute_reply": "2023-08-26T05:23:33.054531Z",
     "shell.execute_reply.started": "2023-08-26T05:23:25.615201Z"
    }
   },
   "outputs": [
    {
     "data": {
      "text/plain": [
       "(array([ 0,  1,  2,  3,  4,  5,  6,  7,  8,  9, 10, 11, 12, 13, 14, 15, 16,\n",
       "        17, 18, 19, 20, 21, 22, 23, 24, 25, 26, 27, 28, 29, 30, 31, 32, 33,\n",
       "        34, 35, 36, 37]), <a list of 38 Text xticklabel objects>)"
      ]
     },
     "execution_count": 36,
     "metadata": {},
     "output_type": "execute_result"
    },
    {
     "data": {
      "image/png": "[encoded data removed]",
      "text/plain": [
       "<Figure size 1080x720 with 1 Axes>"
      ]
     },
     "metadata": {
      "needs_background": "light"
     },
     "output_type": "display_data"
    }
   ],
   "source": [
    "plt.figure(figsize = (15,10))\n",
    "sns.barplot(x= df['Country'],y = df['Sales'])\n",
    "plt.xticks(rotation = 45)"
   ]
  },
  {
   "cell_type": "markdown",
   "metadata": {
    "id": "gYqYN2LszQro"
   },
   "source": [
    "# 3. Visual EDA"
   ]
  },
  {
   "cell_type": "code",
   "execution_count": 37,
   "metadata": {
    "execution": {
     "iopub.execute_input": "2023-08-26T00:09:24.180436Z",
     "iopub.status.busy": "2023-08-26T00:09:24.180077Z",
     "iopub.status.idle": "2023-08-26T00:09:24.973115Z",
     "shell.execute_reply": "2023-08-26T00:09:24.971814Z",
     "shell.execute_reply.started": "2023-08-26T00:09:24.180377Z"
    },
    "id": "afZL4I1q6vlo",
    "outputId": "eb25f2bd-1466-482f-997a-f2ccfb717fcc"
   },
   "outputs": [
    {
     "data": {
      "text/plain": [
       "(array([0]), <a list of 1 Text xticklabel objects>)"
      ]
     },
     "execution_count": 37,
     "metadata": {},
     "output_type": "execute_result"
    },
    {
     "data": {
      "image/png": "[encoded data removed]",
      "text/plain": [
       "<Figure size 216x432 with 1 Axes>"
      ]
     },
     "metadata": {
      "needs_background": "light"
     },
     "output_type": "display_data"
    }
   ],
   "source": [
    "plt.figure(figsize=(3,6))\n",
    "sns.countplot(df[df['Country'] == 'United Kingdom']['Country'])\n",
    "plt.xticks(rotation=90)"
   ]
  },
  {
   "cell_type": "code",
   "execution_count": 38,
   "metadata": {
    "execution": {
     "iopub.execute_input": "2023-08-26T00:09:24.975095Z",
     "iopub.status.busy": "2023-08-26T00:09:24.974773Z",
     "iopub.status.idle": "2023-08-26T00:09:25.444560Z",
     "shell.execute_reply": "2023-08-26T00:09:25.443270Z",
     "shell.execute_reply.started": "2023-08-26T00:09:24.975033Z"
    },
    "id": "onb0ByML3dQe",
    "outputId": "43bd565a-d12a-4ac6-c198-6043b065bbcc"
   },
   "outputs": [
    {
     "data": {
      "text/plain": [
       "(array([ 0,  1,  2,  3,  4,  5,  6,  7,  8,  9, 10, 11, 12, 13, 14, 15, 16,\n",
       "        17, 18, 19, 20, 21, 22, 23, 24, 25, 26, 27, 28, 29, 30, 31, 32, 33,\n",
       "        34, 35, 36]), <a list of 37 Text xticklabel objects>)"
      ]
     },
     "execution_count": 38,
     "metadata": {},
     "output_type": "execute_result"
    },
    {
     "data": {
      "image/png": "[encoded data removed]",
      "text/plain": [
       "<Figure size 1296x432 with 1 Axes>"
      ]
     },
     "metadata": {
      "needs_background": "light"
     },
     "output_type": "display_data"
    }
   ],
   "source": [
    "plt.figure(figsize=(18,6))\n",
    "sns.countplot(df[df['Country'] != 'United Kingdom']['Country'])\n",
    "plt.xticks(rotation=90)"
   ]
  },
  {
   "cell_type": "code",
   "execution_count": 39,
   "metadata": {
    "execution": {
     "iopub.execute_input": "2023-08-26T00:09:25.446433Z",
     "iopub.status.busy": "2023-08-26T00:09:25.446161Z",
     "iopub.status.idle": "2023-08-26T00:09:25.545544Z",
     "shell.execute_reply": "2023-08-26T00:09:25.544044Z",
     "shell.execute_reply.started": "2023-08-26T00:09:25.446377Z"
    },
    "id": "K79ODkHYznEr",
    "outputId": "7910c5a6-96f0-4d73-b6aa-0580b04163b1"
   },
   "outputs": [
    {
     "name": "stdout",
     "output_type": "stream",
     "text": [
      "91.51%\n"
     ]
    }
   ],
   "source": [
    "uk_count = df[df['Country'] == 'United Kingdom']['Country'].count()\n",
    "all_count = df['Country'].count()\n",
    "uk_perc = uk_count/all_count\n",
    "print(str('{0:.2f}%').format(uk_perc*100))"
   ]
  },
  {
   "cell_type": "markdown",
   "metadata": {
    "id": "zVPKRDC-zWAW"
   },
   "source": [
    "From above plots and calculations we can see that vast majority of sales were made in UK and just 8.49% went abroad. We can say our dataset is skewed to the UK side :D."
   ]
  },
  {
   "cell_type": "markdown",
   "metadata": {
    "id": "uSCNB39c1p-K"
   },
   "source": [
    "## 3.1. Detecting outliers"
   ]
  },
  {
   "cell_type": "markdown",
   "metadata": {},
   "source": [
    "There are few different methods to detect outliers: box plots, using [IQR](https://en.wikipedia.org/wiki/Interquartile_range), scatter plot also works in some cases (and this is one of those). Also, detecting outliers using scatter plot is pretty intuitive. You plot your data and remove data points that visually are definitely out of range. Like in the chart below."
   ]
  },
  {
   "cell_type": "code",
   "execution_count": 40,
   "metadata": {
    "execution": {
     "iopub.execute_input": "2023-08-26T00:19:01.559545Z",
     "iopub.status.busy": "2023-08-26T00:19:01.559232Z",
     "iopub.status.idle": "2023-08-26T00:19:01.589545Z",
     "shell.execute_reply": "2023-08-26T00:19:01.588808Z",
     "shell.execute_reply.started": "2023-08-26T00:19:01.559501Z"
    }
   },
   "outputs": [
    {
     "data": {
      "text/plain": [
       "Quantity     3.00\n",
       "UnitPrice    2.08\n",
       "Sales        9.90\n",
       "Name: 0.5, dtype: float64"
      ]
     },
     "execution_count": 40,
     "metadata": {},
     "output_type": "execute_result"
    }
   ],
   "source": [
    "df.quantile()"
   ]
  },
  {
   "cell_type": "code",
   "execution_count": 41,
   "metadata": {
    "execution": {
     "iopub.execute_input": "2023-08-26T05:16:42.691178Z",
     "iopub.status.busy": "2023-08-26T05:16:42.690463Z",
     "iopub.status.idle": "2023-08-26T05:16:42.699645Z",
     "shell.execute_reply": "2023-08-26T05:16:42.698282Z",
     "shell.execute_reply.started": "2023-08-26T05:16:42.691110Z"
    }
   },
   "outputs": [
    {
     "data": {
      "text/plain": [
       "(530104, 530104)"
      ]
     },
     "execution_count": 41,
     "metadata": {},
     "output_type": "execute_result"
    }
   ],
   "source": [
    "len(df.index),len(df.Sales)"
   ]
  },
  {
   "cell_type": "code",
   "execution_count": 42,
   "metadata": {
    "execution": {
     "iopub.execute_input": "2023-08-26T05:15:47.149951Z",
     "iopub.status.busy": "2023-08-26T05:15:47.149538Z",
     "iopub.status.idle": "2023-08-26T05:15:47.183173Z",
     "shell.execute_reply": "2023-08-26T05:15:47.181815Z",
     "shell.execute_reply.started": "2023-08-26T05:15:47.149881Z"
    }
   },
   "outputs": [
    {
     "data": {
      "text/html": [
       "<div>\n",
       "<style scoped>\n",
       "    .dataframe tbody tr th:only-of-type {\n",
       "        vertical-align: middle;\n",
       "    }\n",
       "\n",
       "    .dataframe tbody tr th {\n",
       "        vertical-align: top;\n",
       "    }\n",
       "\n",
       "    .dataframe thead th {\n",
       "        text-align: right;\n",
       "    }\n",
       "</style>\n",
       "<table border=\"1\" class=\"dataframe\">\n",
       "  <thead>\n",
       "    <tr style=\"text-align: right;\">\n",
       "      <th></th>\n",
       "      <th>index</th>\n",
       "      <th>Sales</th>\n",
       "    </tr>\n",
       "  </thead>\n",
       "  <tbody>\n",
       "    <tr>\n",
       "      <td>4224</td>\n",
       "      <td>168469.600</td>\n",
       "      <td>1</td>\n",
       "    </tr>\n",
       "    <tr>\n",
       "      <td>4604</td>\n",
       "      <td>77183.600</td>\n",
       "      <td>1</td>\n",
       "    </tr>\n",
       "    <tr>\n",
       "      <td>3271</td>\n",
       "      <td>38970.000</td>\n",
       "      <td>1</td>\n",
       "    </tr>\n",
       "    <tr>\n",
       "      <td>3703</td>\n",
       "      <td>13541.330</td>\n",
       "      <td>1</td>\n",
       "    </tr>\n",
       "    <tr>\n",
       "      <td>3334</td>\n",
       "      <td>11062.060</td>\n",
       "      <td>1</td>\n",
       "    </tr>\n",
       "    <tr>\n",
       "      <td>...</td>\n",
       "      <td>...</td>\n",
       "      <td>...</td>\n",
       "    </tr>\n",
       "    <tr>\n",
       "      <td>915</td>\n",
       "      <td>0.120</td>\n",
       "      <td>24</td>\n",
       "    </tr>\n",
       "    <tr>\n",
       "      <td>1952</td>\n",
       "      <td>0.100</td>\n",
       "      <td>3</td>\n",
       "    </tr>\n",
       "    <tr>\n",
       "      <td>4492</td>\n",
       "      <td>0.080</td>\n",
       "      <td>1</td>\n",
       "    </tr>\n",
       "    <tr>\n",
       "      <td>2568</td>\n",
       "      <td>0.060</td>\n",
       "      <td>2</td>\n",
       "    </tr>\n",
       "    <tr>\n",
       "      <td>1798</td>\n",
       "      <td>0.001</td>\n",
       "      <td>4</td>\n",
       "    </tr>\n",
       "  </tbody>\n",
       "</table>\n",
       "<p>4906 rows × 2 columns</p>\n",
       "</div>"
      ],
      "text/plain": [
       "           index  Sales\n",
       "4224  168469.600      1\n",
       "4604   77183.600      1\n",
       "3271   38970.000      1\n",
       "3703   13541.330      1\n",
       "3334   11062.060      1\n",
       "...          ...    ...\n",
       "915        0.120     24\n",
       "1952       0.100      3\n",
       "4492       0.080      1\n",
       "2568       0.060      2\n",
       "1798       0.001      4\n",
       "\n",
       "[4906 rows x 2 columns]"
      ]
     },
     "execution_count": 42,
     "metadata": {},
     "output_type": "execute_result"
    }
   ],
   "source": [
    "df['Sales'].value_counts().reset_index().sort_values(by = 'index',ascending = False)"
   ]
  },
  {
   "cell_type": "code",
   "execution_count": 43,
   "metadata": {
    "execution": {
     "iopub.execute_input": "2023-08-26T05:24:05.557326Z",
     "iopub.status.busy": "2023-08-26T05:24:05.556905Z",
     "iopub.status.idle": "2023-08-26T05:24:11.451962Z",
     "shell.execute_reply": "2023-08-26T05:24:11.450962Z",
     "shell.execute_reply.started": "2023-08-26T05:24:05.557258Z"
    }
   },
   "outputs": [
    {
     "data": {
      "text/plain": [
       "<matplotlib.axes._subplots.AxesSubplot at 0x7fe955d77828>"
      ]
     },
     "execution_count": 43,
     "metadata": {},
     "output_type": "execute_result"
    },
    {
     "data": {
      "image/png": "[encoded data removed]",
      "text/plain": [
       "<Figure size 1296x432 with 1 Axes>"
      ]
     },
     "metadata": {
      "needs_background": "light"
     },
     "output_type": "display_data"
    }
   ],
   "source": [
    "plt.figure(figsize=(18,6))\n",
    "sns.scatterplot(x=df.index, y=df['Sales'])"
   ]
  },
  {
   "cell_type": "code",
   "execution_count": 44,
   "metadata": {
    "execution": {
     "iopub.execute_input": "2023-08-26T05:28:11.658132Z",
     "iopub.status.busy": "2023-08-26T05:28:11.657632Z",
     "iopub.status.idle": "2023-08-26T05:28:11.682152Z",
     "shell.execute_reply": "2023-08-26T05:28:11.681114Z",
     "shell.execute_reply.started": "2023-08-26T05:28:11.658042Z"
    }
   },
   "outputs": [
    {
     "data": {
      "text/plain": [
       "0.25      3.75\n",
       "0.50      9.90\n",
       "0.75     17.70\n",
       "0.90     32.85\n",
       "0.93     41.60\n",
       "0.94     49.84\n",
       "0.95     59.70\n",
       "0.96     70.80\n",
       "0.97     88.00\n",
       "0.98    121.68\n",
       "0.99    183.60\n",
       "Name: Sales, dtype: float64"
      ]
     },
     "execution_count": 44,
     "metadata": {},
     "output_type": "execute_result"
    }
   ],
   "source": [
    "df['Sales'].quantile([.25,.50,.75,.90,.93,.94,.95,.96,.97,.98,.99])"
   ]
  },
  {
   "cell_type": "code",
   "execution_count": 45,
   "metadata": {
    "execution": {
     "iopub.execute_input": "2023-08-26T05:29:27.059096Z",
     "iopub.status.busy": "2023-08-26T05:29:27.058592Z",
     "iopub.status.idle": "2023-08-26T05:29:32.720677Z",
     "shell.execute_reply": "2023-08-26T05:29:32.719143Z",
     "shell.execute_reply.started": "2023-08-26T05:29:27.058985Z"
    },
    "id": "n0tRONoX7zV8",
    "outputId": "b5956cde-dc7a-452a-d737-252efb18f632"
   },
   "outputs": [
    {
     "data": {
      "text/plain": [
       "<matplotlib.collections.PathCollection at 0x7fe955cc25f8>"
      ]
     },
     "execution_count": 45,
     "metadata": {},
     "output_type": "execute_result"
    },
    {
     "data": {
      "image/png": "[encoded data removed]",
      "text/plain": [
       "<Figure size 1296x432 with 1 Axes>"
      ]
     },
     "metadata": {
      "needs_background": "light"
     },
     "output_type": "display_data"
    }
   ],
   "source": [
    "plt.figure(figsize=(18,6))\n",
    "plt.scatter(x=df.index, y=df['Sales'])"
   ]
  },
  {
   "cell_type": "markdown",
   "metadata": {
    "id": "jB9G52F79ryZ"
   },
   "source": [
    "Let's remove obvious outliers"
   ]
  },
  {
   "cell_type": "code",
   "execution_count": 46,
   "metadata": {
    "execution": {
     "iopub.execute_input": "2023-08-26T01:16:40.926530Z",
     "iopub.status.busy": "2023-08-26T01:16:40.926168Z",
     "iopub.status.idle": "2023-08-26T01:16:40.952344Z",
     "shell.execute_reply": "2023-08-26T01:16:40.950790Z",
     "shell.execute_reply.started": "2023-08-26T01:16:40.926487Z"
    }
   },
   "outputs": [
    {
     "data": {
      "text/plain": [
       "0.250      3.75\n",
       "0.500      9.90\n",
       "0.750     17.70\n",
       "0.900     32.85\n",
       "0.930     41.60\n",
       "0.940     49.84\n",
       "0.950     59.70\n",
       "0.970     88.00\n",
       "0.980    121.68\n",
       "0.990    183.60\n",
       "0.999    835.20\n",
       "Name: Sales, dtype: float64"
      ]
     },
     "execution_count": 46,
     "metadata": {},
     "output_type": "execute_result"
    }
   ],
   "source": [
    "df['Sales'].quantile([0.25,0.50,.75,0.90,.93,.94,.95,.97,.98,.990,.999])"
   ]
  },
  {
   "cell_type": "code",
   "execution_count": 47,
   "metadata": {
    "execution": {
     "iopub.execute_input": "2023-08-26T01:14:53.075551Z",
     "iopub.status.busy": "2023-08-26T01:14:53.075188Z",
     "iopub.status.idle": "2023-08-26T01:14:58.768200Z",
     "shell.execute_reply": "2023-08-26T01:14:58.766941Z",
     "shell.execute_reply.started": "2023-08-26T01:14:53.075507Z"
    },
    "id": "WxEj3y-z9zHj",
    "outputId": "75121918-2d46-4566-8561-8ad7724ad896"
   },
   "outputs": [
    {
     "data": {
      "text/plain": [
       "(array([734077., 734138., 734197., 734258., 734319., 734381., 734442.,\n",
       "        734503.]), <a list of 8 Text xticklabel objects>)"
      ]
     },
     "execution_count": 47,
     "metadata": {},
     "output_type": "execute_result"
    },
    {
     "data": {
      "image/png": "[encoded data removed]",
      "text/plain": [
       "<Figure size 1296x432 with 1 Axes>"
      ]
     },
     "metadata": {
      "needs_background": "light"
     },
     "output_type": "display_data"
    }
   ],
   "source": [
    "df = df[df['Sales'] < 25000]\n",
    "plt.figure(figsize=(18,6))\n",
    "plt.scatter(x=df.index, y=df['Sales'])\n",
    "plt.xticks(rotation=90)"
   ]
  },
  {
   "cell_type": "markdown",
   "metadata": {
    "id": "il5rP2rR10ao"
   },
   "source": [
    "After removing obvious outliers we still see some values that are out of normal distribution. To understand better the distribution of our data let's check out different percentiles of our numeric features. "
   ]
  },
  {
   "cell_type": "code",
   "execution_count": 48,
   "metadata": {
    "execution": {
     "iopub.execute_input": "2023-08-26T01:14:58.770885Z",
     "iopub.status.busy": "2023-08-26T01:14:58.770583Z",
     "iopub.status.idle": "2023-08-26T01:14:58.832529Z",
     "shell.execute_reply": "2023-08-26T01:14:58.831196Z",
     "shell.execute_reply.started": "2023-08-26T01:14:58.770837Z"
    }
   },
   "outputs": [
    {
     "data": {
      "text/plain": [
       "InvoiceDate\n",
       "2010-12-07 15:08:00    13541.330\n",
       "2011-08-12 14:50:00    11062.060\n",
       "2011-05-03 13:46:00     8142.750\n",
       "2011-09-20 11:05:00     7144.720\n",
       "2011-01-11 12:55:00     6539.400\n",
       "                         ...    \n",
       "2011-11-25 11:41:00        0.060\n",
       "2011-04-15 09:27:00        0.001\n",
       "2011-09-26 17:01:00        0.001\n",
       "2011-09-25 14:58:00        0.001\n",
       "2011-07-26 10:13:00        0.001\n",
       "Name: Sales, Length: 530101, dtype: float64"
      ]
     },
     "execution_count": 48,
     "metadata": {},
     "output_type": "execute_result"
    }
   ],
   "source": [
    "df['Sales'].sort_values(ascending = False)"
   ]
  },
  {
   "cell_type": "code",
   "execution_count": 49,
   "metadata": {
    "execution": {
     "iopub.execute_input": "2023-08-26T00:09:37.171383Z",
     "iopub.status.busy": "2023-08-26T00:09:37.171103Z",
     "iopub.status.idle": "2023-08-26T00:09:37.214044Z",
     "shell.execute_reply": "2023-08-26T00:09:37.212324Z",
     "shell.execute_reply.started": "2023-08-26T00:09:37.171326Z"
    },
    "id": "Wd6lkccmCXnY",
    "outputId": "a7c2a5bf-e30f-4edb-be89-795b2ff1c191"
   },
   "outputs": [
    {
     "data": {
      "text/html": [
       "<div>\n",
       "<style scoped>\n",
       "    .dataframe tbody tr th:only-of-type {\n",
       "        vertical-align: middle;\n",
       "    }\n",
       "\n",
       "    .dataframe tbody tr th {\n",
       "        vertical-align: top;\n",
       "    }\n",
       "\n",
       "    .dataframe thead th {\n",
       "        text-align: right;\n",
       "    }\n",
       "</style>\n",
       "<table border=\"1\" class=\"dataframe\">\n",
       "  <thead>\n",
       "    <tr style=\"text-align: right;\">\n",
       "      <th></th>\n",
       "      <th>Quantity</th>\n",
       "      <th>UnitPrice</th>\n",
       "      <th>Sales</th>\n",
       "    </tr>\n",
       "  </thead>\n",
       "  <tbody>\n",
       "    <tr>\n",
       "      <td>0.050</td>\n",
       "      <td>1.0</td>\n",
       "      <td>0.42</td>\n",
       "      <td>1.25</td>\n",
       "    </tr>\n",
       "    <tr>\n",
       "      <td>0.950</td>\n",
       "      <td>30.0</td>\n",
       "      <td>9.95</td>\n",
       "      <td>59.70</td>\n",
       "    </tr>\n",
       "    <tr>\n",
       "      <td>0.980</td>\n",
       "      <td>72.0</td>\n",
       "      <td>14.95</td>\n",
       "      <td>121.68</td>\n",
       "    </tr>\n",
       "    <tr>\n",
       "      <td>0.990</td>\n",
       "      <td>100.0</td>\n",
       "      <td>16.98</td>\n",
       "      <td>183.60</td>\n",
       "    </tr>\n",
       "    <tr>\n",
       "      <td>0.999</td>\n",
       "      <td>446.4</td>\n",
       "      <td>165.00</td>\n",
       "      <td>833.79</td>\n",
       "    </tr>\n",
       "  </tbody>\n",
       "</table>\n",
       "</div>"
      ],
      "text/plain": [
       "       Quantity  UnitPrice   Sales\n",
       "0.050       1.0       0.42    1.25\n",
       "0.950      30.0       9.95   59.70\n",
       "0.980      72.0      14.95  121.68\n",
       "0.990     100.0      16.98  183.60\n",
       "0.999     446.4     165.00  833.79"
      ]
     },
     "execution_count": 49,
     "metadata": {},
     "output_type": "execute_result"
    }
   ],
   "source": [
    "df.quantile([0.05, 0.95, 0.98, 0.99, 0.999])"
   ]
  },
  {
   "cell_type": "markdown",
   "metadata": {
    "id": "e0Xyxllp2ZI2"
   },
   "source": [
    "We can see that if we remove top 2% of our data points we will get rid of absolute outliers and will have more balaced dataset."
   ]
  },
  {
   "cell_type": "code",
   "execution_count": 50,
   "metadata": {
    "execution": {
     "iopub.execute_input": "2023-08-26T00:09:37.216400Z",
     "iopub.status.busy": "2023-08-26T00:09:37.215965Z",
     "iopub.status.idle": "2023-08-26T00:09:42.790452Z",
     "shell.execute_reply": "2023-08-26T00:09:42.789374Z",
     "shell.execute_reply.started": "2023-08-26T00:09:37.216348Z"
    },
    "id": "ntKRBQa-MZEt",
    "outputId": "9aea8dde-8243-460f-8133-a7d647d90ac5"
   },
   "outputs": [
    {
     "data": {
      "text/plain": [
       "(array([734077., 734138., 734197., 734258., 734319., 734381., 734442.,\n",
       "        734503.]), <a list of 8 Text xticklabel objects>)"
      ]
     },
     "execution_count": 50,
     "metadata": {},
     "output_type": "execute_result"
    },
    {
     "data": {
      "image/png": "[encoded data removed]",
      "text/plain": [
       "<Figure size 432x288 with 1 Axes>"
      ]
     },
     "metadata": {
      "needs_background": "light"
     },
     "output_type": "display_data"
    }
   ],
   "source": [
    "df_quantile = df[df['Sales'] < 125]\n",
    "plt.scatter(x=df_quantile.index, y=df_quantile['Sales'])\n",
    "plt.xticks(rotation=90)"
   ]
  },
  {
   "cell_type": "code",
   "execution_count": 51,
   "metadata": {
    "execution": {
     "iopub.execute_input": "2023-08-26T00:09:42.792220Z",
     "iopub.status.busy": "2023-08-26T00:09:42.791918Z",
     "iopub.status.idle": "2023-08-26T00:09:42.854261Z",
     "shell.execute_reply": "2023-08-26T00:09:42.852370Z",
     "shell.execute_reply.started": "2023-08-26T00:09:42.792172Z"
    },
    "id": "BZ5zrj1JNaA7",
    "outputId": "e087d72d-ef1a-4694-a0ba-eb7a69506d71"
   },
   "outputs": [
    {
     "data": {
      "text/html": [
       "<div>\n",
       "<style scoped>\n",
       "    .dataframe tbody tr th:only-of-type {\n",
       "        vertical-align: middle;\n",
       "    }\n",
       "\n",
       "    .dataframe tbody tr th {\n",
       "        vertical-align: top;\n",
       "    }\n",
       "\n",
       "    .dataframe thead th {\n",
       "        text-align: right;\n",
       "    }\n",
       "</style>\n",
       "<table border=\"1\" class=\"dataframe\">\n",
       "  <thead>\n",
       "    <tr style=\"text-align: right;\">\n",
       "      <th></th>\n",
       "      <th>Quantity</th>\n",
       "      <th>UnitPrice</th>\n",
       "      <th>Sales</th>\n",
       "    </tr>\n",
       "  </thead>\n",
       "  <tbody>\n",
       "    <tr>\n",
       "      <td>count</td>\n",
       "      <td>519958.000000</td>\n",
       "      <td>519958.000000</td>\n",
       "      <td>519958.000000</td>\n",
       "    </tr>\n",
       "    <tr>\n",
       "      <td>mean</td>\n",
       "      <td>7.850934</td>\n",
       "      <td>3.286582</td>\n",
       "      <td>13.850263</td>\n",
       "    </tr>\n",
       "    <tr>\n",
       "      <td>std</td>\n",
       "      <td>15.303867</td>\n",
       "      <td>3.949021</td>\n",
       "      <td>16.330954</td>\n",
       "    </tr>\n",
       "    <tr>\n",
       "      <td>min</td>\n",
       "      <td>1.000000</td>\n",
       "      <td>0.001000</td>\n",
       "      <td>0.001000</td>\n",
       "    </tr>\n",
       "    <tr>\n",
       "      <td>25%</td>\n",
       "      <td>1.000000</td>\n",
       "      <td>1.250000</td>\n",
       "      <td>3.750000</td>\n",
       "    </tr>\n",
       "    <tr>\n",
       "      <td>50%</td>\n",
       "      <td>3.000000</td>\n",
       "      <td>2.080000</td>\n",
       "      <td>9.840000</td>\n",
       "    </tr>\n",
       "    <tr>\n",
       "      <td>75%</td>\n",
       "      <td>10.000000</td>\n",
       "      <td>4.130000</td>\n",
       "      <td>17.220000</td>\n",
       "    </tr>\n",
       "    <tr>\n",
       "      <td>max</td>\n",
       "      <td>1600.000000</td>\n",
       "      <td>124.870000</td>\n",
       "      <td>124.950000</td>\n",
       "    </tr>\n",
       "  </tbody>\n",
       "</table>\n",
       "</div>"
      ],
      "text/plain": [
       "            Quantity      UnitPrice          Sales\n",
       "count  519958.000000  519958.000000  519958.000000\n",
       "mean        7.850934       3.286582      13.850263\n",
       "std        15.303867       3.949021      16.330954\n",
       "min         1.000000       0.001000       0.001000\n",
       "25%         1.000000       1.250000       3.750000\n",
       "50%         3.000000       2.080000       9.840000\n",
       "75%        10.000000       4.130000      17.220000\n",
       "max      1600.000000     124.870000     124.950000"
      ]
     },
     "execution_count": 51,
     "metadata": {},
     "output_type": "execute_result"
    }
   ],
   "source": [
    "df_quantile.describe()"
   ]
  },
  {
   "cell_type": "markdown",
   "metadata": {},
   "source": [
    "Looks like our data is almost ready for modelling. We performed a clean up, we removed outliers that were disturbing the balance of our dataset, we removed invalid records - now our data looks much better! and it doesn't lose it's value."
   ]
  },
  {
   "cell_type": "markdown",
   "metadata": {
    "id": "PPX6LukY3Cpf"
   },
   "source": [
    "## 3.2. Visually checking distribution of numeric features"
   ]
  },
  {
   "cell_type": "code",
   "execution_count": 52,
   "metadata": {
    "execution": {
     "iopub.execute_input": "2023-08-26T00:09:42.856112Z",
     "iopub.status.busy": "2023-08-26T00:09:42.855799Z",
     "iopub.status.idle": "2023-08-26T00:09:42.879301Z",
     "shell.execute_reply": "2023-08-26T00:09:42.878052Z",
     "shell.execute_reply.started": "2023-08-26T00:09:42.856054Z"
    }
   },
   "outputs": [
    {
     "data": {
      "text/plain": [
       "0.25     1.25\n",
       "0.50     2.08\n",
       "0.75     4.13\n",
       "0.93     8.47\n",
       "0.94     8.50\n",
       "0.95     9.95\n",
       "0.96    10.79\n",
       "0.97    12.72\n",
       "0.98    14.95\n",
       "Name: UnitPrice, dtype: float64"
      ]
     },
     "execution_count": 52,
     "metadata": {},
     "output_type": "execute_result"
    }
   ],
   "source": [
    "df['UnitPrice'].quantile([.25,.50,.75,.93,.94,.95,.96,.97,.98])"
   ]
  },
  {
   "cell_type": "code",
   "execution_count": 53,
   "metadata": {
    "execution": {
     "iopub.execute_input": "2023-08-26T00:09:42.881081Z",
     "iopub.status.busy": "2023-08-26T00:09:42.880806Z",
     "iopub.status.idle": "2023-08-26T00:09:42.889271Z",
     "shell.execute_reply": "2023-08-26T00:09:42.888141Z",
     "shell.execute_reply.started": "2023-08-26T00:09:42.881031Z"
    }
   },
   "outputs": [
    {
     "data": {
      "text/plain": [
       "InvoiceDate\n",
       "2010-12-01 08:26:00    2.55\n",
       "2010-12-01 08:26:00    3.39\n",
       "2010-12-01 08:26:00    2.75\n",
       "2010-12-01 08:26:00    3.39\n",
       "2010-12-01 08:26:00    3.39\n",
       "                       ... \n",
       "2011-12-09 12:50:00    0.85\n",
       "2011-12-09 12:50:00    2.10\n",
       "2011-12-09 12:50:00    4.15\n",
       "2011-12-09 12:50:00    4.15\n",
       "2011-12-09 12:50:00    4.95\n",
       "Name: UnitPrice, Length: 519958, dtype: float64"
      ]
     },
     "execution_count": 53,
     "metadata": {},
     "output_type": "execute_result"
    }
   ],
   "source": [
    "df_quantile['UnitPrice']"
   ]
  },
  {
   "cell_type": "code",
   "execution_count": 54,
   "metadata": {
    "execution": {
     "iopub.execute_input": "2023-08-26T02:13:35.124349Z",
     "iopub.status.busy": "2023-08-26T02:13:35.123821Z",
     "iopub.status.idle": "2023-08-26T02:13:35.411677Z",
     "shell.execute_reply": "2023-08-26T02:13:35.410027Z",
     "shell.execute_reply.started": "2023-08-26T02:13:35.124227Z"
    },
    "id": "zj1rJmD1NB8P",
    "outputId": "b380c7b0-21e7-45aa-db9c-ddf2beaac225"
   },
   "outputs": [
    {
     "data": {
      "text/plain": [
       "<matplotlib.axes._subplots.AxesSubplot at 0x7fe9568b0e10>"
      ]
     },
     "execution_count": 54,
     "metadata": {},
     "output_type": "execute_result"
    },
    {
     "data": {
      "image/png": "[encoded data removed]",
      "text/plain": [
       "<Figure size 864x288 with 1 Axes>"
      ]
     },
     "metadata": {
      "needs_background": "light"
     },
     "output_type": "display_data"
    }
   ],
   "source": [
    "plt.figure(figsize=(12,4))\n",
    "sns.distplot(df_quantile[df_quantile['UnitPrice'] < 10]['UnitPrice'].values, kde=True, bins=10)"
   ]
  },
  {
   "cell_type": "code",
   "execution_count": 55,
   "metadata": {
    "execution": {
     "iopub.execute_input": "2023-08-26T02:13:43.260485Z",
     "iopub.status.busy": "2023-08-26T02:13:43.260167Z",
     "iopub.status.idle": "2023-08-26T02:13:43.528257Z",
     "shell.execute_reply": "2023-08-26T02:13:43.526898Z",
     "shell.execute_reply.started": "2023-08-26T02:13:43.260443Z"
    },
    "id": "iV5Lv1YXUonz",
    "outputId": "96b5b822-dbe0-46ed-d6d3-03cc7165023e"
   },
   "outputs": [
    {
     "data": {
      "text/plain": [
       "<matplotlib.axes._subplots.AxesSubplot at 0x7fe955b1e630>"
      ]
     },
     "execution_count": 55,
     "metadata": {},
     "output_type": "execute_result"
    },
    {
     "data": {
      "image/png": "[encoded data removed]",
      "text/plain": [
       "<Figure size 864x288 with 1 Axes>"
      ]
     },
     "metadata": {
      "needs_background": "light"
     },
     "output_type": "display_data"
    }
   ],
   "source": [
    "plt.figure(figsize=(12,4))\n",
    "sns.distplot(df_quantile[df_quantile['UnitPrice'] < 5]['UnitPrice'].values, kde=True, bins=10, color='green')"
   ]
  },
  {
   "cell_type": "markdown",
   "metadata": {},
   "source": [
    "From these histograms we can see that vast majority of items sold in this store has low price range - 0 to 3 pounds. "
   ]
  },
  {
   "cell_type": "code",
   "execution_count": 56,
   "metadata": {
    "execution": {
     "iopub.execute_input": "2023-08-26T02:17:14.844030Z",
     "iopub.status.busy": "2023-08-26T02:17:14.843550Z",
     "iopub.status.idle": "2023-08-26T02:17:14.869403Z",
     "shell.execute_reply": "2023-08-26T02:17:14.867833Z",
     "shell.execute_reply.started": "2023-08-26T02:17:14.843911Z"
    }
   },
   "outputs": [
    {
     "data": {
      "text/plain": [
       "0.25     1.0\n",
       "0.50     3.0\n",
       "0.75    10.0\n",
       "0.80    12.0\n",
       "0.90    24.0\n",
       "0.95    30.0\n",
       "0.96    36.0\n",
       "0.97    48.0\n",
       "0.98    72.0\n",
       "Name: Quantity, dtype: float64"
      ]
     },
     "execution_count": 56,
     "metadata": {},
     "output_type": "execute_result"
    }
   ],
   "source": [
    "df['Quantity'].quantile([0.25,.50,.75,.80,.90,.95,.96,.97,.98])"
   ]
  },
  {
   "cell_type": "code",
   "execution_count": 57,
   "metadata": {
    "execution": {
     "iopub.execute_input": "2023-08-26T02:17:53.810347Z",
     "iopub.status.busy": "2023-08-26T02:17:53.809932Z",
     "iopub.status.idle": "2023-08-26T02:17:54.106706Z",
     "shell.execute_reply": "2023-08-26T02:17:54.105920Z",
     "shell.execute_reply.started": "2023-08-26T02:17:53.810293Z"
    },
    "id": "MadAXAn0TuCZ",
    "outputId": "082d181e-a654-4a68-89a3-4dd761891705"
   },
   "outputs": [
    {
     "data": {
      "text/plain": [
       "<matplotlib.axes._subplots.AxesSubplot at 0x7fe955c25780>"
      ]
     },
     "execution_count": 57,
     "metadata": {},
     "output_type": "execute_result"
    },
    {
     "data": {
      "image/png": "[encoded data removed]",
      "text/plain": [
       "<Figure size 864x288 with 1 Axes>"
      ]
     },
     "metadata": {
      "needs_background": "light"
     },
     "output_type": "display_data"
    }
   ],
   "source": [
    "plt.figure(figsize=(12,4))\n",
    "sns.distplot(df_quantile[df_quantile['Quantity'] <= 48]['Quantity'], kde=True, bins=10, color='red')"
   ]
  },
  {
   "cell_type": "code",
   "execution_count": 58,
   "metadata": {
    "execution": {
     "iopub.execute_input": "2023-08-26T00:09:43.790887Z",
     "iopub.status.busy": "2023-08-26T00:09:43.790546Z",
     "iopub.status.idle": "2023-08-26T00:09:44.043183Z",
     "shell.execute_reply": "2023-08-26T00:09:44.042033Z",
     "shell.execute_reply.started": "2023-08-26T00:09:43.790817Z"
    },
    "id": "uDPI8FLbUxRl",
    "outputId": "27f01b22-1973-475a-8164-80ce816b8c61"
   },
   "outputs": [
    {
     "data": {
      "text/plain": [
       "<matplotlib.axes._subplots.AxesSubplot at 0x7fe955c15e80>"
      ]
     },
     "execution_count": 58,
     "metadata": {},
     "output_type": "execute_result"
    },
    {
     "data": {
      "image/png": "[encoded data removed]",
      "text/plain": [
       "<Figure size 864x288 with 1 Axes>"
      ]
     },
     "metadata": {
      "needs_background": "light"
     },
     "output_type": "display_data"
    }
   ],
   "source": [
    "plt.figure(figsize=(12,4))\n",
    "sns.distplot(df_quantile[df_quantile['Quantity'] <= 15]['Quantity'], kde=True, bins=10, color='orange')"
   ]
  },
  {
   "cell_type": "markdown",
   "metadata": {},
   "source": [
    "From these histograms we that people bought normally 1-5 items or 10-12 - maybe there were some kind of offers for sets?"
   ]
  },
  {
   "cell_type": "code",
   "execution_count": 59,
   "metadata": {
    "execution": {
     "iopub.execute_input": "2023-08-26T05:39:52.525182Z",
     "iopub.status.busy": "2023-08-26T05:39:52.524822Z",
     "iopub.status.idle": "2023-08-26T05:39:52.844411Z",
     "shell.execute_reply": "2023-08-26T05:39:52.843575Z",
     "shell.execute_reply.started": "2023-08-26T05:39:52.525132Z"
    },
    "id": "NUSMODaWUXgm",
    "outputId": "a9a22872-3d5a-4e06-b1ee-40a4bab64e24"
   },
   "outputs": [
    {
     "data": {
      "text/plain": [
       "<matplotlib.axes._subplots.AxesSubplot at 0x7fe955b62b00>"
      ]
     },
     "execution_count": 59,
     "metadata": {},
     "output_type": "execute_result"
    },
    {
     "data": {
      "image/png": "[encoded data removed]",
      "text/plain": [
       "<Figure size 864x288 with 1 Axes>"
      ]
     },
     "metadata": {
      "needs_background": "light"
     },
     "output_type": "display_data"
    }
   ],
   "source": [
    "plt.figure(figsize=(12,4))\n",
    "sns.distplot(df_quantile[df_quantile['Sales'] < 60]['Sales'], kde=True, bins=10, color='purple')"
   ]
  },
  {
   "cell_type": "code",
   "execution_count": 60,
   "metadata": {
    "execution": {
     "iopub.execute_input": "2023-08-26T02:19:40.506365Z",
     "iopub.status.busy": "2023-08-26T02:19:40.505954Z",
     "iopub.status.idle": "2023-08-26T02:19:40.794300Z",
     "shell.execute_reply": "2023-08-26T02:19:40.793263Z",
     "shell.execute_reply.started": "2023-08-26T02:19:40.506301Z"
    },
    "id": "271Hrgm-U5FK",
    "outputId": "f133732c-ae41-4ca2-94a1-71677ed5d0e2"
   },
   "outputs": [
    {
     "data": {
      "text/plain": [
       "<matplotlib.axes._subplots.AxesSubplot at 0x7fe955ac4e48>"
      ]
     },
     "execution_count": 60,
     "metadata": {},
     "output_type": "execute_result"
    },
    {
     "data": {
      "image/png": "[encoded data removed]",
      "text/plain": [
       "<Figure size 864x288 with 1 Axes>"
      ]
     },
     "metadata": {
      "needs_background": "light"
     },
     "output_type": "display_data"
    }
   ],
   "source": [
    "plt.figure(figsize=(12,4))\n",
    "sns.distplot(df_quantile[df_quantile['Sales'] < 30]['Sales'], kde=True, bins=10, color='grey')"
   ]
  },
  {
   "cell_type": "markdown",
   "metadata": {},
   "source": [
    "From these histograms we can understand that majority of sales per order were in range 1-15 pounds each."
   ]
  },
  {
   "cell_type": "markdown",
   "metadata": {
    "id": "MNCUZ2DO3mHM"
   },
   "source": [
    "## 3.3. Analysing sales over time"
   ]
  },
  {
   "cell_type": "code",
   "execution_count": 61,
   "metadata": {
    "execution": {
     "iopub.execute_input": "2023-08-26T02:21:13.517820Z",
     "iopub.status.busy": "2023-08-26T02:21:13.517287Z",
     "iopub.status.idle": "2023-08-26T02:21:13.533275Z",
     "shell.execute_reply": "2023-08-26T02:21:13.532144Z",
     "shell.execute_reply.started": "2023-08-26T02:21:13.517770Z"
    },
    "id": "KCPCF-ZsDHpL",
    "outputId": "b983fc93-0851-4316-e873-164c7679061a"
   },
   "outputs": [
    {
     "data": {
      "text/html": [
       "<div>\n",
       "<style scoped>\n",
       "    .dataframe tbody tr th:only-of-type {\n",
       "        vertical-align: middle;\n",
       "    }\n",
       "\n",
       "    .dataframe tbody tr th {\n",
       "        vertical-align: top;\n",
       "    }\n",
       "\n",
       "    .dataframe thead th {\n",
       "        text-align: right;\n",
       "    }\n",
       "</style>\n",
       "<table border=\"1\" class=\"dataframe\">\n",
       "  <thead>\n",
       "    <tr style=\"text-align: right;\">\n",
       "      <th></th>\n",
       "      <th>Sales</th>\n",
       "    </tr>\n",
       "    <tr>\n",
       "      <th>InvoiceDate</th>\n",
       "      <th></th>\n",
       "    </tr>\n",
       "  </thead>\n",
       "  <tbody>\n",
       "    <tr>\n",
       "      <td>2010-12-01 08:26:00</td>\n",
       "      <td>15.30</td>\n",
       "    </tr>\n",
       "    <tr>\n",
       "      <td>2010-12-01 08:26:00</td>\n",
       "      <td>20.34</td>\n",
       "    </tr>\n",
       "    <tr>\n",
       "      <td>2010-12-01 08:26:00</td>\n",
       "      <td>22.00</td>\n",
       "    </tr>\n",
       "    <tr>\n",
       "      <td>2010-12-01 08:26:00</td>\n",
       "      <td>20.34</td>\n",
       "    </tr>\n",
       "    <tr>\n",
       "      <td>2010-12-01 08:26:00</td>\n",
       "      <td>20.34</td>\n",
       "    </tr>\n",
       "  </tbody>\n",
       "</table>\n",
       "</div>"
      ],
      "text/plain": [
       "                     Sales\n",
       "InvoiceDate               \n",
       "2010-12-01 08:26:00  15.30\n",
       "2010-12-01 08:26:00  20.34\n",
       "2010-12-01 08:26:00  22.00\n",
       "2010-12-01 08:26:00  20.34\n",
       "2010-12-01 08:26:00  20.34"
      ]
     },
     "execution_count": 61,
     "metadata": {},
     "output_type": "execute_result"
    }
   ],
   "source": [
    "df_ts = df[['Sales']]\n",
    "df_ts.head()"
   ]
  },
  {
   "cell_type": "markdown",
   "metadata": {},
   "source": [
    "As we can see every invoice has it's own timestamp (definitely based on time the order was made). We can resample time data by, for example weeks, and try see if there is any patterns in our sales."
   ]
  },
  {
   "cell_type": "code",
   "execution_count": 62,
   "metadata": {
    "execution": {
     "iopub.execute_input": "2023-08-26T02:21:54.461755Z",
     "iopub.status.busy": "2023-08-26T02:21:54.461113Z",
     "iopub.status.idle": "2023-08-26T02:21:54.827973Z",
     "shell.execute_reply": "2023-08-26T02:21:54.826796Z",
     "shell.execute_reply.started": "2023-08-26T02:21:54.461689Z"
    },
    "id": "k9vEWHcHEaND",
    "outputId": "7f692faa-9857-42b7-a41a-5c2d83fefd9d"
   },
   "outputs": [
    {
     "data": {
      "text/plain": [
       "<matplotlib.axes._subplots.AxesSubplot at 0x7fe955a54940>"
      ]
     },
     "execution_count": 62,
     "metadata": {},
     "output_type": "execute_result"
    },
    {
     "data": {
      "text/plain": [
       "<Figure size 1296x432 with 0 Axes>"
      ]
     },
     "metadata": {},
     "output_type": "display_data"
    },
    {
     "data": {
      "image/png": "[encoded data removed]",
      "text/plain": [
       "<Figure size 432x288 with 1 Axes>"
      ]
     },
     "metadata": {
      "needs_background": "light"
     },
     "output_type": "display_data"
    }
   ],
   "source": [
    "plt.figure(figsize=(18,6))\n",
    "df_resample = df_ts.resample('W').sum()\n",
    "df_resample.plot()"
   ]
  },
  {
   "cell_type": "markdown",
   "metadata": {
    "id": "zFi5bGs534oQ"
   },
   "source": [
    "That week with 0 sales in January looks suspicious, let's check it closer"
   ]
  },
  {
   "cell_type": "code",
   "execution_count": 63,
   "metadata": {
    "execution": {
     "iopub.execute_input": "2023-08-26T02:38:28.572257Z",
     "iopub.status.busy": "2023-08-26T02:38:28.571739Z",
     "iopub.status.idle": "2023-08-26T02:38:28.587160Z",
     "shell.execute_reply": "2023-08-26T02:38:28.586539Z",
     "shell.execute_reply.started": "2023-08-26T02:38:28.572175Z"
    },
    "id": "1QXCBgf8WQUD",
    "outputId": "55d754dc-79af-4722-bba6-726d6f7329a0"
   },
   "outputs": [
    {
     "data": {
      "text/html": [
       "<div>\n",
       "<style scoped>\n",
       "    .dataframe tbody tr th:only-of-type {\n",
       "        vertical-align: middle;\n",
       "    }\n",
       "\n",
       "    .dataframe tbody tr th {\n",
       "        vertical-align: top;\n",
       "    }\n",
       "\n",
       "    .dataframe thead th {\n",
       "        text-align: right;\n",
       "    }\n",
       "</style>\n",
       "<table border=\"1\" class=\"dataframe\">\n",
       "  <thead>\n",
       "    <tr style=\"text-align: right;\">\n",
       "      <th></th>\n",
       "      <th>Sales</th>\n",
       "    </tr>\n",
       "    <tr>\n",
       "      <th>InvoiceDate</th>\n",
       "      <th></th>\n",
       "    </tr>\n",
       "  </thead>\n",
       "  <tbody>\n",
       "    <tr>\n",
       "      <td>2010-12-05</td>\n",
       "      <td>185427.83</td>\n",
       "    </tr>\n",
       "    <tr>\n",
       "      <td>2010-12-12</td>\n",
       "      <td>329936.81</td>\n",
       "    </tr>\n",
       "    <tr>\n",
       "      <td>2010-12-19</td>\n",
       "      <td>216012.20</td>\n",
       "    </tr>\n",
       "    <tr>\n",
       "      <td>2010-12-26</td>\n",
       "      <td>92369.30</td>\n",
       "    </tr>\n",
       "    <tr>\n",
       "      <td>2011-01-02</td>\n",
       "      <td>0.00</td>\n",
       "    </tr>\n",
       "    <tr>\n",
       "      <td>2011-01-09</td>\n",
       "      <td>133658.19</td>\n",
       "    </tr>\n",
       "    <tr>\n",
       "      <td>2011-01-16</td>\n",
       "      <td>193362.04</td>\n",
       "    </tr>\n",
       "    <tr>\n",
       "      <td>2011-01-23</td>\n",
       "      <td>138349.58</td>\n",
       "    </tr>\n",
       "    <tr>\n",
       "      <td>2011-01-30</td>\n",
       "      <td>125170.79</td>\n",
       "    </tr>\n",
       "  </tbody>\n",
       "</table>\n",
       "</div>"
      ],
      "text/plain": [
       "                 Sales\n",
       "InvoiceDate           \n",
       "2010-12-05   185427.83\n",
       "2010-12-12   329936.81\n",
       "2010-12-19   216012.20\n",
       "2010-12-26    92369.30\n",
       "2011-01-02        0.00\n",
       "2011-01-09   133658.19\n",
       "2011-01-16   193362.04\n",
       "2011-01-23   138349.58\n",
       "2011-01-30   125170.79"
      ]
     },
     "execution_count": 63,
     "metadata": {},
     "output_type": "execute_result"
    }
   ],
   "source": [
    "df_resample['12-2010':'01-2011']"
   ]
  },
  {
   "cell_type": "markdown",
   "metadata": {
    "id": "U7o8UfRB4GLy"
   },
   "source": [
    "Now it makes sense - possibly, during the New Year holidays period the store was closed and didn't process orders, that's why they didn't make any sales."
   ]
  },
  {
   "cell_type": "markdown",
   "metadata": {
    "id": "NIpdfJcS4mbx"
   },
   "source": [
    "# 4. Preparing data for modeling and feature creation"
   ]
  },
  {
   "cell_type": "markdown",
   "metadata": {},
   "source": [
    "Now it comes the most fun part of the project - building a model. To do this we will need to create few more additional features to make our model more sophisticated."
   ]
  },
  {
   "cell_type": "code",
   "execution_count": 64,
   "metadata": {
    "execution": {
     "iopub.execute_input": "2023-08-26T02:39:10.063714Z",
     "iopub.status.busy": "2023-08-26T02:39:10.063359Z",
     "iopub.status.idle": "2023-08-26T02:39:10.179728Z",
     "shell.execute_reply": "2023-08-26T02:39:10.178362Z",
     "shell.execute_reply.started": "2023-08-26T02:39:10.063671Z"
    },
    "id": "Z26VIUm8VJ0M",
    "outputId": "acaee750-803a-4332-c724-9f2568620b51"
   },
   "outputs": [
    {
     "data": {
      "text/html": [
       "<div>\n",
       "<style scoped>\n",
       "    .dataframe tbody tr th:only-of-type {\n",
       "        vertical-align: middle;\n",
       "    }\n",
       "\n",
       "    .dataframe tbody tr th {\n",
       "        vertical-align: top;\n",
       "    }\n",
       "\n",
       "    .dataframe thead th {\n",
       "        text-align: right;\n",
       "    }\n",
       "</style>\n",
       "<table border=\"1\" class=\"dataframe\">\n",
       "  <thead>\n",
       "    <tr style=\"text-align: right;\">\n",
       "      <th></th>\n",
       "      <th>Quantity</th>\n",
       "      <th>UnitPrice</th>\n",
       "      <th>Sales</th>\n",
       "    </tr>\n",
       "  </thead>\n",
       "  <tbody>\n",
       "    <tr>\n",
       "      <td>count</td>\n",
       "      <td>520393.000000</td>\n",
       "      <td>520393.000000</td>\n",
       "      <td>520393.000000</td>\n",
       "    </tr>\n",
       "    <tr>\n",
       "      <td>mean</td>\n",
       "      <td>10.409364</td>\n",
       "      <td>2.978735</td>\n",
       "      <td>18.669870</td>\n",
       "    </tr>\n",
       "    <tr>\n",
       "      <td>std</td>\n",
       "      <td>38.123726</td>\n",
       "      <td>2.669829</td>\n",
       "      <td>64.710055</td>\n",
       "    </tr>\n",
       "    <tr>\n",
       "      <td>min</td>\n",
       "      <td>1.000000</td>\n",
       "      <td>0.001000</td>\n",
       "      <td>0.001000</td>\n",
       "    </tr>\n",
       "    <tr>\n",
       "      <td>25%</td>\n",
       "      <td>1.000000</td>\n",
       "      <td>1.250000</td>\n",
       "      <td>3.750000</td>\n",
       "    </tr>\n",
       "    <tr>\n",
       "      <td>50%</td>\n",
       "      <td>4.000000</td>\n",
       "      <td>2.080000</td>\n",
       "      <td>9.840000</td>\n",
       "    </tr>\n",
       "    <tr>\n",
       "      <td>75%</td>\n",
       "      <td>12.000000</td>\n",
       "      <td>4.130000</td>\n",
       "      <td>17.400000</td>\n",
       "    </tr>\n",
       "    <tr>\n",
       "      <td>max</td>\n",
       "      <td>4800.000000</td>\n",
       "      <td>14.960000</td>\n",
       "      <td>7144.720000</td>\n",
       "    </tr>\n",
       "  </tbody>\n",
       "</table>\n",
       "</div>"
      ],
      "text/plain": [
       "            Quantity      UnitPrice          Sales\n",
       "count  520393.000000  520393.000000  520393.000000\n",
       "mean       10.409364       2.978735      18.669870\n",
       "std        38.123726       2.669829      64.710055\n",
       "min         1.000000       0.001000       0.001000\n",
       "25%         1.000000       1.250000       3.750000\n",
       "50%         4.000000       2.080000       9.840000\n",
       "75%        12.000000       4.130000      17.400000\n",
       "max      4800.000000      14.960000    7144.720000"
      ]
     },
     "execution_count": 64,
     "metadata": {},
     "output_type": "execute_result"
    }
   ],
   "source": [
    "df_clean = df[df['UnitPrice'] < 15]\n",
    "df_clean.describe()"
   ]
  },
  {
   "cell_type": "code",
   "execution_count": 65,
   "metadata": {
    "execution": {
     "iopub.execute_input": "2023-08-26T02:39:41.875854Z",
     "iopub.status.busy": "2023-08-26T02:39:41.875492Z",
     "iopub.status.idle": "2023-08-26T02:39:41.885635Z",
     "shell.execute_reply": "2023-08-26T02:39:41.884613Z",
     "shell.execute_reply.started": "2023-08-26T02:39:41.875798Z"
    },
    "id": "4ddHzAzmkAx9",
    "outputId": "8834df7a-f77b-4a7a-a50e-0e26afd503f4"
   },
   "outputs": [
    {
     "data": {
      "text/plain": [
       "DatetimeIndex(['2010-12-01 08:26:00', '2010-12-01 08:26:00',\n",
       "               '2010-12-01 08:26:00', '2010-12-01 08:26:00',\n",
       "               '2010-12-01 08:26:00', '2010-12-01 08:26:00',\n",
       "               '2010-12-01 08:26:00', '2010-12-01 08:28:00',\n",
       "               '2010-12-01 08:28:00', '2010-12-01 08:34:00',\n",
       "               ...\n",
       "               '2011-12-09 12:50:00', '2011-12-09 12:50:00',\n",
       "               '2011-12-09 12:50:00', '2011-12-09 12:50:00',\n",
       "               '2011-12-09 12:50:00', '2011-12-09 12:50:00',\n",
       "               '2011-12-09 12:50:00', '2011-12-09 12:50:00',\n",
       "               '2011-12-09 12:50:00', '2011-12-09 12:50:00'],\n",
       "              dtype='datetime64[ns]', name='InvoiceDate', length=520393, freq=None)"
      ]
     },
     "execution_count": 65,
     "metadata": {},
     "output_type": "execute_result"
    }
   ],
   "source": [
    "df_clean.index"
   ]
  },
  {
   "cell_type": "markdown",
   "metadata": {
    "id": "IJST6pYl47s6"
   },
   "source": [
    "## 4.1. Quantity per invoice feature"
   ]
  },
  {
   "cell_type": "markdown",
   "metadata": {},
   "source": [
    "A feature that could influence the sales output could be \"Quantity per invoice\". Let's find the data for this feature."
   ]
  },
  {
   "cell_type": "code",
   "execution_count": 66,
   "metadata": {
    "execution": {
     "iopub.execute_input": "2023-08-26T02:40:13.956310Z",
     "iopub.status.busy": "2023-08-26T02:40:13.955818Z",
     "iopub.status.idle": "2023-08-26T02:40:14.024208Z",
     "shell.execute_reply": "2023-08-26T02:40:14.022206Z",
     "shell.execute_reply.started": "2023-08-26T02:40:13.956230Z"
    }
   },
   "outputs": [
    {
     "data": {
      "text/html": [
       "<div>\n",
       "<style scoped>\n",
       "    .dataframe tbody tr th:only-of-type {\n",
       "        vertical-align: middle;\n",
       "    }\n",
       "\n",
       "    .dataframe tbody tr th {\n",
       "        vertical-align: top;\n",
       "    }\n",
       "\n",
       "    .dataframe thead th {\n",
       "        text-align: right;\n",
       "    }\n",
       "</style>\n",
       "<table border=\"1\" class=\"dataframe\">\n",
       "  <thead>\n",
       "    <tr style=\"text-align: right;\">\n",
       "      <th></th>\n",
       "      <th>Quantity</th>\n",
       "    </tr>\n",
       "    <tr>\n",
       "      <th>InvoiceNo</th>\n",
       "      <th></th>\n",
       "    </tr>\n",
       "  </thead>\n",
       "  <tbody>\n",
       "    <tr>\n",
       "      <td>536365</td>\n",
       "      <td>40</td>\n",
       "    </tr>\n",
       "    <tr>\n",
       "      <td>536366</td>\n",
       "      <td>12</td>\n",
       "    </tr>\n",
       "    <tr>\n",
       "      <td>536367</td>\n",
       "      <td>83</td>\n",
       "    </tr>\n",
       "    <tr>\n",
       "      <td>536368</td>\n",
       "      <td>15</td>\n",
       "    </tr>\n",
       "    <tr>\n",
       "      <td>536369</td>\n",
       "      <td>3</td>\n",
       "    </tr>\n",
       "    <tr>\n",
       "      <td>...</td>\n",
       "      <td>...</td>\n",
       "    </tr>\n",
       "    <tr>\n",
       "      <td>581583</td>\n",
       "      <td>76</td>\n",
       "    </tr>\n",
       "    <tr>\n",
       "      <td>581584</td>\n",
       "      <td>120</td>\n",
       "    </tr>\n",
       "    <tr>\n",
       "      <td>581585</td>\n",
       "      <td>278</td>\n",
       "    </tr>\n",
       "    <tr>\n",
       "      <td>581586</td>\n",
       "      <td>66</td>\n",
       "    </tr>\n",
       "    <tr>\n",
       "      <td>581587</td>\n",
       "      <td>105</td>\n",
       "    </tr>\n",
       "  </tbody>\n",
       "</table>\n",
       "<p>19754 rows × 1 columns</p>\n",
       "</div>"
      ],
      "text/plain": [
       "           Quantity\n",
       "InvoiceNo          \n",
       "536365           40\n",
       "536366           12\n",
       "536367           83\n",
       "536368           15\n",
       "536369            3\n",
       "...             ...\n",
       "581583           76\n",
       "581584          120\n",
       "581585          278\n",
       "581586           66\n",
       "581587          105\n",
       "\n",
       "[19754 rows x 1 columns]"
      ]
     },
     "execution_count": 66,
     "metadata": {},
     "output_type": "execute_result"
    }
   ],
   "source": [
    "df_clean.groupby('InvoiceNo')[['Quantity']].sum()"
   ]
  },
  {
   "cell_type": "code",
   "execution_count": 67,
   "metadata": {
    "execution": {
     "iopub.execute_input": "2023-08-26T05:40:59.106646Z",
     "iopub.status.busy": "2023-08-26T05:40:59.106304Z",
     "iopub.status.idle": "2023-08-26T05:40:59.158459Z",
     "shell.execute_reply": "2023-08-26T05:40:59.157066Z",
     "shell.execute_reply.started": "2023-08-26T05:40:59.106594Z"
    },
    "id": "XeL8mapkXU3c"
   },
   "outputs": [],
   "source": [
    "df_join = df_clean.groupby('InvoiceNo')[['Quantity']].sum()"
   ]
  },
  {
   "cell_type": "code",
   "execution_count": 68,
   "metadata": {
    "execution": {
     "iopub.execute_input": "2023-08-26T05:40:59.325614Z",
     "iopub.status.busy": "2023-08-26T05:40:59.325029Z",
     "iopub.status.idle": "2023-08-26T05:40:59.335492Z",
     "shell.execute_reply": "2023-08-26T05:40:59.334839Z",
     "shell.execute_reply.started": "2023-08-26T05:40:59.325295Z"
    },
    "id": "yB4Fqi0qf-tx",
    "outputId": "8be7a159-28ed-4e2e-8576-76f94311df48"
   },
   "outputs": [
    {
     "data": {
      "text/html": [
       "<div>\n",
       "<style scoped>\n",
       "    .dataframe tbody tr th:only-of-type {\n",
       "        vertical-align: middle;\n",
       "    }\n",
       "\n",
       "    .dataframe tbody tr th {\n",
       "        vertical-align: top;\n",
       "    }\n",
       "\n",
       "    .dataframe thead th {\n",
       "        text-align: right;\n",
       "    }\n",
       "</style>\n",
       "<table border=\"1\" class=\"dataframe\">\n",
       "  <thead>\n",
       "    <tr style=\"text-align: right;\">\n",
       "      <th></th>\n",
       "      <th>InvoiceNo</th>\n",
       "      <th>Quantity</th>\n",
       "    </tr>\n",
       "  </thead>\n",
       "  <tbody>\n",
       "    <tr>\n",
       "      <td>0</td>\n",
       "      <td>536365</td>\n",
       "      <td>40</td>\n",
       "    </tr>\n",
       "    <tr>\n",
       "      <td>1</td>\n",
       "      <td>536366</td>\n",
       "      <td>12</td>\n",
       "    </tr>\n",
       "    <tr>\n",
       "      <td>2</td>\n",
       "      <td>536367</td>\n",
       "      <td>83</td>\n",
       "    </tr>\n",
       "    <tr>\n",
       "      <td>3</td>\n",
       "      <td>536368</td>\n",
       "      <td>15</td>\n",
       "    </tr>\n",
       "    <tr>\n",
       "      <td>4</td>\n",
       "      <td>536369</td>\n",
       "      <td>3</td>\n",
       "    </tr>\n",
       "  </tbody>\n",
       "</table>\n",
       "</div>"
      ],
      "text/plain": [
       "  InvoiceNo  Quantity\n",
       "0    536365        40\n",
       "1    536366        12\n",
       "2    536367        83\n",
       "3    536368        15\n",
       "4    536369         3"
      ]
     },
     "execution_count": 68,
     "metadata": {},
     "output_type": "execute_result"
    }
   ],
   "source": [
    "df_join = df_join.reset_index()\n",
    "df_join.head()"
   ]
  },
  {
   "cell_type": "code",
   "execution_count": null,
   "metadata": {},
   "outputs": [],
   "source": []
  },
  {
   "cell_type": "code",
   "execution_count": 69,
   "metadata": {
    "execution": {
     "iopub.execute_input": "2023-08-26T05:41:00.935139Z",
     "iopub.status.busy": "2023-08-26T05:41:00.934527Z",
     "iopub.status.idle": "2023-08-26T05:41:01.363461Z",
     "shell.execute_reply": "2023-08-26T05:41:01.362413Z",
     "shell.execute_reply.started": "2023-08-26T05:41:00.935089Z"
    },
    "id": "4q88pvAuX2Rh",
    "outputId": "bb6ce533-2ee6-42e2-adaa-ea49e04720ac"
   },
   "outputs": [
    {
     "data": {
      "text/html": [
       "<div>\n",
       "<style scoped>\n",
       "    .dataframe tbody tr th:only-of-type {\n",
       "        vertical-align: middle;\n",
       "    }\n",
       "\n",
       "    .dataframe tbody tr th {\n",
       "        vertical-align: top;\n",
       "    }\n",
       "\n",
       "    .dataframe thead th {\n",
       "        text-align: right;\n",
       "    }\n",
       "</style>\n",
       "<table border=\"1\" class=\"dataframe\">\n",
       "  <thead>\n",
       "    <tr style=\"text-align: right;\">\n",
       "      <th></th>\n",
       "      <th>InvoiceNo</th>\n",
       "      <th>StockCode</th>\n",
       "      <th>Description</th>\n",
       "      <th>Quantity</th>\n",
       "      <th>UnitPrice</th>\n",
       "      <th>Country</th>\n",
       "      <th>Sales</th>\n",
       "      <th>InvoiceDate</th>\n",
       "      <th>QuantityInv</th>\n",
       "    </tr>\n",
       "  </thead>\n",
       "  <tbody>\n",
       "    <tr>\n",
       "      <td>520378</td>\n",
       "      <td>581587</td>\n",
       "      <td>22631</td>\n",
       "      <td>CIRCUS PARADE LUNCH BOX</td>\n",
       "      <td>12</td>\n",
       "      <td>1.95</td>\n",
       "      <td>France</td>\n",
       "      <td>23.40</td>\n",
       "      <td>2011-12-09 12:50:00</td>\n",
       "      <td>105</td>\n",
       "    </tr>\n",
       "    <tr>\n",
       "      <td>520379</td>\n",
       "      <td>581587</td>\n",
       "      <td>22556</td>\n",
       "      <td>PLASTERS IN TIN CIRCUS PARADE</td>\n",
       "      <td>12</td>\n",
       "      <td>1.65</td>\n",
       "      <td>France</td>\n",
       "      <td>19.80</td>\n",
       "      <td>2011-12-09 12:50:00</td>\n",
       "      <td>105</td>\n",
       "    </tr>\n",
       "    <tr>\n",
       "      <td>520380</td>\n",
       "      <td>581587</td>\n",
       "      <td>22555</td>\n",
       "      <td>PLASTERS IN TIN STRONGMAN</td>\n",
       "      <td>12</td>\n",
       "      <td>1.65</td>\n",
       "      <td>France</td>\n",
       "      <td>19.80</td>\n",
       "      <td>2011-12-09 12:50:00</td>\n",
       "      <td>105</td>\n",
       "    </tr>\n",
       "    <tr>\n",
       "      <td>520381</td>\n",
       "      <td>581587</td>\n",
       "      <td>22728</td>\n",
       "      <td>ALARM CLOCK BAKELIKE PINK</td>\n",
       "      <td>4</td>\n",
       "      <td>3.75</td>\n",
       "      <td>France</td>\n",
       "      <td>15.00</td>\n",
       "      <td>2011-12-09 12:50:00</td>\n",
       "      <td>105</td>\n",
       "    </tr>\n",
       "    <tr>\n",
       "      <td>520382</td>\n",
       "      <td>581587</td>\n",
       "      <td>22727</td>\n",
       "      <td>ALARM CLOCK BAKELIKE RED</td>\n",
       "      <td>4</td>\n",
       "      <td>3.75</td>\n",
       "      <td>France</td>\n",
       "      <td>15.00</td>\n",
       "      <td>2011-12-09 12:50:00</td>\n",
       "      <td>105</td>\n",
       "    </tr>\n",
       "    <tr>\n",
       "      <td>520383</td>\n",
       "      <td>581587</td>\n",
       "      <td>22726</td>\n",
       "      <td>ALARM CLOCK BAKELIKE GREEN</td>\n",
       "      <td>4</td>\n",
       "      <td>3.75</td>\n",
       "      <td>France</td>\n",
       "      <td>15.00</td>\n",
       "      <td>2011-12-09 12:50:00</td>\n",
       "      <td>105</td>\n",
       "    </tr>\n",
       "    <tr>\n",
       "      <td>520384</td>\n",
       "      <td>581587</td>\n",
       "      <td>22730</td>\n",
       "      <td>ALARM CLOCK BAKELIKE IVORY</td>\n",
       "      <td>4</td>\n",
       "      <td>3.75</td>\n",
       "      <td>France</td>\n",
       "      <td>15.00</td>\n",
       "      <td>2011-12-09 12:50:00</td>\n",
       "      <td>105</td>\n",
       "    </tr>\n",
       "    <tr>\n",
       "      <td>520385</td>\n",
       "      <td>581587</td>\n",
       "      <td>22367</td>\n",
       "      <td>CHILDRENS APRON SPACEBOY DESIGN</td>\n",
       "      <td>8</td>\n",
       "      <td>1.95</td>\n",
       "      <td>France</td>\n",
       "      <td>15.60</td>\n",
       "      <td>2011-12-09 12:50:00</td>\n",
       "      <td>105</td>\n",
       "    </tr>\n",
       "    <tr>\n",
       "      <td>520386</td>\n",
       "      <td>581587</td>\n",
       "      <td>22629</td>\n",
       "      <td>SPACEBOY LUNCH BOX</td>\n",
       "      <td>12</td>\n",
       "      <td>1.95</td>\n",
       "      <td>France</td>\n",
       "      <td>23.40</td>\n",
       "      <td>2011-12-09 12:50:00</td>\n",
       "      <td>105</td>\n",
       "    </tr>\n",
       "    <tr>\n",
       "      <td>520387</td>\n",
       "      <td>581587</td>\n",
       "      <td>23256</td>\n",
       "      <td>CHILDRENS CUTLERY SPACEBOY</td>\n",
       "      <td>4</td>\n",
       "      <td>4.15</td>\n",
       "      <td>France</td>\n",
       "      <td>16.60</td>\n",
       "      <td>2011-12-09 12:50:00</td>\n",
       "      <td>105</td>\n",
       "    </tr>\n",
       "    <tr>\n",
       "      <td>520388</td>\n",
       "      <td>581587</td>\n",
       "      <td>22613</td>\n",
       "      <td>PACK OF 20 SPACEBOY NAPKINS</td>\n",
       "      <td>12</td>\n",
       "      <td>0.85</td>\n",
       "      <td>France</td>\n",
       "      <td>10.20</td>\n",
       "      <td>2011-12-09 12:50:00</td>\n",
       "      <td>105</td>\n",
       "    </tr>\n",
       "    <tr>\n",
       "      <td>520389</td>\n",
       "      <td>581587</td>\n",
       "      <td>22899</td>\n",
       "      <td>CHILDREN'S APRON DOLLY GIRL</td>\n",
       "      <td>6</td>\n",
       "      <td>2.10</td>\n",
       "      <td>France</td>\n",
       "      <td>12.60</td>\n",
       "      <td>2011-12-09 12:50:00</td>\n",
       "      <td>105</td>\n",
       "    </tr>\n",
       "    <tr>\n",
       "      <td>520390</td>\n",
       "      <td>581587</td>\n",
       "      <td>23254</td>\n",
       "      <td>CHILDRENS CUTLERY DOLLY GIRL</td>\n",
       "      <td>4</td>\n",
       "      <td>4.15</td>\n",
       "      <td>France</td>\n",
       "      <td>16.60</td>\n",
       "      <td>2011-12-09 12:50:00</td>\n",
       "      <td>105</td>\n",
       "    </tr>\n",
       "    <tr>\n",
       "      <td>520391</td>\n",
       "      <td>581587</td>\n",
       "      <td>23255</td>\n",
       "      <td>CHILDRENS CUTLERY CIRCUS PARADE</td>\n",
       "      <td>4</td>\n",
       "      <td>4.15</td>\n",
       "      <td>France</td>\n",
       "      <td>16.60</td>\n",
       "      <td>2011-12-09 12:50:00</td>\n",
       "      <td>105</td>\n",
       "    </tr>\n",
       "    <tr>\n",
       "      <td>520392</td>\n",
       "      <td>581587</td>\n",
       "      <td>22138</td>\n",
       "      <td>BAKING SET 9 PIECE RETROSPOT</td>\n",
       "      <td>3</td>\n",
       "      <td>4.95</td>\n",
       "      <td>France</td>\n",
       "      <td>14.85</td>\n",
       "      <td>2011-12-09 12:50:00</td>\n",
       "      <td>105</td>\n",
       "    </tr>\n",
       "  </tbody>\n",
       "</table>\n",
       "</div>"
      ],
      "text/plain": [
       "       InvoiceNo StockCode                      Description  Quantity  \\\n",
       "520378    581587     22631         CIRCUS PARADE LUNCH BOX         12   \n",
       "520379    581587     22556   PLASTERS IN TIN CIRCUS PARADE         12   \n",
       "520380    581587     22555        PLASTERS IN TIN STRONGMAN        12   \n",
       "520381    581587     22728        ALARM CLOCK BAKELIKE PINK         4   \n",
       "520382    581587     22727        ALARM CLOCK BAKELIKE RED          4   \n",
       "520383    581587     22726       ALARM CLOCK BAKELIKE GREEN         4   \n",
       "520384    581587     22730       ALARM CLOCK BAKELIKE IVORY         4   \n",
       "520385    581587     22367  CHILDRENS APRON SPACEBOY DESIGN         8   \n",
       "520386    581587     22629              SPACEBOY LUNCH BOX         12   \n",
       "520387    581587     23256      CHILDRENS CUTLERY SPACEBOY          4   \n",
       "520388    581587     22613      PACK OF 20 SPACEBOY NAPKINS        12   \n",
       "520389    581587     22899     CHILDREN'S APRON DOLLY GIRL          6   \n",
       "520390    581587     23254    CHILDRENS CUTLERY DOLLY GIRL          4   \n",
       "520391    581587     23255  CHILDRENS CUTLERY CIRCUS PARADE         4   \n",
       "520392    581587     22138    BAKING SET 9 PIECE RETROSPOT          3   \n",
       "\n",
       "        UnitPrice Country  Sales         InvoiceDate  QuantityInv  \n",
       "520378       1.95  France  23.40 2011-12-09 12:50:00          105  \n",
       "520379       1.65  France  19.80 2011-12-09 12:50:00          105  \n",
       "520380       1.65  France  19.80 2011-12-09 12:50:00          105  \n",
       "520381       3.75  France  15.00 2011-12-09 12:50:00          105  \n",
       "520382       3.75  France  15.00 2011-12-09 12:50:00          105  \n",
       "520383       3.75  France  15.00 2011-12-09 12:50:00          105  \n",
       "520384       3.75  France  15.00 2011-12-09 12:50:00          105  \n",
       "520385       1.95  France  15.60 2011-12-09 12:50:00          105  \n",
       "520386       1.95  France  23.40 2011-12-09 12:50:00          105  \n",
       "520387       4.15  France  16.60 2011-12-09 12:50:00          105  \n",
       "520388       0.85  France  10.20 2011-12-09 12:50:00          105  \n",
       "520389       2.10  France  12.60 2011-12-09 12:50:00          105  \n",
       "520390       4.15  France  16.60 2011-12-09 12:50:00          105  \n",
       "520391       4.15  France  16.60 2011-12-09 12:50:00          105  \n",
       "520392       4.95  France  14.85 2011-12-09 12:50:00          105  "
      ]
     },
     "execution_count": 69,
     "metadata": {},
     "output_type": "execute_result"
    }
   ],
   "source": [
    "df_clean['InvoiceDate'] = df_clean.index\n",
    "df_clean = df_clean.merge(df_join, how='left', on='InvoiceNo')\n",
    "df_clean = df_clean.rename(columns={'Quantity_x' : 'Quantity', 'Quantity_y' : 'QuantityInv'})\n",
    "df_clean.tail(15)"
   ]
  },
  {
   "cell_type": "code",
   "execution_count": 70,
   "metadata": {
    "execution": {
     "iopub.execute_input": "2023-08-26T05:41:01.617071Z",
     "iopub.status.busy": "2023-08-26T05:41:01.616421Z",
     "iopub.status.idle": "2023-08-26T05:41:01.731245Z",
     "shell.execute_reply": "2023-08-26T05:41:01.730433Z",
     "shell.execute_reply.started": "2023-08-26T05:41:01.616966Z"
    },
    "id": "FkOT2yPciD0Q",
    "outputId": "c0fbb47b-ff20-4189-8433-14a1a14f6663"
   },
   "outputs": [
    {
     "data": {
      "text/html": [
       "<div>\n",
       "<style scoped>\n",
       "    .dataframe tbody tr th:only-of-type {\n",
       "        vertical-align: middle;\n",
       "    }\n",
       "\n",
       "    .dataframe tbody tr th {\n",
       "        vertical-align: top;\n",
       "    }\n",
       "\n",
       "    .dataframe thead th {\n",
       "        text-align: right;\n",
       "    }\n",
       "</style>\n",
       "<table border=\"1\" class=\"dataframe\">\n",
       "  <thead>\n",
       "    <tr style=\"text-align: right;\">\n",
       "      <th></th>\n",
       "      <th>Quantity</th>\n",
       "      <th>UnitPrice</th>\n",
       "      <th>Sales</th>\n",
       "      <th>QuantityInv</th>\n",
       "    </tr>\n",
       "  </thead>\n",
       "  <tbody>\n",
       "    <tr>\n",
       "      <td>count</td>\n",
       "      <td>520393.000000</td>\n",
       "      <td>520393.000000</td>\n",
       "      <td>520393.000000</td>\n",
       "      <td>520393.000000</td>\n",
       "    </tr>\n",
       "    <tr>\n",
       "      <td>mean</td>\n",
       "      <td>10.409364</td>\n",
       "      <td>2.978735</td>\n",
       "      <td>18.669870</td>\n",
       "      <td>533.328732</td>\n",
       "    </tr>\n",
       "    <tr>\n",
       "      <td>std</td>\n",
       "      <td>38.123726</td>\n",
       "      <td>2.669829</td>\n",
       "      <td>64.710055</td>\n",
       "      <td>890.339855</td>\n",
       "    </tr>\n",
       "    <tr>\n",
       "      <td>min</td>\n",
       "      <td>1.000000</td>\n",
       "      <td>0.001000</td>\n",
       "      <td>0.001000</td>\n",
       "      <td>1.000000</td>\n",
       "    </tr>\n",
       "    <tr>\n",
       "      <td>25%</td>\n",
       "      <td>1.000000</td>\n",
       "      <td>1.250000</td>\n",
       "      <td>3.750000</td>\n",
       "      <td>152.000000</td>\n",
       "    </tr>\n",
       "    <tr>\n",
       "      <td>50%</td>\n",
       "      <td>4.000000</td>\n",
       "      <td>2.080000</td>\n",
       "      <td>9.840000</td>\n",
       "      <td>300.000000</td>\n",
       "    </tr>\n",
       "    <tr>\n",
       "      <td>75%</td>\n",
       "      <td>12.000000</td>\n",
       "      <td>4.130000</td>\n",
       "      <td>17.400000</td>\n",
       "      <td>567.000000</td>\n",
       "    </tr>\n",
       "    <tr>\n",
       "      <td>max</td>\n",
       "      <td>4800.000000</td>\n",
       "      <td>14.960000</td>\n",
       "      <td>7144.720000</td>\n",
       "      <td>15049.000000</td>\n",
       "    </tr>\n",
       "  </tbody>\n",
       "</table>\n",
       "</div>"
      ],
      "text/plain": [
       "            Quantity      UnitPrice          Sales    QuantityInv\n",
       "count  520393.000000  520393.000000  520393.000000  520393.000000\n",
       "mean       10.409364       2.978735      18.669870     533.328732\n",
       "std        38.123726       2.669829      64.710055     890.339855\n",
       "min         1.000000       0.001000       0.001000       1.000000\n",
       "25%         1.000000       1.250000       3.750000     152.000000\n",
       "50%         4.000000       2.080000       9.840000     300.000000\n",
       "75%        12.000000       4.130000      17.400000     567.000000\n",
       "max      4800.000000      14.960000    7144.720000   15049.000000"
      ]
     },
     "execution_count": 70,
     "metadata": {},
     "output_type": "execute_result"
    }
   ],
   "source": [
    "df_clean.describe()"
   ]
  },
  {
   "cell_type": "code",
   "execution_count": 71,
   "metadata": {
    "execution": {
     "iopub.execute_input": "2023-08-26T05:41:02.329623Z",
     "iopub.status.busy": "2023-08-26T05:41:02.329068Z",
     "iopub.status.idle": "2023-08-26T05:41:02.399358Z",
     "shell.execute_reply": "2023-08-26T05:41:02.398691Z",
     "shell.execute_reply.started": "2023-08-26T05:41:02.329555Z"
    },
    "id": "DDzWZ6K_o4z0"
   },
   "outputs": [],
   "source": [
    "df_clean['InvoiceDate'] = pd.to_datetime(df_clean['InvoiceDate'])"
   ]
  },
  {
   "cell_type": "code",
   "execution_count": 72,
   "metadata": {
    "execution": {
     "iopub.execute_input": "2023-08-26T05:41:02.520060Z",
     "iopub.status.busy": "2023-08-26T05:41:02.519561Z",
     "iopub.status.idle": "2023-08-26T05:41:02.528880Z",
     "shell.execute_reply": "2023-08-26T05:41:02.527552Z",
     "shell.execute_reply.started": "2023-08-26T05:41:02.519982Z"
    },
    "id": "2tQTQyu4pBaf",
    "outputId": "11c8b52d-9760-460c-e1e7-749defaf9e4f"
   },
   "outputs": [
    {
     "data": {
      "text/plain": [
       "InvoiceNo              object\n",
       "StockCode              object\n",
       "Description            object\n",
       "Quantity                int64\n",
       "UnitPrice             float64\n",
       "Country                object\n",
       "Sales                 float64\n",
       "InvoiceDate    datetime64[ns]\n",
       "QuantityInv             int64\n",
       "dtype: object"
      ]
     },
     "execution_count": 72,
     "metadata": {},
     "output_type": "execute_result"
    }
   ],
   "source": [
    "df_clean.dtypes"
   ]
  },
  {
   "cell_type": "markdown",
   "metadata": {
    "id": "BirwPlbT5SRb"
   },
   "source": [
    "## 4.2. Bucketizing Quantity and UnitPrice features"
   ]
  },
  {
   "cell_type": "markdown",
   "metadata": {
    "id": "AOfQmYrH5fxk"
   },
   "source": [
    "Based on the EDA done previously we can group these features into 6 buckets for Quantity and 5 for UnitePrice using pandas .cut() method."
   ]
  },
  {
   "cell_type": "code",
   "execution_count": 73,
   "metadata": {
    "execution": {
     "iopub.execute_input": "2023-08-26T02:46:15.064462Z",
     "iopub.status.busy": "2023-08-26T02:46:15.064016Z",
     "iopub.status.idle": "2023-08-26T02:46:23.405694Z",
     "shell.execute_reply": "2023-08-26T02:46:23.404317Z",
     "shell.execute_reply.started": "2023-08-26T02:46:15.064395Z"
    },
    "id": "PxLoYdjImDsy",
    "outputId": "9f1e0505-65aa-4ad8-c629-507e7ba6964d"
   },
   "outputs": [
    {
     "data": {
      "text/html": [
       "<div>\n",
       "<style scoped>\n",
       "    .dataframe tbody tr th:only-of-type {\n",
       "        vertical-align: middle;\n",
       "    }\n",
       "\n",
       "    .dataframe tbody tr th {\n",
       "        vertical-align: top;\n",
       "    }\n",
       "\n",
       "    .dataframe thead th {\n",
       "        text-align: right;\n",
       "    }\n",
       "</style>\n",
       "<table border=\"1\" class=\"dataframe\">\n",
       "  <thead>\n",
       "    <tr style=\"text-align: right;\">\n",
       "      <th></th>\n",
       "      <th>InvoiceNo</th>\n",
       "      <th>StockCode</th>\n",
       "      <th>Description</th>\n",
       "      <th>Quantity</th>\n",
       "      <th>UnitPrice</th>\n",
       "      <th>Country</th>\n",
       "      <th>Sales</th>\n",
       "      <th>InvoiceDate</th>\n",
       "      <th>QuantityInv</th>\n",
       "      <th>QuantityRange</th>\n",
       "      <th>PriceRange</th>\n",
       "    </tr>\n",
       "  </thead>\n",
       "  <tbody>\n",
       "    <tr>\n",
       "      <td>0</td>\n",
       "      <td>536365</td>\n",
       "      <td>85123A</td>\n",
       "      <td>WHITE HANGING HEART T-LIGHT HOLDER</td>\n",
       "      <td>6</td>\n",
       "      <td>2.55</td>\n",
       "      <td>United Kingdom</td>\n",
       "      <td>15.30</td>\n",
       "      <td>2010-12-01 08:26:00</td>\n",
       "      <td>40</td>\n",
       "      <td>(5, 8]</td>\n",
       "      <td>(2, 3]</td>\n",
       "    </tr>\n",
       "    <tr>\n",
       "      <td>1</td>\n",
       "      <td>536365</td>\n",
       "      <td>71053</td>\n",
       "      <td>WHITE METAL LANTERN</td>\n",
       "      <td>6</td>\n",
       "      <td>3.39</td>\n",
       "      <td>United Kingdom</td>\n",
       "      <td>20.34</td>\n",
       "      <td>2010-12-01 08:26:00</td>\n",
       "      <td>40</td>\n",
       "      <td>(5, 8]</td>\n",
       "      <td>(3, 4]</td>\n",
       "    </tr>\n",
       "    <tr>\n",
       "      <td>2</td>\n",
       "      <td>536365</td>\n",
       "      <td>84406B</td>\n",
       "      <td>CREAM CUPID HEARTS COAT HANGER</td>\n",
       "      <td>8</td>\n",
       "      <td>2.75</td>\n",
       "      <td>United Kingdom</td>\n",
       "      <td>22.00</td>\n",
       "      <td>2010-12-01 08:26:00</td>\n",
       "      <td>40</td>\n",
       "      <td>(5, 8]</td>\n",
       "      <td>(2, 3]</td>\n",
       "    </tr>\n",
       "    <tr>\n",
       "      <td>3</td>\n",
       "      <td>536365</td>\n",
       "      <td>84029G</td>\n",
       "      <td>KNITTED UNION FLAG HOT WATER BOTTLE</td>\n",
       "      <td>6</td>\n",
       "      <td>3.39</td>\n",
       "      <td>United Kingdom</td>\n",
       "      <td>20.34</td>\n",
       "      <td>2010-12-01 08:26:00</td>\n",
       "      <td>40</td>\n",
       "      <td>(5, 8]</td>\n",
       "      <td>(3, 4]</td>\n",
       "    </tr>\n",
       "    <tr>\n",
       "      <td>4</td>\n",
       "      <td>536365</td>\n",
       "      <td>84029E</td>\n",
       "      <td>RED WOOLLY HOTTIE WHITE HEART.</td>\n",
       "      <td>6</td>\n",
       "      <td>3.39</td>\n",
       "      <td>United Kingdom</td>\n",
       "      <td>20.34</td>\n",
       "      <td>2010-12-01 08:26:00</td>\n",
       "      <td>40</td>\n",
       "      <td>(5, 8]</td>\n",
       "      <td>(3, 4]</td>\n",
       "    </tr>\n",
       "  </tbody>\n",
       "</table>\n",
       "</div>"
      ],
      "text/plain": [
       "  InvoiceNo StockCode                          Description  Quantity  \\\n",
       "0    536365    85123A   WHITE HANGING HEART T-LIGHT HOLDER         6   \n",
       "1    536365     71053                  WHITE METAL LANTERN         6   \n",
       "2    536365    84406B       CREAM CUPID HEARTS COAT HANGER         8   \n",
       "3    536365    84029G  KNITTED UNION FLAG HOT WATER BOTTLE         6   \n",
       "4    536365    84029E       RED WOOLLY HOTTIE WHITE HEART.         6   \n",
       "\n",
       "   UnitPrice         Country  Sales         InvoiceDate  QuantityInv  \\\n",
       "0       2.55  United Kingdom  15.30 2010-12-01 08:26:00           40   \n",
       "1       3.39  United Kingdom  20.34 2010-12-01 08:26:00           40   \n",
       "2       2.75  United Kingdom  22.00 2010-12-01 08:26:00           40   \n",
       "3       3.39  United Kingdom  20.34 2010-12-01 08:26:00           40   \n",
       "4       3.39  United Kingdom  20.34 2010-12-01 08:26:00           40   \n",
       "\n",
       "  QuantityRange PriceRange  \n",
       "0        (5, 8]     (2, 3]  \n",
       "1        (5, 8]     (3, 4]  \n",
       "2        (5, 8]     (2, 3]  \n",
       "3        (5, 8]     (3, 4]  \n",
       "4        (5, 8]     (3, 4]  "
      ]
     },
     "execution_count": 73,
     "metadata": {},
     "output_type": "execute_result"
    }
   ],
   "source": [
    "bins_q = pd.IntervalIndex.from_tuples([(0, 2), (2, 5), (5, 8), (8, 11), (11, 14), (15, 5000)])\n",
    "df_clean['QuantityRange'] = pd.cut(df_clean['Quantity'], bins=bins_q)\n",
    "bins_p = pd.IntervalIndex.from_tuples([(0, 1), (1, 2), (2, 3), (3, 4), (4, 20)])\n",
    "df_clean['PriceRange'] = pd.cut(df_clean['UnitPrice'], bins=bins_p)\n",
    "df_clean.head()"
   ]
  },
  {
   "cell_type": "markdown",
   "metadata": {
    "id": "v66wi4HE59RQ"
   },
   "source": [
    "## 4.3. Extracting and bucketizing dates"
   ]
  },
  {
   "cell_type": "markdown",
   "metadata": {
    "id": "FOZtgaSQ6McM"
   },
   "source": [
    "We have noticed that depends on a season gifts sell differently: pick of sales is in the Q4, then it drastically drops in Q1 of the next year and continues to grow till its new pick in Q4 again. From this observation we can create another feature that could improve our model."
   ]
  },
  {
   "cell_type": "code",
   "execution_count": 74,
   "metadata": {
    "execution": {
     "iopub.execute_input": "2023-08-26T02:47:51.348770Z",
     "iopub.status.busy": "2023-08-26T02:47:51.348363Z",
     "iopub.status.idle": "2023-08-26T02:47:51.388918Z",
     "shell.execute_reply": "2023-08-26T02:47:51.387339Z",
     "shell.execute_reply.started": "2023-08-26T02:47:51.348703Z"
    },
    "id": "yBChTJkks6Pq",
    "outputId": "9ae44644-c18e-4633-8649-68cb46bad8a7"
   },
   "outputs": [
    {
     "data": {
      "text/html": [
       "<div>\n",
       "<style scoped>\n",
       "    .dataframe tbody tr th:only-of-type {\n",
       "        vertical-align: middle;\n",
       "    }\n",
       "\n",
       "    .dataframe tbody tr th {\n",
       "        vertical-align: top;\n",
       "    }\n",
       "\n",
       "    .dataframe thead th {\n",
       "        text-align: right;\n",
       "    }\n",
       "</style>\n",
       "<table border=\"1\" class=\"dataframe\">\n",
       "  <thead>\n",
       "    <tr style=\"text-align: right;\">\n",
       "      <th></th>\n",
       "      <th>InvoiceNo</th>\n",
       "      <th>StockCode</th>\n",
       "      <th>Description</th>\n",
       "      <th>Quantity</th>\n",
       "      <th>UnitPrice</th>\n",
       "      <th>Country</th>\n",
       "      <th>Sales</th>\n",
       "      <th>InvoiceDate</th>\n",
       "      <th>QuantityInv</th>\n",
       "      <th>QuantityRange</th>\n",
       "      <th>PriceRange</th>\n",
       "      <th>Month</th>\n",
       "    </tr>\n",
       "  </thead>\n",
       "  <tbody>\n",
       "    <tr>\n",
       "      <td>0</td>\n",
       "      <td>536365</td>\n",
       "      <td>85123A</td>\n",
       "      <td>WHITE HANGING HEART T-LIGHT HOLDER</td>\n",
       "      <td>6</td>\n",
       "      <td>2.55</td>\n",
       "      <td>United Kingdom</td>\n",
       "      <td>15.30</td>\n",
       "      <td>2010-12-01 08:26:00</td>\n",
       "      <td>40</td>\n",
       "      <td>(5, 8]</td>\n",
       "      <td>(2, 3]</td>\n",
       "      <td>12</td>\n",
       "    </tr>\n",
       "    <tr>\n",
       "      <td>1</td>\n",
       "      <td>536365</td>\n",
       "      <td>71053</td>\n",
       "      <td>WHITE METAL LANTERN</td>\n",
       "      <td>6</td>\n",
       "      <td>3.39</td>\n",
       "      <td>United Kingdom</td>\n",
       "      <td>20.34</td>\n",
       "      <td>2010-12-01 08:26:00</td>\n",
       "      <td>40</td>\n",
       "      <td>(5, 8]</td>\n",
       "      <td>(3, 4]</td>\n",
       "      <td>12</td>\n",
       "    </tr>\n",
       "    <tr>\n",
       "      <td>2</td>\n",
       "      <td>536365</td>\n",
       "      <td>84406B</td>\n",
       "      <td>CREAM CUPID HEARTS COAT HANGER</td>\n",
       "      <td>8</td>\n",
       "      <td>2.75</td>\n",
       "      <td>United Kingdom</td>\n",
       "      <td>22.00</td>\n",
       "      <td>2010-12-01 08:26:00</td>\n",
       "      <td>40</td>\n",
       "      <td>(5, 8]</td>\n",
       "      <td>(2, 3]</td>\n",
       "      <td>12</td>\n",
       "    </tr>\n",
       "    <tr>\n",
       "      <td>3</td>\n",
       "      <td>536365</td>\n",
       "      <td>84029G</td>\n",
       "      <td>KNITTED UNION FLAG HOT WATER BOTTLE</td>\n",
       "      <td>6</td>\n",
       "      <td>3.39</td>\n",
       "      <td>United Kingdom</td>\n",
       "      <td>20.34</td>\n",
       "      <td>2010-12-01 08:26:00</td>\n",
       "      <td>40</td>\n",
       "      <td>(5, 8]</td>\n",
       "      <td>(3, 4]</td>\n",
       "      <td>12</td>\n",
       "    </tr>\n",
       "    <tr>\n",
       "      <td>4</td>\n",
       "      <td>536365</td>\n",
       "      <td>84029E</td>\n",
       "      <td>RED WOOLLY HOTTIE WHITE HEART.</td>\n",
       "      <td>6</td>\n",
       "      <td>3.39</td>\n",
       "      <td>United Kingdom</td>\n",
       "      <td>20.34</td>\n",
       "      <td>2010-12-01 08:26:00</td>\n",
       "      <td>40</td>\n",
       "      <td>(5, 8]</td>\n",
       "      <td>(3, 4]</td>\n",
       "      <td>12</td>\n",
       "    </tr>\n",
       "  </tbody>\n",
       "</table>\n",
       "</div>"
      ],
      "text/plain": [
       "  InvoiceNo StockCode                          Description  Quantity  \\\n",
       "0    536365    85123A   WHITE HANGING HEART T-LIGHT HOLDER         6   \n",
       "1    536365     71053                  WHITE METAL LANTERN         6   \n",
       "2    536365    84406B       CREAM CUPID HEARTS COAT HANGER         8   \n",
       "3    536365    84029G  KNITTED UNION FLAG HOT WATER BOTTLE         6   \n",
       "4    536365    84029E       RED WOOLLY HOTTIE WHITE HEART.         6   \n",
       "\n",
       "   UnitPrice         Country  Sales         InvoiceDate  QuantityInv  \\\n",
       "0       2.55  United Kingdom  15.30 2010-12-01 08:26:00           40   \n",
       "1       3.39  United Kingdom  20.34 2010-12-01 08:26:00           40   \n",
       "2       2.75  United Kingdom  22.00 2010-12-01 08:26:00           40   \n",
       "3       3.39  United Kingdom  20.34 2010-12-01 08:26:00           40   \n",
       "4       3.39  United Kingdom  20.34 2010-12-01 08:26:00           40   \n",
       "\n",
       "  QuantityRange PriceRange  Month  \n",
       "0        (5, 8]     (2, 3]     12  \n",
       "1        (5, 8]     (3, 4]     12  \n",
       "2        (5, 8]     (2, 3]     12  \n",
       "3        (5, 8]     (3, 4]     12  \n",
       "4        (5, 8]     (3, 4]     12  "
      ]
     },
     "execution_count": 74,
     "metadata": {},
     "output_type": "execute_result"
    }
   ],
   "source": [
    "df_clean['Month'] = df_clean['InvoiceDate'].dt.month\n",
    "df_clean.head()"
   ]
  },
  {
   "cell_type": "code",
   "execution_count": 75,
   "metadata": {
    "execution": {
     "iopub.execute_input": "2023-08-26T02:59:19.399437Z",
     "iopub.status.busy": "2023-08-26T02:59:19.398827Z",
     "iopub.status.idle": "2023-08-26T02:59:22.597956Z",
     "shell.execute_reply": "2023-08-26T02:59:22.596425Z",
     "shell.execute_reply.started": "2023-08-26T02:59:19.399361Z"
    }
   },
   "outputs": [
    {
     "data": {
      "text/plain": [
       "0         (9, 12]\n",
       "1         (9, 12]\n",
       "2         (9, 12]\n",
       "3         (9, 12]\n",
       "4         (9, 12]\n",
       "           ...   \n",
       "520388    (9, 12]\n",
       "520389    (9, 12]\n",
       "520390    (9, 12]\n",
       "520391    (9, 12]\n",
       "520392    (9, 12]\n",
       "Name: Month, Length: 520393, dtype: category\n",
       "Categories (4, interval[int64]): [(0, 3] < (3, 6] < (6, 9] < (9, 12]]"
      ]
     },
     "execution_count": 75,
     "metadata": {},
     "output_type": "execute_result"
    }
   ],
   "source": [
    "pd.cut(df_clean['Month'], bins=pd.IntervalIndex.from_tuples([(0,3),(3,6),(6,9),(9,12)]), labels=['q1','q2','q3','q4'])"
   ]
  },
  {
   "cell_type": "code",
   "execution_count": 76,
   "metadata": {
    "execution": {
     "iopub.execute_input": "2023-08-26T02:47:51.561655Z",
     "iopub.status.busy": "2023-08-26T02:47:51.561281Z",
     "iopub.status.idle": "2023-08-26T02:47:54.762871Z",
     "shell.execute_reply": "2023-08-26T02:47:54.761492Z",
     "shell.execute_reply.started": "2023-08-26T02:47:51.561602Z"
    },
    "id": "jxsN8XZVqmgU",
    "outputId": "b4e4d754-b9b9-4707-8eb1-db31303cf422"
   },
   "outputs": [
    {
     "data": {
      "text/html": [
       "<div>\n",
       "<style scoped>\n",
       "    .dataframe tbody tr th:only-of-type {\n",
       "        vertical-align: middle;\n",
       "    }\n",
       "\n",
       "    .dataframe tbody tr th {\n",
       "        vertical-align: top;\n",
       "    }\n",
       "\n",
       "    .dataframe thead th {\n",
       "        text-align: right;\n",
       "    }\n",
       "</style>\n",
       "<table border=\"1\" class=\"dataframe\">\n",
       "  <thead>\n",
       "    <tr style=\"text-align: right;\">\n",
       "      <th></th>\n",
       "      <th>InvoiceNo</th>\n",
       "      <th>StockCode</th>\n",
       "      <th>Description</th>\n",
       "      <th>Quantity</th>\n",
       "      <th>UnitPrice</th>\n",
       "      <th>Country</th>\n",
       "      <th>Sales</th>\n",
       "      <th>InvoiceDate</th>\n",
       "      <th>QuantityInv</th>\n",
       "      <th>QuantityRange</th>\n",
       "      <th>PriceRange</th>\n",
       "      <th>Month</th>\n",
       "      <th>DateRange</th>\n",
       "    </tr>\n",
       "  </thead>\n",
       "  <tbody>\n",
       "    <tr>\n",
       "      <td>520388</td>\n",
       "      <td>581587</td>\n",
       "      <td>22613</td>\n",
       "      <td>PACK OF 20 SPACEBOY NAPKINS</td>\n",
       "      <td>12</td>\n",
       "      <td>0.85</td>\n",
       "      <td>France</td>\n",
       "      <td>10.20</td>\n",
       "      <td>2011-12-09 12:50:00</td>\n",
       "      <td>105</td>\n",
       "      <td>(11, 14]</td>\n",
       "      <td>(0, 1]</td>\n",
       "      <td>12</td>\n",
       "      <td>(9, 12]</td>\n",
       "    </tr>\n",
       "    <tr>\n",
       "      <td>520389</td>\n",
       "      <td>581587</td>\n",
       "      <td>22899</td>\n",
       "      <td>CHILDREN'S APRON DOLLY GIRL</td>\n",
       "      <td>6</td>\n",
       "      <td>2.10</td>\n",
       "      <td>France</td>\n",
       "      <td>12.60</td>\n",
       "      <td>2011-12-09 12:50:00</td>\n",
       "      <td>105</td>\n",
       "      <td>(5, 8]</td>\n",
       "      <td>(2, 3]</td>\n",
       "      <td>12</td>\n",
       "      <td>(9, 12]</td>\n",
       "    </tr>\n",
       "    <tr>\n",
       "      <td>520390</td>\n",
       "      <td>581587</td>\n",
       "      <td>23254</td>\n",
       "      <td>CHILDRENS CUTLERY DOLLY GIRL</td>\n",
       "      <td>4</td>\n",
       "      <td>4.15</td>\n",
       "      <td>France</td>\n",
       "      <td>16.60</td>\n",
       "      <td>2011-12-09 12:50:00</td>\n",
       "      <td>105</td>\n",
       "      <td>(2, 5]</td>\n",
       "      <td>(4, 20]</td>\n",
       "      <td>12</td>\n",
       "      <td>(9, 12]</td>\n",
       "    </tr>\n",
       "    <tr>\n",
       "      <td>520391</td>\n",
       "      <td>581587</td>\n",
       "      <td>23255</td>\n",
       "      <td>CHILDRENS CUTLERY CIRCUS PARADE</td>\n",
       "      <td>4</td>\n",
       "      <td>4.15</td>\n",
       "      <td>France</td>\n",
       "      <td>16.60</td>\n",
       "      <td>2011-12-09 12:50:00</td>\n",
       "      <td>105</td>\n",
       "      <td>(2, 5]</td>\n",
       "      <td>(4, 20]</td>\n",
       "      <td>12</td>\n",
       "      <td>(9, 12]</td>\n",
       "    </tr>\n",
       "    <tr>\n",
       "      <td>520392</td>\n",
       "      <td>581587</td>\n",
       "      <td>22138</td>\n",
       "      <td>BAKING SET 9 PIECE RETROSPOT</td>\n",
       "      <td>3</td>\n",
       "      <td>4.95</td>\n",
       "      <td>France</td>\n",
       "      <td>14.85</td>\n",
       "      <td>2011-12-09 12:50:00</td>\n",
       "      <td>105</td>\n",
       "      <td>(2, 5]</td>\n",
       "      <td>(4, 20]</td>\n",
       "      <td>12</td>\n",
       "      <td>(9, 12]</td>\n",
       "    </tr>\n",
       "  </tbody>\n",
       "</table>\n",
       "</div>"
      ],
      "text/plain": [
       "       InvoiceNo StockCode                      Description  Quantity  \\\n",
       "520388    581587     22613      PACK OF 20 SPACEBOY NAPKINS        12   \n",
       "520389    581587     22899     CHILDREN'S APRON DOLLY GIRL          6   \n",
       "520390    581587     23254    CHILDRENS CUTLERY DOLLY GIRL          4   \n",
       "520391    581587     23255  CHILDRENS CUTLERY CIRCUS PARADE         4   \n",
       "520392    581587     22138    BAKING SET 9 PIECE RETROSPOT          3   \n",
       "\n",
       "        UnitPrice Country  Sales         InvoiceDate  QuantityInv  \\\n",
       "520388       0.85  France  10.20 2011-12-09 12:50:00          105   \n",
       "520389       2.10  France  12.60 2011-12-09 12:50:00          105   \n",
       "520390       4.15  France  16.60 2011-12-09 12:50:00          105   \n",
       "520391       4.15  France  16.60 2011-12-09 12:50:00          105   \n",
       "520392       4.95  France  14.85 2011-12-09 12:50:00          105   \n",
       "\n",
       "       QuantityRange PriceRange  Month DateRange  \n",
       "520388      (11, 14]     (0, 1]     12   (9, 12]  \n",
       "520389        (5, 8]     (2, 3]     12   (9, 12]  \n",
       "520390        (2, 5]    (4, 20]     12   (9, 12]  \n",
       "520391        (2, 5]    (4, 20]     12   (9, 12]  \n",
       "520392        (2, 5]    (4, 20]     12   (9, 12]  "
      ]
     },
     "execution_count": 76,
     "metadata": {},
     "output_type": "execute_result"
    }
   ],
   "source": [
    "bins_d = pd.IntervalIndex.from_tuples([(0,3),(3,6),(6,9),(9,12)])\n",
    "df_clean['DateRange'] = pd.cut(df_clean['Month'], bins=bins_d, labels=['q1','q2','q3','q4'])\n",
    "df_clean.tail()"
   ]
  },
  {
   "cell_type": "markdown",
   "metadata": {
    "id": "VV_-KJsD8AMi"
   },
   "source": [
    "# 5. Building a model"
   ]
  },
  {
   "cell_type": "markdown",
   "metadata": {
    "id": "zoj-cC6N6wHN"
   },
   "source": [
    "## 5.1. Splitting data into UK and non-UK"
   ]
  },
  {
   "cell_type": "markdown",
   "metadata": {
    "id": "LCuO7Bdz64di"
   },
   "source": [
    "We have to analyze these 2 datasets separately to have more standardized data for a model, because there can be some patterns that work for other countries and do not for UK or vise versa. Also a hypothesis to test - does the model built for UK performs good on data for other countries? "
   ]
  },
  {
   "cell_type": "code",
   "execution_count": 77,
   "metadata": {
    "execution": {
     "iopub.execute_input": "2023-08-26T03:00:25.223866Z",
     "iopub.status.busy": "2023-08-26T03:00:25.223492Z",
     "iopub.status.idle": "2023-08-26T03:00:25.328060Z",
     "shell.execute_reply": "2023-08-26T03:00:25.326730Z",
     "shell.execute_reply.started": "2023-08-26T03:00:25.223799Z"
    },
    "id": "xmWtfOhCvdft"
   },
   "outputs": [],
   "source": [
    "df_uk = df_clean[df_clean['Country'] == 'United Kingdom']\n",
    "df_abroad = df_clean[df_clean['Country'] != 'United Kingdom']"
   ]
  },
  {
   "cell_type": "code",
   "execution_count": 78,
   "metadata": {
    "execution": {
     "iopub.execute_input": "2023-08-26T03:00:25.846203Z",
     "iopub.status.busy": "2023-08-26T03:00:25.845727Z",
     "iopub.status.idle": "2023-08-26T03:00:25.871983Z",
     "shell.execute_reply": "2023-08-26T03:00:25.871165Z",
     "shell.execute_reply.started": "2023-08-26T03:00:25.846126Z"
    },
    "id": "Jr4lhQyFvsH0",
    "outputId": "0af6cb14-195a-460d-bfd8-212a8625520c"
   },
   "outputs": [
    {
     "data": {
      "text/html": [
       "<div>\n",
       "<style scoped>\n",
       "    .dataframe tbody tr th:only-of-type {\n",
       "        vertical-align: middle;\n",
       "    }\n",
       "\n",
       "    .dataframe tbody tr th {\n",
       "        vertical-align: top;\n",
       "    }\n",
       "\n",
       "    .dataframe thead th {\n",
       "        text-align: right;\n",
       "    }\n",
       "</style>\n",
       "<table border=\"1\" class=\"dataframe\">\n",
       "  <thead>\n",
       "    <tr style=\"text-align: right;\">\n",
       "      <th></th>\n",
       "      <th>InvoiceNo</th>\n",
       "      <th>StockCode</th>\n",
       "      <th>Description</th>\n",
       "      <th>Quantity</th>\n",
       "      <th>UnitPrice</th>\n",
       "      <th>Country</th>\n",
       "      <th>Sales</th>\n",
       "      <th>InvoiceDate</th>\n",
       "      <th>QuantityInv</th>\n",
       "      <th>QuantityRange</th>\n",
       "      <th>PriceRange</th>\n",
       "      <th>Month</th>\n",
       "      <th>DateRange</th>\n",
       "    </tr>\n",
       "  </thead>\n",
       "  <tbody>\n",
       "    <tr>\n",
       "      <td>0</td>\n",
       "      <td>536365</td>\n",
       "      <td>85123A</td>\n",
       "      <td>WHITE HANGING HEART T-LIGHT HOLDER</td>\n",
       "      <td>6</td>\n",
       "      <td>2.55</td>\n",
       "      <td>United Kingdom</td>\n",
       "      <td>15.30</td>\n",
       "      <td>2010-12-01 08:26:00</td>\n",
       "      <td>40</td>\n",
       "      <td>(5, 8]</td>\n",
       "      <td>(2, 3]</td>\n",
       "      <td>12</td>\n",
       "      <td>(9, 12]</td>\n",
       "    </tr>\n",
       "    <tr>\n",
       "      <td>1</td>\n",
       "      <td>536365</td>\n",
       "      <td>71053</td>\n",
       "      <td>WHITE METAL LANTERN</td>\n",
       "      <td>6</td>\n",
       "      <td>3.39</td>\n",
       "      <td>United Kingdom</td>\n",
       "      <td>20.34</td>\n",
       "      <td>2010-12-01 08:26:00</td>\n",
       "      <td>40</td>\n",
       "      <td>(5, 8]</td>\n",
       "      <td>(3, 4]</td>\n",
       "      <td>12</td>\n",
       "      <td>(9, 12]</td>\n",
       "    </tr>\n",
       "    <tr>\n",
       "      <td>2</td>\n",
       "      <td>536365</td>\n",
       "      <td>84406B</td>\n",
       "      <td>CREAM CUPID HEARTS COAT HANGER</td>\n",
       "      <td>8</td>\n",
       "      <td>2.75</td>\n",
       "      <td>United Kingdom</td>\n",
       "      <td>22.00</td>\n",
       "      <td>2010-12-01 08:26:00</td>\n",
       "      <td>40</td>\n",
       "      <td>(5, 8]</td>\n",
       "      <td>(2, 3]</td>\n",
       "      <td>12</td>\n",
       "      <td>(9, 12]</td>\n",
       "    </tr>\n",
       "    <tr>\n",
       "      <td>3</td>\n",
       "      <td>536365</td>\n",
       "      <td>84029G</td>\n",
       "      <td>KNITTED UNION FLAG HOT WATER BOTTLE</td>\n",
       "      <td>6</td>\n",
       "      <td>3.39</td>\n",
       "      <td>United Kingdom</td>\n",
       "      <td>20.34</td>\n",
       "      <td>2010-12-01 08:26:00</td>\n",
       "      <td>40</td>\n",
       "      <td>(5, 8]</td>\n",
       "      <td>(3, 4]</td>\n",
       "      <td>12</td>\n",
       "      <td>(9, 12]</td>\n",
       "    </tr>\n",
       "    <tr>\n",
       "      <td>4</td>\n",
       "      <td>536365</td>\n",
       "      <td>84029E</td>\n",
       "      <td>RED WOOLLY HOTTIE WHITE HEART.</td>\n",
       "      <td>6</td>\n",
       "      <td>3.39</td>\n",
       "      <td>United Kingdom</td>\n",
       "      <td>20.34</td>\n",
       "      <td>2010-12-01 08:26:00</td>\n",
       "      <td>40</td>\n",
       "      <td>(5, 8]</td>\n",
       "      <td>(3, 4]</td>\n",
       "      <td>12</td>\n",
       "      <td>(9, 12]</td>\n",
       "    </tr>\n",
       "  </tbody>\n",
       "</table>\n",
       "</div>"
      ],
      "text/plain": [
       "  InvoiceNo StockCode                          Description  Quantity  \\\n",
       "0    536365    85123A   WHITE HANGING HEART T-LIGHT HOLDER         6   \n",
       "1    536365     71053                  WHITE METAL LANTERN         6   \n",
       "2    536365    84406B       CREAM CUPID HEARTS COAT HANGER         8   \n",
       "3    536365    84029G  KNITTED UNION FLAG HOT WATER BOTTLE         6   \n",
       "4    536365    84029E       RED WOOLLY HOTTIE WHITE HEART.         6   \n",
       "\n",
       "   UnitPrice         Country  Sales         InvoiceDate  QuantityInv  \\\n",
       "0       2.55  United Kingdom  15.30 2010-12-01 08:26:00           40   \n",
       "1       3.39  United Kingdom  20.34 2010-12-01 08:26:00           40   \n",
       "2       2.75  United Kingdom  22.00 2010-12-01 08:26:00           40   \n",
       "3       3.39  United Kingdom  20.34 2010-12-01 08:26:00           40   \n",
       "4       3.39  United Kingdom  20.34 2010-12-01 08:26:00           40   \n",
       "\n",
       "  QuantityRange PriceRange  Month DateRange  \n",
       "0        (5, 8]     (2, 3]     12   (9, 12]  \n",
       "1        (5, 8]     (3, 4]     12   (9, 12]  \n",
       "2        (5, 8]     (2, 3]     12   (9, 12]  \n",
       "3        (5, 8]     (3, 4]     12   (9, 12]  \n",
       "4        (5, 8]     (3, 4]     12   (9, 12]  "
      ]
     },
     "execution_count": 78,
     "metadata": {},
     "output_type": "execute_result"
    }
   ],
   "source": [
    "df_uk.head()"
   ]
  },
  {
   "cell_type": "markdown",
   "metadata": {
    "id": "7m7-iaA-8HMk"
   },
   "source": [
    "## 5.2. Extracting features and creating dummy variables"
   ]
  },
  {
   "cell_type": "code",
   "execution_count": 79,
   "metadata": {
    "execution": {
     "iopub.execute_input": "2023-08-26T03:00:29.437135Z",
     "iopub.status.busy": "2023-08-26T03:00:29.436691Z",
     "iopub.status.idle": "2023-08-26T03:00:29.464077Z",
     "shell.execute_reply": "2023-08-26T03:00:29.462647Z",
     "shell.execute_reply.started": "2023-08-26T03:00:29.437059Z"
    },
    "id": "0J8hPy4HwW0X",
    "outputId": "b11bc87e-524c-49fe-cdab-c75f697166c1"
   },
   "outputs": [
    {
     "data": {
      "text/html": [
       "<div>\n",
       "<style scoped>\n",
       "    .dataframe tbody tr th:only-of-type {\n",
       "        vertical-align: middle;\n",
       "    }\n",
       "\n",
       "    .dataframe tbody tr th {\n",
       "        vertical-align: top;\n",
       "    }\n",
       "\n",
       "    .dataframe thead th {\n",
       "        text-align: right;\n",
       "    }\n",
       "</style>\n",
       "<table border=\"1\" class=\"dataframe\">\n",
       "  <thead>\n",
       "    <tr style=\"text-align: right;\">\n",
       "      <th></th>\n",
       "      <th>Sales</th>\n",
       "      <th>QuantityInv</th>\n",
       "      <th>QuantityRange</th>\n",
       "      <th>PriceRange</th>\n",
       "      <th>DateRange</th>\n",
       "    </tr>\n",
       "  </thead>\n",
       "  <tbody>\n",
       "    <tr>\n",
       "      <td>0</td>\n",
       "      <td>15.30</td>\n",
       "      <td>40</td>\n",
       "      <td>(5, 8]</td>\n",
       "      <td>(2, 3]</td>\n",
       "      <td>(9, 12]</td>\n",
       "    </tr>\n",
       "    <tr>\n",
       "      <td>1</td>\n",
       "      <td>20.34</td>\n",
       "      <td>40</td>\n",
       "      <td>(5, 8]</td>\n",
       "      <td>(3, 4]</td>\n",
       "      <td>(9, 12]</td>\n",
       "    </tr>\n",
       "    <tr>\n",
       "      <td>2</td>\n",
       "      <td>22.00</td>\n",
       "      <td>40</td>\n",
       "      <td>(5, 8]</td>\n",
       "      <td>(2, 3]</td>\n",
       "      <td>(9, 12]</td>\n",
       "    </tr>\n",
       "    <tr>\n",
       "      <td>3</td>\n",
       "      <td>20.34</td>\n",
       "      <td>40</td>\n",
       "      <td>(5, 8]</td>\n",
       "      <td>(3, 4]</td>\n",
       "      <td>(9, 12]</td>\n",
       "    </tr>\n",
       "    <tr>\n",
       "      <td>4</td>\n",
       "      <td>20.34</td>\n",
       "      <td>40</td>\n",
       "      <td>(5, 8]</td>\n",
       "      <td>(3, 4]</td>\n",
       "      <td>(9, 12]</td>\n",
       "    </tr>\n",
       "  </tbody>\n",
       "</table>\n",
       "</div>"
      ],
      "text/plain": [
       "   Sales  QuantityInv QuantityRange PriceRange DateRange\n",
       "0  15.30           40        (5, 8]     (2, 3]   (9, 12]\n",
       "1  20.34           40        (5, 8]     (3, 4]   (9, 12]\n",
       "2  22.00           40        (5, 8]     (2, 3]   (9, 12]\n",
       "3  20.34           40        (5, 8]     (3, 4]   (9, 12]\n",
       "4  20.34           40        (5, 8]     (3, 4]   (9, 12]"
      ]
     },
     "execution_count": 79,
     "metadata": {},
     "output_type": "execute_result"
    }
   ],
   "source": [
    "df_uk_model = df_uk[['Sales', 'QuantityInv', 'QuantityRange', 'PriceRange', 'DateRange']]\n",
    "df_uk_model.head()"
   ]
  },
  {
   "cell_type": "code",
   "execution_count": 80,
   "metadata": {
    "execution": {
     "iopub.execute_input": "2023-08-26T04:07:13.931939Z",
     "iopub.status.busy": "2023-08-26T04:07:13.931593Z",
     "iopub.status.idle": "2023-08-26T04:07:13.987134Z",
     "shell.execute_reply": "2023-08-26T04:07:13.985940Z",
     "shell.execute_reply.started": "2023-08-26T04:07:13.931876Z"
    }
   },
   "outputs": [
    {
     "data": {
      "text/html": [
       "<div>\n",
       "<style scoped>\n",
       "    .dataframe tbody tr th:only-of-type {\n",
       "        vertical-align: middle;\n",
       "    }\n",
       "\n",
       "    .dataframe tbody tr th {\n",
       "        vertical-align: top;\n",
       "    }\n",
       "\n",
       "    .dataframe thead th {\n",
       "        text-align: right;\n",
       "    }\n",
       "</style>\n",
       "<table border=\"1\" class=\"dataframe\">\n",
       "  <thead>\n",
       "    <tr style=\"text-align: right;\">\n",
       "      <th></th>\n",
       "      <th>Sales</th>\n",
       "      <th>QuantityInv</th>\n",
       "      <th>PriceRange</th>\n",
       "      <th>DateRange</th>\n",
       "      <th>qr_(0, 2]</th>\n",
       "      <th>qr_(2, 5]</th>\n",
       "      <th>qr_(5, 8]</th>\n",
       "      <th>qr_(8, 11]</th>\n",
       "      <th>qr_(11, 14]</th>\n",
       "      <th>qr_(15, 5000]</th>\n",
       "    </tr>\n",
       "  </thead>\n",
       "  <tbody>\n",
       "    <tr>\n",
       "      <td>0</td>\n",
       "      <td>15.30</td>\n",
       "      <td>40</td>\n",
       "      <td>(2, 3]</td>\n",
       "      <td>(9, 12]</td>\n",
       "      <td>0</td>\n",
       "      <td>0</td>\n",
       "      <td>1</td>\n",
       "      <td>0</td>\n",
       "      <td>0</td>\n",
       "      <td>0</td>\n",
       "    </tr>\n",
       "    <tr>\n",
       "      <td>1</td>\n",
       "      <td>20.34</td>\n",
       "      <td>40</td>\n",
       "      <td>(3, 4]</td>\n",
       "      <td>(9, 12]</td>\n",
       "      <td>0</td>\n",
       "      <td>0</td>\n",
       "      <td>1</td>\n",
       "      <td>0</td>\n",
       "      <td>0</td>\n",
       "      <td>0</td>\n",
       "    </tr>\n",
       "    <tr>\n",
       "      <td>2</td>\n",
       "      <td>22.00</td>\n",
       "      <td>40</td>\n",
       "      <td>(2, 3]</td>\n",
       "      <td>(9, 12]</td>\n",
       "      <td>0</td>\n",
       "      <td>0</td>\n",
       "      <td>1</td>\n",
       "      <td>0</td>\n",
       "      <td>0</td>\n",
       "      <td>0</td>\n",
       "    </tr>\n",
       "    <tr>\n",
       "      <td>3</td>\n",
       "      <td>20.34</td>\n",
       "      <td>40</td>\n",
       "      <td>(3, 4]</td>\n",
       "      <td>(9, 12]</td>\n",
       "      <td>0</td>\n",
       "      <td>0</td>\n",
       "      <td>1</td>\n",
       "      <td>0</td>\n",
       "      <td>0</td>\n",
       "      <td>0</td>\n",
       "    </tr>\n",
       "    <tr>\n",
       "      <td>4</td>\n",
       "      <td>20.34</td>\n",
       "      <td>40</td>\n",
       "      <td>(3, 4]</td>\n",
       "      <td>(9, 12]</td>\n",
       "      <td>0</td>\n",
       "      <td>0</td>\n",
       "      <td>1</td>\n",
       "      <td>0</td>\n",
       "      <td>0</td>\n",
       "      <td>0</td>\n",
       "    </tr>\n",
       "    <tr>\n",
       "      <td>...</td>\n",
       "      <td>...</td>\n",
       "      <td>...</td>\n",
       "      <td>...</td>\n",
       "      <td>...</td>\n",
       "      <td>...</td>\n",
       "      <td>...</td>\n",
       "      <td>...</td>\n",
       "      <td>...</td>\n",
       "      <td>...</td>\n",
       "      <td>...</td>\n",
       "    </tr>\n",
       "    <tr>\n",
       "      <td>520373</td>\n",
       "      <td>23.40</td>\n",
       "      <td>278</td>\n",
       "      <td>(1, 2]</td>\n",
       "      <td>(9, 12]</td>\n",
       "      <td>0</td>\n",
       "      <td>0</td>\n",
       "      <td>0</td>\n",
       "      <td>0</td>\n",
       "      <td>1</td>\n",
       "      <td>0</td>\n",
       "    </tr>\n",
       "    <tr>\n",
       "      <td>520374</td>\n",
       "      <td>23.60</td>\n",
       "      <td>66</td>\n",
       "      <td>(2, 3]</td>\n",
       "      <td>(9, 12]</td>\n",
       "      <td>0</td>\n",
       "      <td>0</td>\n",
       "      <td>1</td>\n",
       "      <td>0</td>\n",
       "      <td>0</td>\n",
       "      <td>0</td>\n",
       "    </tr>\n",
       "    <tr>\n",
       "      <td>520375</td>\n",
       "      <td>30.00</td>\n",
       "      <td>66</td>\n",
       "      <td>(1, 2]</td>\n",
       "      <td>(9, 12]</td>\n",
       "      <td>0</td>\n",
       "      <td>0</td>\n",
       "      <td>0</td>\n",
       "      <td>0</td>\n",
       "      <td>0</td>\n",
       "      <td>1</td>\n",
       "    </tr>\n",
       "    <tr>\n",
       "      <td>520376</td>\n",
       "      <td>214.80</td>\n",
       "      <td>66</td>\n",
       "      <td>(4, 20]</td>\n",
       "      <td>(9, 12]</td>\n",
       "      <td>0</td>\n",
       "      <td>0</td>\n",
       "      <td>0</td>\n",
       "      <td>0</td>\n",
       "      <td>0</td>\n",
       "      <td>1</td>\n",
       "    </tr>\n",
       "    <tr>\n",
       "      <td>520377</td>\n",
       "      <td>70.80</td>\n",
       "      <td>66</td>\n",
       "      <td>(4, 20]</td>\n",
       "      <td>(9, 12]</td>\n",
       "      <td>0</td>\n",
       "      <td>0</td>\n",
       "      <td>0</td>\n",
       "      <td>1</td>\n",
       "      <td>0</td>\n",
       "      <td>0</td>\n",
       "    </tr>\n",
       "  </tbody>\n",
       "</table>\n",
       "<p>476972 rows × 10 columns</p>\n",
       "</div>"
      ],
      "text/plain": [
       "         Sales  QuantityInv PriceRange DateRange  qr_(0, 2]  qr_(2, 5]  \\\n",
       "0        15.30           40     (2, 3]   (9, 12]          0          0   \n",
       "1        20.34           40     (3, 4]   (9, 12]          0          0   \n",
       "2        22.00           40     (2, 3]   (9, 12]          0          0   \n",
       "3        20.34           40     (3, 4]   (9, 12]          0          0   \n",
       "4        20.34           40     (3, 4]   (9, 12]          0          0   \n",
       "...        ...          ...        ...       ...        ...        ...   \n",
       "520373   23.40          278     (1, 2]   (9, 12]          0          0   \n",
       "520374   23.60           66     (2, 3]   (9, 12]          0          0   \n",
       "520375   30.00           66     (1, 2]   (9, 12]          0          0   \n",
       "520376  214.80           66    (4, 20]   (9, 12]          0          0   \n",
       "520377   70.80           66    (4, 20]   (9, 12]          0          0   \n",
       "\n",
       "        qr_(5, 8]  qr_(8, 11]  qr_(11, 14]  qr_(15, 5000]  \n",
       "0               1           0            0              0  \n",
       "1               1           0            0              0  \n",
       "2               1           0            0              0  \n",
       "3               1           0            0              0  \n",
       "4               1           0            0              0  \n",
       "...           ...         ...          ...            ...  \n",
       "520373          0           0            1              0  \n",
       "520374          1           0            0              0  \n",
       "520375          0           0            0              1  \n",
       "520376          0           0            0              1  \n",
       "520377          0           1            0              0  \n",
       "\n",
       "[476972 rows x 10 columns]"
      ]
     },
     "execution_count": 80,
     "metadata": {},
     "output_type": "execute_result"
    }
   ],
   "source": [
    "pd.get_dummies(df_uk_model, columns=['QuantityRange'], prefix='qr')"
   ]
  },
  {
   "cell_type": "code",
   "execution_count": 81,
   "metadata": {
    "execution": {
     "iopub.execute_input": "2023-08-26T04:10:43.352455Z",
     "iopub.status.busy": "2023-08-26T04:10:43.352040Z",
     "iopub.status.idle": "2023-08-26T04:10:43.444340Z",
     "shell.execute_reply": "2023-08-26T04:10:43.443178Z",
     "shell.execute_reply.started": "2023-08-26T04:10:43.352403Z"
    },
    "id": "SZRq6C640Blc",
    "outputId": "5cc68aba-1928-4e80-c481-27f4b5434530"
   },
   "outputs": [
    {
     "data": {
      "text/html": [
       "<div>\n",
       "<style scoped>\n",
       "    .dataframe tbody tr th:only-of-type {\n",
       "        vertical-align: middle;\n",
       "    }\n",
       "\n",
       "    .dataframe tbody tr th {\n",
       "        vertical-align: top;\n",
       "    }\n",
       "\n",
       "    .dataframe thead th {\n",
       "        text-align: right;\n",
       "    }\n",
       "</style>\n",
       "<table border=\"1\" class=\"dataframe\">\n",
       "  <thead>\n",
       "    <tr style=\"text-align: right;\">\n",
       "      <th></th>\n",
       "      <th>Sales</th>\n",
       "      <th>QuantityInv</th>\n",
       "      <th>qr_(0, 2]</th>\n",
       "      <th>qr_(2, 5]</th>\n",
       "      <th>qr_(5, 8]</th>\n",
       "      <th>qr_(8, 11]</th>\n",
       "      <th>qr_(11, 14]</th>\n",
       "      <th>qr_(15, 5000]</th>\n",
       "      <th>pr_(0, 1]</th>\n",
       "      <th>pr_(1, 2]</th>\n",
       "      <th>pr_(2, 3]</th>\n",
       "      <th>pr_(3, 4]</th>\n",
       "      <th>pr_(4, 20]</th>\n",
       "      <th>dr_(0, 3]</th>\n",
       "      <th>dr_(3, 6]</th>\n",
       "      <th>dr_(6, 9]</th>\n",
       "      <th>dr_(9, 12]</th>\n",
       "    </tr>\n",
       "  </thead>\n",
       "  <tbody>\n",
       "    <tr>\n",
       "      <td>0</td>\n",
       "      <td>15.30</td>\n",
       "      <td>40</td>\n",
       "      <td>0</td>\n",
       "      <td>0</td>\n",
       "      <td>1</td>\n",
       "      <td>0</td>\n",
       "      <td>0</td>\n",
       "      <td>0</td>\n",
       "      <td>0</td>\n",
       "      <td>0</td>\n",
       "      <td>1</td>\n",
       "      <td>0</td>\n",
       "      <td>0</td>\n",
       "      <td>0</td>\n",
       "      <td>0</td>\n",
       "      <td>0</td>\n",
       "      <td>1</td>\n",
       "    </tr>\n",
       "    <tr>\n",
       "      <td>1</td>\n",
       "      <td>20.34</td>\n",
       "      <td>40</td>\n",
       "      <td>0</td>\n",
       "      <td>0</td>\n",
       "      <td>1</td>\n",
       "      <td>0</td>\n",
       "      <td>0</td>\n",
       "      <td>0</td>\n",
       "      <td>0</td>\n",
       "      <td>0</td>\n",
       "      <td>0</td>\n",
       "      <td>1</td>\n",
       "      <td>0</td>\n",
       "      <td>0</td>\n",
       "      <td>0</td>\n",
       "      <td>0</td>\n",
       "      <td>1</td>\n",
       "    </tr>\n",
       "    <tr>\n",
       "      <td>2</td>\n",
       "      <td>22.00</td>\n",
       "      <td>40</td>\n",
       "      <td>0</td>\n",
       "      <td>0</td>\n",
       "      <td>1</td>\n",
       "      <td>0</td>\n",
       "      <td>0</td>\n",
       "      <td>0</td>\n",
       "      <td>0</td>\n",
       "      <td>0</td>\n",
       "      <td>1</td>\n",
       "      <td>0</td>\n",
       "      <td>0</td>\n",
       "      <td>0</td>\n",
       "      <td>0</td>\n",
       "      <td>0</td>\n",
       "      <td>1</td>\n",
       "    </tr>\n",
       "    <tr>\n",
       "      <td>3</td>\n",
       "      <td>20.34</td>\n",
       "      <td>40</td>\n",
       "      <td>0</td>\n",
       "      <td>0</td>\n",
       "      <td>1</td>\n",
       "      <td>0</td>\n",
       "      <td>0</td>\n",
       "      <td>0</td>\n",
       "      <td>0</td>\n",
       "      <td>0</td>\n",
       "      <td>0</td>\n",
       "      <td>1</td>\n",
       "      <td>0</td>\n",
       "      <td>0</td>\n",
       "      <td>0</td>\n",
       "      <td>0</td>\n",
       "      <td>1</td>\n",
       "    </tr>\n",
       "    <tr>\n",
       "      <td>4</td>\n",
       "      <td>20.34</td>\n",
       "      <td>40</td>\n",
       "      <td>0</td>\n",
       "      <td>0</td>\n",
       "      <td>1</td>\n",
       "      <td>0</td>\n",
       "      <td>0</td>\n",
       "      <td>0</td>\n",
       "      <td>0</td>\n",
       "      <td>0</td>\n",
       "      <td>0</td>\n",
       "      <td>1</td>\n",
       "      <td>0</td>\n",
       "      <td>0</td>\n",
       "      <td>0</td>\n",
       "      <td>0</td>\n",
       "      <td>1</td>\n",
       "    </tr>\n",
       "  </tbody>\n",
       "</table>\n",
       "</div>"
      ],
      "text/plain": [
       "   Sales  QuantityInv  qr_(0, 2]  qr_(2, 5]  qr_(5, 8]  qr_(8, 11]  \\\n",
       "0  15.30           40          0          0          1           0   \n",
       "1  20.34           40          0          0          1           0   \n",
       "2  22.00           40          0          0          1           0   \n",
       "3  20.34           40          0          0          1           0   \n",
       "4  20.34           40          0          0          1           0   \n",
       "\n",
       "   qr_(11, 14]  qr_(15, 5000]  pr_(0, 1]  pr_(1, 2]  pr_(2, 3]  pr_(3, 4]  \\\n",
       "0            0              0          0          0          1          0   \n",
       "1            0              0          0          0          0          1   \n",
       "2            0              0          0          0          1          0   \n",
       "3            0              0          0          0          0          1   \n",
       "4            0              0          0          0          0          1   \n",
       "\n",
       "   pr_(4, 20]  dr_(0, 3]  dr_(3, 6]  dr_(6, 9]  dr_(9, 12]  \n",
       "0           0          0          0          0           1  \n",
       "1           0          0          0          0           1  \n",
       "2           0          0          0          0           1  \n",
       "3           0          0          0          0           1  \n",
       "4           0          0          0          0           1  "
      ]
     },
     "execution_count": 81,
     "metadata": {},
     "output_type": "execute_result"
    }
   ],
   "source": [
    "df_data = df_uk_model.copy()\n",
    "df_data = pd.get_dummies(df_data, columns=['QuantityRange'], prefix='qr')\n",
    "df_data = pd.get_dummies(df_data, columns=['PriceRange'], prefix='pr')\n",
    "df_data = pd.get_dummies(df_data, columns=['DateRange'], prefix='dr')\n",
    "df_data.head()"
   ]
  },
  {
   "cell_type": "markdown",
   "metadata": {
    "id": "f-SPb1vS8WJp"
   },
   "source": [
    "## 5.3. Scaling"
   ]
  },
  {
   "cell_type": "markdown",
   "metadata": {},
   "source": [
    "As the majority of our features are in 0-1 range it would make sense to scale \"QuantityInv\" feature too. In general, scaling features is normally a good idea."
   ]
  },
  {
   "cell_type": "code",
   "execution_count": 82,
   "metadata": {
    "execution": {
     "iopub.execute_input": "2023-08-26T04:10:44.856444Z",
     "iopub.status.busy": "2023-08-26T04:10:44.856136Z",
     "iopub.status.idle": "2023-08-26T04:10:44.871833Z",
     "shell.execute_reply": "2023-08-26T04:10:44.871197Z",
     "shell.execute_reply.started": "2023-08-26T04:10:44.856393Z"
    },
    "id": "pZknqQll1XwF"
   },
   "outputs": [],
   "source": [
    "from sklearn.preprocessing import scale\n",
    "df_data['QuantityInv'] = scale(df_data['QuantityInv'])"
   ]
  },
  {
   "cell_type": "markdown",
   "metadata": {
    "id": "ubjfXWh18gyd"
   },
   "source": [
    "## 5.4. Train-Test Split"
   ]
  },
  {
   "cell_type": "markdown",
   "metadata": {},
   "source": [
    "Now we have to split our data into train-test data to be able to train our model and validate its capabilities."
   ]
  },
  {
   "cell_type": "code",
   "execution_count": 83,
   "metadata": {
    "execution": {
     "iopub.execute_input": "2023-08-26T04:17:10.866790Z",
     "iopub.status.busy": "2023-08-26T04:17:10.866453Z",
     "iopub.status.idle": "2023-08-26T04:17:10.882792Z",
     "shell.execute_reply": "2023-08-26T04:17:10.881789Z",
     "shell.execute_reply.started": "2023-08-26T04:17:10.866735Z"
    },
    "id": "PzvfoUoP1x3_"
   },
   "outputs": [],
   "source": [
    "y = df_data['Sales']\n",
    "X = df_data.drop(columns=['Sales'])"
   ]
  },
  {
   "cell_type": "code",
   "execution_count": 84,
   "metadata": {
    "execution": {
     "iopub.execute_input": "2023-08-26T04:17:11.087914Z",
     "iopub.status.busy": "2023-08-26T04:17:11.087539Z",
     "iopub.status.idle": "2023-08-26T04:17:11.153208Z",
     "shell.execute_reply": "2023-08-26T04:17:11.151678Z",
     "shell.execute_reply.started": "2023-08-26T04:17:11.087832Z"
    },
    "id": "PgddlfS31-EG"
   },
   "outputs": [],
   "source": [
    "from sklearn.model_selection import train_test_split\n",
    "X_train, X_test, y_train, y_test = train_test_split(X, y, test_size = 0.20, random_state=42)"
   ]
  },
  {
   "cell_type": "code",
   "execution_count": 85,
   "metadata": {
    "execution": {
     "iopub.execute_input": "2023-08-26T04:20:20.667629Z",
     "iopub.status.busy": "2023-08-26T04:20:20.667352Z",
     "iopub.status.idle": "2023-08-26T04:22:50.576519Z",
     "shell.execute_reply": "2023-08-26T04:22:50.574529Z",
     "shell.execute_reply.started": "2023-08-26T04:20:20.667589Z"
    }
   },
   "outputs": [
    {
     "name": "stdout",
     "output_type": "stream",
     "text": [
      "Collecting lazypredict\r\n",
      "\u001b[33m  WARNING: Retrying (Retry(total=4, connect=None, read=None, redirect=None, status=None)) after connection broken by 'NewConnectionError('<pip._vendor.urllib3.connection.VerifiedHTTPSConnection object at 0x7e47c5420550>: Failed to establish a new connection: [Errno -3] Temporary failure in name resolution',)': /simple/lazypredict/\u001b[0m\r\n",
      "\u001b[33m  WARNING: Retrying (Retry(total=3, connect=None, read=None, redirect=None, status=None)) after connection broken by 'NewConnectionError('<pip._vendor.urllib3.connection.VerifiedHTTPSConnection object at 0x7e47c5420630>: Failed to establish a new connection: [Errno -3] Temporary failure in name resolution',)': /simple/lazypredict/\u001b[0m\r\n",
      "\u001b[33m  WARNING: Retrying (Retry(total=2, connect=None, read=None, redirect=None, status=None)) after connection broken by 'NewConnectionError('<pip._vendor.urllib3.connection.VerifiedHTTPSConnection object at 0x7e47c5420898>: Failed to establish a new connection: [Errno -3] Temporary failure in name resolution',)': /simple/lazypredict/\u001b[0m\r\n",
      "\u001b[33m  WARNING: Retrying (Retry(total=1, connect=None, read=None, redirect=None, status=None)) after connection broken by 'NewConnectionError('<pip._vendor.urllib3.connection.VerifiedHTTPSConnection object at 0x7e47c5420cf8>: Failed to establish a new connection: [Errno -3] Temporary failure in name resolution',)': /simple/lazypredict/\u001b[0m\r\n",
      "\u001b[33m  WARNING: Retrying (Retry(total=0, connect=None, read=None, redirect=None, status=None)) after connection broken by 'NewConnectionError('<pip._vendor.urllib3.connection.VerifiedHTTPSConnection object at 0x7e47c5420160>: Failed to establish a new connection: [Errno -3] Temporary failure in name resolution',)': /simple/lazypredict/\u001b[0m\r\n",
      "\u001b[31m  ERROR: Could not find a version that satisfies the requirement lazypredict (from versions: none)\u001b[0m\r\n",
      "\u001b[31mERROR: No matching distribution found for lazypredict\u001b[0m\r\n",
      "Note: you may need to restart the kernel to use updated packages.\n"
     ]
    }
   ],
   "source": [
    "pip install lazypredict"
   ]
  },
  {
   "cell_type": "markdown",
   "metadata": {
    "id": "PuVn7UAz8vU0"
   },
   "source": [
    "## 5.5. Testing and validating different models"
   ]
  },
  {
   "cell_type": "markdown",
   "metadata": {},
   "source": [
    "Here we use GridSearch and CrossValidation to test three types of regressors: Linear, DecisionTree and RandomForest. This can take a while..."
   ]
  },
  {
   "cell_type": "code",
   "execution_count": 86,
   "metadata": {
    "execution": {
     "iopub.execute_input": "2023-08-26T04:28:36.088422Z",
     "iopub.status.busy": "2023-08-26T04:28:36.088092Z",
     "iopub.status.idle": "2023-08-26T04:29:37.521761Z",
     "shell.execute_reply": "2023-08-26T04:29:37.519835Z",
     "shell.execute_reply.started": "2023-08-26T04:28:36.088352Z"
    },
    "id": "5tvAeU4J2NgQ",
    "outputId": "c2845c6a-69aa-4193-b46c-a7f1439e9c1d"
   },
   "outputs": [
    {
     "name": "stdout",
     "output_type": "stream",
     "text": [
      " === Start report for regressor LinearRegression ===\n",
      "Tuned Parameters: {'fit_intercept': True}\n",
      "Best score is 0.17425363945532055\n",
      "MAE for LinearRegression\n",
      "15.091409121285178\n",
      "MSE for LinearRegression\n",
      "3919.1063612968983\n",
      "R2 score for LinearRegression\n",
      "0.15625232653245535\n",
      " === End of report for regressor LinearRegression === \n",
      "\n",
      " === Start report for regressor DecisionTreeRegressor ===\n",
      "Tuned Parameters: {'min_samples_leaf': 2, 'min_samples_split': 2}\n",
      "Best score is 0.3812104470391774\n",
      "MAE for DecisionTreeRegressor\n",
      "6.746388300302956\n",
      "MSE for DecisionTreeRegressor\n",
      "1996.5947152292142\n",
      "R2 score for DecisionTreeRegressor\n",
      "0.5701514604276331\n",
      " === End of report for regressor DecisionTreeRegressor === \n",
      "\n",
      " === Start report for regressor RandomForest ===\n",
      "Tuned Parameters: {'min_samples_leaf': 2, 'min_samples_split': 3, 'n_estimators': 100}\n",
      "Best score is 0.4429311287861494\n",
      "MAE for RandomForest\n",
      "6.725000689164102\n",
      "MSE for RandomForest\n",
      "1929.2193094683685\n",
      "R2 score for RandomForest\n",
      "0.5846567676632433\n",
      " === End of report for regressor RandomForest === \n",
      "\n"
     ]
    }
   ],
   "source": [
    "from sklearn.model_selection import KFold\n",
    "from sklearn.linear_model import LinearRegression\n",
    "from sklearn.tree import DecisionTreeRegressor\n",
    "from sklearn.ensemble import RandomForestRegressor\n",
    "\n",
    "from sklearn.model_selection import GridSearchCV\n",
    "\n",
    "from sklearn.metrics import mean_absolute_error\n",
    "from sklearn.metrics import mean_squared_error\n",
    "from sklearn.metrics import r2_score\n",
    "\n",
    "# Linear Regression\n",
    "fit_intercepts = [True, False]\n",
    "param_grid_linear = dict(fit_intercept=fit_intercepts)\n",
    "linear_model = LinearRegression()\n",
    "\n",
    "# Decision Tree\n",
    "min_tree_splits = range(2,3)\n",
    "min_tree_leaves = range(2,3)\n",
    "param_grid_tree = dict(min_samples_split=min_tree_splits,\n",
    "                       min_samples_leaf=min_tree_leaves)\n",
    "tree_model = DecisionTreeRegressor()\n",
    "\n",
    "# Random Forest\n",
    "estimators_space = [100]\n",
    "min_sample_splits = range(2,4)\n",
    "min_sample_leaves = range(2,3)\n",
    "param_grid_forest = dict(min_samples_split=min_sample_splits,\n",
    "                       min_samples_leaf=min_sample_leaves,\n",
    "                       n_estimators=estimators_space)\n",
    "forest_model = RandomForestRegressor()\n",
    "\n",
    "cv = 5\n",
    "\n",
    "models_to_test = ['LinearRegression','DecisionTreeRegressor','RandomForest']\n",
    "regression_dict = dict(LinearRegression=linear_model,\n",
    "                       DecisionTreeRegressor=tree_model,\n",
    "                       RandomForest=forest_model)\n",
    "param_grid_dict = dict(LinearRegression=param_grid_linear,\n",
    "                       DecisionTreeRegressor=param_grid_tree,\n",
    "                       RandomForest=param_grid_forest)\n",
    "\n",
    "score_dict = {}\n",
    "params_dict = {}\n",
    "mae_dict = {}\n",
    "mse_dict = {}\n",
    "r2_dict = {}\n",
    "best_est_dict = {}\n",
    "\n",
    "for model in models_to_test:\n",
    "  regressor = GridSearchCV(regression_dict[model], param_grid_dict[model], cv=cv, n_jobs=-1)\n",
    "\n",
    "  regressor.fit(X_train, y_train)\n",
    "  y_pred = regressor.predict(X_test)\n",
    "\n",
    "  # Print the tuned parameters and score\n",
    "  print(\" === Start report for regressor {} ===\".format(model))\n",
    "  score_dict[model] = regressor.best_score_\n",
    "  print(\"Tuned Parameters: {}\".format(regressor.best_params_)) \n",
    "  params_dict = regressor.best_params_\n",
    "  print(\"Best score is {}\".format(regressor.best_score_))\n",
    "\n",
    "  # Compute metrics\n",
    "  mae_dict[model] = mean_absolute_error(y_test, y_pred)\n",
    "  print(\"MAE for {}\".format(model))\n",
    "  print(mean_absolute_error(y_test, y_pred))\n",
    "  mse_dict[model] = mean_squared_error(y_test, y_pred)\n",
    "  print(\"MSE for {}\".format(model))\n",
    "  print(mean_squared_error(y_test, y_pred))\n",
    "  r2_dict[model] = r2_score(y_test, y_pred)\n",
    "  print(\"R2 score for {}\".format(model))\n",
    "  print(r2_score(y_test, y_pred))\n",
    "  print(\" === End of report for regressor {} === \\n\".format(model))\n",
    "  \n",
    "  # Add best estimator to the dict\n",
    "  best_est_dict[model] = regressor.best_estimator_\n",
    "\n"
   ]
  },
  {
   "cell_type": "code",
   "execution_count": 87,
   "metadata": {
    "execution": {
     "iopub.status.busy": "2023-08-26T04:29:37.523254Z",
     "iopub.status.idle": "2023-08-26T04:29:37.523662Z"
    },
    "id": "SwIYIT1QC4yS",
    "outputId": "a6b94f76-815c-495e-fafc-eed8a452f409"
   },
   "outputs": [
    {
     "data": {
      "text/plain": [
       "<matplotlib.axes._subplots.AxesSubplot at 0x7fe9863c90b8>"
      ]
     },
     "execution_count": 87,
     "metadata": {},
     "output_type": "execute_result"
    },
    {
     "data": {
      "image/png": "[encoded data removed]",
      "text/plain": [
       "<Figure size 864x288 with 1 Axes>"
      ]
     },
     "metadata": {
      "needs_background": "light"
     },
     "output_type": "display_data"
    }
   ],
   "source": [
    "# Creating summary report\n",
    "summary_cols = ['Best Score']\n",
    "summary = pd.DataFrame.from_dict(r2_dict, orient='index')\n",
    "summary.index.name = 'Regressor'\n",
    "summary.columns = summary_cols\n",
    "summary = summary.reset_index()\n",
    "\n",
    "# Visualizing results\n",
    "plt.figure(figsize=(12,4))\n",
    "plt.xlabel('Best score')\n",
    "plt.title('Regressor Comparison')\n",
    "\n",
    "sns.barplot(x='Best Score', y='Regressor', data=summary)"
   ]
  },
  {
   "cell_type": "markdown",
   "metadata": {
    "id": "ns3-4B4sD5pe"
   },
   "source": [
    "# Conclusions\n"
   ]
  },
  {
   "cell_type": "markdown",
   "metadata": {
    "id": "anKJ0JZFELV4"
   },
   "source": [
    "This is a basic analysis of a transactions dataset with a model that predicts sales. Still a lot of things can be improved:\n",
    "\n",
    "\n",
    "*   Perform cluster analysis and create features based on it\n",
    "*   Make a deeper split of dates\n",
    "*   Get more insights from Descriptions and Stock numbers\n",
    "*   Compare domestic and abroad sales\n",
    "*   Try deep learning models\n",
    "\n",
    "Also we can play much more with tuning of hyperparameters of our models and give it more time for training.\n",
    "\n",
    "Random Forest Regressor appears to be the best model for our prediction with R2 score more than 0.6 which is not that bad. \n",
    "\n"
   ]
  },
  {
   "cell_type": "code",
   "execution_count": null,
   "metadata": {},
   "outputs": [],
   "source": []
  },
  {
   "cell_type": "code",
   "execution_count": null,
   "metadata": {},
   "outputs": [],
   "source": []
  }
 ],
 "metadata": {
  "kernelspec": {
   "display_name": "Python 3",
   "language": "python",
   "name": "python3"
  },
  "language_info": {
   "codemirror_mode": {
    "name": "ipython",
    "version": 3
   },
   "file_extension": ".py",
   "mimetype": "text/x-python",
   "name": "python",
   "nbconvert_exporter": "python",
   "pygments_lexer": "ipython3",
   "version": "3.6.6"
  }
 },
 "nbformat": 4,
 "nbformat_minor": 4
}
