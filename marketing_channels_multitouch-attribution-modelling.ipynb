{
 "cells": [
  {
   "cell_type": "code",
   "execution_count": 1,
   "metadata": {
    "_cell_guid": "b1076dfc-b9ad-4769-8c92-a6c4dae69d19",
    "_uuid": "8f2839f25d086af736a60e9eeb907d3b93b6e0e5",
    "execution": {
     "iopub.execute_input": "2021-01-26T09:27:08.679525Z",
     "iopub.status.busy": "2021-01-26T09:27:08.674719Z",
     "iopub.status.idle": "2021-01-26T09:28:00.661885Z",
     "shell.execute_reply": "2021-01-26T09:28:00.661197Z"
    },
    "papermill": {
     "duration": 52.020477,
     "end_time": "2021-01-26T09:28:00.662019",
     "exception": false,
     "start_time": "2021-01-26T09:27:08.641542",
     "status": "completed"
    },
    "tags": []
   },
   "outputs": [],
   "source": [
    "%%capture\n",
    "!pip install --upgrade pip\n",
    "!pip install ChannelAttribution\n",
    "\n",
    "import numpy as np\n",
    "import pandas as pd\n",
    "pd.options.mode.chained_assignment = None\n",
    "import plotly.express as px\n",
    "\n",
    "from ChannelAttribution import *\n",
    "import plotly.io as pio\n",
    "\n",
    "import matplotlib as mpl\n",
    "import matplotlib.pyplot as plt\n",
    "import matplotlib.style as style\n",
    "import seaborn as sns\n",
    "%matplotlib inline\n",
    "\n",
    "import os\n",
    "for dirname, _, filenames in os.walk('/kaggle/input'):\n",
    "    for filename in filenames:\n",
    "        print(os.path.join(dirname, filename));"
   ]
  },
  {
   "attachments": {
    "image.png": {
     "image/png": "[encoded data removed]"
    }
   },
   "cell_type": "markdown",
   "metadata": {
    "papermill": {
     "duration": 0.015417,
     "end_time": "2021-01-26T09:28:00.694023",
     "exception": false,
     "start_time": "2021-01-26T09:28:00.678606",
     "status": "completed"
    },
    "tags": []
   },
   "source": [
    "Advertisers use a variety of online marketing channels to reach consumers and they typically want to know how much each channel contributes to their marketing success. This is what is known as multi-channel attribution. In many cases, advertisers approach this problem using some simple heuristical models that often  underestimate the importance of different marketing channels.\n",
    "In general, there are different types of attribution models:\n",
    "\n",
    "* **First Touch Conversion:** A user's conversion is attributed to the first channels/touchpoints.\n",
    "* **Last Touch Conversion:** A user's conversion is attributed to the last channels/touchpoints.\n",
    "* **Linear Touch Conversion:** All channels/touchpoints are given equal credit to a user's conversion.\n",
    "* **Markov chains:** A probabilistic model that represents the buyer's journey as a graph, with the nodes representing different channels/touchpoints, and the connecting lines being observed transitions between them. The number of times buyers have transitioned between two states is converted into a probability, which can then be used to measure the importance of each channel and the most likely channel paths to success.\n",
    "\n",
    "*Example Markov Chain where C denotes the marketing channel*:\n",
    "\n",
    "![image.png](attachment:image.png)"
   ]
  },
  {
   "cell_type": "markdown",
   "metadata": {
    "papermill": {
     "duration": 0.015143,
     "end_time": "2021-01-26T09:28:00.724666",
     "exception": false,
     "start_time": "2021-01-26T09:28:00.709523",
     "status": "completed"
    },
    "tags": []
   },
   "source": [
    "# Data\n",
    "For this analysis, I used the following [dataset](http://www.dropbox.com/sh/m5d8u7inolw32xu/AADuHNcGToa7ajTcF_JjEkcca?dl=0), showing digital marketing data that one would typically encounter in a production environment. The data set contains 586,000 marketing touch-points from July (2018), comprising 240,000 unique customers who generated ~18,000 conversions. \n",
    "\n",
    "A more detailed description of the features is shown below:\n",
    "* Cookie: Anonymous customer id enabling us to track the progression of a given customer\n",
    "* Timestamp: Date and time when the visit took place\n",
    "* Interaction: Categorical variable indicating the type of interaction that took place\n",
    "* Conversion: Boolean variable indicating whether a conversion took place\n",
    "* Conversion Value: Value of the potential conversion event (revenue)\n",
    "* Channel: The marketing channel that brought the customer to our site\n",
    "\n"
   ]
  },
  {
   "cell_type": "code",
   "execution_count": 2,
   "metadata": {
    "execution": {
     "iopub.execute_input": "2021-01-26T09:28:00.763085Z",
     "iopub.status.busy": "2021-01-26T09:28:00.762291Z",
     "iopub.status.idle": "2021-01-26T09:28:02.908429Z",
     "shell.execute_reply": "2021-01-26T09:28:02.907908Z"
    },
    "papermill": {
     "duration": 2.168246,
     "end_time": "2021-01-26T09:28:02.908554",
     "exception": false,
     "start_time": "2021-01-26T09:28:00.740308",
     "status": "completed"
    },
    "tags": []
   },
   "outputs": [
    {
     "data": {
      "text/html": [
       "<div>\n",
       "<style scoped>\n",
       "    .dataframe tbody tr th:only-of-type {\n",
       "        vertical-align: middle;\n",
       "    }\n",
       "\n",
       "    .dataframe tbody tr th {\n",
       "        vertical-align: top;\n",
       "    }\n",
       "\n",
       "    .dataframe thead th {\n",
       "        text-align: right;\n",
       "    }\n",
       "</style>\n",
       "<table border=\"1\" class=\"dataframe\">\n",
       "  <thead>\n",
       "    <tr style=\"text-align: right;\">\n",
       "      <th></th>\n",
       "      <th>cookie</th>\n",
       "      <th>time</th>\n",
       "      <th>interaction</th>\n",
       "      <th>conversion</th>\n",
       "      <th>conversion_value</th>\n",
       "      <th>channel</th>\n",
       "    </tr>\n",
       "  </thead>\n",
       "  <tbody>\n",
       "    <tr>\n",
       "      <th>0</th>\n",
       "      <td>00000FkCnDfDDf0iC97iC703B</td>\n",
       "      <td>2018-07-03 13:02:11+00:00</td>\n",
       "      <td>impression</td>\n",
       "      <td>0</td>\n",
       "      <td>0.0</td>\n",
       "      <td>Instagram</td>\n",
       "    </tr>\n",
       "    <tr>\n",
       "      <th>1</th>\n",
       "      <td>00000FkCnDfDDf0iC97iC703B</td>\n",
       "      <td>2018-07-17 19:15:07+00:00</td>\n",
       "      <td>impression</td>\n",
       "      <td>0</td>\n",
       "      <td>0.0</td>\n",
       "      <td>Online Display</td>\n",
       "    </tr>\n",
       "    <tr>\n",
       "      <th>2</th>\n",
       "      <td>00000FkCnDfDDf0iC97iC703B</td>\n",
       "      <td>2018-07-24 15:51:46+00:00</td>\n",
       "      <td>impression</td>\n",
       "      <td>0</td>\n",
       "      <td>0.0</td>\n",
       "      <td>Online Display</td>\n",
       "    </tr>\n",
       "    <tr>\n",
       "      <th>3</th>\n",
       "      <td>00000FkCnDfDDf0iC97iC703B</td>\n",
       "      <td>2018-07-29 07:44:51+00:00</td>\n",
       "      <td>impression</td>\n",
       "      <td>0</td>\n",
       "      <td>0.0</td>\n",
       "      <td>Online Display</td>\n",
       "    </tr>\n",
       "    <tr>\n",
       "      <th>4</th>\n",
       "      <td>0000nACkD9nFkBBDECD3ki00E</td>\n",
       "      <td>2018-07-03 09:44:57+00:00</td>\n",
       "      <td>impression</td>\n",
       "      <td>0</td>\n",
       "      <td>0.0</td>\n",
       "      <td>Paid Search</td>\n",
       "    </tr>\n",
       "  </tbody>\n",
       "</table>\n",
       "</div>"
      ],
      "text/plain": [
       "                      cookie                      time interaction  \\\n",
       "0  00000FkCnDfDDf0iC97iC703B 2018-07-03 13:02:11+00:00  impression   \n",
       "1  00000FkCnDfDDf0iC97iC703B 2018-07-17 19:15:07+00:00  impression   \n",
       "2  00000FkCnDfDDf0iC97iC703B 2018-07-24 15:51:46+00:00  impression   \n",
       "3  00000FkCnDfDDf0iC97iC703B 2018-07-29 07:44:51+00:00  impression   \n",
       "4  0000nACkD9nFkBBDECD3ki00E 2018-07-03 09:44:57+00:00  impression   \n",
       "\n",
       "   conversion  conversion_value         channel  \n",
       "0           0               0.0       Instagram  \n",
       "1           0               0.0  Online Display  \n",
       "2           0               0.0  Online Display  \n",
       "3           0               0.0  Online Display  \n",
       "4           0               0.0     Paid Search  "
      ]
     },
     "execution_count": 2,
     "metadata": {},
     "output_type": "execute_result"
    }
   ],
   "source": [
    "#Importing the data\n",
    "df = pd.read_csv('/kaggle/input/attribution-data/attribution data.csv')\n",
    "df['time'] = pd.to_datetime(df['time'])\n",
    "df.head()"
   ]
  },
  {
   "cell_type": "markdown",
   "metadata": {
    "papermill": {
     "duration": 0.016406,
     "end_time": "2021-01-26T09:28:02.941462",
     "exception": false,
     "start_time": "2021-01-26T09:28:02.925056",
     "status": "completed"
    },
    "tags": []
   },
   "source": [
    "# Simple EDA"
   ]
  },
  {
   "cell_type": "code",
   "execution_count": 3,
   "metadata": {
    "execution": {
     "iopub.execute_input": "2021-01-26T09:28:02.983559Z",
     "iopub.status.busy": "2021-01-26T09:28:02.982636Z",
     "iopub.status.idle": "2021-01-26T09:28:04.492422Z",
     "shell.execute_reply": "2021-01-26T09:28:04.491737Z"
    },
    "papermill": {
     "duration": 1.534984,
     "end_time": "2021-01-26T09:28:04.492537",
     "exception": false,
     "start_time": "2021-01-26T09:28:02.957553",
     "status": "completed"
    },
    "tags": []
   },
   "outputs": [
    {
     "data": {
      "text/html": [
       "        <script type=\"text/javascript\">\n",
       "        window.PlotlyConfig = {MathJaxConfig: 'local'};\n",
       "        if (window.MathJax) {MathJax.Hub.Config({SVG: {font: \"STIX-Web\"}});}\n",
       "        if (typeof require !== 'undefined') {\n",
       "        require.undef(\"plotly\");\n",
       "        requirejs.config({\n",
       "            paths: {\n",
       "                'plotly': ['https://cdn.plot.ly/plotly-latest.min']\n",
       "            }\n",
       "        });\n",
       "        require(['plotly'], function(Plotly) {\n",
       "            window._Plotly = Plotly;\n",
       "        });\n",
       "        }\n",
       "        </script>\n",
       "        "
      ]
     },
     "metadata": {},
     "output_type": "display_data"
    },
    {
     "data": {
      "text/html": [
       "<div>                            <div id=\"c83dbdca-e006-4043-bcb0-f3e1e9bb32cc\" class=\"plotly-graph-div\" style=\"height:525px; width:100%;\"></div>            <script type=\"text/javascript\">                require([\"plotly\"], function(Plotly) {                    window.PLOTLYENV=window.PLOTLYENV || {};                                    if (document.getElementById(\"c83dbdca-e006-4043-bcb0-f3e1e9bb32cc\")) {                    Plotly.newPlot(                        \"c83dbdca-e006-4043-bcb0-f3e1e9bb32cc\",                        [{\"hovertemplate\": \"channel=Facebook<br>time=%{x}<br>conversion=%{y}<extra></extra>\", \"legendgroup\": \"Facebook\", \"line\": {\"color\": \"#636efa\", \"dash\": \"solid\"}, \"mode\": \"lines\", \"name\": \"Facebook\", \"orientation\": \"v\", \"showlegend\": true, \"type\": \"scatter\", \"x\": [\"2018-07-01\", \"2018-07-02\", \"2018-07-03\", \"2018-07-04\", \"2018-07-05\", \"2018-07-06\", \"2018-07-07\", \"2018-07-08\", \"2018-07-09\", \"2018-07-10\", \"2018-07-11\", \"2018-07-12\", \"2018-07-13\", \"2018-07-14\", \"2018-07-15\", \"2018-07-16\", \"2018-07-17\", \"2018-07-18\", \"2018-07-19\", \"2018-07-20\", \"2018-07-21\", \"2018-07-22\", \"2018-07-23\", \"2018-07-24\", \"2018-07-25\", \"2018-07-26\", \"2018-07-27\", \"2018-07-28\", \"2018-07-29\"], \"xaxis\": \"x\", \"y\": [135, 158, 162, 173, 175, 174, 197, 169, 139, 157, 179, 163, 151, 199, 155, 174, 195, 170, 173, 153, 185, 187, 209, 165, 159, 163, 168, 158, 230], \"yaxis\": \"y\"}, {\"hovertemplate\": \"channel=Instagram<br>time=%{x}<br>conversion=%{y}<extra></extra>\", \"legendgroup\": \"Instagram\", \"line\": {\"color\": \"#EF553B\", \"dash\": \"solid\"}, \"mode\": \"lines\", \"name\": \"Instagram\", \"orientation\": \"v\", \"showlegend\": true, \"type\": \"scatter\", \"x\": [\"2018-07-01\", \"2018-07-02\", \"2018-07-03\", \"2018-07-04\", \"2018-07-05\", \"2018-07-06\", \"2018-07-07\", \"2018-07-08\", \"2018-07-09\", \"2018-07-10\", \"2018-07-11\", \"2018-07-12\", \"2018-07-13\", \"2018-07-14\", \"2018-07-15\", \"2018-07-16\", \"2018-07-17\", \"2018-07-18\", \"2018-07-19\", \"2018-07-20\", \"2018-07-21\", \"2018-07-22\", \"2018-07-23\", \"2018-07-24\", \"2018-07-25\", \"2018-07-26\", \"2018-07-27\", \"2018-07-28\", \"2018-07-29\"], \"xaxis\": \"x\", \"y\": [69, 84, 69, 79, 58, 66, 82, 56, 63, 55, 74, 66, 85, 91, 79, 76, 85, 83, 64, 73, 72, 79, 70, 65, 44, 84, 72, 67, 81], \"yaxis\": \"y\"}, {\"hovertemplate\": \"channel=Online Display<br>time=%{x}<br>conversion=%{y}<extra></extra>\", \"legendgroup\": \"Online Display\", \"line\": {\"color\": \"#00cc96\", \"dash\": \"solid\"}, \"mode\": \"lines\", \"name\": \"Online Display\", \"orientation\": \"v\", \"showlegend\": true, \"type\": \"scatter\", \"x\": [\"2018-07-01\", \"2018-07-02\", \"2018-07-03\", \"2018-07-04\", \"2018-07-06\", \"2018-07-07\", \"2018-07-09\", \"2018-07-11\", \"2018-07-12\", \"2018-07-13\", \"2018-07-14\", \"2018-07-15\", \"2018-07-16\", \"2018-07-17\", \"2018-07-18\", \"2018-07-19\", \"2018-07-20\", \"2018-07-21\", \"2018-07-22\", \"2018-07-23\", \"2018-07-24\", \"2018-07-25\", \"2018-07-26\", \"2018-07-27\", \"2018-07-28\", \"2018-07-29\"], \"xaxis\": \"x\", \"y\": [75, 71, 70, 63, 57, 62, 86, 90, 114, 83, 78, 114, 100, 111, 105, 110, 67, 64, 81, 92, 71, 72, 70, 69, 78, 85], \"yaxis\": \"y\"}, {\"hovertemplate\": \"channel=Online Video<br>time=%{x}<br>conversion=%{y}<extra></extra>\", \"legendgroup\": \"Online Video\", \"line\": {\"color\": \"#ab63fa\", \"dash\": \"solid\"}, \"mode\": \"lines\", \"name\": \"Online Video\", \"orientation\": \"v\", \"showlegend\": true, \"type\": \"scatter\", \"x\": [\"2018-07-01\", \"2018-07-02\", \"2018-07-03\", \"2018-07-04\", \"2018-07-05\", \"2018-07-06\", \"2018-07-07\", \"2018-07-08\", \"2018-07-09\", \"2018-07-10\", \"2018-07-11\", \"2018-07-12\", \"2018-07-13\", \"2018-07-14\", \"2018-07-15\", \"2018-07-16\", \"2018-07-17\", \"2018-07-18\", \"2018-07-19\", \"2018-07-20\", \"2018-07-21\", \"2018-07-22\", \"2018-07-23\", \"2018-07-24\", \"2018-07-25\", \"2018-07-26\", \"2018-07-27\", \"2018-07-28\", \"2018-07-29\"], \"xaxis\": \"x\", \"y\": [42, 73, 76, 66, 68, 46, 68, 92, 102, 178, 162, 182, 99, 141, 178, 147, 147, 211, 188, 131, 148, 187, 134, 72, 164, 113, 38, 39, 101], \"yaxis\": \"y\"}, {\"hovertemplate\": \"channel=Paid Search<br>time=%{x}<br>conversion=%{y}<extra></extra>\", \"legendgroup\": \"Paid Search\", \"line\": {\"color\": \"#FFA15A\", \"dash\": \"solid\"}, \"mode\": \"lines\", \"name\": \"Paid Search\", \"orientation\": \"v\", \"showlegend\": true, \"type\": \"scatter\", \"x\": [\"2018-07-01\", \"2018-07-02\", \"2018-07-03\", \"2018-07-04\", \"2018-07-05\", \"2018-07-06\", \"2018-07-07\", \"2018-07-08\", \"2018-07-09\", \"2018-07-10\", \"2018-07-11\", \"2018-07-12\", \"2018-07-13\", \"2018-07-14\", \"2018-07-15\", \"2018-07-16\", \"2018-07-17\", \"2018-07-18\", \"2018-07-19\", \"2018-07-20\", \"2018-07-21\", \"2018-07-22\", \"2018-07-23\", \"2018-07-24\", \"2018-07-25\", \"2018-07-26\", \"2018-07-27\", \"2018-07-28\", \"2018-07-29\"], \"xaxis\": \"x\", \"y\": [98, 171, 256, 252, 145, 126, 160, 191, 184, 197, 245, 200, 170, 198, 172, 186, 218, 172, 175, 133, 137, 81, 76, 69, 82, 86, 56, 115, 109], \"yaxis\": \"y\"}],                        {\"legend\": {\"title\": {\"text\": \"channel\"}, \"tracegroupgap\": 0}, \"margin\": {\"t\": 60}, \"template\": {\"data\": {\"bar\": [{\"error_x\": {\"color\": \"#2a3f5f\"}, \"error_y\": {\"color\": \"#2a3f5f\"}, \"marker\": {\"line\": {\"color\": \"#E5ECF6\", \"width\": 0.5}}, \"type\": \"bar\"}], \"barpolar\": [{\"marker\": {\"line\": {\"color\": \"#E5ECF6\", \"width\": 0.5}}, \"type\": \"barpolar\"}], \"carpet\": [{\"aaxis\": {\"endlinecolor\": \"#2a3f5f\", \"gridcolor\": \"white\", \"linecolor\": \"white\", \"minorgridcolor\": \"white\", \"startlinecolor\": \"#2a3f5f\"}, \"baxis\": {\"endlinecolor\": \"#2a3f5f\", \"gridcolor\": \"white\", \"linecolor\": \"white\", \"minorgridcolor\": \"white\", \"startlinecolor\": \"#2a3f5f\"}, \"type\": \"carpet\"}], \"choropleth\": [{\"colorbar\": {\"outlinewidth\": 0, \"ticks\": \"\"}, \"type\": \"choropleth\"}], \"contour\": [{\"colorbar\": {\"outlinewidth\": 0, \"ticks\": \"\"}, \"colorscale\": [[0.0, \"#0d0887\"], [0.1111111111111111, \"#46039f\"], [0.2222222222222222, \"#7201a8\"], [0.3333333333333333, \"#9c179e\"], [0.4444444444444444, \"#bd3786\"], [0.5555555555555556, \"#d8576b\"], [0.6666666666666666, \"#ed7953\"], [0.7777777777777778, \"#fb9f3a\"], [0.8888888888888888, \"#fdca26\"], [1.0, \"#f0f921\"]], \"type\": \"contour\"}], \"contourcarpet\": [{\"colorbar\": {\"outlinewidth\": 0, \"ticks\": \"\"}, \"type\": \"contourcarpet\"}], \"heatmap\": [{\"colorbar\": {\"outlinewidth\": 0, \"ticks\": \"\"}, \"colorscale\": [[0.0, \"#0d0887\"], [0.1111111111111111, \"#46039f\"], [0.2222222222222222, \"#7201a8\"], [0.3333333333333333, \"#9c179e\"], [0.4444444444444444, \"#bd3786\"], [0.5555555555555556, \"#d8576b\"], [0.6666666666666666, \"#ed7953\"], [0.7777777777777778, \"#fb9f3a\"], [0.8888888888888888, \"#fdca26\"], [1.0, \"#f0f921\"]], \"type\": \"heatmap\"}], \"heatmapgl\": [{\"colorbar\": {\"outlinewidth\": 0, \"ticks\": \"\"}, \"colorscale\": [[0.0, \"#0d0887\"], [0.1111111111111111, \"#46039f\"], [0.2222222222222222, \"#7201a8\"], [0.3333333333333333, \"#9c179e\"], [0.4444444444444444, \"#bd3786\"], [0.5555555555555556, \"#d8576b\"], [0.6666666666666666, \"#ed7953\"], [0.7777777777777778, \"#fb9f3a\"], [0.8888888888888888, \"#fdca26\"], [1.0, \"#f0f921\"]], \"type\": \"heatmapgl\"}], \"histogram\": [{\"marker\": {\"colorbar\": {\"outlinewidth\": 0, \"ticks\": \"\"}}, \"type\": \"histogram\"}], \"histogram2d\": [{\"colorbar\": {\"outlinewidth\": 0, \"ticks\": \"\"}, \"colorscale\": [[0.0, \"#0d0887\"], [0.1111111111111111, \"#46039f\"], [0.2222222222222222, \"#7201a8\"], [0.3333333333333333, \"#9c179e\"], [0.4444444444444444, \"#bd3786\"], [0.5555555555555556, \"#d8576b\"], [0.6666666666666666, \"#ed7953\"], [0.7777777777777778, \"#fb9f3a\"], [0.8888888888888888, \"#fdca26\"], [1.0, \"#f0f921\"]], \"type\": \"histogram2d\"}], \"histogram2dcontour\": [{\"colorbar\": {\"outlinewidth\": 0, \"ticks\": \"\"}, \"colorscale\": [[0.0, \"#0d0887\"], [0.1111111111111111, \"#46039f\"], [0.2222222222222222, \"#7201a8\"], [0.3333333333333333, \"#9c179e\"], [0.4444444444444444, \"#bd3786\"], [0.5555555555555556, \"#d8576b\"], [0.6666666666666666, \"#ed7953\"], [0.7777777777777778, \"#fb9f3a\"], [0.8888888888888888, \"#fdca26\"], [1.0, \"#f0f921\"]], \"type\": \"histogram2dcontour\"}], \"mesh3d\": [{\"colorbar\": {\"outlinewidth\": 0, \"ticks\": \"\"}, \"type\": \"mesh3d\"}], \"parcoords\": [{\"line\": {\"colorbar\": {\"outlinewidth\": 0, \"ticks\": \"\"}}, \"type\": \"parcoords\"}], \"pie\": [{\"automargin\": true, \"type\": \"pie\"}], \"scatter\": [{\"marker\": {\"colorbar\": {\"outlinewidth\": 0, \"ticks\": \"\"}}, \"type\": \"scatter\"}], \"scatter3d\": [{\"line\": {\"colorbar\": {\"outlinewidth\": 0, \"ticks\": \"\"}}, \"marker\": {\"colorbar\": {\"outlinewidth\": 0, \"ticks\": \"\"}}, \"type\": \"scatter3d\"}], \"scattercarpet\": [{\"marker\": {\"colorbar\": {\"outlinewidth\": 0, \"ticks\": \"\"}}, \"type\": \"scattercarpet\"}], \"scattergeo\": [{\"marker\": {\"colorbar\": {\"outlinewidth\": 0, \"ticks\": \"\"}}, \"type\": \"scattergeo\"}], \"scattergl\": [{\"marker\": {\"colorbar\": {\"outlinewidth\": 0, \"ticks\": \"\"}}, \"type\": \"scattergl\"}], \"scattermapbox\": [{\"marker\": {\"colorbar\": {\"outlinewidth\": 0, \"ticks\": \"\"}}, \"type\": \"scattermapbox\"}], \"scatterpolar\": [{\"marker\": {\"colorbar\": {\"outlinewidth\": 0, \"ticks\": \"\"}}, \"type\": \"scatterpolar\"}], \"scatterpolargl\": [{\"marker\": {\"colorbar\": {\"outlinewidth\": 0, \"ticks\": \"\"}}, \"type\": \"scatterpolargl\"}], \"scatterternary\": [{\"marker\": {\"colorbar\": {\"outlinewidth\": 0, \"ticks\": \"\"}}, \"type\": \"scatterternary\"}], \"surface\": [{\"colorbar\": {\"outlinewidth\": 0, \"ticks\": \"\"}, \"colorscale\": [[0.0, \"#0d0887\"], [0.1111111111111111, \"#46039f\"], [0.2222222222222222, \"#7201a8\"], [0.3333333333333333, \"#9c179e\"], [0.4444444444444444, \"#bd3786\"], [0.5555555555555556, \"#d8576b\"], [0.6666666666666666, \"#ed7953\"], [0.7777777777777778, \"#fb9f3a\"], [0.8888888888888888, \"#fdca26\"], [1.0, \"#f0f921\"]], \"type\": \"surface\"}], \"table\": [{\"cells\": {\"fill\": {\"color\": \"#EBF0F8\"}, \"line\": {\"color\": \"white\"}}, \"header\": {\"fill\": {\"color\": \"#C8D4E3\"}, \"line\": {\"color\": \"white\"}}, \"type\": \"table\"}]}, \"layout\": {\"annotationdefaults\": {\"arrowcolor\": \"#2a3f5f\", \"arrowhead\": 0, \"arrowwidth\": 1}, \"autotypenumbers\": \"strict\", \"coloraxis\": {\"colorbar\": {\"outlinewidth\": 0, \"ticks\": \"\"}}, \"colorscale\": {\"diverging\": [[0, \"#8e0152\"], [0.1, \"#c51b7d\"], [0.2, \"#de77ae\"], [0.3, \"#f1b6da\"], [0.4, \"#fde0ef\"], [0.5, \"#f7f7f7\"], [0.6, \"#e6f5d0\"], [0.7, \"#b8e186\"], [0.8, \"#7fbc41\"], [0.9, \"#4d9221\"], [1, \"#276419\"]], \"sequential\": [[0.0, \"#0d0887\"], [0.1111111111111111, \"#46039f\"], [0.2222222222222222, \"#7201a8\"], [0.3333333333333333, \"#9c179e\"], [0.4444444444444444, \"#bd3786\"], [0.5555555555555556, \"#d8576b\"], [0.6666666666666666, \"#ed7953\"], [0.7777777777777778, \"#fb9f3a\"], [0.8888888888888888, \"#fdca26\"], [1.0, \"#f0f921\"]], \"sequentialminus\": [[0.0, \"#0d0887\"], [0.1111111111111111, \"#46039f\"], [0.2222222222222222, \"#7201a8\"], [0.3333333333333333, \"#9c179e\"], [0.4444444444444444, \"#bd3786\"], [0.5555555555555556, \"#d8576b\"], [0.6666666666666666, \"#ed7953\"], [0.7777777777777778, \"#fb9f3a\"], [0.8888888888888888, \"#fdca26\"], [1.0, \"#f0f921\"]]}, \"colorway\": [\"#636efa\", \"#EF553B\", \"#00cc96\", \"#ab63fa\", \"#FFA15A\", \"#19d3f3\", \"#FF6692\", \"#B6E880\", \"#FF97FF\", \"#FECB52\"], \"font\": {\"color\": \"#2a3f5f\"}, \"geo\": {\"bgcolor\": \"white\", \"lakecolor\": \"white\", \"landcolor\": \"#E5ECF6\", \"showlakes\": true, \"showland\": true, \"subunitcolor\": \"white\"}, \"hoverlabel\": {\"align\": \"left\"}, \"hovermode\": \"closest\", \"mapbox\": {\"style\": \"light\"}, \"paper_bgcolor\": \"white\", \"plot_bgcolor\": \"#E5ECF6\", \"polar\": {\"angularaxis\": {\"gridcolor\": \"white\", \"linecolor\": \"white\", \"ticks\": \"\"}, \"bgcolor\": \"#E5ECF6\", \"radialaxis\": {\"gridcolor\": \"white\", \"linecolor\": \"white\", \"ticks\": \"\"}}, \"scene\": {\"xaxis\": {\"backgroundcolor\": \"#E5ECF6\", \"gridcolor\": \"white\", \"gridwidth\": 2, \"linecolor\": \"white\", \"showbackground\": true, \"ticks\": \"\", \"zerolinecolor\": \"white\"}, \"yaxis\": {\"backgroundcolor\": \"#E5ECF6\", \"gridcolor\": \"white\", \"gridwidth\": 2, \"linecolor\": \"white\", \"showbackground\": true, \"ticks\": \"\", \"zerolinecolor\": \"white\"}, \"zaxis\": {\"backgroundcolor\": \"#E5ECF6\", \"gridcolor\": \"white\", \"gridwidth\": 2, \"linecolor\": \"white\", \"showbackground\": true, \"ticks\": \"\", \"zerolinecolor\": \"white\"}}, \"shapedefaults\": {\"line\": {\"color\": \"#2a3f5f\"}}, \"ternary\": {\"aaxis\": {\"gridcolor\": \"white\", \"linecolor\": \"white\", \"ticks\": \"\"}, \"baxis\": {\"gridcolor\": \"white\", \"linecolor\": \"white\", \"ticks\": \"\"}, \"bgcolor\": \"#E5ECF6\", \"caxis\": {\"gridcolor\": \"white\", \"linecolor\": \"white\", \"ticks\": \"\"}}, \"title\": {\"x\": 0.05}, \"xaxis\": {\"automargin\": true, \"gridcolor\": \"white\", \"linecolor\": \"white\", \"ticks\": \"\", \"title\": {\"standoff\": 15}, \"zerolinecolor\": \"white\", \"zerolinewidth\": 2}, \"yaxis\": {\"automargin\": true, \"gridcolor\": \"white\", \"linecolor\": \"white\", \"ticks\": \"\", \"title\": {\"standoff\": 15}, \"zerolinecolor\": \"white\", \"zerolinewidth\": 2}}}, \"title\": {\"text\": \"Channel Conversions over Time\"}, \"xaxis\": {\"anchor\": \"y\", \"domain\": [0.0, 1.0], \"title\": {\"text\": \"Conversions\"}}, \"yaxis\": {\"anchor\": \"x\", \"domain\": [0.0, 1.0], \"title\": {\"text\": \"Date\"}}},                        {\"responsive\": true}                    ).then(function(){\n",
       "                            \n",
       "var gd = document.getElementById('c83dbdca-e006-4043-bcb0-f3e1e9bb32cc');\n",
       "var x = new MutationObserver(function (mutations, observer) {{\n",
       "        var display = window.getComputedStyle(gd).display;\n",
       "        if (!display || display === 'none') {{\n",
       "            console.log([gd, 'removed!']);\n",
       "            Plotly.purge(gd);\n",
       "            observer.disconnect();\n",
       "        }}\n",
       "}});\n",
       "\n",
       "// Listen for the removal of the full notebook cells\n",
       "var notebookContainer = gd.closest('#notebook-container');\n",
       "if (notebookContainer) {{\n",
       "    x.observe(notebookContainer, {childList: true});\n",
       "}}\n",
       "\n",
       "// Listen for the clearing of the current output cell\n",
       "var outputEl = gd.closest('.output');\n",
       "if (outputEl) {{\n",
       "    x.observe(outputEl, {childList: true});\n",
       "}}\n",
       "\n",
       "                        })                };                });            </script>        </div>"
      ]
     },
     "metadata": {},
     "output_type": "display_data"
    }
   ],
   "source": [
    "#Plotting conversions over time by channel\n",
    "conversions = df.loc[df['conversion'] == 1]\n",
    "conversions['time'] = conversions['time'].dt.date\n",
    "conversions = conversions[conversions['time']< pd.to_datetime(\"2018-7-30\").date()]\n",
    "conversions.drop(columns = ['cookie', 'interaction'], inplace = True)\n",
    "conversions = conversions.groupby(['time','channel'], as_index=False).sum()\n",
    "\n",
    "fig = px.line(conversions, x='time', y='conversion', color='channel')\n",
    "\n",
    "fig.update_layout(title='Channel Conversions over Time',\n",
    "                   xaxis_title='Conversions',\n",
    "                   yaxis_title='Date')\n",
    "fig.show()"
   ]
  },
  {
   "cell_type": "markdown",
   "metadata": {
    "papermill": {
     "duration": 0.018099,
     "end_time": "2021-01-26T09:28:04.528607",
     "exception": false,
     "start_time": "2021-01-26T09:28:04.510508",
     "status": "completed"
    },
    "tags": []
   },
   "source": [
    "# Data Pre-processing"
   ]
  },
  {
   "cell_type": "code",
   "execution_count": 4,
   "metadata": {
    "execution": {
     "iopub.execute_input": "2021-01-26T09:28:04.570534Z",
     "iopub.status.busy": "2021-01-26T09:28:04.569748Z",
     "iopub.status.idle": "2021-01-26T09:28:05.842856Z",
     "shell.execute_reply": "2021-01-26T09:28:05.843523Z"
    },
    "papermill": {
     "duration": 1.297455,
     "end_time": "2021-01-26T09:28:05.843793",
     "exception": false,
     "start_time": "2021-01-26T09:28:04.546338",
     "status": "completed"
    },
    "tags": []
   },
   "outputs": [
    {
     "data": {
      "text/html": [
       "<div>\n",
       "<style scoped>\n",
       "    .dataframe tbody tr th:only-of-type {\n",
       "        vertical-align: middle;\n",
       "    }\n",
       "\n",
       "    .dataframe tbody tr th {\n",
       "        vertical-align: top;\n",
       "    }\n",
       "\n",
       "    .dataframe thead th {\n",
       "        text-align: right;\n",
       "    }\n",
       "</style>\n",
       "<table border=\"1\" class=\"dataframe\">\n",
       "  <thead>\n",
       "    <tr style=\"text-align: right;\">\n",
       "      <th></th>\n",
       "      <th>cookie</th>\n",
       "      <th>time</th>\n",
       "      <th>interaction</th>\n",
       "      <th>conversion</th>\n",
       "      <th>conversion_value</th>\n",
       "      <th>channel</th>\n",
       "      <th>path_order</th>\n",
       "    </tr>\n",
       "  </thead>\n",
       "  <tbody>\n",
       "    <tr>\n",
       "      <th>0</th>\n",
       "      <td>00000FkCnDfDDf0iC97iC703B</td>\n",
       "      <td>2018-07-03 13:02:11+00:00</td>\n",
       "      <td>impression</td>\n",
       "      <td>0</td>\n",
       "      <td>0.0</td>\n",
       "      <td>Instagram</td>\n",
       "      <td>1</td>\n",
       "    </tr>\n",
       "    <tr>\n",
       "      <th>1</th>\n",
       "      <td>00000FkCnDfDDf0iC97iC703B</td>\n",
       "      <td>2018-07-17 19:15:07+00:00</td>\n",
       "      <td>impression</td>\n",
       "      <td>0</td>\n",
       "      <td>0.0</td>\n",
       "      <td>Online Display</td>\n",
       "      <td>2</td>\n",
       "    </tr>\n",
       "    <tr>\n",
       "      <th>2</th>\n",
       "      <td>00000FkCnDfDDf0iC97iC703B</td>\n",
       "      <td>2018-07-24 15:51:46+00:00</td>\n",
       "      <td>impression</td>\n",
       "      <td>0</td>\n",
       "      <td>0.0</td>\n",
       "      <td>Online Display</td>\n",
       "      <td>3</td>\n",
       "    </tr>\n",
       "    <tr>\n",
       "      <th>3</th>\n",
       "      <td>00000FkCnDfDDf0iC97iC703B</td>\n",
       "      <td>2018-07-29 07:44:51+00:00</td>\n",
       "      <td>impression</td>\n",
       "      <td>0</td>\n",
       "      <td>0.0</td>\n",
       "      <td>Online Display</td>\n",
       "      <td>4</td>\n",
       "    </tr>\n",
       "    <tr>\n",
       "      <th>4</th>\n",
       "      <td>0000nACkD9nFkBBDECD3ki00E</td>\n",
       "      <td>2018-07-03 09:44:57+00:00</td>\n",
       "      <td>impression</td>\n",
       "      <td>0</td>\n",
       "      <td>0.0</td>\n",
       "      <td>Paid Search</td>\n",
       "      <td>1</td>\n",
       "    </tr>\n",
       "  </tbody>\n",
       "</table>\n",
       "</div>"
      ],
      "text/plain": [
       "                      cookie                      time interaction  \\\n",
       "0  00000FkCnDfDDf0iC97iC703B 2018-07-03 13:02:11+00:00  impression   \n",
       "1  00000FkCnDfDDf0iC97iC703B 2018-07-17 19:15:07+00:00  impression   \n",
       "2  00000FkCnDfDDf0iC97iC703B 2018-07-24 15:51:46+00:00  impression   \n",
       "3  00000FkCnDfDDf0iC97iC703B 2018-07-29 07:44:51+00:00  impression   \n",
       "4  0000nACkD9nFkBBDECD3ki00E 2018-07-03 09:44:57+00:00  impression   \n",
       "\n",
       "   conversion  conversion_value         channel  path_order  \n",
       "0           0               0.0       Instagram           1  \n",
       "1           0               0.0  Online Display           2  \n",
       "2           0               0.0  Online Display           3  \n",
       "3           0               0.0  Online Display           4  \n",
       "4           0               0.0     Paid Search           1  "
      ]
     },
     "execution_count": 4,
     "metadata": {},
     "output_type": "execute_result"
    }
   ],
   "source": [
    "#Creating the path order for when users interact with different channels (this is equivalent to SQL window functions)\n",
    "df['path_order'] = df.sort_values(['time']).groupby(['cookie']).cumcount() + 1\n",
    "df.head()"
   ]
  },
  {
   "cell_type": "code",
   "execution_count": 5,
   "metadata": {
    "execution": {
     "iopub.execute_input": "2021-01-26T09:28:05.902398Z",
     "iopub.status.busy": "2021-01-26T09:28:05.901486Z",
     "iopub.status.idle": "2021-01-26T09:28:13.424069Z",
     "shell.execute_reply": "2021-01-26T09:28:13.422953Z"
    },
    "papermill": {
     "duration": 7.561712,
     "end_time": "2021-01-26T09:28:13.424210",
     "exception": false,
     "start_time": "2021-01-26T09:28:05.862498",
     "status": "completed"
    },
    "tags": []
   },
   "outputs": [
    {
     "data": {
      "text/html": [
       "<div>\n",
       "<style scoped>\n",
       "    .dataframe tbody tr th:only-of-type {\n",
       "        vertical-align: middle;\n",
       "    }\n",
       "\n",
       "    .dataframe tbody tr th {\n",
       "        vertical-align: top;\n",
       "    }\n",
       "\n",
       "    .dataframe thead th {\n",
       "        text-align: right;\n",
       "    }\n",
       "</style>\n",
       "<table border=\"1\" class=\"dataframe\">\n",
       "  <thead>\n",
       "    <tr style=\"text-align: right;\">\n",
       "      <th></th>\n",
       "      <th>cookie</th>\n",
       "      <th>path</th>\n",
       "    </tr>\n",
       "  </thead>\n",
       "  <tbody>\n",
       "    <tr>\n",
       "      <th>0</th>\n",
       "      <td>00000FkCnDfDDf0iC97iC703B</td>\n",
       "      <td>[Instagram, Online Display, Online Display, On...</td>\n",
       "    </tr>\n",
       "    <tr>\n",
       "      <th>1</th>\n",
       "      <td>0000nACkD9nFkBBDECD3ki00E</td>\n",
       "      <td>[Paid Search, Paid Search, Paid Search, Paid S...</td>\n",
       "    </tr>\n",
       "    <tr>\n",
       "      <th>2</th>\n",
       "      <td>0003EfE37E93D0BC03iBhBBhF</td>\n",
       "      <td>[Paid Search, Paid Search, Paid Search, Paid S...</td>\n",
       "    </tr>\n",
       "    <tr>\n",
       "      <th>3</th>\n",
       "      <td>00073CFE3FoFCn70fBhB3kfon</td>\n",
       "      <td>[Instagram]</td>\n",
       "    </tr>\n",
       "    <tr>\n",
       "      <th>4</th>\n",
       "      <td>00079hhBkDF3k3kDkiFi9EFAD</td>\n",
       "      <td>[Paid Search]</td>\n",
       "    </tr>\n",
       "  </tbody>\n",
       "</table>\n",
       "</div>"
      ],
      "text/plain": [
       "                      cookie  \\\n",
       "0  00000FkCnDfDDf0iC97iC703B   \n",
       "1  0000nACkD9nFkBBDECD3ki00E   \n",
       "2  0003EfE37E93D0BC03iBhBBhF   \n",
       "3  00073CFE3FoFCn70fBhB3kfon   \n",
       "4  00079hhBkDF3k3kDkiFi9EFAD   \n",
       "\n",
       "                                                path  \n",
       "0  [Instagram, Online Display, Online Display, On...  \n",
       "1  [Paid Search, Paid Search, Paid Search, Paid S...  \n",
       "2  [Paid Search, Paid Search, Paid Search, Paid S...  \n",
       "3                                        [Instagram]  \n",
       "4                                      [Paid Search]  "
      ]
     },
     "execution_count": 5,
     "metadata": {},
     "output_type": "execute_result"
    }
   ],
   "source": [
    "#Aggregating the channels a user interacted with into a single row\n",
    "df_paths = df.groupby('cookie')['channel'].agg(lambda x: x.tolist()).reset_index()\n",
    "df_paths = df_paths.rename(columns={\"channel\": \"path\"})\n",
    "df_paths.head()"
   ]
  },
  {
   "cell_type": "code",
   "execution_count": 6,
   "metadata": {
    "execution": {
     "iopub.execute_input": "2021-01-26T09:28:13.479492Z",
     "iopub.status.busy": "2021-01-26T09:28:13.478757Z",
     "iopub.status.idle": "2021-01-26T09:28:13.606095Z",
     "shell.execute_reply": "2021-01-26T09:28:13.605434Z"
    },
    "papermill": {
     "duration": 0.162745,
     "end_time": "2021-01-26T09:28:13.606221",
     "exception": false,
     "start_time": "2021-01-26T09:28:13.443476",
     "status": "completed"
    },
    "tags": []
   },
   "outputs": [
    {
     "data": {
      "text/html": [
       "<div>\n",
       "<style scoped>\n",
       "    .dataframe tbody tr th:only-of-type {\n",
       "        vertical-align: middle;\n",
       "    }\n",
       "\n",
       "    .dataframe tbody tr th {\n",
       "        vertical-align: top;\n",
       "    }\n",
       "\n",
       "    .dataframe thead th {\n",
       "        text-align: right;\n",
       "    }\n",
       "</style>\n",
       "<table border=\"1\" class=\"dataframe\">\n",
       "  <thead>\n",
       "    <tr style=\"text-align: right;\">\n",
       "      <th></th>\n",
       "      <th>cookie</th>\n",
       "      <th>conversion</th>\n",
       "      <th>conversion_value</th>\n",
       "    </tr>\n",
       "  </thead>\n",
       "  <tbody>\n",
       "    <tr>\n",
       "      <th>3</th>\n",
       "      <td>00000FkCnDfDDf0iC97iC703B</td>\n",
       "      <td>0</td>\n",
       "      <td>0.0</td>\n",
       "    </tr>\n",
       "    <tr>\n",
       "      <th>9</th>\n",
       "      <td>0000nACkD9nFkBBDECD3ki00E</td>\n",
       "      <td>0</td>\n",
       "      <td>0.0</td>\n",
       "    </tr>\n",
       "    <tr>\n",
       "      <th>14</th>\n",
       "      <td>0003EfE37E93D0BC03iBhBBhF</td>\n",
       "      <td>0</td>\n",
       "      <td>0.0</td>\n",
       "    </tr>\n",
       "    <tr>\n",
       "      <th>15</th>\n",
       "      <td>00073CFE3FoFCn70fBhB3kfon</td>\n",
       "      <td>0</td>\n",
       "      <td>0.0</td>\n",
       "    </tr>\n",
       "    <tr>\n",
       "      <th>16</th>\n",
       "      <td>00079hhBkDF3k3kDkiFi9EFAD</td>\n",
       "      <td>0</td>\n",
       "      <td>0.0</td>\n",
       "    </tr>\n",
       "  </tbody>\n",
       "</table>\n",
       "</div>"
      ],
      "text/plain": [
       "                       cookie  conversion  conversion_value\n",
       "3   00000FkCnDfDDf0iC97iC703B           0               0.0\n",
       "9   0000nACkD9nFkBBDECD3ki00E           0               0.0\n",
       "14  0003EfE37E93D0BC03iBhBBhF           0               0.0\n",
       "15  00073CFE3FoFCn70fBhB3kfon           0               0.0\n",
       "16  00079hhBkDF3k3kDkiFi9EFAD           0               0.0"
      ]
     },
     "execution_count": 6,
     "metadata": {},
     "output_type": "execute_result"
    }
   ],
   "source": [
    "#Looking at the last interaction to see if it led to a user converting\n",
    "df_last_interaction = df.drop_duplicates('cookie', keep='last')[['cookie', 'conversion', 'conversion_value']]\n",
    "df_last_interaction.head()"
   ]
  },
  {
   "cell_type": "code",
   "execution_count": 7,
   "metadata": {
    "execution": {
     "iopub.execute_input": "2021-01-26T09:28:13.658495Z",
     "iopub.status.busy": "2021-01-26T09:28:13.656240Z",
     "iopub.status.idle": "2021-01-26T09:28:13.964338Z",
     "shell.execute_reply": "2021-01-26T09:28:13.963631Z"
    },
    "papermill": {
     "duration": 0.33616,
     "end_time": "2021-01-26T09:28:13.964471",
     "exception": false,
     "start_time": "2021-01-26T09:28:13.628311",
     "status": "completed"
    },
    "tags": []
   },
   "outputs": [
    {
     "data": {
      "text/html": [
       "<div>\n",
       "<style scoped>\n",
       "    .dataframe tbody tr th:only-of-type {\n",
       "        vertical-align: middle;\n",
       "    }\n",
       "\n",
       "    .dataframe tbody tr th {\n",
       "        vertical-align: top;\n",
       "    }\n",
       "\n",
       "    .dataframe thead th {\n",
       "        text-align: right;\n",
       "    }\n",
       "</style>\n",
       "<table border=\"1\" class=\"dataframe\">\n",
       "  <thead>\n",
       "    <tr style=\"text-align: right;\">\n",
       "      <th></th>\n",
       "      <th>cookie</th>\n",
       "      <th>path</th>\n",
       "      <th>conversion</th>\n",
       "      <th>conversion_value</th>\n",
       "    </tr>\n",
       "  </thead>\n",
       "  <tbody>\n",
       "    <tr>\n",
       "      <th>0</th>\n",
       "      <td>00000FkCnDfDDf0iC97iC703B</td>\n",
       "      <td>[Instagram, Online Display, Online Display, On...</td>\n",
       "      <td>0</td>\n",
       "      <td>0.0</td>\n",
       "    </tr>\n",
       "    <tr>\n",
       "      <th>1</th>\n",
       "      <td>0000nACkD9nFkBBDECD3ki00E</td>\n",
       "      <td>[Paid Search, Paid Search, Paid Search, Paid S...</td>\n",
       "      <td>0</td>\n",
       "      <td>0.0</td>\n",
       "    </tr>\n",
       "    <tr>\n",
       "      <th>2</th>\n",
       "      <td>0003EfE37E93D0BC03iBhBBhF</td>\n",
       "      <td>[Paid Search, Paid Search, Paid Search, Paid S...</td>\n",
       "      <td>0</td>\n",
       "      <td>0.0</td>\n",
       "    </tr>\n",
       "    <tr>\n",
       "      <th>3</th>\n",
       "      <td>00073CFE3FoFCn70fBhB3kfon</td>\n",
       "      <td>[Instagram]</td>\n",
       "      <td>0</td>\n",
       "      <td>0.0</td>\n",
       "    </tr>\n",
       "    <tr>\n",
       "      <th>4</th>\n",
       "      <td>00079hhBkDF3k3kDkiFi9EFAD</td>\n",
       "      <td>[Paid Search]</td>\n",
       "      <td>0</td>\n",
       "      <td>0.0</td>\n",
       "    </tr>\n",
       "  </tbody>\n",
       "</table>\n",
       "</div>"
      ],
      "text/plain": [
       "                      cookie  \\\n",
       "0  00000FkCnDfDDf0iC97iC703B   \n",
       "1  0000nACkD9nFkBBDECD3ki00E   \n",
       "2  0003EfE37E93D0BC03iBhBBhF   \n",
       "3  00073CFE3FoFCn70fBhB3kfon   \n",
       "4  00079hhBkDF3k3kDkiFi9EFAD   \n",
       "\n",
       "                                                path  conversion  \\\n",
       "0  [Instagram, Online Display, Online Display, On...           0   \n",
       "1  [Paid Search, Paid Search, Paid Search, Paid S...           0   \n",
       "2  [Paid Search, Paid Search, Paid Search, Paid S...           0   \n",
       "3                                        [Instagram]           0   \n",
       "4                                      [Paid Search]           0   \n",
       "\n",
       "   conversion_value  \n",
       "0               0.0  \n",
       "1               0.0  \n",
       "2               0.0  \n",
       "3               0.0  \n",
       "4               0.0  "
      ]
     },
     "execution_count": 7,
     "metadata": {},
     "output_type": "execute_result"
    }
   ],
   "source": [
    "#Concatinating with the dataframes of user path's\n",
    "df_paths = pd.merge(df_paths, df_last_interaction, how='left', on='cookie')\n",
    "df_paths.head()"
   ]
  },
  {
   "cell_type": "code",
   "execution_count": 8,
   "metadata": {
    "execution": {
     "iopub.execute_input": "2021-01-26T09:28:14.408545Z",
     "iopub.status.busy": "2021-01-26T09:28:14.407486Z",
     "iopub.status.idle": "2021-01-26T09:28:14.415240Z",
     "shell.execute_reply": "2021-01-26T09:28:14.413910Z"
    },
    "papermill": {
     "duration": 0.429613,
     "end_time": "2021-01-26T09:28:14.415414",
     "exception": false,
     "start_time": "2021-01-26T09:28:13.985801",
     "status": "completed"
    },
    "tags": []
   },
   "outputs": [
    {
     "name": "stdout",
     "output_type": "stream",
     "text": [
      "Total conversions: 17639\n",
      "Total conversion rate: 3%\n",
      "Total value of conversions: $110231\n",
      "Average conversion value: $6\n"
     ]
    }
   ],
   "source": [
    "print('Total conversions: {}'.format(sum(df.conversion)))\n",
    "print('Total conversion rate: {}%'.format(round(sum(df.conversion) / len(df)*100)))\n",
    "print('Total value of conversions: ${}'.format(round(sum(df.conversion_value))))\n",
    "print('Average conversion value: ${}'.format(round(sum(df.conversion_value) / sum(df.conversion))))"
   ]
  },
  {
   "cell_type": "code",
   "execution_count": 9,
   "metadata": {
    "execution": {
     "iopub.execute_input": "2021-01-26T09:28:14.467863Z",
     "iopub.status.busy": "2021-01-26T09:28:14.466873Z",
     "iopub.status.idle": "2021-01-26T09:28:17.865866Z",
     "shell.execute_reply": "2021-01-26T09:28:17.865242Z"
    },
    "papermill": {
     "duration": 3.426857,
     "end_time": "2021-01-26T09:28:17.865988",
     "exception": false,
     "start_time": "2021-01-26T09:28:14.439131",
     "status": "completed"
    },
    "tags": []
   },
   "outputs": [
    {
     "data": {
      "text/html": [
       "<div>\n",
       "<style scoped>\n",
       "    .dataframe tbody tr th:only-of-type {\n",
       "        vertical-align: middle;\n",
       "    }\n",
       "\n",
       "    .dataframe tbody tr th {\n",
       "        vertical-align: top;\n",
       "    }\n",
       "\n",
       "    .dataframe thead th {\n",
       "        text-align: right;\n",
       "    }\n",
       "</style>\n",
       "<table border=\"1\" class=\"dataframe\">\n",
       "  <thead>\n",
       "    <tr style=\"text-align: right;\">\n",
       "      <th></th>\n",
       "      <th>cookie</th>\n",
       "      <th>path</th>\n",
       "      <th>conversion</th>\n",
       "      <th>conversion_value</th>\n",
       "    </tr>\n",
       "  </thead>\n",
       "  <tbody>\n",
       "    <tr>\n",
       "      <th>0</th>\n",
       "      <td>00000FkCnDfDDf0iC97iC703B</td>\n",
       "      <td>Instagram &gt; Online Display &gt; Online Display &gt; ...</td>\n",
       "      <td>0</td>\n",
       "      <td>0.0</td>\n",
       "    </tr>\n",
       "    <tr>\n",
       "      <th>1</th>\n",
       "      <td>0000nACkD9nFkBBDECD3ki00E</td>\n",
       "      <td>Paid Search &gt; Paid Search &gt; Paid Search &gt; Paid...</td>\n",
       "      <td>0</td>\n",
       "      <td>0.0</td>\n",
       "    </tr>\n",
       "    <tr>\n",
       "      <th>2</th>\n",
       "      <td>0003EfE37E93D0BC03iBhBBhF</td>\n",
       "      <td>Paid Search &gt; Paid Search &gt; Paid Search &gt; Paid...</td>\n",
       "      <td>0</td>\n",
       "      <td>0.0</td>\n",
       "    </tr>\n",
       "    <tr>\n",
       "      <th>3</th>\n",
       "      <td>00073CFE3FoFCn70fBhB3kfon</td>\n",
       "      <td>Instagram</td>\n",
       "      <td>0</td>\n",
       "      <td>0.0</td>\n",
       "    </tr>\n",
       "    <tr>\n",
       "      <th>4</th>\n",
       "      <td>00079hhBkDF3k3kDkiFi9EFAD</td>\n",
       "      <td>Paid Search</td>\n",
       "      <td>0</td>\n",
       "      <td>0.0</td>\n",
       "    </tr>\n",
       "  </tbody>\n",
       "</table>\n",
       "</div>"
      ],
      "text/plain": [
       "                      cookie  \\\n",
       "0  00000FkCnDfDDf0iC97iC703B   \n",
       "1  0000nACkD9nFkBBDECD3ki00E   \n",
       "2  0003EfE37E93D0BC03iBhBBhF   \n",
       "3  00073CFE3FoFCn70fBhB3kfon   \n",
       "4  00079hhBkDF3k3kDkiFi9EFAD   \n",
       "\n",
       "                                                path  conversion  \\\n",
       "0  Instagram > Online Display > Online Display > ...           0   \n",
       "1  Paid Search > Paid Search > Paid Search > Paid...           0   \n",
       "2  Paid Search > Paid Search > Paid Search > Paid...           0   \n",
       "3                                          Instagram           0   \n",
       "4                                        Paid Search           0   \n",
       "\n",
       "   conversion_value  \n",
       "0               0.0  \n",
       "1               0.0  \n",
       "2               0.0  \n",
       "3               0.0  \n",
       "4               0.0  "
      ]
     },
     "execution_count": 9,
     "metadata": {},
     "output_type": "execute_result"
    }
   ],
   "source": [
    "#We will create a variable ‘path’ in the specific formatrequired by the Attribution Model where the ordered channels a user interacts with are delimited by'>'\n",
    "def listToString(df):  \n",
    "    str1 = \"\"  \n",
    "    for i in df['path']:  \n",
    "        str1 += i + ' > '    \n",
    "    return str1[:-3]\n",
    "\n",
    "df_paths['path'] = df_paths.apply(listToString, axis=1)\n",
    "df_paths.head()"
   ]
  },
  {
   "cell_type": "code",
   "execution_count": 10,
   "metadata": {
    "execution": {
     "iopub.execute_input": "2021-01-26T09:28:17.928492Z",
     "iopub.status.busy": "2021-01-26T09:28:17.921889Z",
     "iopub.status.idle": "2021-01-26T09:28:18.016439Z",
     "shell.execute_reply": "2021-01-26T09:28:18.015940Z"
    },
    "papermill": {
     "duration": 0.126658,
     "end_time": "2021-01-26T09:28:18.016560",
     "exception": false,
     "start_time": "2021-01-26T09:28:17.889902",
     "status": "completed"
    },
    "tags": []
   },
   "outputs": [
    {
     "data": {
      "text/html": [
       "<div>\n",
       "<style scoped>\n",
       "    .dataframe tbody tr th:only-of-type {\n",
       "        vertical-align: middle;\n",
       "    }\n",
       "\n",
       "    .dataframe tbody tr th {\n",
       "        vertical-align: top;\n",
       "    }\n",
       "\n",
       "    .dataframe thead th {\n",
       "        text-align: right;\n",
       "    }\n",
       "</style>\n",
       "<table border=\"1\" class=\"dataframe\">\n",
       "  <thead>\n",
       "    <tr style=\"text-align: right;\">\n",
       "      <th></th>\n",
       "      <th>path</th>\n",
       "      <th>total_conversions</th>\n",
       "      <th>total_conversion_value</th>\n",
       "      <th>total_null</th>\n",
       "    </tr>\n",
       "  </thead>\n",
       "  <tbody>\n",
       "    <tr>\n",
       "      <th>3364</th>\n",
       "      <td>Facebook &gt; Online Display &gt; Paid Search &gt; Paid...</td>\n",
       "      <td>0</td>\n",
       "      <td>0.0</td>\n",
       "      <td>1</td>\n",
       "    </tr>\n",
       "    <tr>\n",
       "      <th>6010</th>\n",
       "      <td>Instagram &gt; Paid Search &gt; Online Display &gt; Onl...</td>\n",
       "      <td>1</td>\n",
       "      <td>7.5</td>\n",
       "      <td>0</td>\n",
       "    </tr>\n",
       "    <tr>\n",
       "      <th>6786</th>\n",
       "      <td>Online Display &gt; Online Display &gt; Online Displ...</td>\n",
       "      <td>1</td>\n",
       "      <td>7.0</td>\n",
       "      <td>1</td>\n",
       "    </tr>\n",
       "    <tr>\n",
       "      <th>4250</th>\n",
       "      <td>Instagram &gt; Facebook &gt; Facebook &gt; Facebook &gt; F...</td>\n",
       "      <td>0</td>\n",
       "      <td>0.0</td>\n",
       "      <td>1</td>\n",
       "    </tr>\n",
       "    <tr>\n",
       "      <th>9962</th>\n",
       "      <td>Paid Search &gt; Online Display &gt; Paid Search &gt; O...</td>\n",
       "      <td>0</td>\n",
       "      <td>0.0</td>\n",
       "      <td>1</td>\n",
       "    </tr>\n",
       "    <tr>\n",
       "      <th>2395</th>\n",
       "      <td>Facebook &gt; Instagram &gt; Facebook &gt; Facebook &gt; I...</td>\n",
       "      <td>0</td>\n",
       "      <td>0.0</td>\n",
       "      <td>1</td>\n",
       "    </tr>\n",
       "    <tr>\n",
       "      <th>7952</th>\n",
       "      <td>Online Video &gt; Online Display &gt; Online Video &gt;...</td>\n",
       "      <td>0</td>\n",
       "      <td>0.0</td>\n",
       "      <td>1</td>\n",
       "    </tr>\n",
       "    <tr>\n",
       "      <th>10900</th>\n",
       "      <td>Paid Search &gt; Paid Search &gt; Paid Search &gt; Onli...</td>\n",
       "      <td>0</td>\n",
       "      <td>0.0</td>\n",
       "      <td>3</td>\n",
       "    </tr>\n",
       "    <tr>\n",
       "      <th>1071</th>\n",
       "      <td>Facebook &gt; Facebook &gt; Facebook &gt; Online Displa...</td>\n",
       "      <td>0</td>\n",
       "      <td>0.0</td>\n",
       "      <td>4</td>\n",
       "    </tr>\n",
       "    <tr>\n",
       "      <th>2976</th>\n",
       "      <td>Facebook &gt; Instagram &gt; Instagram &gt; Online Vide...</td>\n",
       "      <td>1</td>\n",
       "      <td>6.5</td>\n",
       "      <td>0</td>\n",
       "    </tr>\n",
       "  </tbody>\n",
       "</table>\n",
       "</div>"
      ],
      "text/plain": [
       "                                                    path  total_conversions  \\\n",
       "3364   Facebook > Online Display > Paid Search > Paid...                  0   \n",
       "6010   Instagram > Paid Search > Online Display > Onl...                  1   \n",
       "6786   Online Display > Online Display > Online Displ...                  1   \n",
       "4250   Instagram > Facebook > Facebook > Facebook > F...                  0   \n",
       "9962   Paid Search > Online Display > Paid Search > O...                  0   \n",
       "2395   Facebook > Instagram > Facebook > Facebook > I...                  0   \n",
       "7952   Online Video > Online Display > Online Video >...                  0   \n",
       "10900  Paid Search > Paid Search > Paid Search > Onli...                  0   \n",
       "1071   Facebook > Facebook > Facebook > Online Displa...                  0   \n",
       "2976   Facebook > Instagram > Instagram > Online Vide...                  1   \n",
       "\n",
       "       total_conversion_value  total_null  \n",
       "3364                      0.0           1  \n",
       "6010                      7.5           0  \n",
       "6786                      7.0           1  \n",
       "4250                      0.0           1  \n",
       "9962                      0.0           1  \n",
       "2395                      0.0           1  \n",
       "7952                      0.0           1  \n",
       "10900                     0.0           3  \n",
       "1071                      0.0           4  \n",
       "2976                      6.5           0  "
      ]
     },
     "execution_count": 10,
     "metadata": {},
     "output_type": "execute_result"
    }
   ],
   "source": [
    "#Removing the user's cookie and grouping by the path to see the how many times a specific combination of channels led to a conversion or null outcome\n",
    "df_paths.drop(columns = 'cookie', inplace = True)\n",
    "df_paths['null'] = np.where(df_paths['conversion'] == 0,1,0)\n",
    "\n",
    "attribution_df = df_paths.groupby(['path'], as_index = False).sum()\n",
    "attribution_df.rename(columns={\"conversion\": \"total_conversions\", \"null\": \"total_null\", \"conversion_value\": \"total_conversion_value\"}, inplace = True)\n",
    "attribution_df.sample(10)"
   ]
  },
  {
   "cell_type": "markdown",
   "metadata": {
    "papermill": {
     "duration": 0.024108,
     "end_time": "2021-01-26T09:28:18.062764",
     "exception": false,
     "start_time": "2021-01-26T09:28:18.038656",
     "status": "completed"
    },
    "tags": []
   },
   "source": [
    "# Attribution Modelling"
   ]
  },
  {
   "cell_type": "code",
   "execution_count": 11,
   "metadata": {
    "execution": {
     "iopub.execute_input": "2021-01-26T09:28:18.194807Z",
     "iopub.status.busy": "2021-01-26T09:28:18.117552Z",
     "iopub.status.idle": "2021-01-26T09:28:18.284545Z",
     "shell.execute_reply": "2021-01-26T09:28:18.285215Z"
    },
    "papermill": {
     "duration": 0.199082,
     "end_time": "2021-01-26T09:28:18.285365",
     "exception": false,
     "start_time": "2021-01-26T09:28:18.086283",
     "status": "completed"
    },
    "tags": []
   },
   "outputs": [
    {
     "name": "stdout",
     "output_type": "stream",
     "text": [
      "Number of simulations: 100000 - Convergence reached: 1.58% < 5.00%\n",
      "Percentage of simulated paths that successfully end before maximum number of steps (48) is reached: 99.99%\n"
     ]
    }
   ],
   "source": [
    "#Now, we will use the ChannelAttribution package to create the attribution models described above\n",
    "\n",
    "#Heuristic models\n",
    "H=heuristic_models(attribution_df,\"path\",\"total_conversions\",var_value=\"total_conversion_value\")\n",
    "\n",
    "#Markov Models\n",
    "M=markov_model(attribution_df, \"path\", \"total_conversions\", var_value=\"total_conversion_value\")"
   ]
  },
  {
   "cell_type": "code",
   "execution_count": 12,
   "metadata": {
    "execution": {
     "iopub.execute_input": "2021-01-26T09:28:18.352846Z",
     "iopub.status.busy": "2021-01-26T09:28:18.341435Z",
     "iopub.status.idle": "2021-01-26T09:28:18.359123Z",
     "shell.execute_reply": "2021-01-26T09:28:18.358399Z"
    },
    "papermill": {
     "duration": 0.05102,
     "end_time": "2021-01-26T09:28:18.359266",
     "exception": false,
     "start_time": "2021-01-26T09:28:18.308246",
     "status": "completed"
    },
    "tags": []
   },
   "outputs": [
    {
     "data": {
      "text/html": [
       "<div>                            <div id=\"8fcf75be-d94e-4f51-9940-61c5112eb0b5\" class=\"plotly-graph-div\" style=\"height:525px; width:100%;\"></div>            <script type=\"text/javascript\">                require([\"plotly\"], function(Plotly) {                    window.PLOTLYENV=window.PLOTLYENV || {};                                    if (document.getElementById(\"8fcf75be-d94e-4f51-9940-61c5112eb0b5\")) {                    Plotly.newPlot(                        \"8fcf75be-d94e-4f51-9940-61c5112eb0b5\",                        [{\"histfunc\": \"sum\", \"transforms\": [{\"groups\": [\"first_touch\", \"first_touch\", \"first_touch\", \"first_touch\", \"first_touch\", \"last_touch\", \"last_touch\", \"last_touch\", \"last_touch\", \"last_touch\", \"linear_touch\", \"linear_touch\", \"linear_touch\", \"linear_touch\", \"linear_touch\", \"markov_model\", \"markov_model\", \"markov_model\", \"markov_model\", \"markov_model\"], \"type\": \"groupby\"}], \"type\": \"histogram\", \"x\": [\"Facebook\", \"Instagram\", \"Online Display\", \"Online Video\", \"Paid Search\", \"Facebook\", \"Instagram\", \"Online Display\", \"Online Video\", \"Paid Search\", \"Facebook\", \"Instagram\", \"Online Display\", \"Online Video\", \"Paid Search\", \"Facebook\", \"Instagram\", \"Online Display\", \"Online Video\", \"Paid Search\"], \"y\": [5177.0, 2329.0, 2160.0, 3216.0, 4757.0, 5301.0, 2244.0, 2139.0, 3408.0, 4547.0, 5218.903370785477, 2265.179353013681, 2124.315255766787, 3349.4033706324517, 4681.198649801587, 5258.017941817249, 3471.0604254773802, 2048.049980776624, 2877.668460848392, 3984.2031910803535]}],                        {},                        {\"responsive\": true}                    ).then(function(){\n",
       "                            \n",
       "var gd = document.getElementById('8fcf75be-d94e-4f51-9940-61c5112eb0b5');\n",
       "var x = new MutationObserver(function (mutations, observer) {{\n",
       "        var display = window.getComputedStyle(gd).display;\n",
       "        if (!display || display === 'none') {{\n",
       "            console.log([gd, 'removed!']);\n",
       "            Plotly.purge(gd);\n",
       "            observer.disconnect();\n",
       "        }}\n",
       "}});\n",
       "\n",
       "// Listen for the removal of the full notebook cells\n",
       "var notebookContainer = gd.closest('#notebook-container');\n",
       "if (notebookContainer) {{\n",
       "    x.observe(notebookContainer, {childList: true});\n",
       "}}\n",
       "\n",
       "// Listen for the clearing of the current output cell\n",
       "var outputEl = gd.closest('.output');\n",
       "if (outputEl) {{\n",
       "    x.observe(outputEl, {childList: true});\n",
       "}}\n",
       "\n",
       "                        })                };                });            </script>        </div>"
      ]
     },
     "metadata": {},
     "output_type": "display_data"
    }
   ],
   "source": [
    "R=pd.merge(H,M,on=\"channel_name\",how=\"inner\")\n",
    "R1=R[[\"channel_name\",\"first_touch_conversions\",\"last_touch_conversions\",\\\n",
    "\"linear_touch_conversions\",\"total_conversions\"]]\n",
    "R1.columns=[\"channel_name\",\"first_touch\",\"last_touch\",\"linear_touch\",\"markov_model\"]\n",
    "\n",
    "R1=pd.melt(R1, id_vars=\"channel_name\")\n",
    "\n",
    "data = [dict(type = \"histogram\", histfunc=\"sum\",x = R1.channel_name, y = R1.value,\n",
    "             transforms = [dict(type = \"groupby\", groups = R1.variable,)],)]\n",
    "\n",
    "fig = dict({\"data\":data}) \n",
    "pio.show(fig,validate=False)"
   ]
  },
  {
   "cell_type": "markdown",
   "metadata": {
    "papermill": {
     "duration": 0.022907,
     "end_time": "2021-01-26T09:28:18.405990",
     "exception": false,
     "start_time": "2021-01-26T09:28:18.383083",
     "status": "completed"
    },
    "tags": []
   },
   "source": [
    "The bar chart above shows how many conversions were attributed to each channel for each model (i.e. first_touch, last_touch, etc.). Analyzing the graph, specifically the markov_model in comparison to the other methods, you can gain insights as to the relative importance of different marketing channels.\n",
    "For the first touch, last touch and linear touch models, Facebook and Paid Search are the most import channels driving conversions while Instagram and Online Display are the least important. However, according to the Markov Model, Instagram is far more important to our conversions than our simple attribution models suggest - indeed according to the probabilistic model it is infact our third most important channel.\n",
    "\n",
    "Similar to the total conversions bar chart, a revenue bar chart can be created highlighting the revenue attributed to each channel."
   ]
  },
  {
   "cell_type": "code",
   "execution_count": 13,
   "metadata": {
    "execution": {
     "iopub.execute_input": "2021-01-26T09:28:18.478011Z",
     "iopub.status.busy": "2021-01-26T09:28:18.477196Z",
     "iopub.status.idle": "2021-01-26T09:28:18.482633Z",
     "shell.execute_reply": "2021-01-26T09:28:18.481580Z"
    },
    "papermill": {
     "duration": 0.053471,
     "end_time": "2021-01-26T09:28:18.482795",
     "exception": false,
     "start_time": "2021-01-26T09:28:18.429324",
     "status": "completed"
    },
    "tags": []
   },
   "outputs": [
    {
     "data": {
      "text/html": [
       "<div>                            <div id=\"82507f3f-c8d8-4b4a-a850-3764ddbf3c12\" class=\"plotly-graph-div\" style=\"height:525px; width:100%;\"></div>            <script type=\"text/javascript\">                require([\"plotly\"], function(Plotly) {                    window.PLOTLYENV=window.PLOTLYENV || {};                                    if (document.getElementById(\"82507f3f-c8d8-4b4a-a850-3764ddbf3c12\")) {                    Plotly.newPlot(                        \"82507f3f-c8d8-4b4a-a850-3764ddbf3c12\",                        [{\"histfunc\": \"sum\", \"transforms\": [{\"groups\": [\"first_touch\", \"first_touch\", \"first_touch\", \"first_touch\", \"first_touch\", \"last_touch\", \"last_touch\", \"last_touch\", \"last_touch\", \"last_touch\", \"linear_touch\", \"linear_touch\", \"linear_touch\", \"linear_touch\", \"linear_touch\", \"markov_model\", \"markov_model\", \"markov_model\", \"markov_model\", \"markov_model\"], \"type\": \"groupby\"}], \"type\": \"histogram\", \"x\": [\"Facebook\", \"Instagram\", \"Online Display\", \"Online Video\", \"Paid Search\", \"Facebook\", \"Instagram\", \"Online Display\", \"Online Video\", \"Paid Search\", \"Facebook\", \"Instagram\", \"Online Display\", \"Online Video\", \"Paid Search\", \"Facebook\", \"Instagram\", \"Online Display\", \"Online Video\", \"Paid Search\"], \"y\": [32283.0, 14579.5, 13419.0, 20225.5, 29724.0, 33143.5, 14039.5, 13298.5, 21418.0, 28331.5, 32614.300093978352, 14171.723841719646, 13205.187068031717, 21045.33040832993, 29194.458587940317, 32826.06199299139, 21711.20733234299, 12766.400370779831, 18065.74969511722, 24861.58060876857]}],                        {},                        {\"responsive\": true}                    ).then(function(){\n",
       "                            \n",
       "var gd = document.getElementById('82507f3f-c8d8-4b4a-a850-3764ddbf3c12');\n",
       "var x = new MutationObserver(function (mutations, observer) {{\n",
       "        var display = window.getComputedStyle(gd).display;\n",
       "        if (!display || display === 'none') {{\n",
       "            console.log([gd, 'removed!']);\n",
       "            Plotly.purge(gd);\n",
       "            observer.disconnect();\n",
       "        }}\n",
       "}});\n",
       "\n",
       "// Listen for the removal of the full notebook cells\n",
       "var notebookContainer = gd.closest('#notebook-container');\n",
       "if (notebookContainer) {{\n",
       "    x.observe(notebookContainer, {childList: true});\n",
       "}}\n",
       "\n",
       "// Listen for the clearing of the current output cell\n",
       "var outputEl = gd.closest('.output');\n",
       "if (outputEl) {{\n",
       "    x.observe(outputEl, {childList: true});\n",
       "}}\n",
       "\n",
       "                        })                };                });            </script>        </div>"
      ]
     },
     "metadata": {},
     "output_type": "display_data"
    }
   ],
   "source": [
    "R2=R[[\"channel_name\",\"first_touch_value\",\"last_touch_value\",\\\n",
    "\"linear_touch_value\",\"total_conversion_value\"]]\n",
    "R2.columns=[\"channel_name\",\"first_touch\",\"last_touch\",\"linear_touch\",\"markov_model\"]\n",
    "\n",
    "R2=pd.melt(R2, id_vars=\"channel_name\")\n",
    "data = [dict(type = \"histogram\", histfunc=\"sum\", x = R2.channel_name, y = R2.value,\n",
    "             transforms = [dict(type = \"groupby\",groups = R2.variable,)],)]\n",
    "\n",
    "fig = dict({\"data\":data})\n",
    "pio.show(fig,validate=False)"
   ]
  },
  {
   "cell_type": "markdown",
   "metadata": {
    "papermill": {
     "duration": 0.030019,
     "end_time": "2021-01-26T09:28:18.538261",
     "exception": false,
     "start_time": "2021-01-26T09:28:18.508242",
     "status": "completed"
    },
    "tags": []
   },
   "source": [
    "As expected, the total revenue attributed to each channel corresponds to the number of conversions that it generates.\n",
    "\n",
    "To get an idea of how the different channels affect a user's journeys we can also look at the transition probability matrix, which can be visualized in a heatmap."
   ]
  },
  {
   "cell_type": "code",
   "execution_count": 14,
   "metadata": {
    "execution": {
     "iopub.execute_input": "2021-01-26T09:28:18.726391Z",
     "iopub.status.busy": "2021-01-26T09:28:18.617348Z",
     "iopub.status.idle": "2021-01-26T09:28:18.732471Z",
     "shell.execute_reply": "2021-01-26T09:28:18.732997Z"
    },
    "papermill": {
     "duration": 0.166445,
     "end_time": "2021-01-26T09:28:18.733180",
     "exception": false,
     "start_time": "2021-01-26T09:28:18.566735",
     "status": "completed"
    },
    "tags": []
   },
   "outputs": [],
   "source": [
    "transition_matrix = transition_matrix(attribution_df, \"path\", \"total_conversions\", var_null=\"total_null\")"
   ]
  },
  {
   "cell_type": "code",
   "execution_count": 15,
   "metadata": {
    "execution": {
     "iopub.execute_input": "2021-01-26T09:28:18.787837Z",
     "iopub.status.busy": "2021-01-26T09:28:18.786882Z",
     "iopub.status.idle": "2021-01-26T09:28:18.811477Z",
     "shell.execute_reply": "2021-01-26T09:28:18.810917Z"
    },
    "papermill": {
     "duration": 0.052479,
     "end_time": "2021-01-26T09:28:18.811602",
     "exception": false,
     "start_time": "2021-01-26T09:28:18.759123",
     "status": "completed"
    },
    "tags": []
   },
   "outputs": [],
   "source": [
    "matrix = transition_matrix['transition_matrix']\n",
    "matrix = pd.pivot_table(matrix, values='transition_probability', index=['channel_from'],\n",
    "                    columns=['channel_to'], aggfunc=np.sum)\n",
    "\n",
    "column_dict = transition_matrix['channels'].set_index('id_channel')['channel_name'].to_dict()\n",
    "keys_values = column_dict.items()\n",
    "column_dict = {str(key): str(value) for key, value in keys_values}\n",
    "\n",
    "matrix = matrix.rename(mapper=column_dict, axis=1).rename(mapper=column_dict, axis=0)\n",
    "matrix.fillna(0, inplace = True)"
   ]
  },
  {
   "cell_type": "code",
   "execution_count": 16,
   "metadata": {
    "execution": {
     "iopub.execute_input": "2021-01-26T09:28:18.871232Z",
     "iopub.status.busy": "2021-01-26T09:28:18.870505Z",
     "iopub.status.idle": "2021-01-26T09:28:19.329996Z",
     "shell.execute_reply": "2021-01-26T09:28:19.330469Z"
    },
    "papermill": {
     "duration": 0.494408,
     "end_time": "2021-01-26T09:28:19.330618",
     "exception": false,
     "start_time": "2021-01-26T09:28:18.836210",
     "status": "completed"
    },
    "tags": []
   },
   "outputs": [
    {
     "data": {
      "text/plain": [
       "(array([0.5, 1.5, 2.5, 3.5, 4.5, 5.5, 6.5]),\n",
       " <a list of 7 Text major ticklabel objects>)"
      ]
     },
     "execution_count": 16,
     "metadata": {},
     "output_type": "execute_result"
    },
    {
     "data": {
      "image/png": "[encoded data removed]",
      "text/plain": [
       "<Figure size 1008x648 with 1 Axes>"
      ]
     },
     "metadata": {
      "needs_background": "light"
     },
     "output_type": "display_data"
    }
   ],
   "source": [
    "#Heat map for transition probabilities in the data set\n",
    "fig = plt.figure(figsize = (14,9))\n",
    "style.use('ggplot')\n",
    "sns.set_style('whitegrid')\n",
    "\n",
    "sns.heatmap(matrix, cmap=sns.diverging_palette(20, 220, n=200), annot=True, center = 0,\\\n",
    "            annot_kws={'size':12}, cbar=False)\n",
    "plt.yticks(rotation=0, fontsize = 12)\n",
    "plt.xticks(fontsize = 12)"
   ]
  },
  {
   "cell_type": "markdown",
   "metadata": {
    "papermill": {
     "duration": 0.029177,
     "end_time": "2021-01-26T09:28:19.387818",
     "exception": false,
     "start_time": "2021-01-26T09:28:19.358641",
     "status": "completed"
    },
    "tags": []
   },
   "source": [
    "# Conclusions\n",
    "\n",
    "Using the heat map and the plots above we not only gain insights into how each marketing channel is driving conversions, but we also gain critical information around how our  channels are interacting with each other, driving users one channel to another. Given the number of touchpoints a user today typically faces, this information can prove to be extremely valuable and allows us to optimize our multi-channel customer journeys accordingly. Using the Markov Chain approach outlined in this article will allow your attributions to more accurately reflect how your users are interacting with your marketing."
   ]
  }
 ],
 "metadata": {
  "kernelspec": {
   "display_name": "Python 3",
   "language": "python",
   "name": "python3"
  },
  "language_info": {
   "codemirror_mode": {
    "name": "ipython",
    "version": 3
   },
   "file_extension": ".py",
   "mimetype": "text/x-python",
   "name": "python",
   "nbconvert_exporter": "python",
   "pygments_lexer": "ipython3",
   "version": "3.7.6"
  },
  "papermill": {
   "duration": 76.066374,
   "end_time": "2021-01-26T09:28:19.524578",
   "environment_variables": {},
   "exception": null,
   "input_path": "__notebook__.ipynb",
   "output_path": "__notebook__.ipynb",
   "parameters": {},
   "start_time": "2021-01-26T09:27:03.458204",
   "version": "2.1.0"
  }
 },
 "nbformat": 4,
 "nbformat_minor": 4
}
