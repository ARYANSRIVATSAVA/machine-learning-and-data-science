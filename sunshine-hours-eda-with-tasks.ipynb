{
 "cells": [
  {
   "cell_type": "code",
   "execution_count": 1,
   "id": "2986f74d",
   "metadata": {
    "_cell_guid": "b1076dfc-b9ad-4769-8c92-a6c4dae69d19",
    "_uuid": "8f2839f25d086af736a60e9eeb907d3b93b6e0e5",
    "execution": {
     "iopub.execute_input": "2023-08-25T06:05:17.989864Z",
     "iopub.status.busy": "2023-08-25T06:05:17.989386Z",
     "iopub.status.idle": "2023-08-25T06:05:19.563379Z",
     "shell.execute_reply": "2023-08-25T06:05:19.562271Z"
    },
    "papermill": {
     "duration": 1.587945,
     "end_time": "2023-08-25T06:05:19.565895",
     "exception": false,
     "start_time": "2023-08-25T06:05:17.977950",
     "status": "completed"
    },
    "tags": []
   },
   "outputs": [
    {
     "name": "stdout",
     "output_type": "stream",
     "text": [
      "/kaggle/input/sunshine-hours-for-cities-around-the-world/Sunshine hours for cities in the world.csv\n"
     ]
    }
   ],
   "source": [
    "# This Python 3 environment comes with many helpful analytics libraries installed\n",
    "# It is defined by the kaggle/python Docker image: https://github.com/kaggle/docker-python\n",
    "# For example, here's several helpful packages to load\n",
    "\n",
    "import numpy as np # linear algebra\n",
    "import pandas as pd # data processing, CSV file I/O (e.g. pd.read_csv)\n",
    "import matplotlib.pyplot as plt\n",
    "import seaborn as sns\n",
    "\n",
    "# Input data files are available in the read-only \"../input/\" directory\n",
    "# For example, running this (by clicking run or pressing Shift+Enter) will list all files under the input directory\n",
    "\n",
    "import os\n",
    "for dirname, _, filenames in os.walk('/kaggle/input'):\n",
    "    for filename in filenames:\n",
    "        print(os.path.join(dirname, filename))\n",
    "\n",
    "# You can write up to 20GB to the current directory (/kaggle/working/) that gets preserved as output when you create a version using \"Save & Run All\" \n",
    "# You can also write temporary files to /kaggle/temp/, but they won't be saved outside of the current session"
   ]
  },
  {
   "cell_type": "code",
   "execution_count": 2,
   "id": "76879568",
   "metadata": {
    "execution": {
     "iopub.execute_input": "2023-08-25T06:05:19.586190Z",
     "iopub.status.busy": "2023-08-25T06:05:19.585544Z",
     "iopub.status.idle": "2023-08-25T06:05:19.649978Z",
     "shell.execute_reply": "2023-08-25T06:05:19.648905Z"
    },
    "papermill": {
     "duration": 0.077194,
     "end_time": "2023-08-25T06:05:19.652275",
     "exception": false,
     "start_time": "2023-08-25T06:05:19.575081",
     "status": "completed"
    },
    "tags": []
   },
   "outputs": [
    {
     "data": {
      "text/html": [
       "<div>\n",
       "<style scoped>\n",
       "    .dataframe tbody tr th:only-of-type {\n",
       "        vertical-align: middle;\n",
       "    }\n",
       "\n",
       "    .dataframe tbody tr th {\n",
       "        vertical-align: top;\n",
       "    }\n",
       "\n",
       "    .dataframe thead th {\n",
       "        text-align: right;\n",
       "    }\n",
       "</style>\n",
       "<table border=\"1\" class=\"dataframe\">\n",
       "  <thead>\n",
       "    <tr style=\"text-align: right;\">\n",
       "      <th></th>\n",
       "      <th>Country</th>\n",
       "      <th>City</th>\n",
       "      <th>Jan</th>\n",
       "      <th>Feb</th>\n",
       "      <th>Mar</th>\n",
       "      <th>Apr</th>\n",
       "      <th>May</th>\n",
       "      <th>Jun</th>\n",
       "      <th>Jul</th>\n",
       "      <th>Aug</th>\n",
       "      <th>Sep</th>\n",
       "      <th>Oct</th>\n",
       "      <th>Nov</th>\n",
       "      <th>Dec</th>\n",
       "      <th>Year</th>\n",
       "    </tr>\n",
       "  </thead>\n",
       "  <tbody>\n",
       "    <tr>\n",
       "      <th>0</th>\n",
       "      <td>Ivory Coast</td>\n",
       "      <td>Gagnoa</td>\n",
       "      <td>183.0</td>\n",
       "      <td>180.0</td>\n",
       "      <td>196.0</td>\n",
       "      <td>188.0</td>\n",
       "      <td>181.0</td>\n",
       "      <td>118.0</td>\n",
       "      <td>97.0</td>\n",
       "      <td>80.0</td>\n",
       "      <td>110.0</td>\n",
       "      <td>155.0</td>\n",
       "      <td>171.0</td>\n",
       "      <td>164.0</td>\n",
       "      <td>1823.0</td>\n",
       "    </tr>\n",
       "    <tr>\n",
       "      <th>1</th>\n",
       "      <td>Ivory Coast</td>\n",
       "      <td>Bouaké</td>\n",
       "      <td>242.0</td>\n",
       "      <td>224.0</td>\n",
       "      <td>219.0</td>\n",
       "      <td>194.0</td>\n",
       "      <td>208.0</td>\n",
       "      <td>145.0</td>\n",
       "      <td>104.0</td>\n",
       "      <td>82.0</td>\n",
       "      <td>115.0</td>\n",
       "      <td>170.0</td>\n",
       "      <td>191.0</td>\n",
       "      <td>198.0</td>\n",
       "      <td>2092.0</td>\n",
       "    </tr>\n",
       "    <tr>\n",
       "      <th>2</th>\n",
       "      <td>Ivory Coast</td>\n",
       "      <td>Abidjan</td>\n",
       "      <td>223.0</td>\n",
       "      <td>223.0</td>\n",
       "      <td>239.0</td>\n",
       "      <td>214.0</td>\n",
       "      <td>205.0</td>\n",
       "      <td>128.0</td>\n",
       "      <td>137.0</td>\n",
       "      <td>125.0</td>\n",
       "      <td>139.0</td>\n",
       "      <td>215.0</td>\n",
       "      <td>224.0</td>\n",
       "      <td>224.0</td>\n",
       "      <td>2296.0</td>\n",
       "    </tr>\n",
       "    <tr>\n",
       "      <th>3</th>\n",
       "      <td>Ivory Coast</td>\n",
       "      <td>Odienné</td>\n",
       "      <td>242.0</td>\n",
       "      <td>220.2</td>\n",
       "      <td>217.3</td>\n",
       "      <td>214.7</td>\n",
       "      <td>248.8</td>\n",
       "      <td>221.8</td>\n",
       "      <td>183.5</td>\n",
       "      <td>174.5</td>\n",
       "      <td>185.4</td>\n",
       "      <td>235.8</td>\n",
       "      <td>252.0</td>\n",
       "      <td>242.6</td>\n",
       "      <td>2638.6</td>\n",
       "    </tr>\n",
       "    <tr>\n",
       "      <th>4</th>\n",
       "      <td>Ivory Coast</td>\n",
       "      <td>Ferké</td>\n",
       "      <td>279.0</td>\n",
       "      <td>249.0</td>\n",
       "      <td>253.0</td>\n",
       "      <td>229.0</td>\n",
       "      <td>251.0</td>\n",
       "      <td>221.0</td>\n",
       "      <td>183.0</td>\n",
       "      <td>151.0</td>\n",
       "      <td>173.0</td>\n",
       "      <td>245.0</td>\n",
       "      <td>261.0</td>\n",
       "      <td>262.0</td>\n",
       "      <td>2757.0</td>\n",
       "    </tr>\n",
       "    <tr>\n",
       "      <th>...</th>\n",
       "      <td>...</td>\n",
       "      <td>...</td>\n",
       "      <td>...</td>\n",
       "      <td>...</td>\n",
       "      <td>...</td>\n",
       "      <td>...</td>\n",
       "      <td>...</td>\n",
       "      <td>...</td>\n",
       "      <td>...</td>\n",
       "      <td>...</td>\n",
       "      <td>...</td>\n",
       "      <td>...</td>\n",
       "      <td>...</td>\n",
       "      <td>...</td>\n",
       "      <td>...</td>\n",
       "    </tr>\n",
       "    <tr>\n",
       "      <th>387</th>\n",
       "      <td>New Zealand</td>\n",
       "      <td>Wellington</td>\n",
       "      <td>240.3</td>\n",
       "      <td>205.0</td>\n",
       "      <td>194.7</td>\n",
       "      <td>153.8</td>\n",
       "      <td>126.0</td>\n",
       "      <td>102.3</td>\n",
       "      <td>111.4</td>\n",
       "      <td>137.2</td>\n",
       "      <td>163.2</td>\n",
       "      <td>191.1</td>\n",
       "      <td>210.8</td>\n",
       "      <td>222.9</td>\n",
       "      <td>2058.7</td>\n",
       "    </tr>\n",
       "    <tr>\n",
       "      <th>388</th>\n",
       "      <td>New Zealand</td>\n",
       "      <td>Hamilton</td>\n",
       "      <td>229.8</td>\n",
       "      <td>192.9</td>\n",
       "      <td>193.3</td>\n",
       "      <td>165.1</td>\n",
       "      <td>138.3</td>\n",
       "      <td>112.8</td>\n",
       "      <td>126.4</td>\n",
       "      <td>144.1</td>\n",
       "      <td>147.5</td>\n",
       "      <td>174.8</td>\n",
       "      <td>187.1</td>\n",
       "      <td>207.6</td>\n",
       "      <td>2019.6</td>\n",
       "    </tr>\n",
       "    <tr>\n",
       "      <th>389</th>\n",
       "      <td>New Zealand</td>\n",
       "      <td>Auckland</td>\n",
       "      <td>228.8</td>\n",
       "      <td>194.9</td>\n",
       "      <td>189.2</td>\n",
       "      <td>157.3</td>\n",
       "      <td>139.8</td>\n",
       "      <td>110.3</td>\n",
       "      <td>128.1</td>\n",
       "      <td>142.9</td>\n",
       "      <td>148.6</td>\n",
       "      <td>178.1</td>\n",
       "      <td>188.1</td>\n",
       "      <td>197.2</td>\n",
       "      <td>2003.1</td>\n",
       "    </tr>\n",
       "    <tr>\n",
       "      <th>390</th>\n",
       "      <td>Fiji</td>\n",
       "      <td>Suva</td>\n",
       "      <td>192.2</td>\n",
       "      <td>178.0</td>\n",
       "      <td>170.5</td>\n",
       "      <td>153.0</td>\n",
       "      <td>145.7</td>\n",
       "      <td>141.0</td>\n",
       "      <td>136.4</td>\n",
       "      <td>142.6</td>\n",
       "      <td>135.0</td>\n",
       "      <td>164.3</td>\n",
       "      <td>168.0</td>\n",
       "      <td>195.3</td>\n",
       "      <td>1922.0</td>\n",
       "    </tr>\n",
       "    <tr>\n",
       "      <th>391</th>\n",
       "      <td>New Zealand</td>\n",
       "      <td>Dunedin</td>\n",
       "      <td>179.6</td>\n",
       "      <td>158.0</td>\n",
       "      <td>146.1</td>\n",
       "      <td>125.9</td>\n",
       "      <td>108.4</td>\n",
       "      <td>95.3</td>\n",
       "      <td>110.6</td>\n",
       "      <td>122.2</td>\n",
       "      <td>136.8</td>\n",
       "      <td>165.5</td>\n",
       "      <td>166.9</td>\n",
       "      <td>168.3</td>\n",
       "      <td>1683.7</td>\n",
       "    </tr>\n",
       "  </tbody>\n",
       "</table>\n",
       "<p>392 rows × 15 columns</p>\n",
       "</div>"
      ],
      "text/plain": [
       "         Country        City    Jan    Feb    Mar    Apr    May    Jun    Jul  \\\n",
       "0    Ivory Coast      Gagnoa  183.0  180.0  196.0  188.0  181.0  118.0   97.0   \n",
       "1    Ivory Coast      Bouaké  242.0  224.0  219.0  194.0  208.0  145.0  104.0   \n",
       "2    Ivory Coast     Abidjan  223.0  223.0  239.0  214.0  205.0  128.0  137.0   \n",
       "3    Ivory Coast     Odienné  242.0  220.2  217.3  214.7  248.8  221.8  183.5   \n",
       "4    Ivory Coast       Ferké  279.0  249.0  253.0  229.0  251.0  221.0  183.0   \n",
       "..           ...         ...    ...    ...    ...    ...    ...    ...    ...   \n",
       "387  New Zealand  Wellington  240.3  205.0  194.7  153.8  126.0  102.3  111.4   \n",
       "388  New Zealand    Hamilton  229.8  192.9  193.3  165.1  138.3  112.8  126.4   \n",
       "389  New Zealand    Auckland  228.8  194.9  189.2  157.3  139.8  110.3  128.1   \n",
       "390         Fiji        Suva  192.2  178.0  170.5  153.0  145.7  141.0  136.4   \n",
       "391  New Zealand     Dunedin  179.6  158.0  146.1  125.9  108.4   95.3  110.6   \n",
       "\n",
       "       Aug    Sep    Oct    Nov    Dec    Year  \n",
       "0     80.0  110.0  155.0  171.0  164.0  1823.0  \n",
       "1     82.0  115.0  170.0  191.0  198.0  2092.0  \n",
       "2    125.0  139.0  215.0  224.0  224.0  2296.0  \n",
       "3    174.5  185.4  235.8  252.0  242.6  2638.6  \n",
       "4    151.0  173.0  245.0  261.0  262.0  2757.0  \n",
       "..     ...    ...    ...    ...    ...     ...  \n",
       "387  137.2  163.2  191.1  210.8  222.9  2058.7  \n",
       "388  144.1  147.5  174.8  187.1  207.6  2019.6  \n",
       "389  142.9  148.6  178.1  188.1  197.2  2003.1  \n",
       "390  142.6  135.0  164.3  168.0  195.3  1922.0  \n",
       "391  122.2  136.8  165.5  166.9  168.3  1683.7  \n",
       "\n",
       "[392 rows x 15 columns]"
      ]
     },
     "execution_count": 2,
     "metadata": {},
     "output_type": "execute_result"
    }
   ],
   "source": [
    "data = pd.read_csv('/kaggle/input/sunshine-hours-for-cities-around-the-world/Sunshine hours for cities in the world.csv')\n",
    "data"
   ]
  },
  {
   "cell_type": "markdown",
   "id": "a112a405",
   "metadata": {
    "papermill": {
     "duration": 0.009126,
     "end_time": "2023-08-25T06:05:19.672331",
     "exception": false,
     "start_time": "2023-08-25T06:05:19.663205",
     "status": "completed"
    },
    "tags": []
   },
   "source": [
    "## Task1: Check null values and duplicates"
   ]
  },
  {
   "cell_type": "code",
   "execution_count": 3,
   "id": "e9c94e30",
   "metadata": {
    "execution": {
     "iopub.execute_input": "2023-08-25T06:05:19.693019Z",
     "iopub.status.busy": "2023-08-25T06:05:19.692321Z",
     "iopub.status.idle": "2023-08-25T06:05:19.704946Z",
     "shell.execute_reply": "2023-08-25T06:05:19.704013Z"
    },
    "papermill": {
     "duration": 0.02543,
     "end_time": "2023-08-25T06:05:19.707060",
     "exception": false,
     "start_time": "2023-08-25T06:05:19.681630",
     "status": "completed"
    },
    "tags": []
   },
   "outputs": [
    {
     "data": {
      "text/plain": [
       "Country    0\n",
       "City       0\n",
       "Jan        0\n",
       "Feb        0\n",
       "Mar        0\n",
       "Apr        0\n",
       "May        0\n",
       "Jun        0\n",
       "Jul        0\n",
       "Aug        0\n",
       "Sep        0\n",
       "Oct        0\n",
       "Nov        0\n",
       "Dec        0\n",
       "Year       0\n",
       "dtype: int64"
      ]
     },
     "execution_count": 3,
     "metadata": {},
     "output_type": "execute_result"
    }
   ],
   "source": [
    "data.isnull().sum()"
   ]
  },
  {
   "cell_type": "markdown",
   "id": "e0ceb9ac",
   "metadata": {
    "papermill": {
     "duration": 0.009371,
     "end_time": "2023-08-25T06:05:19.726404",
     "exception": false,
     "start_time": "2023-08-25T06:05:19.717033",
     "status": "completed"
    },
    "tags": []
   },
   "source": [
    "it means, there are no null values in dataset"
   ]
  },
  {
   "cell_type": "code",
   "execution_count": 4,
   "id": "a9d3e62c",
   "metadata": {
    "execution": {
     "iopub.execute_input": "2023-08-25T06:05:19.747956Z",
     "iopub.status.busy": "2023-08-25T06:05:19.747188Z",
     "iopub.status.idle": "2023-08-25T06:05:19.784624Z",
     "shell.execute_reply": "2023-08-25T06:05:19.783608Z"
    },
    "papermill": {
     "duration": 0.050905,
     "end_time": "2023-08-25T06:05:19.786787",
     "exception": false,
     "start_time": "2023-08-25T06:05:19.735882",
     "status": "completed"
    },
    "tags": []
   },
   "outputs": [
    {
     "data": {
      "text/html": [
       "<div>\n",
       "<style scoped>\n",
       "    .dataframe tbody tr th:only-of-type {\n",
       "        vertical-align: middle;\n",
       "    }\n",
       "\n",
       "    .dataframe tbody tr th {\n",
       "        vertical-align: top;\n",
       "    }\n",
       "\n",
       "    .dataframe thead th {\n",
       "        text-align: right;\n",
       "    }\n",
       "</style>\n",
       "<table border=\"1\" class=\"dataframe\">\n",
       "  <thead>\n",
       "    <tr style=\"text-align: right;\">\n",
       "      <th></th>\n",
       "      <th>Country</th>\n",
       "      <th>City</th>\n",
       "      <th>Jan</th>\n",
       "      <th>Feb</th>\n",
       "      <th>Mar</th>\n",
       "      <th>Apr</th>\n",
       "      <th>May</th>\n",
       "      <th>Jun</th>\n",
       "      <th>Jul</th>\n",
       "      <th>Aug</th>\n",
       "      <th>Sep</th>\n",
       "      <th>Oct</th>\n",
       "      <th>Nov</th>\n",
       "      <th>Dec</th>\n",
       "      <th>Year</th>\n",
       "    </tr>\n",
       "  </thead>\n",
       "  <tbody>\n",
       "    <tr>\n",
       "      <th>0</th>\n",
       "      <td>Ivory Coast</td>\n",
       "      <td>Gagnoa</td>\n",
       "      <td>183.0</td>\n",
       "      <td>180.0</td>\n",
       "      <td>196.0</td>\n",
       "      <td>188.0</td>\n",
       "      <td>181.0</td>\n",
       "      <td>118.0</td>\n",
       "      <td>97.0</td>\n",
       "      <td>80.0</td>\n",
       "      <td>110.0</td>\n",
       "      <td>155.0</td>\n",
       "      <td>171.0</td>\n",
       "      <td>164.0</td>\n",
       "      <td>1823.0</td>\n",
       "    </tr>\n",
       "    <tr>\n",
       "      <th>1</th>\n",
       "      <td>Ivory Coast</td>\n",
       "      <td>Bouaké</td>\n",
       "      <td>242.0</td>\n",
       "      <td>224.0</td>\n",
       "      <td>219.0</td>\n",
       "      <td>194.0</td>\n",
       "      <td>208.0</td>\n",
       "      <td>145.0</td>\n",
       "      <td>104.0</td>\n",
       "      <td>82.0</td>\n",
       "      <td>115.0</td>\n",
       "      <td>170.0</td>\n",
       "      <td>191.0</td>\n",
       "      <td>198.0</td>\n",
       "      <td>2092.0</td>\n",
       "    </tr>\n",
       "    <tr>\n",
       "      <th>2</th>\n",
       "      <td>Ivory Coast</td>\n",
       "      <td>Abidjan</td>\n",
       "      <td>223.0</td>\n",
       "      <td>223.0</td>\n",
       "      <td>239.0</td>\n",
       "      <td>214.0</td>\n",
       "      <td>205.0</td>\n",
       "      <td>128.0</td>\n",
       "      <td>137.0</td>\n",
       "      <td>125.0</td>\n",
       "      <td>139.0</td>\n",
       "      <td>215.0</td>\n",
       "      <td>224.0</td>\n",
       "      <td>224.0</td>\n",
       "      <td>2296.0</td>\n",
       "    </tr>\n",
       "    <tr>\n",
       "      <th>3</th>\n",
       "      <td>Ivory Coast</td>\n",
       "      <td>Odienné</td>\n",
       "      <td>242.0</td>\n",
       "      <td>220.2</td>\n",
       "      <td>217.3</td>\n",
       "      <td>214.7</td>\n",
       "      <td>248.8</td>\n",
       "      <td>221.8</td>\n",
       "      <td>183.5</td>\n",
       "      <td>174.5</td>\n",
       "      <td>185.4</td>\n",
       "      <td>235.8</td>\n",
       "      <td>252.0</td>\n",
       "      <td>242.6</td>\n",
       "      <td>2638.6</td>\n",
       "    </tr>\n",
       "    <tr>\n",
       "      <th>4</th>\n",
       "      <td>Ivory Coast</td>\n",
       "      <td>Ferké</td>\n",
       "      <td>279.0</td>\n",
       "      <td>249.0</td>\n",
       "      <td>253.0</td>\n",
       "      <td>229.0</td>\n",
       "      <td>251.0</td>\n",
       "      <td>221.0</td>\n",
       "      <td>183.0</td>\n",
       "      <td>151.0</td>\n",
       "      <td>173.0</td>\n",
       "      <td>245.0</td>\n",
       "      <td>261.0</td>\n",
       "      <td>262.0</td>\n",
       "      <td>2757.0</td>\n",
       "    </tr>\n",
       "    <tr>\n",
       "      <th>...</th>\n",
       "      <td>...</td>\n",
       "      <td>...</td>\n",
       "      <td>...</td>\n",
       "      <td>...</td>\n",
       "      <td>...</td>\n",
       "      <td>...</td>\n",
       "      <td>...</td>\n",
       "      <td>...</td>\n",
       "      <td>...</td>\n",
       "      <td>...</td>\n",
       "      <td>...</td>\n",
       "      <td>...</td>\n",
       "      <td>...</td>\n",
       "      <td>...</td>\n",
       "      <td>...</td>\n",
       "    </tr>\n",
       "    <tr>\n",
       "      <th>387</th>\n",
       "      <td>New Zealand</td>\n",
       "      <td>Wellington</td>\n",
       "      <td>240.3</td>\n",
       "      <td>205.0</td>\n",
       "      <td>194.7</td>\n",
       "      <td>153.8</td>\n",
       "      <td>126.0</td>\n",
       "      <td>102.3</td>\n",
       "      <td>111.4</td>\n",
       "      <td>137.2</td>\n",
       "      <td>163.2</td>\n",
       "      <td>191.1</td>\n",
       "      <td>210.8</td>\n",
       "      <td>222.9</td>\n",
       "      <td>2058.7</td>\n",
       "    </tr>\n",
       "    <tr>\n",
       "      <th>388</th>\n",
       "      <td>New Zealand</td>\n",
       "      <td>Hamilton</td>\n",
       "      <td>229.8</td>\n",
       "      <td>192.9</td>\n",
       "      <td>193.3</td>\n",
       "      <td>165.1</td>\n",
       "      <td>138.3</td>\n",
       "      <td>112.8</td>\n",
       "      <td>126.4</td>\n",
       "      <td>144.1</td>\n",
       "      <td>147.5</td>\n",
       "      <td>174.8</td>\n",
       "      <td>187.1</td>\n",
       "      <td>207.6</td>\n",
       "      <td>2019.6</td>\n",
       "    </tr>\n",
       "    <tr>\n",
       "      <th>389</th>\n",
       "      <td>New Zealand</td>\n",
       "      <td>Auckland</td>\n",
       "      <td>228.8</td>\n",
       "      <td>194.9</td>\n",
       "      <td>189.2</td>\n",
       "      <td>157.3</td>\n",
       "      <td>139.8</td>\n",
       "      <td>110.3</td>\n",
       "      <td>128.1</td>\n",
       "      <td>142.9</td>\n",
       "      <td>148.6</td>\n",
       "      <td>178.1</td>\n",
       "      <td>188.1</td>\n",
       "      <td>197.2</td>\n",
       "      <td>2003.1</td>\n",
       "    </tr>\n",
       "    <tr>\n",
       "      <th>390</th>\n",
       "      <td>Fiji</td>\n",
       "      <td>Suva</td>\n",
       "      <td>192.2</td>\n",
       "      <td>178.0</td>\n",
       "      <td>170.5</td>\n",
       "      <td>153.0</td>\n",
       "      <td>145.7</td>\n",
       "      <td>141.0</td>\n",
       "      <td>136.4</td>\n",
       "      <td>142.6</td>\n",
       "      <td>135.0</td>\n",
       "      <td>164.3</td>\n",
       "      <td>168.0</td>\n",
       "      <td>195.3</td>\n",
       "      <td>1922.0</td>\n",
       "    </tr>\n",
       "    <tr>\n",
       "      <th>391</th>\n",
       "      <td>New Zealand</td>\n",
       "      <td>Dunedin</td>\n",
       "      <td>179.6</td>\n",
       "      <td>158.0</td>\n",
       "      <td>146.1</td>\n",
       "      <td>125.9</td>\n",
       "      <td>108.4</td>\n",
       "      <td>95.3</td>\n",
       "      <td>110.6</td>\n",
       "      <td>122.2</td>\n",
       "      <td>136.8</td>\n",
       "      <td>165.5</td>\n",
       "      <td>166.9</td>\n",
       "      <td>168.3</td>\n",
       "      <td>1683.7</td>\n",
       "    </tr>\n",
       "  </tbody>\n",
       "</table>\n",
       "<p>392 rows × 15 columns</p>\n",
       "</div>"
      ],
      "text/plain": [
       "         Country        City    Jan    Feb    Mar    Apr    May    Jun    Jul  \\\n",
       "0    Ivory Coast      Gagnoa  183.0  180.0  196.0  188.0  181.0  118.0   97.0   \n",
       "1    Ivory Coast      Bouaké  242.0  224.0  219.0  194.0  208.0  145.0  104.0   \n",
       "2    Ivory Coast     Abidjan  223.0  223.0  239.0  214.0  205.0  128.0  137.0   \n",
       "3    Ivory Coast     Odienné  242.0  220.2  217.3  214.7  248.8  221.8  183.5   \n",
       "4    Ivory Coast       Ferké  279.0  249.0  253.0  229.0  251.0  221.0  183.0   \n",
       "..           ...         ...    ...    ...    ...    ...    ...    ...    ...   \n",
       "387  New Zealand  Wellington  240.3  205.0  194.7  153.8  126.0  102.3  111.4   \n",
       "388  New Zealand    Hamilton  229.8  192.9  193.3  165.1  138.3  112.8  126.4   \n",
       "389  New Zealand    Auckland  228.8  194.9  189.2  157.3  139.8  110.3  128.1   \n",
       "390         Fiji        Suva  192.2  178.0  170.5  153.0  145.7  141.0  136.4   \n",
       "391  New Zealand     Dunedin  179.6  158.0  146.1  125.9  108.4   95.3  110.6   \n",
       "\n",
       "       Aug    Sep    Oct    Nov    Dec    Year  \n",
       "0     80.0  110.0  155.0  171.0  164.0  1823.0  \n",
       "1     82.0  115.0  170.0  191.0  198.0  2092.0  \n",
       "2    125.0  139.0  215.0  224.0  224.0  2296.0  \n",
       "3    174.5  185.4  235.8  252.0  242.6  2638.6  \n",
       "4    151.0  173.0  245.0  261.0  262.0  2757.0  \n",
       "..     ...    ...    ...    ...    ...     ...  \n",
       "387  137.2  163.2  191.1  210.8  222.9  2058.7  \n",
       "388  144.1  147.5  174.8  187.1  207.6  2019.6  \n",
       "389  142.9  148.6  178.1  188.1  197.2  2003.1  \n",
       "390  142.6  135.0  164.3  168.0  195.3  1922.0  \n",
       "391  122.2  136.8  165.5  166.9  168.3  1683.7  \n",
       "\n",
       "[392 rows x 15 columns]"
      ]
     },
     "execution_count": 4,
     "metadata": {},
     "output_type": "execute_result"
    }
   ],
   "source": [
    "## drop duplicates\n",
    "data = data.drop_duplicates()\n",
    "data"
   ]
  },
  {
   "cell_type": "markdown",
   "id": "f6e7d366",
   "metadata": {
    "papermill": {
     "duration": 0.009642,
     "end_time": "2023-08-25T06:05:19.806158",
     "exception": false,
     "start_time": "2023-08-25T06:05:19.796516",
     "status": "completed"
    },
    "tags": []
   },
   "source": [
    "it means, there were no duplicates rows"
   ]
  },
  {
   "cell_type": "markdown",
   "id": "d202ee3b",
   "metadata": {
    "papermill": {
     "duration": 0.009603,
     "end_time": "2023-08-25T06:05:19.825447",
     "exception": false,
     "start_time": "2023-08-25T06:05:19.815844",
     "status": "completed"
    },
    "tags": []
   },
   "source": [
    "## Task2: Analysis on Country column"
   ]
  },
  {
   "cell_type": "code",
   "execution_count": 5,
   "id": "fefae883",
   "metadata": {
    "execution": {
     "iopub.execute_input": "2023-08-25T06:05:19.847140Z",
     "iopub.status.busy": "2023-08-25T06:05:19.846434Z",
     "iopub.status.idle": "2023-08-25T06:05:19.853120Z",
     "shell.execute_reply": "2023-08-25T06:05:19.852330Z"
    },
    "papermill": {
     "duration": 0.020006,
     "end_time": "2023-08-25T06:05:19.855163",
     "exception": false,
     "start_time": "2023-08-25T06:05:19.835157",
     "status": "completed"
    },
    "tags": []
   },
   "outputs": [
    {
     "data": {
      "text/plain": [
       "141"
      ]
     },
     "execution_count": 5,
     "metadata": {},
     "output_type": "execute_result"
    }
   ],
   "source": [
    "data['Country'].nunique()"
   ]
  },
  {
   "cell_type": "code",
   "execution_count": 6,
   "id": "7a361f3c",
   "metadata": {
    "execution": {
     "iopub.execute_input": "2023-08-25T06:05:19.877428Z",
     "iopub.status.busy": "2023-08-25T06:05:19.876703Z",
     "iopub.status.idle": "2023-08-25T06:05:19.897918Z",
     "shell.execute_reply": "2023-08-25T06:05:19.896800Z"
    },
    "papermill": {
     "duration": 0.034933,
     "end_time": "2023-08-25T06:05:19.900057",
     "exception": false,
     "start_time": "2023-08-25T06:05:19.865124",
     "status": "completed"
    },
    "tags": []
   },
   "outputs": [
    {
     "data": {
      "text/html": [
       "<div>\n",
       "<style scoped>\n",
       "    .dataframe tbody tr th:only-of-type {\n",
       "        vertical-align: middle;\n",
       "    }\n",
       "\n",
       "    .dataframe tbody tr th {\n",
       "        vertical-align: top;\n",
       "    }\n",
       "\n",
       "    .dataframe thead th {\n",
       "        text-align: right;\n",
       "    }\n",
       "</style>\n",
       "<table border=\"1\" class=\"dataframe\">\n",
       "  <thead>\n",
       "    <tr style=\"text-align: right;\">\n",
       "      <th></th>\n",
       "      <th>count</th>\n",
       "    </tr>\n",
       "    <tr>\n",
       "      <th>Country</th>\n",
       "      <th></th>\n",
       "    </tr>\n",
       "  </thead>\n",
       "  <tbody>\n",
       "    <tr>\n",
       "      <th>Afghanistan</th>\n",
       "      <td>1</td>\n",
       "    </tr>\n",
       "    <tr>\n",
       "      <th>Albania</th>\n",
       "      <td>1</td>\n",
       "    </tr>\n",
       "    <tr>\n",
       "      <th>Algeria</th>\n",
       "      <td>2</td>\n",
       "    </tr>\n",
       "    <tr>\n",
       "      <th>Angola</th>\n",
       "      <td>1</td>\n",
       "    </tr>\n",
       "    <tr>\n",
       "      <th>Argentina</th>\n",
       "      <td>6</td>\n",
       "    </tr>\n",
       "    <tr>\n",
       "      <th>...</th>\n",
       "      <td>...</td>\n",
       "    </tr>\n",
       "    <tr>\n",
       "      <th>Uzbekistan</th>\n",
       "      <td>1</td>\n",
       "    </tr>\n",
       "    <tr>\n",
       "      <th>Venezuela</th>\n",
       "      <td>3</td>\n",
       "    </tr>\n",
       "    <tr>\n",
       "      <th>Vietnam</th>\n",
       "      <td>4</td>\n",
       "    </tr>\n",
       "    <tr>\n",
       "      <th>Zambia</th>\n",
       "      <td>3</td>\n",
       "    </tr>\n",
       "    <tr>\n",
       "      <th>Zimbabwe</th>\n",
       "      <td>2</td>\n",
       "    </tr>\n",
       "  </tbody>\n",
       "</table>\n",
       "<p>141 rows × 1 columns</p>\n",
       "</div>"
      ],
      "text/plain": [
       "             count\n",
       "Country           \n",
       "Afghanistan      1\n",
       "Albania          1\n",
       "Algeria          2\n",
       "Angola           1\n",
       "Argentina        6\n",
       "...            ...\n",
       "Uzbekistan       1\n",
       "Venezuela        3\n",
       "Vietnam          4\n",
       "Zambia           3\n",
       "Zimbabwe         2\n",
       "\n",
       "[141 rows x 1 columns]"
      ]
     },
     "execution_count": 6,
     "metadata": {},
     "output_type": "execute_result"
    }
   ],
   "source": [
    "data.groupby('Country').agg(count = ('Country','size'))"
   ]
  },
  {
   "cell_type": "markdown",
   "id": "44c38e44",
   "metadata": {
    "papermill": {
     "duration": 0.010288,
     "end_time": "2023-08-25T06:05:19.920735",
     "exception": false,
     "start_time": "2023-08-25T06:05:19.910447",
     "status": "completed"
    },
    "tags": []
   },
   "source": [
    "There were total 141 countries are there."
   ]
  },
  {
   "cell_type": "code",
   "execution_count": 7,
   "id": "6e57a5b3",
   "metadata": {
    "execution": {
     "iopub.execute_input": "2023-08-25T06:05:19.944177Z",
     "iopub.status.busy": "2023-08-25T06:05:19.943472Z",
     "iopub.status.idle": "2023-08-25T06:05:19.957874Z",
     "shell.execute_reply": "2023-08-25T06:05:19.956590Z"
    },
    "papermill": {
     "duration": 0.029104,
     "end_time": "2023-08-25T06:05:19.960187",
     "exception": false,
     "start_time": "2023-08-25T06:05:19.931083",
     "status": "completed"
    },
    "tags": []
   },
   "outputs": [
    {
     "data": {
      "text/plain": [
       "array(['United States', 54], dtype=object)"
      ]
     },
     "execution_count": 7,
     "metadata": {},
     "output_type": "execute_result"
    }
   ],
   "source": [
    "data.groupby('Country').agg(count = ('Country','size')).reset_index().sort_values(by = 'count',ascending = False).values[0]"
   ]
  },
  {
   "cell_type": "code",
   "execution_count": 8,
   "id": "534dd82f",
   "metadata": {
    "execution": {
     "iopub.execute_input": "2023-08-25T06:05:19.985777Z",
     "iopub.status.busy": "2023-08-25T06:05:19.985426Z",
     "iopub.status.idle": "2023-08-25T06:05:20.002498Z",
     "shell.execute_reply": "2023-08-25T06:05:20.001489Z"
    },
    "papermill": {
     "duration": 0.03067,
     "end_time": "2023-08-25T06:05:20.004610",
     "exception": false,
     "start_time": "2023-08-25T06:05:19.973940",
     "status": "completed"
    },
    "tags": []
   },
   "outputs": [
    {
     "data": {
      "text/html": [
       "<div>\n",
       "<style scoped>\n",
       "    .dataframe tbody tr th:only-of-type {\n",
       "        vertical-align: middle;\n",
       "    }\n",
       "\n",
       "    .dataframe tbody tr th {\n",
       "        vertical-align: top;\n",
       "    }\n",
       "\n",
       "    .dataframe thead th {\n",
       "        text-align: right;\n",
       "    }\n",
       "</style>\n",
       "<table border=\"1\" class=\"dataframe\">\n",
       "  <thead>\n",
       "    <tr style=\"text-align: right;\">\n",
       "      <th></th>\n",
       "      <th>Country</th>\n",
       "      <th>count</th>\n",
       "    </tr>\n",
       "  </thead>\n",
       "  <tbody>\n",
       "    <tr>\n",
       "      <th>134</th>\n",
       "      <td>United States</td>\n",
       "      <td>54</td>\n",
       "    </tr>\n",
       "    <tr>\n",
       "      <th>6</th>\n",
       "      <td>Australia</td>\n",
       "      <td>15</td>\n",
       "    </tr>\n",
       "    <tr>\n",
       "      <th>25</th>\n",
       "      <td>China</td>\n",
       "      <td>15</td>\n",
       "    </tr>\n",
       "    <tr>\n",
       "      <th>16</th>\n",
       "      <td>Brazil</td>\n",
       "      <td>11</td>\n",
       "    </tr>\n",
       "    <tr>\n",
       "      <th>21</th>\n",
       "      <td>Canada</td>\n",
       "      <td>9</td>\n",
       "    </tr>\n",
       "    <tr>\n",
       "      <th>107</th>\n",
       "      <td>Russia</td>\n",
       "      <td>8</td>\n",
       "    </tr>\n",
       "    <tr>\n",
       "      <th>75</th>\n",
       "      <td>Madagascar</td>\n",
       "      <td>6</td>\n",
       "    </tr>\n",
       "    <tr>\n",
       "      <th>117</th>\n",
       "      <td>South Africa</td>\n",
       "      <td>6</td>\n",
       "    </tr>\n",
       "    <tr>\n",
       "      <th>4</th>\n",
       "      <td>Argentina</td>\n",
       "      <td>6</td>\n",
       "    </tr>\n",
       "    <tr>\n",
       "      <th>120</th>\n",
       "      <td>Spain</td>\n",
       "      <td>6</td>\n",
       "    </tr>\n",
       "  </tbody>\n",
       "</table>\n",
       "</div>"
      ],
      "text/plain": [
       "           Country  count\n",
       "134  United States     54\n",
       "6        Australia     15\n",
       "25           China     15\n",
       "16          Brazil     11\n",
       "21          Canada      9\n",
       "107         Russia      8\n",
       "75      Madagascar      6\n",
       "117   South Africa      6\n",
       "4        Argentina      6\n",
       "120          Spain      6"
      ]
     },
     "execution_count": 8,
     "metadata": {},
     "output_type": "execute_result"
    }
   ],
   "source": [
    "## Now, find top 10 countries that have maximum citties\n",
    "top_10_country = data.groupby('Country').agg(count = ('Country','size')).reset_index()\n",
    "top_10_country = top_10_country.sort_values(by = 'count', ascending=False)[:10]\n",
    "top_10_country"
   ]
  },
  {
   "cell_type": "code",
   "execution_count": 9,
   "id": "805853c3",
   "metadata": {
    "execution": {
     "iopub.execute_input": "2023-08-25T06:05:20.027621Z",
     "iopub.status.busy": "2023-08-25T06:05:20.027008Z",
     "iopub.status.idle": "2023-08-25T06:05:20.331609Z",
     "shell.execute_reply": "2023-08-25T06:05:20.330440Z"
    },
    "papermill": {
     "duration": 0.318551,
     "end_time": "2023-08-25T06:05:20.333908",
     "exception": false,
     "start_time": "2023-08-25T06:05:20.015357",
     "status": "completed"
    },
    "tags": []
   },
   "outputs": [
    {
     "data": {
      "image/png": "[encoded data removed]",
      "text/plain": [
       "<Figure size 640x480 with 1 Axes>"
      ]
     },
     "metadata": {},
     "output_type": "display_data"
    }
   ],
   "source": [
    "sns.barplot(x = 'Country', y='count', data=top_10_country)\n",
    "plt.title('Top 10 Countries based on count in dataset')\n",
    "plt.xticks(rotation=90)\n",
    "plt.show()"
   ]
  },
  {
   "cell_type": "markdown",
   "id": "04a9c804",
   "metadata": {
    "papermill": {
     "duration": 0.011382,
     "end_time": "2023-08-25T06:05:20.356386",
     "exception": false,
     "start_time": "2023-08-25T06:05:20.345004",
     "status": "completed"
    },
    "tags": []
   },
   "source": [
    "it means, most cities are present in dataset of United States"
   ]
  },
  {
   "cell_type": "code",
   "execution_count": 10,
   "id": "1416cc0f",
   "metadata": {
    "execution": {
     "iopub.execute_input": "2023-08-25T06:05:20.380430Z",
     "iopub.status.busy": "2023-08-25T06:05:20.380034Z",
     "iopub.status.idle": "2023-08-25T06:05:20.392666Z",
     "shell.execute_reply": "2023-08-25T06:05:20.391736Z"
    },
    "papermill": {
     "duration": 0.027576,
     "end_time": "2023-08-25T06:05:20.395026",
     "exception": false,
     "start_time": "2023-08-25T06:05:20.367450",
     "status": "completed"
    },
    "tags": []
   },
   "outputs": [],
   "source": [
    " data1 = data.groupby('Country')['Year'].max().sort_values(ascending = False).reset_index()[:10]"
   ]
  },
  {
   "cell_type": "code",
   "execution_count": 11,
   "id": "db1ec41c",
   "metadata": {
    "execution": {
     "iopub.execute_input": "2023-08-25T06:05:20.418857Z",
     "iopub.status.busy": "2023-08-25T06:05:20.418509Z",
     "iopub.status.idle": "2023-08-25T06:05:20.704383Z",
     "shell.execute_reply": "2023-08-25T06:05:20.703193Z"
    },
    "papermill": {
     "duration": 0.300649,
     "end_time": "2023-08-25T06:05:20.706873",
     "exception": false,
     "start_time": "2023-08-25T06:05:20.406224",
     "status": "completed"
    },
    "tags": []
   },
   "outputs": [
    {
     "data": {
      "image/png": "[encoded data removed]",
      "text/plain": [
       "<Figure size 800x700 with 1 Axes>"
      ]
     },
     "metadata": {},
     "output_type": "display_data"
    }
   ],
   "source": [
    "plt.figure(figsize = (8,7))\n",
    "sns.barplot(x = 'Country',y = 'Year', data = data1)\n",
    "plt.xticks(rotation = 45)\n",
    "plt.show()"
   ]
  },
  {
   "cell_type": "code",
   "execution_count": 12,
   "id": "4e382375",
   "metadata": {
    "execution": {
     "iopub.execute_input": "2023-08-25T06:05:20.731791Z",
     "iopub.status.busy": "2023-08-25T06:05:20.731423Z",
     "iopub.status.idle": "2023-08-25T06:05:20.749833Z",
     "shell.execute_reply": "2023-08-25T06:05:20.748843Z"
    },
    "papermill": {
     "duration": 0.033451,
     "end_time": "2023-08-25T06:05:20.751955",
     "exception": false,
     "start_time": "2023-08-25T06:05:20.718504",
     "status": "completed"
    },
    "tags": []
   },
   "outputs": [
    {
     "data": {
      "text/html": [
       "<div>\n",
       "<style scoped>\n",
       "    .dataframe tbody tr th:only-of-type {\n",
       "        vertical-align: middle;\n",
       "    }\n",
       "\n",
       "    .dataframe tbody tr th {\n",
       "        vertical-align: top;\n",
       "    }\n",
       "\n",
       "    .dataframe thead th {\n",
       "        text-align: right;\n",
       "    }\n",
       "</style>\n",
       "<table border=\"1\" class=\"dataframe\">\n",
       "  <thead>\n",
       "    <tr style=\"text-align: right;\">\n",
       "      <th></th>\n",
       "      <th>Country</th>\n",
       "      <th>max_sunshine_hour</th>\n",
       "    </tr>\n",
       "  </thead>\n",
       "  <tbody>\n",
       "    <tr>\n",
       "      <th>134</th>\n",
       "      <td>United States</td>\n",
       "      <td>4015.3</td>\n",
       "    </tr>\n",
       "    <tr>\n",
       "      <th>35</th>\n",
       "      <td>Egypt</td>\n",
       "      <td>3958.0</td>\n",
       "    </tr>\n",
       "    <tr>\n",
       "      <th>24</th>\n",
       "      <td>Chile</td>\n",
       "      <td>3926.2</td>\n",
       "    </tr>\n",
       "    <tr>\n",
       "      <th>87</th>\n",
       "      <td>Namibia</td>\n",
       "      <td>3870.0</td>\n",
       "    </tr>\n",
       "    <tr>\n",
       "      <th>121</th>\n",
       "      <td>Sudan</td>\n",
       "      <td>3737.1</td>\n",
       "    </tr>\n",
       "    <tr>\n",
       "      <th>117</th>\n",
       "      <td>South Africa</td>\n",
       "      <td>3731.8</td>\n",
       "    </tr>\n",
       "    <tr>\n",
       "      <th>2</th>\n",
       "      <td>Algeria</td>\n",
       "      <td>3686.0</td>\n",
       "    </tr>\n",
       "    <tr>\n",
       "      <th>75</th>\n",
       "      <td>Madagascar</td>\n",
       "      <td>3610.0</td>\n",
       "    </tr>\n",
       "    <tr>\n",
       "      <th>69</th>\n",
       "      <td>Kenya</td>\n",
       "      <td>3582.0</td>\n",
       "    </tr>\n",
       "    <tr>\n",
       "      <th>15</th>\n",
       "      <td>Botswana</td>\n",
       "      <td>3579.0</td>\n",
       "    </tr>\n",
       "  </tbody>\n",
       "</table>\n",
       "</div>"
      ],
      "text/plain": [
       "           Country  max_sunshine_hour\n",
       "134  United States             4015.3\n",
       "35           Egypt             3958.0\n",
       "24           Chile             3926.2\n",
       "87         Namibia             3870.0\n",
       "121          Sudan             3737.1\n",
       "117   South Africa             3731.8\n",
       "2          Algeria             3686.0\n",
       "75      Madagascar             3610.0\n",
       "69           Kenya             3582.0\n",
       "15        Botswana             3579.0"
      ]
     },
     "execution_count": 12,
     "metadata": {},
     "output_type": "execute_result"
    }
   ],
   "source": [
    "## Analyze and visualize like which country has highest sunshine hours in a complete year.\n",
    "top_10_country_year = data.groupby('Country').agg(max_sunshine_hour = ('Year', 'max')).reset_index()\n",
    "top_10_country_year = top_10_country_year.sort_values(by = 'max_sunshine_hour', ascending=False)[:10]\n",
    "top_10_country_year"
   ]
  },
  {
   "cell_type": "code",
   "execution_count": 13,
   "id": "b2c798fc",
   "metadata": {
    "execution": {
     "iopub.execute_input": "2023-08-25T06:05:20.777986Z",
     "iopub.status.busy": "2023-08-25T06:05:20.776826Z",
     "iopub.status.idle": "2023-08-25T06:05:21.100521Z",
     "shell.execute_reply": "2023-08-25T06:05:21.099348Z"
    },
    "papermill": {
     "duration": 0.339366,
     "end_time": "2023-08-25T06:05:21.103157",
     "exception": false,
     "start_time": "2023-08-25T06:05:20.763791",
     "status": "completed"
    },
    "tags": []
   },
   "outputs": [
    {
     "data": {
      "image/png": "[encoded data removed]",
      "text/plain": [
       "<Figure size 640x480 with 1 Axes>"
      ]
     },
     "metadata": {},
     "output_type": "display_data"
    }
   ],
   "source": [
    "labels = top_10_country_year['Country']\n",
    "plt.pie(x=top_10_country_year['max_sunshine_hour'], labels=labels,autopct='%1.1f%%')\n",
    "plt.legend()\n",
    "plt.show()"
   ]
  },
  {
   "cell_type": "markdown",
   "id": "de42cb33",
   "metadata": {
    "papermill": {
     "duration": 0.012651,
     "end_time": "2023-08-25T06:05:21.128589",
     "exception": false,
     "start_time": "2023-08-25T06:05:21.115938",
     "status": "completed"
    },
    "tags": []
   },
   "source": [
    "it means, United States has maximum sunshine hours in their cities in a complete year"
   ]
  },
  {
   "cell_type": "markdown",
   "id": "110d317b",
   "metadata": {
    "papermill": {
     "duration": 0.012777,
     "end_time": "2023-08-25T06:05:21.154218",
     "exception": false,
     "start_time": "2023-08-25T06:05:21.141441",
     "status": "completed"
    },
    "tags": []
   },
   "source": [
    "## Task3: Analysis City column"
   ]
  },
  {
   "cell_type": "code",
   "execution_count": 14,
   "id": "e31eee7f",
   "metadata": {
    "execution": {
     "iopub.execute_input": "2023-08-25T06:05:21.181269Z",
     "iopub.status.busy": "2023-08-25T06:05:21.180861Z",
     "iopub.status.idle": "2023-08-25T06:05:21.187932Z",
     "shell.execute_reply": "2023-08-25T06:05:21.187020Z"
    },
    "papermill": {
     "duration": 0.022896,
     "end_time": "2023-08-25T06:05:21.189906",
     "exception": false,
     "start_time": "2023-08-25T06:05:21.167010",
     "status": "completed"
    },
    "tags": []
   },
   "outputs": [
    {
     "data": {
      "text/plain": [
       "391"
      ]
     },
     "execution_count": 14,
     "metadata": {},
     "output_type": "execute_result"
    }
   ],
   "source": [
    "data['City'].nunique()"
   ]
  },
  {
   "cell_type": "markdown",
   "id": "5f5f27f9",
   "metadata": {
    "papermill": {
     "duration": 0.012177,
     "end_time": "2023-08-25T06:05:21.214635",
     "exception": false,
     "start_time": "2023-08-25T06:05:21.202458",
     "status": "completed"
    },
    "tags": []
   },
   "source": [
    "it means, there were total 391 unique cities are there, but ideally it should be 392."
   ]
  },
  {
   "cell_type": "code",
   "execution_count": 15,
   "id": "e5e713e5",
   "metadata": {
    "execution": {
     "iopub.execute_input": "2023-08-25T06:05:21.242151Z",
     "iopub.status.busy": "2023-08-25T06:05:21.241742Z",
     "iopub.status.idle": "2023-08-25T06:05:21.252015Z",
     "shell.execute_reply": "2023-08-25T06:05:21.251289Z"
    },
    "papermill": {
     "duration": 0.026571,
     "end_time": "2023-08-25T06:05:21.253847",
     "exception": false,
     "start_time": "2023-08-25T06:05:21.227276",
     "status": "completed"
    },
    "tags": []
   },
   "outputs": [
    {
     "data": {
      "text/plain": [
       "La Paz      2\n",
       "Gagnoa      1\n",
       "Valencia    1\n",
       "La Ceiba    1\n",
       "Winnipeg    1\n",
       "           ..\n",
       "Wuhan       1\n",
       "Ürümqi      1\n",
       "Tianjin     1\n",
       "Shanghai    1\n",
       "Dunedin     1\n",
       "Name: City, Length: 391, dtype: int64"
      ]
     },
     "execution_count": 15,
     "metadata": {},
     "output_type": "execute_result"
    }
   ],
   "source": [
    "data['City'].value_counts()"
   ]
  },
  {
   "cell_type": "markdown",
   "id": "37e2aff8",
   "metadata": {
    "papermill": {
     "duration": 0.012437,
     "end_time": "2023-08-25T06:05:21.279161",
     "exception": false,
     "start_time": "2023-08-25T06:05:21.266724",
     "status": "completed"
    },
    "tags": []
   },
   "source": [
    "it means, city \"La Paz\" is present 2 times in dataset"
   ]
  },
  {
   "cell_type": "code",
   "execution_count": 16,
   "id": "b5f61bd3",
   "metadata": {
    "execution": {
     "iopub.execute_input": "2023-08-25T06:05:21.306918Z",
     "iopub.status.busy": "2023-08-25T06:05:21.305728Z",
     "iopub.status.idle": "2023-08-25T06:05:21.326516Z",
     "shell.execute_reply": "2023-08-25T06:05:21.325483Z"
    },
    "papermill": {
     "duration": 0.037297,
     "end_time": "2023-08-25T06:05:21.329087",
     "exception": false,
     "start_time": "2023-08-25T06:05:21.291790",
     "status": "completed"
    },
    "tags": []
   },
   "outputs": [
    {
     "data": {
      "text/html": [
       "<div>\n",
       "<style scoped>\n",
       "    .dataframe tbody tr th:only-of-type {\n",
       "        vertical-align: middle;\n",
       "    }\n",
       "\n",
       "    .dataframe tbody tr th {\n",
       "        vertical-align: top;\n",
       "    }\n",
       "\n",
       "    .dataframe thead th {\n",
       "        text-align: right;\n",
       "    }\n",
       "</style>\n",
       "<table border=\"1\" class=\"dataframe\">\n",
       "  <thead>\n",
       "    <tr style=\"text-align: right;\">\n",
       "      <th></th>\n",
       "      <th>Country</th>\n",
       "      <th>City</th>\n",
       "      <th>Jan</th>\n",
       "      <th>Feb</th>\n",
       "      <th>Mar</th>\n",
       "      <th>Apr</th>\n",
       "      <th>May</th>\n",
       "      <th>Jun</th>\n",
       "      <th>Jul</th>\n",
       "      <th>Aug</th>\n",
       "      <th>Sep</th>\n",
       "      <th>Oct</th>\n",
       "      <th>Nov</th>\n",
       "      <th>Dec</th>\n",
       "      <th>Year</th>\n",
       "    </tr>\n",
       "  </thead>\n",
       "  <tbody>\n",
       "    <tr>\n",
       "      <th>267</th>\n",
       "      <td>Mexico</td>\n",
       "      <td>La Paz</td>\n",
       "      <td>200.0</td>\n",
       "      <td>234.0</td>\n",
       "      <td>271.0</td>\n",
       "      <td>292.0</td>\n",
       "      <td>332.0</td>\n",
       "      <td>322.0</td>\n",
       "      <td>287.0</td>\n",
       "      <td>258.0</td>\n",
       "      <td>257.0</td>\n",
       "      <td>272.0</td>\n",
       "      <td>233.0</td>\n",
       "      <td>190.0</td>\n",
       "      <td>3148.0</td>\n",
       "    </tr>\n",
       "    <tr>\n",
       "      <th>336</th>\n",
       "      <td>Bolivia</td>\n",
       "      <td>La Paz</td>\n",
       "      <td>182.9</td>\n",
       "      <td>152.6</td>\n",
       "      <td>148.8</td>\n",
       "      <td>165.0</td>\n",
       "      <td>222.7</td>\n",
       "      <td>240.0</td>\n",
       "      <td>235.6</td>\n",
       "      <td>217.0</td>\n",
       "      <td>189.0</td>\n",
       "      <td>179.8</td>\n",
       "      <td>171.0</td>\n",
       "      <td>186.0</td>\n",
       "      <td>2288.9</td>\n",
       "    </tr>\n",
       "  </tbody>\n",
       "</table>\n",
       "</div>"
      ],
      "text/plain": [
       "     Country    City    Jan    Feb    Mar    Apr    May    Jun    Jul    Aug  \\\n",
       "267   Mexico  La Paz  200.0  234.0  271.0  292.0  332.0  322.0  287.0  258.0   \n",
       "336  Bolivia  La Paz  182.9  152.6  148.8  165.0  222.7  240.0  235.6  217.0   \n",
       "\n",
       "       Sep    Oct    Nov    Dec    Year  \n",
       "267  257.0  272.0  233.0  190.0  3148.0  \n",
       "336  189.0  179.8  171.0  186.0  2288.9  "
      ]
     },
     "execution_count": 16,
     "metadata": {},
     "output_type": "execute_result"
    }
   ],
   "source": [
    "data[data['City'] == 'La Paz']"
   ]
  },
  {
   "cell_type": "markdown",
   "id": "e235ec7c",
   "metadata": {
    "papermill": {
     "duration": 0.012742,
     "end_time": "2023-08-25T06:05:21.355112",
     "exception": false,
     "start_time": "2023-08-25T06:05:21.342370",
     "status": "completed"
    },
    "tags": []
   },
   "source": [
    "La Paz city present in both country \"Mexico\" and \"Bolivia\"."
   ]
  },
  {
   "cell_type": "code",
   "execution_count": 17,
   "id": "55f7a335",
   "metadata": {
    "execution": {
     "iopub.execute_input": "2023-08-25T06:05:21.382961Z",
     "iopub.status.busy": "2023-08-25T06:05:21.382586Z",
     "iopub.status.idle": "2023-08-25T06:05:21.388759Z",
     "shell.execute_reply": "2023-08-25T06:05:21.387748Z"
    },
    "papermill": {
     "duration": 0.022632,
     "end_time": "2023-08-25T06:05:21.390747",
     "exception": false,
     "start_time": "2023-08-25T06:05:21.368115",
     "status": "completed"
    },
    "tags": []
   },
   "outputs": [
    {
     "data": {
      "text/plain": [
       "391"
      ]
     },
     "execution_count": 17,
     "metadata": {},
     "output_type": "execute_result"
    }
   ],
   "source": [
    "data['City'].nunique()"
   ]
  },
  {
   "cell_type": "code",
   "execution_count": 18,
   "id": "7918b44c",
   "metadata": {
    "execution": {
     "iopub.execute_input": "2023-08-25T06:05:21.418999Z",
     "iopub.status.busy": "2023-08-25T06:05:21.418279Z",
     "iopub.status.idle": "2023-08-25T06:05:21.434643Z",
     "shell.execute_reply": "2023-08-25T06:05:21.433640Z"
    },
    "papermill": {
     "duration": 0.032952,
     "end_time": "2023-08-25T06:05:21.436900",
     "exception": false,
     "start_time": "2023-08-25T06:05:21.403948",
     "status": "completed"
    },
    "tags": []
   },
   "outputs": [
    {
     "data": {
      "text/html": [
       "<div>\n",
       "<style scoped>\n",
       "    .dataframe tbody tr th:only-of-type {\n",
       "        vertical-align: middle;\n",
       "    }\n",
       "\n",
       "    .dataframe tbody tr th {\n",
       "        vertical-align: top;\n",
       "    }\n",
       "\n",
       "    .dataframe thead th {\n",
       "        text-align: right;\n",
       "    }\n",
       "</style>\n",
       "<table border=\"1\" class=\"dataframe\">\n",
       "  <thead>\n",
       "    <tr style=\"text-align: right;\">\n",
       "      <th></th>\n",
       "      <th>count</th>\n",
       "    </tr>\n",
       "    <tr>\n",
       "      <th>City</th>\n",
       "      <th></th>\n",
       "    </tr>\n",
       "  </thead>\n",
       "  <tbody>\n",
       "    <tr>\n",
       "      <th>La Paz</th>\n",
       "      <td>2</td>\n",
       "    </tr>\n",
       "    <tr>\n",
       "      <th>Aarhus</th>\n",
       "      <td>1</td>\n",
       "    </tr>\n",
       "    <tr>\n",
       "      <th>Nouadhibou</th>\n",
       "      <td>1</td>\n",
       "    </tr>\n",
       "    <tr>\n",
       "      <th>Ouahigouya</th>\n",
       "      <td>1</td>\n",
       "    </tr>\n",
       "    <tr>\n",
       "      <th>Ouagadougou</th>\n",
       "      <td>1</td>\n",
       "    </tr>\n",
       "    <tr>\n",
       "      <th>...</th>\n",
       "      <td>...</td>\n",
       "    </tr>\n",
       "    <tr>\n",
       "      <th>Fuzhou</th>\n",
       "      <td>1</td>\n",
       "    </tr>\n",
       "    <tr>\n",
       "      <th>Fresno</th>\n",
       "      <td>1</td>\n",
       "    </tr>\n",
       "    <tr>\n",
       "      <th>Frankfurt</th>\n",
       "      <td>1</td>\n",
       "    </tr>\n",
       "    <tr>\n",
       "      <th>Fortaleza</th>\n",
       "      <td>1</td>\n",
       "    </tr>\n",
       "    <tr>\n",
       "      <th>Ürümqi</th>\n",
       "      <td>1</td>\n",
       "    </tr>\n",
       "  </tbody>\n",
       "</table>\n",
       "<p>391 rows × 1 columns</p>\n",
       "</div>"
      ],
      "text/plain": [
       "             count\n",
       "City              \n",
       "La Paz           2\n",
       "Aarhus           1\n",
       "Nouadhibou       1\n",
       "Ouahigouya       1\n",
       "Ouagadougou      1\n",
       "...            ...\n",
       "Fuzhou           1\n",
       "Fresno           1\n",
       "Frankfurt        1\n",
       "Fortaleza        1\n",
       "Ürümqi           1\n",
       "\n",
       "[391 rows x 1 columns]"
      ]
     },
     "execution_count": 18,
     "metadata": {},
     "output_type": "execute_result"
    }
   ],
   "source": [
    "data.groupby('City').agg(count = ('Year','size')).sort_values(by = 'count',ascending = False)"
   ]
  },
  {
   "cell_type": "code",
   "execution_count": 19,
   "id": "b37fde29",
   "metadata": {
    "execution": {
     "iopub.execute_input": "2023-08-25T06:05:21.466408Z",
     "iopub.status.busy": "2023-08-25T06:05:21.465554Z",
     "iopub.status.idle": "2023-08-25T06:05:21.479122Z",
     "shell.execute_reply": "2023-08-25T06:05:21.478007Z"
    },
    "papermill": {
     "duration": 0.031191,
     "end_time": "2023-08-25T06:05:21.481484",
     "exception": false,
     "start_time": "2023-08-25T06:05:21.450293",
     "status": "completed"
    },
    "tags": []
   },
   "outputs": [
    {
     "data": {
      "text/html": [
       "<div>\n",
       "<style scoped>\n",
       "    .dataframe tbody tr th:only-of-type {\n",
       "        vertical-align: middle;\n",
       "    }\n",
       "\n",
       "    .dataframe tbody tr th {\n",
       "        vertical-align: top;\n",
       "    }\n",
       "\n",
       "    .dataframe thead th {\n",
       "        text-align: right;\n",
       "    }\n",
       "</style>\n",
       "<table border=\"1\" class=\"dataframe\">\n",
       "  <thead>\n",
       "    <tr style=\"text-align: right;\">\n",
       "      <th></th>\n",
       "      <th>City</th>\n",
       "      <th>Year</th>\n",
       "    </tr>\n",
       "  </thead>\n",
       "  <tbody>\n",
       "    <tr>\n",
       "      <th>0</th>\n",
       "      <td>Gagnoa</td>\n",
       "      <td>1823.0</td>\n",
       "    </tr>\n",
       "    <tr>\n",
       "      <th>1</th>\n",
       "      <td>Bouaké</td>\n",
       "      <td>2092.0</td>\n",
       "    </tr>\n",
       "    <tr>\n",
       "      <th>2</th>\n",
       "      <td>Abidjan</td>\n",
       "      <td>2296.0</td>\n",
       "    </tr>\n",
       "    <tr>\n",
       "      <th>3</th>\n",
       "      <td>Odienné</td>\n",
       "      <td>2638.6</td>\n",
       "    </tr>\n",
       "    <tr>\n",
       "      <th>4</th>\n",
       "      <td>Ferké</td>\n",
       "      <td>2757.0</td>\n",
       "    </tr>\n",
       "    <tr>\n",
       "      <th>...</th>\n",
       "      <td>...</td>\n",
       "      <td>...</td>\n",
       "    </tr>\n",
       "    <tr>\n",
       "      <th>387</th>\n",
       "      <td>Wellington</td>\n",
       "      <td>2058.7</td>\n",
       "    </tr>\n",
       "    <tr>\n",
       "      <th>388</th>\n",
       "      <td>Hamilton</td>\n",
       "      <td>2019.6</td>\n",
       "    </tr>\n",
       "    <tr>\n",
       "      <th>389</th>\n",
       "      <td>Auckland</td>\n",
       "      <td>2003.1</td>\n",
       "    </tr>\n",
       "    <tr>\n",
       "      <th>390</th>\n",
       "      <td>Suva</td>\n",
       "      <td>1922.0</td>\n",
       "    </tr>\n",
       "    <tr>\n",
       "      <th>391</th>\n",
       "      <td>Dunedin</td>\n",
       "      <td>1683.7</td>\n",
       "    </tr>\n",
       "  </tbody>\n",
       "</table>\n",
       "<p>392 rows × 2 columns</p>\n",
       "</div>"
      ],
      "text/plain": [
       "           City    Year\n",
       "0        Gagnoa  1823.0\n",
       "1        Bouaké  2092.0\n",
       "2       Abidjan  2296.0\n",
       "3       Odienné  2638.6\n",
       "4         Ferké  2757.0\n",
       "..          ...     ...\n",
       "387  Wellington  2058.7\n",
       "388    Hamilton  2019.6\n",
       "389    Auckland  2003.1\n",
       "390        Suva  1922.0\n",
       "391     Dunedin  1683.7\n",
       "\n",
       "[392 rows x 2 columns]"
      ]
     },
     "execution_count": 19,
     "metadata": {},
     "output_type": "execute_result"
    }
   ],
   "source": [
    "data[['City', 'Year']]"
   ]
  },
  {
   "cell_type": "code",
   "execution_count": 20,
   "id": "912832e7",
   "metadata": {
    "execution": {
     "iopub.execute_input": "2023-08-25T06:05:21.511079Z",
     "iopub.status.busy": "2023-08-25T06:05:21.510377Z",
     "iopub.status.idle": "2023-08-25T06:05:21.523703Z",
     "shell.execute_reply": "2023-08-25T06:05:21.522726Z"
    },
    "papermill": {
     "duration": 0.03026,
     "end_time": "2023-08-25T06:05:21.525618",
     "exception": false,
     "start_time": "2023-08-25T06:05:21.495358",
     "status": "completed"
    },
    "tags": []
   },
   "outputs": [
    {
     "data": {
      "text/html": [
       "<div>\n",
       "<style scoped>\n",
       "    .dataframe tbody tr th:only-of-type {\n",
       "        vertical-align: middle;\n",
       "    }\n",
       "\n",
       "    .dataframe tbody tr th {\n",
       "        vertical-align: top;\n",
       "    }\n",
       "\n",
       "    .dataframe thead th {\n",
       "        text-align: right;\n",
       "    }\n",
       "</style>\n",
       "<table border=\"1\" class=\"dataframe\">\n",
       "  <thead>\n",
       "    <tr style=\"text-align: right;\">\n",
       "      <th></th>\n",
       "      <th>City</th>\n",
       "      <th>Year</th>\n",
       "    </tr>\n",
       "  </thead>\n",
       "  <tbody>\n",
       "    <tr>\n",
       "      <th>329</th>\n",
       "      <td>Yuma</td>\n",
       "      <td>4015.3</td>\n",
       "    </tr>\n",
       "    <tr>\n",
       "      <th>52</th>\n",
       "      <td>Marsa Alam</td>\n",
       "      <td>3958.0</td>\n",
       "    </tr>\n",
       "    <tr>\n",
       "      <th>50</th>\n",
       "      <td>Dakhla Oasis</td>\n",
       "      <td>3943.4</td>\n",
       "    </tr>\n",
       "    <tr>\n",
       "      <th>349</th>\n",
       "      <td>Calama</td>\n",
       "      <td>3926.2</td>\n",
       "    </tr>\n",
       "    <tr>\n",
       "      <th>311</th>\n",
       "      <td>Phoenix</td>\n",
       "      <td>3871.6</td>\n",
       "    </tr>\n",
       "    <tr>\n",
       "      <th>109</th>\n",
       "      <td>Keetmanshoop</td>\n",
       "      <td>3870.0</td>\n",
       "    </tr>\n",
       "    <tr>\n",
       "      <th>297</th>\n",
       "      <td>Las Vegas</td>\n",
       "      <td>3825.3</td>\n",
       "    </tr>\n",
       "    <tr>\n",
       "      <th>324</th>\n",
       "      <td>Tucson</td>\n",
       "      <td>3806.0</td>\n",
       "    </tr>\n",
       "    <tr>\n",
       "      <th>290</th>\n",
       "      <td>El Paso</td>\n",
       "      <td>3762.5</td>\n",
       "    </tr>\n",
       "    <tr>\n",
       "      <th>25</th>\n",
       "      <td>Khartoum</td>\n",
       "      <td>3737.1</td>\n",
       "    </tr>\n",
       "  </tbody>\n",
       "</table>\n",
       "</div>"
      ],
      "text/plain": [
       "             City    Year\n",
       "329          Yuma  4015.3\n",
       "52     Marsa Alam  3958.0\n",
       "50   Dakhla Oasis  3943.4\n",
       "349        Calama  3926.2\n",
       "311       Phoenix  3871.6\n",
       "109  Keetmanshoop  3870.0\n",
       "297     Las Vegas  3825.3\n",
       "324        Tucson  3806.0\n",
       "290       El Paso  3762.5\n",
       "25       Khartoum  3737.1"
      ]
     },
     "execution_count": 20,
     "metadata": {},
     "output_type": "execute_result"
    }
   ],
   "source": [
    "## Now, find which city has maximum sunshine hours.\n",
    "max_sunshine_city = data[['City', 'Year']]\n",
    "max_sunshine_city = max_sunshine_city.sort_values(by = 'Year', ascending=False)[:10]\n",
    "max_sunshine_city"
   ]
  },
  {
   "cell_type": "code",
   "execution_count": 21,
   "id": "febba598",
   "metadata": {
    "execution": {
     "iopub.execute_input": "2023-08-25T06:05:21.556476Z",
     "iopub.status.busy": "2023-08-25T06:05:21.555378Z",
     "iopub.status.idle": "2023-08-25T06:05:21.864929Z",
     "shell.execute_reply": "2023-08-25T06:05:21.863899Z"
    },
    "papermill": {
     "duration": 0.327829,
     "end_time": "2023-08-25T06:05:21.867486",
     "exception": false,
     "start_time": "2023-08-25T06:05:21.539657",
     "status": "completed"
    },
    "tags": []
   },
   "outputs": [
    {
     "data": {
      "image/png": "[encoded data removed]",
      "text/plain": [
       "<Figure size 640x480 with 1 Axes>"
      ]
     },
     "metadata": {},
     "output_type": "display_data"
    }
   ],
   "source": [
    "sns.barplot(x = 'City', y='Year', data=max_sunshine_city)\n",
    "plt.title('Top 10 cities those have maximum sunshine hours in a complete year')\n",
    "plt.xticks(rotation=90)\n",
    "plt.show()"
   ]
  },
  {
   "cell_type": "markdown",
   "id": "8598129c",
   "metadata": {
    "papermill": {
     "duration": 0.014101,
     "end_time": "2023-08-25T06:05:21.895864",
     "exception": false,
     "start_time": "2023-08-25T06:05:21.881763",
     "status": "completed"
    },
    "tags": []
   },
   "source": [
    "Yuma city has mzimum sunshine hours"
   ]
  },
  {
   "cell_type": "code",
   "execution_count": 22,
   "id": "741efef4",
   "metadata": {
    "execution": {
     "iopub.execute_input": "2023-08-25T06:05:21.926355Z",
     "iopub.status.busy": "2023-08-25T06:05:21.925984Z",
     "iopub.status.idle": "2023-08-25T06:05:22.234345Z",
     "shell.execute_reply": "2023-08-25T06:05:22.233279Z"
    },
    "papermill": {
     "duration": 0.326491,
     "end_time": "2023-08-25T06:05:22.236758",
     "exception": false,
     "start_time": "2023-08-25T06:05:21.910267",
     "status": "completed"
    },
    "tags": []
   },
   "outputs": [
    {
     "data": {
      "image/png": "[encoded data removed]",
      "text/plain": [
       "<Figure size 640x480 with 1 Axes>"
      ]
     },
     "metadata": {},
     "output_type": "display_data"
    }
   ],
   "source": [
    "## Now, find for minimum\n",
    "min_sunshine_city = data[['City', 'Year']]\n",
    "min_sunshine_city = min_sunshine_city.sort_values(by = 'Year', ascending=True)[:10]\n",
    "\n",
    "sns.barplot(x = 'City', y='Year', data=min_sunshine_city)\n",
    "plt.title('Top 10 cities those have minimum sunshine hours in a complete year')\n",
    "plt.xticks(rotation=90)\n",
    "plt.show()"
   ]
  },
  {
   "cell_type": "markdown",
   "id": "3d3daa04",
   "metadata": {
    "papermill": {
     "duration": 0.014703,
     "end_time": "2023-08-25T06:05:22.266541",
     "exception": false,
     "start_time": "2023-08-25T06:05:22.251838",
     "status": "completed"
    },
    "tags": []
   },
   "source": [
    "it means, city \"Torshavn\" has minimum sunshine hours in all cities."
   ]
  },
  {
   "cell_type": "markdown",
   "id": "abf89d93",
   "metadata": {
    "papermill": {
     "duration": 0.015136,
     "end_time": "2023-08-25T06:05:22.296616",
     "exception": false,
     "start_time": "2023-08-25T06:05:22.281480",
     "status": "completed"
    },
    "tags": []
   },
   "source": [
    "## Task4: Analysis month columns"
   ]
  },
  {
   "cell_type": "code",
   "execution_count": 23,
   "id": "08c438f3",
   "metadata": {
    "execution": {
     "iopub.execute_input": "2023-08-25T06:05:22.328890Z",
     "iopub.status.busy": "2023-08-25T06:05:22.328084Z",
     "iopub.status.idle": "2023-08-25T06:05:22.377374Z",
     "shell.execute_reply": "2023-08-25T06:05:22.376311Z"
    },
    "papermill": {
     "duration": 0.06829,
     "end_time": "2023-08-25T06:05:22.379759",
     "exception": false,
     "start_time": "2023-08-25T06:05:22.311469",
     "status": "completed"
    },
    "tags": []
   },
   "outputs": [
    {
     "data": {
      "text/html": [
       "<div>\n",
       "<style scoped>\n",
       "    .dataframe tbody tr th:only-of-type {\n",
       "        vertical-align: middle;\n",
       "    }\n",
       "\n",
       "    .dataframe tbody tr th {\n",
       "        vertical-align: top;\n",
       "    }\n",
       "\n",
       "    .dataframe thead th {\n",
       "        text-align: right;\n",
       "    }\n",
       "</style>\n",
       "<table border=\"1\" class=\"dataframe\">\n",
       "  <thead>\n",
       "    <tr style=\"text-align: right;\">\n",
       "      <th></th>\n",
       "      <th>Jan</th>\n",
       "      <th>Feb</th>\n",
       "      <th>Mar</th>\n",
       "      <th>Apr</th>\n",
       "      <th>May</th>\n",
       "      <th>Jun</th>\n",
       "      <th>Jul</th>\n",
       "      <th>Aug</th>\n",
       "      <th>Sep</th>\n",
       "      <th>Oct</th>\n",
       "      <th>Nov</th>\n",
       "      <th>Dec</th>\n",
       "      <th>Year</th>\n",
       "    </tr>\n",
       "  </thead>\n",
       "  <tbody>\n",
       "    <tr>\n",
       "      <th>count</th>\n",
       "      <td>392.000000</td>\n",
       "      <td>392.000000</td>\n",
       "      <td>392.000000</td>\n",
       "      <td>392.000000</td>\n",
       "      <td>392.000000</td>\n",
       "      <td>392.000000</td>\n",
       "      <td>392.000000</td>\n",
       "      <td>392.000000</td>\n",
       "      <td>392.000000</td>\n",
       "      <td>392.000000</td>\n",
       "      <td>392.000000</td>\n",
       "      <td>392.000000</td>\n",
       "      <td>392.000000</td>\n",
       "    </tr>\n",
       "    <tr>\n",
       "      <th>mean</th>\n",
       "      <td>180.949745</td>\n",
       "      <td>178.531760</td>\n",
       "      <td>207.873980</td>\n",
       "      <td>219.239541</td>\n",
       "      <td>241.283929</td>\n",
       "      <td>236.601020</td>\n",
       "      <td>243.888520</td>\n",
       "      <td>236.097959</td>\n",
       "      <td>212.708163</td>\n",
       "      <td>207.494643</td>\n",
       "      <td>182.705612</td>\n",
       "      <td>174.421429</td>\n",
       "      <td>2522.010332</td>\n",
       "    </tr>\n",
       "    <tr>\n",
       "      <th>std</th>\n",
       "      <td>81.562624</td>\n",
       "      <td>64.911199</td>\n",
       "      <td>58.192928</td>\n",
       "      <td>52.704589</td>\n",
       "      <td>61.847905</td>\n",
       "      <td>73.762387</td>\n",
       "      <td>81.396865</td>\n",
       "      <td>73.439465</td>\n",
       "      <td>62.837965</td>\n",
       "      <td>67.716309</td>\n",
       "      <td>78.338583</td>\n",
       "      <td>84.166812</td>\n",
       "      <td>625.751416</td>\n",
       "    </tr>\n",
       "    <tr>\n",
       "      <th>min</th>\n",
       "      <td>0.000000</td>\n",
       "      <td>22.600000</td>\n",
       "      <td>47.000000</td>\n",
       "      <td>65.100000</td>\n",
       "      <td>68.200000</td>\n",
       "      <td>45.000000</td>\n",
       "      <td>28.600000</td>\n",
       "      <td>32.300000</td>\n",
       "      <td>37.300000</td>\n",
       "      <td>24.800000</td>\n",
       "      <td>0.000000</td>\n",
       "      <td>0.000000</td>\n",
       "      <td>840.000000</td>\n",
       "    </tr>\n",
       "    <tr>\n",
       "      <th>25%</th>\n",
       "      <td>124.000000</td>\n",
       "      <td>132.500000</td>\n",
       "      <td>164.000000</td>\n",
       "      <td>183.000000</td>\n",
       "      <td>196.600000</td>\n",
       "      <td>176.600000</td>\n",
       "      <td>179.950000</td>\n",
       "      <td>185.925000</td>\n",
       "      <td>165.075000</td>\n",
       "      <td>157.200000</td>\n",
       "      <td>127.000000</td>\n",
       "      <td>117.300000</td>\n",
       "      <td>2037.575000</td>\n",
       "    </tr>\n",
       "    <tr>\n",
       "      <th>50%</th>\n",
       "      <td>182.450000</td>\n",
       "      <td>178.450000</td>\n",
       "      <td>210.750000</td>\n",
       "      <td>219.550000</td>\n",
       "      <td>248.050000</td>\n",
       "      <td>250.000000</td>\n",
       "      <td>250.900000</td>\n",
       "      <td>242.000000</td>\n",
       "      <td>218.200000</td>\n",
       "      <td>211.100000</td>\n",
       "      <td>184.450000</td>\n",
       "      <td>171.500000</td>\n",
       "      <td>2511.150000</td>\n",
       "    </tr>\n",
       "    <tr>\n",
       "      <th>75%</th>\n",
       "      <td>248.000000</td>\n",
       "      <td>229.000000</td>\n",
       "      <td>252.000000</td>\n",
       "      <td>254.600000</td>\n",
       "      <td>285.050000</td>\n",
       "      <td>288.825000</td>\n",
       "      <td>308.075000</td>\n",
       "      <td>294.625000</td>\n",
       "      <td>261.000000</td>\n",
       "      <td>261.050000</td>\n",
       "      <td>248.750000</td>\n",
       "      <td>245.125000</td>\n",
       "      <td>2995.000000</td>\n",
       "    </tr>\n",
       "    <tr>\n",
       "      <th>max</th>\n",
       "      <td>362.700000</td>\n",
       "      <td>315.000000</td>\n",
       "      <td>335.500000</td>\n",
       "      <td>365.500000</td>\n",
       "      <td>407.400000</td>\n",
       "      <td>419.500000</td>\n",
       "      <td>440.200000</td>\n",
       "      <td>406.900000</td>\n",
       "      <td>347.800000</td>\n",
       "      <td>356.500000</td>\n",
       "      <td>363.000000</td>\n",
       "      <td>367.000000</td>\n",
       "      <td>4015.300000</td>\n",
       "    </tr>\n",
       "  </tbody>\n",
       "</table>\n",
       "</div>"
      ],
      "text/plain": [
       "              Jan         Feb         Mar         Apr         May         Jun  \\\n",
       "count  392.000000  392.000000  392.000000  392.000000  392.000000  392.000000   \n",
       "mean   180.949745  178.531760  207.873980  219.239541  241.283929  236.601020   \n",
       "std     81.562624   64.911199   58.192928   52.704589   61.847905   73.762387   \n",
       "min      0.000000   22.600000   47.000000   65.100000   68.200000   45.000000   \n",
       "25%    124.000000  132.500000  164.000000  183.000000  196.600000  176.600000   \n",
       "50%    182.450000  178.450000  210.750000  219.550000  248.050000  250.000000   \n",
       "75%    248.000000  229.000000  252.000000  254.600000  285.050000  288.825000   \n",
       "max    362.700000  315.000000  335.500000  365.500000  407.400000  419.500000   \n",
       "\n",
       "              Jul         Aug         Sep         Oct         Nov         Dec  \\\n",
       "count  392.000000  392.000000  392.000000  392.000000  392.000000  392.000000   \n",
       "mean   243.888520  236.097959  212.708163  207.494643  182.705612  174.421429   \n",
       "std     81.396865   73.439465   62.837965   67.716309   78.338583   84.166812   \n",
       "min     28.600000   32.300000   37.300000   24.800000    0.000000    0.000000   \n",
       "25%    179.950000  185.925000  165.075000  157.200000  127.000000  117.300000   \n",
       "50%    250.900000  242.000000  218.200000  211.100000  184.450000  171.500000   \n",
       "75%    308.075000  294.625000  261.000000  261.050000  248.750000  245.125000   \n",
       "max    440.200000  406.900000  347.800000  356.500000  363.000000  367.000000   \n",
       "\n",
       "              Year  \n",
       "count   392.000000  \n",
       "mean   2522.010332  \n",
       "std     625.751416  \n",
       "min     840.000000  \n",
       "25%    2037.575000  \n",
       "50%    2511.150000  \n",
       "75%    2995.000000  \n",
       "max    4015.300000  "
      ]
     },
     "execution_count": 23,
     "metadata": {},
     "output_type": "execute_result"
    }
   ],
   "source": [
    "df = data.describe()\n",
    "df"
   ]
  },
  {
   "cell_type": "code",
   "execution_count": 24,
   "id": "dbbffba8",
   "metadata": {
    "execution": {
     "iopub.execute_input": "2023-08-25T06:05:22.411957Z",
     "iopub.status.busy": "2023-08-25T06:05:22.411595Z",
     "iopub.status.idle": "2023-08-25T06:05:22.418286Z",
     "shell.execute_reply": "2023-08-25T06:05:22.417274Z"
    },
    "papermill": {
     "duration": 0.025303,
     "end_time": "2023-08-25T06:05:22.420379",
     "exception": false,
     "start_time": "2023-08-25T06:05:22.395076",
     "status": "completed"
    },
    "tags": []
   },
   "outputs": [
    {
     "data": {
      "text/plain": [
       "180.9497448979592"
      ]
     },
     "execution_count": 24,
     "metadata": {},
     "output_type": "execute_result"
    }
   ],
   "source": [
    "df['Jan']['mean']"
   ]
  },
  {
   "cell_type": "code",
   "execution_count": 25,
   "id": "49aed548",
   "metadata": {
    "execution": {
     "iopub.execute_input": "2023-08-25T06:05:22.452829Z",
     "iopub.status.busy": "2023-08-25T06:05:22.452465Z",
     "iopub.status.idle": "2023-08-25T06:05:22.469410Z",
     "shell.execute_reply": "2023-08-25T06:05:22.468435Z"
    },
    "papermill": {
     "duration": 0.035697,
     "end_time": "2023-08-25T06:05:22.471528",
     "exception": false,
     "start_time": "2023-08-25T06:05:22.435831",
     "status": "completed"
    },
    "tags": []
   },
   "outputs": [
    {
     "data": {
      "text/html": [
       "<div>\n",
       "<style scoped>\n",
       "    .dataframe tbody tr th:only-of-type {\n",
       "        vertical-align: middle;\n",
       "    }\n",
       "\n",
       "    .dataframe tbody tr th {\n",
       "        vertical-align: top;\n",
       "    }\n",
       "\n",
       "    .dataframe thead th {\n",
       "        text-align: right;\n",
       "    }\n",
       "</style>\n",
       "<table border=\"1\" class=\"dataframe\">\n",
       "  <thead>\n",
       "    <tr style=\"text-align: right;\">\n",
       "      <th></th>\n",
       "      <th>month</th>\n",
       "      <th>avg</th>\n",
       "      <th>min</th>\n",
       "      <th>max</th>\n",
       "    </tr>\n",
       "  </thead>\n",
       "  <tbody>\n",
       "    <tr>\n",
       "      <th>0</th>\n",
       "      <td>Jan</td>\n",
       "      <td>180.949745</td>\n",
       "      <td>0.0</td>\n",
       "      <td>362.7</td>\n",
       "    </tr>\n",
       "    <tr>\n",
       "      <th>1</th>\n",
       "      <td>Feb</td>\n",
       "      <td>178.531760</td>\n",
       "      <td>22.6</td>\n",
       "      <td>315.0</td>\n",
       "    </tr>\n",
       "    <tr>\n",
       "      <th>2</th>\n",
       "      <td>Mar</td>\n",
       "      <td>207.873980</td>\n",
       "      <td>47.0</td>\n",
       "      <td>335.5</td>\n",
       "    </tr>\n",
       "    <tr>\n",
       "      <th>3</th>\n",
       "      <td>Apr</td>\n",
       "      <td>219.239541</td>\n",
       "      <td>65.1</td>\n",
       "      <td>365.5</td>\n",
       "    </tr>\n",
       "    <tr>\n",
       "      <th>4</th>\n",
       "      <td>May</td>\n",
       "      <td>241.283929</td>\n",
       "      <td>68.2</td>\n",
       "      <td>407.4</td>\n",
       "    </tr>\n",
       "    <tr>\n",
       "      <th>5</th>\n",
       "      <td>Jun</td>\n",
       "      <td>236.601020</td>\n",
       "      <td>45.0</td>\n",
       "      <td>419.5</td>\n",
       "    </tr>\n",
       "    <tr>\n",
       "      <th>6</th>\n",
       "      <td>Jul</td>\n",
       "      <td>243.888520</td>\n",
       "      <td>28.6</td>\n",
       "      <td>440.2</td>\n",
       "    </tr>\n",
       "    <tr>\n",
       "      <th>7</th>\n",
       "      <td>Aug</td>\n",
       "      <td>236.097959</td>\n",
       "      <td>32.3</td>\n",
       "      <td>406.9</td>\n",
       "    </tr>\n",
       "    <tr>\n",
       "      <th>8</th>\n",
       "      <td>Sep</td>\n",
       "      <td>212.708163</td>\n",
       "      <td>37.3</td>\n",
       "      <td>347.8</td>\n",
       "    </tr>\n",
       "    <tr>\n",
       "      <th>9</th>\n",
       "      <td>Oct</td>\n",
       "      <td>207.494643</td>\n",
       "      <td>24.8</td>\n",
       "      <td>356.5</td>\n",
       "    </tr>\n",
       "    <tr>\n",
       "      <th>10</th>\n",
       "      <td>Nov</td>\n",
       "      <td>182.705612</td>\n",
       "      <td>0.0</td>\n",
       "      <td>363.0</td>\n",
       "    </tr>\n",
       "    <tr>\n",
       "      <th>11</th>\n",
       "      <td>Dec</td>\n",
       "      <td>174.421429</td>\n",
       "      <td>0.0</td>\n",
       "      <td>367.0</td>\n",
       "    </tr>\n",
       "  </tbody>\n",
       "</table>\n",
       "</div>"
      ],
      "text/plain": [
       "   month         avg   min    max\n",
       "0    Jan  180.949745   0.0  362.7\n",
       "1    Feb  178.531760  22.6  315.0\n",
       "2    Mar  207.873980  47.0  335.5\n",
       "3    Apr  219.239541  65.1  365.5\n",
       "4    May  241.283929  68.2  407.4\n",
       "5    Jun  236.601020  45.0  419.5\n",
       "6    Jul  243.888520  28.6  440.2\n",
       "7    Aug  236.097959  32.3  406.9\n",
       "8    Sep  212.708163  37.3  347.8\n",
       "9    Oct  207.494643  24.8  356.5\n",
       "10   Nov  182.705612   0.0  363.0\n",
       "11   Dec  174.421429   0.0  367.0"
      ]
     },
     "execution_count": 25,
     "metadata": {},
     "output_type": "execute_result"
    }
   ],
   "source": [
    "## visualize the average sunshine hours for each month.\n",
    "df_month = []\n",
    "cols = ['Jan', 'Feb', 'Mar', 'Apr', 'May', 'Jun', 'Jul', 'Aug', 'Sep', 'Oct', 'Nov', 'Dec']\n",
    "for col in cols:\n",
    "    month = {}\n",
    "    month['month'] = col\n",
    "    month['avg'] = df[col]['mean']\n",
    "    month['min'] = df[col]['min']\n",
    "    month['max'] = df[col]['max']\n",
    "    df_month.append(month)\n",
    "df_month = pd.DataFrame(df_month)\n",
    "df_month"
   ]
  },
  {
   "cell_type": "code",
   "execution_count": 26,
   "id": "517c61fa",
   "metadata": {
    "execution": {
     "iopub.execute_input": "2023-08-25T06:05:22.505533Z",
     "iopub.status.busy": "2023-08-25T06:05:22.504841Z",
     "iopub.status.idle": "2023-08-25T06:05:22.799847Z",
     "shell.execute_reply": "2023-08-25T06:05:22.798931Z"
    },
    "papermill": {
     "duration": 0.314899,
     "end_time": "2023-08-25T06:05:22.802217",
     "exception": false,
     "start_time": "2023-08-25T06:05:22.487318",
     "status": "completed"
    },
    "tags": []
   },
   "outputs": [
    {
     "data": {
      "image/png": "[encoded data removed]",
      "text/plain": [
       "<Figure size 640x480 with 1 Axes>"
      ]
     },
     "metadata": {},
     "output_type": "display_data"
    }
   ],
   "source": [
    "sns.barplot(x = 'month', y='avg', data=df_month)\n",
    "plt.title('Average sunshine hours of each month across all citites')\n",
    "plt.show()"
   ]
  },
  {
   "cell_type": "markdown",
   "id": "dad3b1a6",
   "metadata": {
    "papermill": {
     "duration": 0.015783,
     "end_time": "2023-08-25T06:05:22.834282",
     "exception": false,
     "start_time": "2023-08-25T06:05:22.818499",
     "status": "completed"
    },
    "tags": []
   },
   "source": [
    "it means, December month average sunshine hours are very low"
   ]
  },
  {
   "cell_type": "code",
   "execution_count": 27,
   "id": "ce30562e",
   "metadata": {
    "execution": {
     "iopub.execute_input": "2023-08-25T06:05:22.868887Z",
     "iopub.status.busy": "2023-08-25T06:05:22.868464Z",
     "iopub.status.idle": "2023-08-25T06:05:23.183351Z",
     "shell.execute_reply": "2023-08-25T06:05:23.182262Z"
    },
    "papermill": {
     "duration": 0.335519,
     "end_time": "2023-08-25T06:05:23.185708",
     "exception": false,
     "start_time": "2023-08-25T06:05:22.850189",
     "status": "completed"
    },
    "tags": []
   },
   "outputs": [
    {
     "data": {
      "image/png": "[encoded data removed]",
      "text/plain": [
       "<Figure size 640x480 with 1 Axes>"
      ]
     },
     "metadata": {},
     "output_type": "display_data"
    }
   ],
   "source": [
    "sns.barplot(x = 'month', y='min', data=df_month)\n",
    "plt.title('Minimum sunshine hours of each month across all citites')\n",
    "plt.show()"
   ]
  },
  {
   "cell_type": "markdown",
   "id": "c1789076",
   "metadata": {
    "papermill": {
     "duration": 0.017838,
     "end_time": "2023-08-25T06:05:23.220336",
     "exception": false,
     "start_time": "2023-08-25T06:05:23.202498",
     "status": "completed"
    },
    "tags": []
   },
   "source": [
    "it means, month Jan, Nov and Dec have 0 as min sunshine hours in some cities"
   ]
  },
  {
   "cell_type": "code",
   "execution_count": 28,
   "id": "54418cb7",
   "metadata": {
    "execution": {
     "iopub.execute_input": "2023-08-25T06:05:23.255438Z",
     "iopub.status.busy": "2023-08-25T06:05:23.255068Z",
     "iopub.status.idle": "2023-08-25T06:05:23.541647Z",
     "shell.execute_reply": "2023-08-25T06:05:23.540626Z"
    },
    "papermill": {
     "duration": 0.306376,
     "end_time": "2023-08-25T06:05:23.543800",
     "exception": false,
     "start_time": "2023-08-25T06:05:23.237424",
     "status": "completed"
    },
    "tags": []
   },
   "outputs": [
    {
     "data": {
      "image/png": "[encoded data removed]",
      "text/plain": [
       "<Figure size 640x480 with 1 Axes>"
      ]
     },
     "metadata": {},
     "output_type": "display_data"
    }
   ],
   "source": [
    "sns.barplot(x = 'month', y='max', data=df_month)\n",
    "plt.title('Maximum sunshine hours of each month across all citites')\n",
    "plt.show()"
   ]
  },
  {
   "cell_type": "markdown",
   "id": "1cb55139",
   "metadata": {
    "papermill": {
     "duration": 0.016763,
     "end_time": "2023-08-25T06:05:23.577346",
     "exception": false,
     "start_time": "2023-08-25T06:05:23.560583",
     "status": "completed"
    },
    "tags": []
   },
   "source": [
    "it means, month July has maximum sunshine hours in some city."
   ]
  },
  {
   "cell_type": "markdown",
   "id": "5b3d7925",
   "metadata": {
    "papermill": {
     "duration": 0.016398,
     "end_time": "2023-08-25T06:05:23.610623",
     "exception": false,
     "start_time": "2023-08-25T06:05:23.594225",
     "status": "completed"
    },
    "tags": []
   },
   "source": [
    "**Thanks for visiting the notebook**\n",
    "## if you like the notebook, please upvote\n",
    "**Open to Suggestions! All feedback is welcome and I'll be sure to review it.**"
   ]
  },
  {
   "cell_type": "code",
   "execution_count": null,
   "id": "064b8c88",
   "metadata": {
    "papermill": {
     "duration": 0.016335,
     "end_time": "2023-08-25T06:05:23.643502",
     "exception": false,
     "start_time": "2023-08-25T06:05:23.627167",
     "status": "completed"
    },
    "tags": []
   },
   "outputs": [],
   "source": []
  }
 ],
 "metadata": {
  "kernelspec": {
   "display_name": "Python 3",
   "language": "python",
   "name": "python3"
  },
  "language_info": {
   "codemirror_mode": {
    "name": "ipython",
    "version": 3
   },
   "file_extension": ".py",
   "mimetype": "text/x-python",
   "name": "python",
   "nbconvert_exporter": "python",
   "pygments_lexer": "ipython3",
   "version": "3.10.10"
  },
  "papermill": {
   "default_parameters": {},
   "duration": 18.142108,
   "end_time": "2023-08-25T06:05:24.581325",
   "environment_variables": {},
   "exception": null,
   "input_path": "__notebook__.ipynb",
   "output_path": "__notebook__.ipynb",
   "parameters": {},
   "start_time": "2023-08-25T06:05:06.439217",
   "version": "2.4.0"
  }
 },
 "nbformat": 4,
 "nbformat_minor": 5
}
